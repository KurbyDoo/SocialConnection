{
 "cells": [
  {
   "cell_type": "markdown",
   "metadata": {},
   "source": [
    "What is the difference between peoples needs and actual time gotten? How does it affect their loneliness scores?\n",
    "\n",
    "Variables:\n",
    "- CONNECTION_preference_time_friends (wanted per week)\n",
    "- CONNECTION_social_time_friends_p7d (actual per week)"
   ]
  },
  {
   "cell_type": "markdown",
   "metadata": {},
   "source": [
    " "
   ]
  }
 ],
 "metadata": {
  "language_info": {
   "name": "python"
  }
 },
 "nbformat": 4,
 "nbformat_minor": 2
}
