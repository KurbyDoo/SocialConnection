{
 "cells": [
  {
   "cell_type": "code",
   "execution_count": 1,
   "id": "25c7235f",
   "metadata": {},
   "outputs": [
    {
     "name": "stderr",
     "output_type": "stream",
     "text": [
      "/tmp/ipykernel_279/4114330600.py:3: DtypeWarning: Columns (129,408,630,671,689,978,1001,1002,1006,1007,1008,1080,1113,1115,1116,1117,1118,1119,1120,1121,1124,1125,1126,1127,1128,1213,1214,1215,1216,1217,1218,1263,1266,1342,1343,1344,1345,1346,1347,1348,1349,1390,1391,1393,1439,1442,1463,1546,1549,1552,1555,1558,1561) have mixed types. Specify dtype option on import or set low_memory=False.\n",
      "  data = pd.read_csv(\"https://raw.githubusercontent.com/pointOfive/stat130chat130/main/CP/CSCS_data_anon.csv\",\n"
     ]
    },
    {
     "data": {
      "text/plain": [
       "(11431, 1779)"
      ]
     },
     "execution_count": 1,
     "metadata": {},
     "output_type": "execute_result"
    }
   ],
   "source": [
    "import pandas as pd\n",
    "cols = pd.read_csv(\"https://raw.githubusercontent.com/pointOfive/stat130chat130/main/CP/var_names.csv\")\n",
    "data = pd.read_csv(\"https://raw.githubusercontent.com/pointOfive/stat130chat130/main/CP/CSCS_data_anon.csv\",\n",
    "                   na_values=[\"9999\", \"\", \" \", \"Presented but no response\", \"NA\"])\n",
    "empty = (data.isna().sum()==data.shape[0])\n",
    "data = data[empty.index[~empty]] # keep non empty columns only\n",
    "\n",
    "data.shape"
   ]
  },
  {
   "cell_type": "code",
   "execution_count": 2,
   "id": "e7fc0c4e",
   "metadata": {},
   "outputs": [
    {
     "data": {
      "text/plain": [
       "0        2022 Cross-Sectional\n",
       "1        2022 Cross-Sectional\n",
       "2        2022 Cross-Sectional\n",
       "3        2023 Cross-Sectional\n",
       "4        2021 Cross-Sectional\n",
       "                 ...         \n",
       "11426    2023 Cross-Sectional\n",
       "11427    2022 Cross-Sectional\n",
       "11428             2022 Cohort\n",
       "11429             2023 Cohort\n",
       "11430    2021 Cross-Sectional\n",
       "Name: DATASET, Length: 11431, dtype: object"
      ]
     },
     "execution_count": 2,
     "metadata": {},
     "output_type": "execute_result"
    }
   ],
   "source": [
    "data['DATASET']"
   ]
  },
  {
   "cell_type": "code",
   "execution_count": 3,
   "id": "60ce189d",
   "metadata": {},
   "outputs": [
    {
     "data": {
      "text/plain": [
       "['LONELY_chronic_lonely_others',\n",
       " 'LONELY_ucla_loneliness_scale_score',\n",
       " 'LONELY_dejong_emotional_social_loneliness_scale_score',\n",
       " 'LONELY_dejong_emotional_loneliness_sub_scale_score',\n",
       " 'LONELY_dejong_social_loneliness_sub_scale_score',\n",
       " 'LONELY_existential_loneliness_scale_score']"
      ]
     },
     "execution_count": 3,
     "metadata": {},
     "output_type": "execute_result"
    }
   ],
   "source": [
    "def find_columns_by_keyword_and_dtype(keywords, dtypes, dataset_value):\n",
    "    # Filter data for rows where DATASET equals the specified value\n",
    "    dataset_filtered_data = data[data['DATASET'] == dataset_value]\n",
    "    \n",
    "    # Filter columns based on the specified data types within the filtered data\n",
    "    filtered_by_dtype = dataset_filtered_data.select_dtypes(include=dtypes)\n",
    "    \n",
    "    # Filter further based on keywords in column names\n",
    "    filtered_columns = [col for col in filtered_by_dtype.columns if any(keyword in col for keyword in keywords)]\n",
    "    \n",
    "    return filtered_columns\n",
    "\n",
    "# Example usage\n",
    "keywords = ['lone']  # Replace with your desired keywords\n",
    "dtypes = ['float64']  # Replace with your desired data types (e.g., ['object'] for strings)\n",
    "dataset_value = '2023 Cross-Sectional'  # Specify the desired dataset value\n",
    "\n",
    "matching_columns = find_columns_by_keyword_and_dtype(keywords, dtypes, dataset_value)\n",
    "matching_columns"
   ]
  },
  {
   "cell_type": "code",
   "execution_count": 4,
   "id": "af7b2618",
   "metadata": {},
   "outputs": [
    {
     "data": {
      "text/plain": [
       "['NUTRITION_canadian_food_intake_screener_frequency_social_meals',\n",
       " 'NUTRITION_three_factor_eating_questionnaire_binge_eating_when_not_hungry',\n",
       " 'LONELY_dejong_emotional_social_loneliness_scale_score',\n",
       " 'LONELY_dejong_emotional_social_loneliness_scale_score_y_n']"
      ]
     },
     "execution_count": 4,
     "metadata": {},
     "output_type": "execute_result"
    }
   ],
   "source": [
    "def find_columns_by_keyword_and_dtype(keywords,dataset_value):\n",
    "    # Filter data for rows where DATASET equals the specified value\n",
    "    dataset_filtered_data = data[data['DATASET'] == dataset_value]\n",
    "    \n",
    "    \n",
    "    # Filter further based on keywords in column names\n",
    "    filtered_columns = [col for col in dataset_filtered_data.columns if any(keyword in col for keyword in keywords)]\n",
    "    \n",
    "    return filtered_columns\n",
    "\n",
    "# Example usage\n",
    "keywords = ['social_meals','binge_eating_when_not_hungry','LONELY_dejong_emotional_social_loneliness_scale_score',]  # Replace with your desired keywords\n",
    "dataset_value = '2023 Cross-Sectional'  # Specify the desired dataset value\n",
    "\n",
    "matching_columns = find_columns_by_keyword_and_dtype(keywords, dataset_value)\n",
    "matching_columns"
   ]
  },
  {
   "cell_type": "code",
   "execution_count": 11,
   "id": "4c5a288d",
   "metadata": {},
   "outputs": [
    {
     "name": "stdout",
     "output_type": "stream",
     "text": [
      "                                                             new_var  \\\n",
      "2152  NUTRITION_canadian_food_intake_screener_frequency_social_meals   \n",
      "\n",
      "                                                                                                                                                                                          text  \\\n",
      "2152  Over the past month, how often did you eat a meal with other people (such as in a social setting, including a lunch with coworkers, dinner with family, brunch with friends, and so on)?   \n",
      "\n",
      "         dataset  \n",
      "2152  2023_cross  \n",
      "None\n",
      "                                                                       new_var  \\\n",
      "2177  NUTRITION_three_factor_eating_questionnaire_binge_eating_when_not_hungry   \n",
      "\n",
      "                                                       text     dataset  \n",
      "2177  Do you go on eating binges though you are not hungry?  2023_cross  \n",
      "None\n",
      "Variable not found.\n",
      "None\n"
     ]
    }
   ],
   "source": [
    "pd.set_option('display.max_colwidth', None)\n",
    "\n",
    "# Function to filter by new_var and display text and dataset columns\n",
    "def get_var_details(var_name):\n",
    "    # Filter the DataFrame for the specified new_var\n",
    "    filtered_data = cols[cols['new_var'] == var_name]\n",
    "    \n",
    "    # Check if the variable exists in the dataset\n",
    "    if not filtered_data.empty:\n",
    "        # Select only the new_var, text, and dataset columns\n",
    "        result = filtered_data[['new_var', 'text', 'dataset']]\n",
    "        print(result)\n",
    "    else:\n",
    "        print(\"Variable not found.\")\n",
    "\n",
    "# Example usage\n",
    "print(get_var_details('NUTRITION_canadian_food_intake_screener_frequency_social_meals'))  #\n",
    "print(get_var_details('NUTRITION_three_factor_eating_questionnaire_binge_eating_when_not_hungry'))  \n",
    "print(get_var_details('LONELY_ucla_loneliness_scale_score')) "
   ]
  },
  {
   "cell_type": "code",
   "execution_count": 12,
   "id": "8fce6e53",
   "metadata": {},
   "outputs": [
    {
     "name": "stdout",
     "output_type": "stream",
     "text": [
      "                    DATASET\n",
      "35     2023 Cross-Sectional\n",
      "92     2023 Cross-Sectional\n",
      "101    2023 Cross-Sectional\n",
      "131    2023 Cross-Sectional\n",
      "217    2023 Cross-Sectional\n",
      "...                     ...\n",
      "11279  2023 Cross-Sectional\n",
      "11286  2023 Cross-Sectional\n",
      "11304  2023 Cross-Sectional\n",
      "11388  2023 Cross-Sectional\n",
      "11426  2023 Cross-Sectional\n",
      "\n",
      "[296 rows x 1 columns]\n"
     ]
    }
   ],
   "source": [
    "columns_of_interest = [\n",
    "    'DATASET'\n",
    "]\n",
    "\n",
    "# Filter the data for rows with non-missing values in the specified columns\n",
    "filtered_data = data.dropna(subset=[\n",
    "    'NUTRITION_three_factor_eating_questionnaire_binge_eating_when_not_hungry',\n",
    "    'NUTRITION_canadian_food_intake_screener_frequency_social_meals',\n",
    "    'LONELY_dejong_emotional_social_loneliness_scale_score'\n",
    "])\n",
    "\n",
    "# Select and print only the columns of interest\n",
    "result = filtered_data[columns_of_interest]\n",
    "print(result)"
   ]
  },
  {
   "cell_type": "code",
   "execution_count": 5,
   "id": "5df25c32",
   "metadata": {},
   "outputs": [
    {
     "data": {
      "text/plain": [
       "ORIGINAL_reactions_to_loneliness_felt_disconnected\n",
       "Not at all           140\n",
       "A little              79\n",
       "Somewhat              60\n",
       "Quite a bit           45\n",
       "To a great extent     22\n",
       "Name: count, dtype: int64"
      ]
     },
     "execution_count": 5,
     "metadata": {},
     "output_type": "execute_result"
    }
   ],
   "source": [
    "data.ORIGINAL_reactions_to_loneliness_felt_disconnected.value_counts()"
   ]
  },
  {
   "cell_type": "code",
   "execution_count": 6,
   "id": "173bee67",
   "metadata": {},
   "outputs": [
    {
     "data": {
      "text/plain": [
       "NUTRITION_canadian_food_intake_screener_frequency_social_meals\n",
       "2 to 3 times last month    61\n",
       "1 time per day             39\n",
       "1 time last month          38\n",
       "2 times per week           34\n",
       "1 time per week            31\n",
       "Never                      31\n",
       "2 to 3 times per day       30\n",
       "3 to 4 times per week      29\n",
       "5 to 6 times per week      18\n",
       "Name: count, dtype: int64"
      ]
     },
     "execution_count": 6,
     "metadata": {},
     "output_type": "execute_result"
    }
   ],
   "source": [
    "data.NUTRITION_canadian_food_intake_screener_frequency_social_meals.value_counts()"
   ]
  },
  {
   "cell_type": "code",
   "execution_count": 7,
   "id": "a362ef19",
   "metadata": {},
   "outputs": [
    {
     "data": {
      "text/plain": [
       "NUTRITION_three_factor_eating_questionnaire_binge_eating_when_not_hungry\n",
       "Rarely                  102\n",
       "Never                    97\n",
       "Sometimes                90\n",
       "At least once a week     14\n",
       "Name: count, dtype: int64"
      ]
     },
     "execution_count": 7,
     "metadata": {},
     "output_type": "execute_result"
    }
   ],
   "source": [
    "data.NUTRITION_three_factor_eating_questionnaire_binge_eating_when_not_hungry.value_counts()"
   ]
  },
  {
   "cell_type": "code",
   "execution_count": 8,
   "id": "f17cd613",
   "metadata": {},
   "outputs": [
    {
     "data": {
      "text/plain": [
       "LONELY_dejong_emotional_social_loneliness_scale_score\n",
       "6.0    1890\n",
       "5.0    1723\n",
       "4.0    1414\n",
       "3.0    1329\n",
       "2.0     971\n",
       "1.0     763\n",
       "0.0     471\n",
       "Name: count, dtype: int64"
      ]
     },
     "execution_count": 8,
     "metadata": {},
     "output_type": "execute_result"
    }
   ],
   "source": [
    "data.LONELY_dejong_emotional_social_loneliness_scale_score.value_counts()"
   ]
  },
  {
   "cell_type": "code",
   "execution_count": 9,
   "id": "e2f0225f",
   "metadata": {},
   "outputs": [
    {
     "data": {
      "text/plain": [
       "CONNECTION_social_media_time_per_day\n",
       "31-60 minutes per day           1924\n",
       "1-2 hours per day               1758\n",
       "10-30 minutes per day           1492\n",
       "More than 3 hours per day       1367\n",
       "2-3 hours per day               1259\n",
       "Less than 10 minutes per day     477\n",
       "Name: count, dtype: int64"
      ]
     },
     "execution_count": 9,
     "metadata": {},
     "output_type": "execute_result"
    }
   ],
   "source": [
    "data.CONNECTION_social_media_time_per_day.value_counts()"
   ]
  },
  {
   "cell_type": "code",
   "execution_count": 10,
   "id": "79a93b2d",
   "metadata": {},
   "outputs": [
    {
     "data": {
      "text/plain": [
       "PSYCH_body_self_image_questionnaire_think_unattractive\n",
       "About halfway true of myself    193\n",
       "Slightly true of myself         184\n",
       "Not at all true of myself       171\n",
       "Mostly true of myself           149\n",
       "Completely true of myself        91\n",
       "Name: count, dtype: int64"
      ]
     },
     "execution_count": 10,
     "metadata": {},
     "output_type": "execute_result"
    }
   ],
   "source": [
    "data.PSYCH_body_self_image_questionnaire_think_unattractive.value_counts()"
   ]
  },
  {
   "cell_type": "code",
   "execution_count": null,
   "id": "fa7b0706",
   "metadata": {},
   "outputs": [],
   "source": []
  }
 ],
 "metadata": {
  "kernelspec": {
   "display_name": "Python 3 (ipykernel)",
   "language": "python",
   "name": "python3"
  },
  "language_info": {
   "codemirror_mode": {
    "name": "ipython",
    "version": 3
   },
   "file_extension": ".py",
   "mimetype": "text/x-python",
   "name": "python",
   "nbconvert_exporter": "python",
   "pygments_lexer": "ipython3",
   "version": "3.11.6"
  }
 },
 "nbformat": 4,
 "nbformat_minor": 5
}
