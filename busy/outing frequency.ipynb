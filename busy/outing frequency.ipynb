{
 "cells": [
  {
   "cell_type": "code",
   "execution_count": 5,
   "metadata": {},
   "outputs": [],
   "source": [
    "import pandas as pd\n",
    "cols = pd.read_csv(\"../var_names.csv\")\n",
    "data = pd.read_csv('../CSCS_data_anon.csv', low_memory=False,\n",
    "                        na_values=[\"9999\", \"\", \" \", \"Presented but no response\", \"NA\"])\n",
    "empty = (data.isna().sum()==data.shape[0])\n",
    "data = data[empty.index[~empty]] # keep non empty columns only\n",
    "data = data[data.REMOVE_case=='No'].copy()"
   ]
  },
  {
   "cell_type": "code",
   "execution_count": 6,
   "metadata": {},
   "outputs": [],
   "source": [
    "def get_matching_keywords(keywords: list[str]) -> list[str]:\n",
    "    \"\"\"\n",
    "    Returns the names of the columns whose string contains any of the keywords\n",
    "    \"\"\"\n",
    "    global data\n",
    "    return [col for col in data.columns if any(keyword.lower() in col.lower() for keyword in keywords)]\n",
    "\n",
    "def get_var_details(var_name: str) -> list[tuple[str, str]]:\n",
    "    \"\"\"\n",
    "    Returns a list of pairs detailing the question and datasets \n",
    "    corresponding to the given variable name\n",
    "    \"\"\"\n",
    "    global cols\n",
    "    filtered_data = cols[cols['new_var'] == var_name]\n",
    "    \n",
    "    info = []\n",
    "    result: pd.DataFrame = filtered_data[['new_var', 'text', 'dataset']]\n",
    "    for index, row in result.iterrows():\n",
    "        info.append((row['text'], row['dataset']))\n",
    "\n",
    "    return info\n",
    "\n",
    "def get_column_info(column_name: str) -> None:\n",
    "    \"\"\"\n",
    "    Returns information about a given column\n",
    "    \"\"\"\n",
    "    global data, cols\n",
    "    column_info: pd.DataFrame = data[column_name]\n",
    "    print(f\"{' Information about: ' + column_name + ' ':-^70}\")\n",
    "    details = get_var_details(column_name)\n",
    "    if not details: print(f\"{' No associated question found ':-^70}\")\n",
    "    for question, dataset in details:\n",
    "        print(f\"{' Dataset: ' + dataset + ' ':-^70}\")\n",
    "        print(f\"{' Question: ' + question + ' ':-^70}\")\n",
    "        print(f\"{'':-^70}\\n\")\n",
    "    print(f\"Number of NA: {column_info.isna().sum()}\")\n",
    "    print(column_info.value_counts())\n",
    "    print(\"\")\n",
    "\n",
    "def get_datasets(column_name: str) -> list[str]:\n",
    "    \"\"\"\n",
    "    Returns a list of datasets a variable name is found in\n",
    "    \"\"\"\n",
    "    datasets = []\n",
    "    for question, dataset in get_var_details(column_name):\n",
    "        datasets.append(dataset)\n",
    "    return datasets"
   ]
  },
  {
   "cell_type": "code",
   "execution_count": 7,
   "metadata": {},
   "outputs": [
    {
     "name": "stdout",
     "output_type": "stream",
     "text": [
      "------- Information about: VOLUNTEERISM_volunteer_work_friends -------\n",
      "------------------------ Dataset: 2022_cross -------------------------\n",
      " Question: Which of the following is true about your volunteer work? (Check all that apply) - I volunteered with friends.  \n",
      "----------------------------------------------------------------------\n",
      "\n",
      "Number of NA: 8978\n",
      "VOLUNTEERISM_volunteer_work_friends\n",
      "Not Selected                   579\n",
      "I volunteered with friends.    461\n",
      "Name: count, dtype: int64\n",
      "\n",
      " Information about: CONNECTION_lubben_social_network_friends_subscale_see \n",
      "------------------------ Dataset: 2023_cross -------------------------\n",
      " Question: Please answer each of the following questions about the people you know: - How many of your friends do you see or hear from at least once a month? \n",
      "----------------------------------------------------------------------\n",
      "\n",
      "Number of NA: 8143\n",
      "CONNECTION_lubben_social_network_friends_subscale_see\n",
      "2             428\n",
      "1             338\n",
      "3             298\n",
      "4             222\n",
      "5             190\n",
      "6             134\n",
      "10             92\n",
      "8              53\n",
      "7              33\n",
      "12             28\n",
      "15             17\n",
      "20 or more     16\n",
      "9              15\n",
      "11              4\n",
      "14              2\n",
      "16              2\n",
      "19              1\n",
      "13              1\n",
      "18              1\n",
      "Name: count, dtype: int64\n",
      "\n",
      " Information about: CONNECTION_lubben_social_network_friends_subscale_feel_at_ease \n",
      "------------------------ Dataset: 2023_cross -------------------------\n",
      " Question: Please answer each of the following questions about the people you know: - How many friends do you feel at ease with that you can talk about private matters? \n",
      "----------------------------------------------------------------------\n",
      "\n",
      "Number of NA: 8237\n",
      "CONNECTION_lubben_social_network_friends_subscale_feel_at_ease\n",
      "2             492\n",
      "1             434\n",
      "3             303\n",
      "4             193\n",
      "5             134\n",
      "6              84\n",
      "8              40\n",
      "7              34\n",
      "10             30\n",
      "20 or more     11\n",
      "12              8\n",
      "9               6\n",
      "15              5\n",
      "11              4\n",
      "18              2\n",
      "14              1\n",
      "Name: count, dtype: int64\n",
      "\n",
      " Information about: CONNECTION_lubben_social_network_friends_subscale_call_for_help \n",
      "------------------------ Dataset: 2023_cross -------------------------\n",
      " Question: Please answer each of the following questions about the people you know: - How many friends do you feel close to such that you could call on them for help? \n",
      "----------------------------------------------------------------------\n",
      "\n",
      "Number of NA: 8306\n",
      "CONNECTION_lubben_social_network_friends_subscale_call_for_help\n",
      "2             425\n",
      "1             410\n",
      "3             314\n",
      "4             197\n",
      "5             121\n",
      "6              86\n",
      "10             42\n",
      "8              40\n",
      "7              34\n",
      "20 or more     15\n",
      "9              11\n",
      "12              9\n",
      "15              4\n",
      "18              1\n",
      "16              1\n",
      "11              1\n",
      "14              1\n",
      "Name: count, dtype: int64\n",
      "\n",
      "---------------- Information about: WORK_friends_num -----------------\n",
      "------------------------ Dataset: 2023_cross -------------------------\n",
      "----- Question: How many friends do you have at your workplace? ------\n",
      "----------------------------------------------------------------------\n",
      "\n",
      "Number of NA: 9892\n",
      "WORK_friends_num\n",
      "0.0     94\n",
      "1.0      8\n",
      "3.0      8\n",
      "2.0      7\n",
      "5.0      3\n",
      "4.0      3\n",
      "10.0     2\n",
      "6.0      1\n",
      "Name: count, dtype: int64\n",
      "\n"
     ]
    }
   ],
   "source": [
    "# Example usage\n",
    "words = [\"WORK_friend\"]\n",
    "to_examine = get_matching_keywords(words)\n",
    "for col in to_examine:\n",
    "    get_column_info(col)"
   ]
  },
  {
   "cell_type": "markdown",
   "metadata": {},
   "source": [
    "Interests:\n",
    "- CONNECTION_activities_meeting_work_p3m \n",
    "- CONNECTION_preferred_frequency_hang_out \n",
    "- CONNECTION_activities_visited_friends_p3m \n",
    "- CONNECTION_activities_new_friend_p3m / CONNECTION_activities_new_friend_last - DO busy people make new friends?\n",
    "- CONNECTION_social_days_friends_p7d_grouped / CONNECTION_social_days_friends_p7d \n",
    "- CONNECTION_social_time_friends_p7d_grouped / CONNECTION_social_time_friends_p7d \n",
    "- CONNECTION_preference_time_friends_grouped / CONNECTION_preference_time_friends \n",
    "- CONNECTION_meaningful_time_friends_grouped\n",
    "- CONNECTION_social_num_close_friends \n",
    "- CONNECTION_lubben_social_network_friends_subscale_see \n",
    "\n",
    "Money?\n",
    "- CONNECTION_close_friends_same_more_money \n",
    "- CONNECTION_close_friends_same_less_money \n",
    "- CONNECTION_close_friends_same_money \n",
    "- FRIENDSHIP_hall_friendship_standards_self_money \n",
    "\n",
    "Humor\n",
    "- FRIENDSHIP_hall_friendship_standards_self_sense_of_humor \n",
    "\n",
    "Work friends\n",
    "- WORK_friends_num "
   ]
  },
  {
   "cell_type": "code",
   "execution_count": 8,
   "metadata": {},
   "outputs": [],
   "source": [
    "from collections import defaultdict\n",
    "\n",
    "to_examine = [\"CONNECTION_activities_meeting_work_p3m\", \"CONNECTION_preferred_frequency_hang_out\", \"CONNECTION_activities_visited_friends_p3m\", \"CONNECTION_activities_new_friend_p3m\", \"CONNECTION_activities_new_friend_last\", \"CONNECTION_social_days_friends_p7d_grouped\", \"CONNECTION_social_days_friends_p7d\", \"CONNECTION_social_time_friends_p7d_grouped\", \"CONNECTION_social_time_friends_p7d\", \"CONNECTION_preference_time_friends_grouped\", \"CONNECTION_preference_time_friends\", \"CONNECTION_meaningful_time_friends_groupe\", \"CONNECTION_social_num_close_friends\", \"CONNECTION_lubben_social_network_friends_subscale_see\"]\n",
    "to_examine = get_matching_keywords(to_examine)\n",
    "var_by_dataset = defaultdict(list)\n",
    "\n",
    "for col in to_examine:\n",
    "    for dataset in get_datasets(col):\n",
    "        var_by_dataset[dataset].append(col)"
   ]
  },
  {
   "cell_type": "code",
   "execution_count": 9,
   "metadata": {},
   "outputs": [
    {
     "name": "stdout",
     "output_type": "stream",
     "text": [
      "------- Information about: CONNECTION_social_barriers_too_busy -------\n",
      "------------------------ Dataset: 2022_cohort ------------------------\n",
      " Question: Which of the barriers listed below prevent you from socializing with others as much as you would like to? - I am too busy \n",
      "----------------------------------------------------------------------\n",
      "\n",
      "------------------------ Dataset: 2022_cross -------------------------\n",
      " Question: Which of the barriers below make it difficult for you to socialize with others as much as you would like to? (Check all that apply) - Selected Choice - I am too busy  \n",
      "----------------------------------------------------------------------\n",
      "\n",
      "Number of NA: 9075\n",
      "CONNECTION_social_barriers_too_busy\n",
      "Not Selected     756\n",
      "I am too busy    187\n",
      "Name: count, dtype: int64\n",
      "\n"
     ]
    }
   ],
   "source": [
    "get_column_info(\"CONNECTION_social_barriers_too_busy\")"
   ]
  },
  {
   "cell_type": "code",
   "execution_count": 34,
   "metadata": {},
   "outputs": [
    {
     "name": "stdout",
     "output_type": "stream",
     "text": [
      "filtered_data_cohort.shape = (392, 8)\n",
      "filtered_data_cross.shape = (479, 8)\n",
      "filtered_data_2022_all.shape = (899, 5)\n"
     ]
    }
   ],
   "source": [
    "columns_2022_cohort = var_by_dataset[\"2022_cohort\"].copy()\n",
    "columns_2022_cross = var_by_dataset[\"2022_cross\"].copy()\n",
    "intersection = list(set(columns_2022_cohort).intersection(set(columns_2022_cross)))\n",
    "\n",
    "filtered_data_cohort = data[columns_2022_cohort + [\"CONNECTION_social_barriers_too_busy\"]].dropna()\n",
    "filtered_data_cross = data[columns_2022_cross + [\"CONNECTION_social_barriers_too_busy\"]].dropna()\n",
    "filtered_data_2022_all = data[intersection + [\"CONNECTION_social_barriers_too_busy\"]].dropna()\n",
    "\n",
    "print(f\"{filtered_data_cohort.shape = }\\n{filtered_data_cross.shape = }\\n{filtered_data_2022_all.shape = }\")"
   ]
  },
  {
   "cell_type": "code",
   "execution_count": 11,
   "metadata": {},
   "outputs": [
    {
     "name": "stdout",
     "output_type": "stream",
     "text": [
      "busy_cohort.shape = (99, 8)\n",
      "busy_cross.shape = (70, 8)\n"
     ]
    }
   ],
   "source": [
    "busy_cohort = filtered_data_cohort[filtered_data_cohort[\"CONNECTION_social_barriers_too_busy\"] == \"I am too busy\"]\n",
    "not_busy_cohort = filtered_data_cohort[filtered_data_cohort[\"CONNECTION_social_barriers_too_busy\"] == \"I am too busy\"]\n",
    "busy_cross = filtered_data_cross[filtered_data_cross[\"CONNECTION_social_barriers_too_busy\"] == \"I am too busy\"]\n",
    "\n",
    "print(f\"{busy_cohort.shape = }\\n{busy_cross.shape = }\")"
   ]
  },
  {
   "cell_type": "code",
   "execution_count": 12,
   "metadata": {},
   "outputs": [
    {
     "data": {
      "text/plain": [
       "Index(['CONNECTION_activities_visited_friends_p3m',\n",
       "       'CONNECTION_activities_meeting_work_p3m',\n",
       "       'CONNECTION_activities_new_friend_p3m',\n",
       "       'CONNECTION_social_num_close_friends',\n",
       "       'CONNECTION_social_days_friends_p7d',\n",
       "       'CONNECTION_social_time_friends_p7d',\n",
       "       'CONNECTION_preference_time_friends',\n",
       "       'CONNECTION_social_barriers_too_busy'],\n",
       "      dtype='object')"
      ]
     },
     "execution_count": 12,
     "metadata": {},
     "output_type": "execute_result"
    }
   ],
   "source": [
    "busy_cohort\n",
    "busy_cohort.keys()"
   ]
  },
  {
   "cell_type": "code",
   "execution_count": 13,
   "metadata": {},
   "outputs": [
    {
     "data": {
      "text/html": [
       "<div>\n",
       "<style scoped>\n",
       "    .dataframe tbody tr th:only-of-type {\n",
       "        vertical-align: middle;\n",
       "    }\n",
       "\n",
       "    .dataframe tbody tr th {\n",
       "        vertical-align: top;\n",
       "    }\n",
       "\n",
       "    .dataframe thead th {\n",
       "        text-align: right;\n",
       "    }\n",
       "</style>\n",
       "<table border=\"1\" class=\"dataframe\">\n",
       "  <thead>\n",
       "    <tr style=\"text-align: right;\">\n",
       "      <th></th>\n",
       "      <th>CONNECTION_social_num_close_friends</th>\n",
       "      <th>CONNECTION_social_days_friends_p7d</th>\n",
       "      <th>CONNECTION_social_time_friends_p7d</th>\n",
       "      <th>CONNECTION_preference_time_friends</th>\n",
       "      <th>CONNECTION_activities_new_friend_last</th>\n",
       "      <th>CONNECTION_social_num_close_friends_p3m</th>\n",
       "      <th>CONNECTION_preferred_frequency_hang_out</th>\n",
       "      <th>CONNECTION_social_barriers_too_busy</th>\n",
       "    </tr>\n",
       "  </thead>\n",
       "  <tbody>\n",
       "    <tr>\n",
       "      <th>5</th>\n",
       "      <td>7.0</td>\n",
       "      <td>2.0</td>\n",
       "      <td>3.0</td>\n",
       "      <td>2.0</td>\n",
       "      <td>Not in the past three months</td>\n",
       "      <td>4.0</td>\n",
       "      <td>A few times a year</td>\n",
       "      <td>I am too busy</td>\n",
       "    </tr>\n",
       "    <tr>\n",
       "      <th>98</th>\n",
       "      <td>2.0</td>\n",
       "      <td>1.0</td>\n",
       "      <td>1.0</td>\n",
       "      <td>1.0</td>\n",
       "      <td>Not in the past three months</td>\n",
       "      <td>0.0</td>\n",
       "      <td>Every few months</td>\n",
       "      <td>I am too busy</td>\n",
       "    </tr>\n",
       "    <tr>\n",
       "      <th>137</th>\n",
       "      <td>3.0</td>\n",
       "      <td>3.0</td>\n",
       "      <td>3.0</td>\n",
       "      <td>24.0</td>\n",
       "      <td>In the past two or three days</td>\n",
       "      <td>2.0</td>\n",
       "      <td>About once per week</td>\n",
       "      <td>I am too busy</td>\n",
       "    </tr>\n",
       "    <tr>\n",
       "      <th>163</th>\n",
       "      <td>7.0</td>\n",
       "      <td>2.0</td>\n",
       "      <td>2.0</td>\n",
       "      <td>3.0</td>\n",
       "      <td>In the past month</td>\n",
       "      <td>5.0</td>\n",
       "      <td>Not at all</td>\n",
       "      <td>I am too busy</td>\n",
       "    </tr>\n",
       "    <tr>\n",
       "      <th>365</th>\n",
       "      <td>5.0</td>\n",
       "      <td>4.0</td>\n",
       "      <td>8.0</td>\n",
       "      <td>4.0</td>\n",
       "      <td>In the past two weeks</td>\n",
       "      <td>10.0</td>\n",
       "      <td>About once per month</td>\n",
       "      <td>I am too busy</td>\n",
       "    </tr>\n",
       "    <tr>\n",
       "      <th>...</th>\n",
       "      <td>...</td>\n",
       "      <td>...</td>\n",
       "      <td>...</td>\n",
       "      <td>...</td>\n",
       "      <td>...</td>\n",
       "      <td>...</td>\n",
       "      <td>...</td>\n",
       "      <td>...</td>\n",
       "    </tr>\n",
       "    <tr>\n",
       "      <th>10747</th>\n",
       "      <td>4.0</td>\n",
       "      <td>3.0</td>\n",
       "      <td>3.0</td>\n",
       "      <td>4.0</td>\n",
       "      <td>Not in the past three months</td>\n",
       "      <td>2.0</td>\n",
       "      <td>A few times a year</td>\n",
       "      <td>I am too busy</td>\n",
       "    </tr>\n",
       "    <tr>\n",
       "      <th>10806</th>\n",
       "      <td>6.0</td>\n",
       "      <td>5.0</td>\n",
       "      <td>4.0</td>\n",
       "      <td>24.0</td>\n",
       "      <td>In the past week</td>\n",
       "      <td>4.0</td>\n",
       "      <td>About once per week</td>\n",
       "      <td>I am too busy</td>\n",
       "    </tr>\n",
       "    <tr>\n",
       "      <th>11045</th>\n",
       "      <td>12.0</td>\n",
       "      <td>3.0</td>\n",
       "      <td>15.0</td>\n",
       "      <td>10.0</td>\n",
       "      <td>Not in the past three months</td>\n",
       "      <td>25.0</td>\n",
       "      <td>Every few weeks</td>\n",
       "      <td>I am too busy</td>\n",
       "    </tr>\n",
       "    <tr>\n",
       "      <th>11167</th>\n",
       "      <td>3.0</td>\n",
       "      <td>3.0</td>\n",
       "      <td>3.0</td>\n",
       "      <td>3.0</td>\n",
       "      <td>In the past month</td>\n",
       "      <td>3.0</td>\n",
       "      <td>About once per month</td>\n",
       "      <td>I am too busy</td>\n",
       "    </tr>\n",
       "    <tr>\n",
       "      <th>11369</th>\n",
       "      <td>4.0</td>\n",
       "      <td>7.0</td>\n",
       "      <td>3.0</td>\n",
       "      <td>3.0</td>\n",
       "      <td>Not in the past three months</td>\n",
       "      <td>2.0</td>\n",
       "      <td>Not at all</td>\n",
       "      <td>I am too busy</td>\n",
       "    </tr>\n",
       "  </tbody>\n",
       "</table>\n",
       "<p>70 rows × 8 columns</p>\n",
       "</div>"
      ],
      "text/plain": [
       "       CONNECTION_social_num_close_friends  \\\n",
       "5                                      7.0   \n",
       "98                                     2.0   \n",
       "137                                    3.0   \n",
       "163                                    7.0   \n",
       "365                                    5.0   \n",
       "...                                    ...   \n",
       "10747                                  4.0   \n",
       "10806                                  6.0   \n",
       "11045                                 12.0   \n",
       "11167                                  3.0   \n",
       "11369                                  4.0   \n",
       "\n",
       "       CONNECTION_social_days_friends_p7d  CONNECTION_social_time_friends_p7d  \\\n",
       "5                                     2.0                                 3.0   \n",
       "98                                    1.0                                 1.0   \n",
       "137                                   3.0                                 3.0   \n",
       "163                                   2.0                                 2.0   \n",
       "365                                   4.0                                 8.0   \n",
       "...                                   ...                                 ...   \n",
       "10747                                 3.0                                 3.0   \n",
       "10806                                 5.0                                 4.0   \n",
       "11045                                 3.0                                15.0   \n",
       "11167                                 3.0                                 3.0   \n",
       "11369                                 7.0                                 3.0   \n",
       "\n",
       "       CONNECTION_preference_time_friends  \\\n",
       "5                                     2.0   \n",
       "98                                    1.0   \n",
       "137                                  24.0   \n",
       "163                                   3.0   \n",
       "365                                   4.0   \n",
       "...                                   ...   \n",
       "10747                                 4.0   \n",
       "10806                                24.0   \n",
       "11045                                10.0   \n",
       "11167                                 3.0   \n",
       "11369                                 3.0   \n",
       "\n",
       "      CONNECTION_activities_new_friend_last  \\\n",
       "5              Not in the past three months   \n",
       "98             Not in the past three months   \n",
       "137           In the past two or three days   \n",
       "163                       In the past month   \n",
       "365                   In the past two weeks   \n",
       "...                                     ...   \n",
       "10747          Not in the past three months   \n",
       "10806                      In the past week   \n",
       "11045          Not in the past three months   \n",
       "11167                     In the past month   \n",
       "11369          Not in the past three months   \n",
       "\n",
       "       CONNECTION_social_num_close_friends_p3m  \\\n",
       "5                                          4.0   \n",
       "98                                         0.0   \n",
       "137                                        2.0   \n",
       "163                                        5.0   \n",
       "365                                       10.0   \n",
       "...                                        ...   \n",
       "10747                                      2.0   \n",
       "10806                                      4.0   \n",
       "11045                                     25.0   \n",
       "11167                                      3.0   \n",
       "11369                                      2.0   \n",
       "\n",
       "      CONNECTION_preferred_frequency_hang_out  \\\n",
       "5                          A few times a year   \n",
       "98                           Every few months   \n",
       "137                       About once per week   \n",
       "163                                Not at all   \n",
       "365                      About once per month   \n",
       "...                                       ...   \n",
       "10747                      A few times a year   \n",
       "10806                     About once per week   \n",
       "11045                         Every few weeks   \n",
       "11167                    About once per month   \n",
       "11369                              Not at all   \n",
       "\n",
       "      CONNECTION_social_barriers_too_busy  \n",
       "5                           I am too busy  \n",
       "98                          I am too busy  \n",
       "137                         I am too busy  \n",
       "163                         I am too busy  \n",
       "365                         I am too busy  \n",
       "...                                   ...  \n",
       "10747                       I am too busy  \n",
       "10806                       I am too busy  \n",
       "11045                       I am too busy  \n",
       "11167                       I am too busy  \n",
       "11369                       I am too busy  \n",
       "\n",
       "[70 rows x 8 columns]"
      ]
     },
     "execution_count": 13,
     "metadata": {},
     "output_type": "execute_result"
    }
   ],
   "source": [
    "busy_cross"
   ]
  },
  {
   "cell_type": "code",
   "execution_count": 15,
   "metadata": {},
   "outputs": [
    {
     "data": {
      "application/vnd.plotly.v1+json": {
       "config": {
        "plotlyServerURL": "https://plot.ly"
       },
       "data": [
        {
         "marker": {
          "color": "blue"
         },
         "name": "I am too busy (Bar)",
         "type": "bar",
         "x": [
          0,
          1,
          2,
          3,
          4,
          5,
          6,
          7,
          8,
          10,
          11,
          14,
          15,
          17,
          20
         ],
         "xaxis": "x",
         "y": [
          0.030303030303030304,
          0.050505050505050504,
          0.1414141414141414,
          0.12121212121212122,
          0.1717171717171717,
          0.21212121212121213,
          0.0707070707070707,
          0.030303030303030304,
          0.020202020202020204,
          0.09090909090909091,
          0.020202020202020204,
          0.010101010101010102,
          0.010101010101010102,
          0.010101010101010102,
          0.010101010101010102
         ],
         "yaxis": "y"
        },
        {
         "marker": {
          "color": "red"
         },
         "name": "Not Selected (Bar)",
         "type": "bar",
         "x": [
          0,
          1,
          2,
          3,
          4,
          5,
          6,
          7,
          8,
          9,
          10,
          12,
          13,
          15,
          18,
          20
         ],
         "xaxis": "x",
         "y": [
          0.07167235494880546,
          0.08873720136518772,
          0.14334470989761092,
          0.20819112627986347,
          0.13993174061433447,
          0.13310580204778158,
          0.06825938566552901,
          0.027303754266211604,
          0.020477815699658702,
          0.010238907849829351,
          0.040955631399317405,
          0.017064846416382253,
          0.0034129692832764505,
          0.0034129692832764505,
          0.0034129692832764505,
          0.020477815699658702
         ],
         "yaxis": "y"
        },
        {
         "line": {
          "color": "blue",
          "dash": "dash"
         },
         "mode": "lines",
         "name": "I am too busy (KDE)",
         "type": "scatter",
         "x": [
          0,
          0.04008016032064128,
          0.08016032064128256,
          0.12024048096192384,
          0.16032064128256512,
          0.2004008016032064,
          0.24048096192384769,
          0.280561122244489,
          0.32064128256513025,
          0.3607214428857715,
          0.4008016032064128,
          0.4408817635270541,
          0.48096192384769537,
          0.5210420841683366,
          0.561122244488978,
          0.6012024048096192,
          0.6412825651302605,
          0.6813627254509018,
          0.721442885771543,
          0.7615230460921844,
          0.8016032064128256,
          0.8416833667334669,
          0.8817635270541082,
          0.9218436873747494,
          0.9619238476953907,
          1.002004008016032,
          1.0420841683366733,
          1.0821643286573146,
          1.122244488977956,
          1.1623246492985972,
          1.2024048096192383,
          1.2424849699398797,
          1.282565130260521,
          1.3226452905811623,
          1.3627254509018036,
          1.4028056112224447,
          1.442885771543086,
          1.4829659318637274,
          1.5230460921843687,
          1.56312625250501,
          1.6032064128256511,
          1.6432865731462925,
          1.6833667334669338,
          1.723446893787575,
          1.7635270541082164,
          1.8036072144288577,
          1.8436873747494988,
          1.8837675350701402,
          1.9238476953907815,
          1.9639278557114228,
          2.004008016032064,
          2.0440881763527052,
          2.0841683366733466,
          2.124248496993988,
          2.164328657314629,
          2.2044088176352705,
          2.244488977955912,
          2.284569138276553,
          2.3246492985971945,
          2.3647294589178354,
          2.4048096192384767,
          2.444889779559118,
          2.4849699398797593,
          2.5250501002004007,
          2.565130260521042,
          2.6052104208416833,
          2.6452905811623246,
          2.685370741482966,
          2.7254509018036073,
          2.7655310621242486,
          2.8056112224448895,
          2.845691382765531,
          2.885771543086172,
          2.9258517034068134,
          2.9659318637274548,
          3.006012024048096,
          3.0460921843687374,
          3.0861723446893787,
          3.12625250501002,
          3.1663326653306614,
          3.2064128256513023,
          3.2464929859719436,
          3.286573146292585,
          3.3266533066132262,
          3.3667334669338675,
          3.406813627254509,
          3.44689378757515,
          3.4869739478957915,
          3.527054108216433,
          3.567134268537074,
          3.6072144288577155,
          3.6472945891783564,
          3.6873747494989977,
          3.727454909819639,
          3.7675350701402803,
          3.8076152304609217,
          3.847695390781563,
          3.8877755511022043,
          3.9278557114228456,
          3.967935871743487,
          4.008016032064128,
          4.04809619238477,
          4.0881763527054105,
          4.128256513026052,
          4.168336673346693,
          4.208416833667335,
          4.248496993987976,
          4.288577154308617,
          4.328657314629258,
          4.368737474949899,
          4.408817635270541,
          4.448897795591182,
          4.488977955911824,
          4.529058116232465,
          4.569138276553106,
          4.609218436873747,
          4.649298597194389,
          4.68937875751503,
          4.729458917835671,
          4.7695390781563125,
          4.809619238476953,
          4.849699398797595,
          4.889779559118236,
          4.929859719438878,
          4.969939879759519,
          5.01002004008016,
          5.050100200400801,
          5.090180360721443,
          5.130260521042084,
          5.170340681362725,
          5.210420841683367,
          5.2505010020040075,
          5.290581162324649,
          5.33066132264529,
          5.370741482965932,
          5.410821643286573,
          5.4509018036072145,
          5.490981963927855,
          5.531062124248497,
          5.571142284569138,
          5.611222444889779,
          5.651302605210421,
          5.691382765531062,
          5.731462925851703,
          5.771543086172344,
          5.811623246492986,
          5.851703406813627,
          5.891783567134269,
          5.9318637274549095,
          5.971943887775551,
          6.012024048096192,
          6.052104208416833,
          6.092184368737475,
          6.132264529058116,
          6.1723446893787575,
          6.212424849699398,
          6.25250501002004,
          6.292585170340681,
          6.332665330661323,
          6.372745490981964,
          6.4128256513026045,
          6.452905811623246,
          6.492985971943887,
          6.533066132264529,
          6.57314629258517,
          6.613226452905812,
          6.6533066132264524,
          6.693386773547094,
          6.733466933867735,
          6.773547094188377,
          6.813627254509018,
          6.853707414829659,
          6.8937875751503,
          6.933867735470941,
          6.973947895791583,
          7.014028056112224,
          7.054108216432866,
          7.0941883767535066,
          7.134268537074148,
          7.174348697394789,
          7.214428857715431,
          7.254509018036072,
          7.294589178356713,
          7.3346693386773545,
          7.374749498997995,
          7.414829659318637,
          7.454909819639278,
          7.49498997995992,
          7.535070140280561,
          7.575150300601202,
          7.615230460921843,
          7.655310621242485,
          7.695390781563126,
          7.735470941883767,
          7.775551102204409,
          7.8156312625250495,
          7.855711422845691,
          7.895791583166332,
          7.935871743486974,
          7.975951903807615,
          8.016032064128256,
          8.056112224448897,
          8.09619238476954,
          8.13627254509018,
          8.176352705410821,
          8.216432865731463,
          8.256513026052104,
          8.296593186372744,
          8.336673346693386,
          8.376753507014028,
          8.41683366733467,
          8.45691382765531,
          8.496993987975952,
          8.537074148296593,
          8.577154308617233,
          8.617234468937875,
          8.657314629258517,
          8.697394789579159,
          8.737474949899799,
          8.77755511022044,
          8.817635270541082,
          8.857715430861724,
          8.897795591182364,
          8.937875751503006,
          8.977955911823647,
          9.018036072144287,
          9.05811623246493,
          9.098196392785571,
          9.138276553106213,
          9.178356713426853,
          9.218436873747494,
          9.258517034068136,
          9.298597194388778,
          9.338677354709418,
          9.37875751503006,
          9.418837675350701,
          9.458917835671341,
          9.498997995991983,
          9.539078156312625,
          9.579158316633267,
          9.619238476953907,
          9.659318637274549,
          9.69939879759519,
          9.739478957915832,
          9.779559118236472,
          9.819639278557114,
          9.859719438877756,
          9.899799599198396,
          9.939879759519037,
          9.97995991983968,
          10.02004008016032,
          10.06012024048096,
          10.100200400801603,
          10.140280561122244,
          10.180360721442886,
          10.220440881763526,
          10.260521042084168,
          10.30060120240481,
          10.34068136272545,
          10.380761523046091,
          10.420841683366733,
          10.460921843687375,
          10.501002004008015,
          10.541082164328657,
          10.581162324649299,
          10.62124248496994,
          10.66132264529058,
          10.701402805611222,
          10.741482965931864,
          10.781563126252504,
          10.821643286573146,
          10.861723446893787,
          10.901803607214429,
          10.941883767535069,
          10.98196392785571,
          11.022044088176353,
          11.062124248496994,
          11.102204408817634,
          11.142284569138276,
          11.182364729458918,
          11.222444889779558,
          11.2625250501002,
          11.302605210420841,
          11.342685370741483,
          11.382765531062123,
          11.422845691382765,
          11.462925851703407,
          11.503006012024048,
          11.543086172344688,
          11.58316633266533,
          11.623246492985972,
          11.663326653306612,
          11.703406813627254,
          11.743486973947896,
          11.783567134268537,
          11.823647294589177,
          11.863727454909819,
          11.90380761523046,
          11.943887775551103,
          11.983967935871743,
          12.024048096192384,
          12.064128256513026,
          12.104208416833666,
          12.144288577154308,
          12.18436873747495,
          12.224448897795591,
          12.264529058116231,
          12.304609218436873,
          12.344689378757515,
          12.384769539078157,
          12.424849699398797,
          12.464929859719438,
          12.50501002004008,
          12.54509018036072,
          12.585170340681362,
          12.625250501002004,
          12.665330661322646,
          12.705410821643286,
          12.745490981963927,
          12.785571142284569,
          12.825651302605209,
          12.86573146292585,
          12.905811623246493,
          12.945891783567134,
          12.985971943887774,
          13.026052104208416,
          13.066132264529058,
          13.1062124248497,
          13.14629258517034,
          13.186372745490981,
          13.226452905811623,
          13.266533066132263,
          13.306613226452905,
          13.346693386773547,
          13.386773547094188,
          13.426853707414828,
          13.46693386773547,
          13.507014028056112,
          13.547094188376754,
          13.587174348697394,
          13.627254509018035,
          13.667334669338677,
          13.707414829659317,
          13.747494989979959,
          13.7875751503006,
          13.827655310621243,
          13.867735470941883,
          13.907815631262524,
          13.947895791583166,
          13.987975951903808,
          14.028056112224448,
          14.06813627254509,
          14.108216432865731,
          14.148296593186371,
          14.188376753507013,
          14.228456913827655,
          14.268537074148297,
          14.308617234468937,
          14.348697394789578,
          14.38877755511022,
          14.428857715430862,
          14.468937875751502,
          14.509018036072144,
          14.549098196392785,
          14.589178356713425,
          14.629258517034067,
          14.669338677354709,
          14.70941883767535,
          14.74949899799599,
          14.789579158316633,
          14.829659318637274,
          14.869739478957916,
          14.909819639278556,
          14.949899799599198,
          14.98997995991984,
          15.03006012024048,
          15.070140280561121,
          15.110220440881763,
          15.150300601202405,
          15.190380761523045,
          15.230460921843687,
          15.270541082164328,
          15.31062124248497,
          15.35070140280561,
          15.390781563126252,
          15.430861723446894,
          15.470941883767534,
          15.511022044088175,
          15.551102204408817,
          15.591182364729459,
          15.631262525050099,
          15.67134268537074,
          15.711422845691382,
          15.751503006012024,
          15.791583166332664,
          15.831663326653306,
          15.871743486973948,
          15.911823647294588,
          15.95190380761523,
          15.991983967935871,
          16.03206412825651,
          16.072144288577153,
          16.112224448897795,
          16.152304609218437,
          16.19238476953908,
          16.23246492985972,
          16.27254509018036,
          16.312625250501,
          16.352705410821642,
          16.392785571142284,
          16.432865731462925,
          16.472945891783567,
          16.51302605210421,
          16.55310621242485,
          16.59318637274549,
          16.63326653306613,
          16.673346693386772,
          16.713426853707414,
          16.753507014028056,
          16.793587174348698,
          16.83366733466934,
          16.873747494989978,
          16.91382765531062,
          16.95390781563126,
          16.993987975951903,
          17.034068136272545,
          17.074148296593187,
          17.11422845691383,
          17.154308617234467,
          17.19438877755511,
          17.23446893787575,
          17.274549098196392,
          17.314629258517034,
          17.354709418837675,
          17.394789579158317,
          17.43486973947896,
          17.474949899799597,
          17.51503006012024,
          17.55511022044088,
          17.595190380761522,
          17.635270541082164,
          17.675350701402806,
          17.715430861723448,
          17.755511022044086,
          17.795591182364728,
          17.83567134268537,
          17.87575150300601,
          17.915831663326653,
          17.955911823647295,
          17.995991983967937,
          18.036072144288575,
          18.076152304609217,
          18.11623246492986,
          18.1563126252505,
          18.196392785571142,
          18.236472945891784,
          18.276553106212425,
          18.316633266533067,
          18.356713426853705,
          18.396793587174347,
          18.43687374749499,
          18.47695390781563,
          18.517034068136272,
          18.557114228456914,
          18.597194388777556,
          18.637274549098194,
          18.677354709418836,
          18.717434869739478,
          18.75751503006012,
          18.79759519038076,
          18.837675350701403,
          18.877755511022045,
          18.917835671342683,
          18.957915831663325,
          18.997995991983966,
          19.03807615230461,
          19.07815631262525,
          19.118236472945892,
          19.158316633266534,
          19.198396793587175,
          19.238476953907814,
          19.278557114228455,
          19.318637274549097,
          19.35871743486974,
          19.39879759519038,
          19.438877755511022,
          19.478957915831664,
          19.519038076152302,
          19.559118236472944,
          19.599198396793586,
          19.639278557114228,
          19.67935871743487,
          19.71943887775551,
          19.759519038076153,
          19.79959919839679,
          19.839679358717433,
          19.879759519038075,
          19.919839679358716,
          19.95991983967936,
          20
         ],
         "xaxis": "x",
         "y": [
          0.05636533013448147,
          0.0579859019283711,
          0.059630248883816066,
          0.06129792106368437,
          0.06298843951355267,
          0.06470129652838104,
          0.06643595599585186,
          0.06819185381790685,
          0.06996839841162666,
          0.07176497129016944,
          0.07358092772402532,
          0.07541559748235507,
          0.07726828565365994,
          0.07913827354449306,
          0.08102481965435383,
          0.08292716072433153,
          0.08484451285647215,
          0.0867760727002434,
          0.08872101870187306,
          0.09067851241173773,
          0.0926476998443937,
          0.09462771288526586,
          0.09661767073746026,
          0.0986166814016418,
          0.10062384318142246,
          0.10263824620625828,
          0.10465897396343797,
          0.10668510483039323,
          0.10871571359825538,
          0.11074987297734033,
          0.11278665507507121,
          0.11482513283673632,
          0.11686438143945194,
          0.11890347962973631,
          0.12094151099523266,
          0.12297756516131304,
          0.12501073890359024,
          0.1270401371677265,
          0.12906487398838684,
          0.1310840732997146,
          0.1330968696303236,
          0.13510240867649168,
          0.1370998477480104,
          0.13908835608198028,
          0.14106711502074346,
          0.1430353180511123,
          0.144992170703066,
          0.14693689030715132,
          0.14886870561093252,
          0.15078685625596303,
          0.15269059211791522,
          0.15457917251367925,
          0.15645186528040986,
          0.1583079457326865,
          0.16014669550509988,
          0.1619674012887162,
          0.16376935347097454,
          0.16555184468961942,
          0.16731416831228912,
          0.1690556168542985,
          0.17077548034805018,
          0.17247304467826488,
          0.1741475898979486,
          0.17579838854059338,
          0.17742470394462198,
          0.17902578860646357,
          0.1806008825789319,
          0.1821492119317182,
          0.18366998729085393,
          0.1851624024738876,
          0.1866256332373089,
          0.18805883615238733,
          0.18946114762511598,
          0.1908316830753377,
          0.19216953628939698,
          0.19347377895980022,
          0.19474346042438756,
          0.19597760761644364,
          0.19717522523595893,
          0.19833529615097945,
          0.19945678203658265,
          0.20053862425755745,
          0.20157974499932446,
          0.20257904865002527,
          0.20353542343506184,
          0.20444774330367146,
          0.2053148700653915,
          0.2061356557725472,
          0.2069089453431329,
          0.20763357941673938,
          0.20830839743446275,
          0.20893224093204957,
          0.20950395703391284,
          0.21002240213406653,
          0.2104864457485428,
          0.21089497452242487,
          0.21124689637331123,
          0.21154114475180116,
          0.21177668299849078,
          0.2119525087759752,
          0.2120676585535028,
          0.21212121212121213,
          0.21211229711030088,
          0.21204009349506,
          0.21190383805242602,
          0.2117028287545923,
          0.21143642907026328,
          0.21110407215032712,
          0.21070526487408628,
          0.21023959173269383,
          0.20970671852711295,
          0.2091063958587275,
          0.20843846239169422,
          0.20770284786722093,
          0.2068995758511871,
          0.2060287661978683,
          0.20509063721399148,
          0.2040855075089172,
          0.20301379751840112,
          0.20187603069113033,
          0.20067283432903782,
          0.19940494007427323,
          0.19807318403760568,
          0.19667850656499036,
          0.19522195164098102,
          0.19370466592963395,
          0.1921278974555047,
          0.19049299392926317,
          0.18880140072435345,
          0.18705465851295275,
          0.18525440057128298,
          0.18340234976602005,
          0.18150031523517549,
          0.17955018877834178,
          0.17755394097262653,
          0.17551361703188392,
          0.1734313324280469,
          0.17130926829441234,
          0.169149666631632,
          0.16695482533795236,
          0.16472709308585662,
          0.16246886406774727,
          0.1601825726336373,
          0.15787068784398847,
          0.1555357079608721,
          0.15318015490050008,
          0.15080656866991662,
          0.14841750181023206,
          0.14601551386824038,
          0.1436031659175958,
          0.14118301514993,
          0.13875760955538577,
          0.13632948271103534,
          0.13390114869454298,
          0.1314750971392391,
          0.1290537884455111,
          0.12663964916208087,
          0.12423506754936124,
          0.12184238933565927,
          0.11946391367554812,
          0.1171018893182561,
          0.11475851099246155,
          0.1124359160124119,
          0.1101361811088456,
          0.10786131948678766,
          0.1056132781109107,
          0.10339393521784768,
          0.1012050980535714,
          0.09904850083278639,
          0.09692580291615574,
          0.09483858720018024,
          0.09278835871360784,
          0.09077654341343075,
          0.08880448717279754,
          0.08687345495255157,
          0.08498463014759797,
          0.08313911409890005,
          0.08133792576162598,
          0.07958200151978476,
          0.07787219513763122,
          0.0762092778381553,
          0.07459393849912103,
          0.07302678395736034,
          0.07150833941236867,
          0.07003904892066974,
          0.06861927597292727,
          0.06724930414635531,
          0.065929337825626,
          0.06465950298616943,
          0.06343984803450589,
          0.06227034470103337,
          0.06115088898150218,
          0.06008130212423054,
          0.05906133166095236,
          0.05809065248000962,
          0.05716886794142207,
          0.056295511034152285,
          0.055470045576644346,
          0.05469186746242687,
          0.05396030595323542,
          0.05327462502271201,
          0.052634024754276774,
          0.05203764279723087,
          0.05148455588553084,
          0.050973781423973935,
          0.05050427914674562,
          0.050074952853391745,
          0.04968465222730506,
          0.049332174741737504,
          0.0490162676581795,
          0.04873563012167895,
          0.048488915357312624,
          0.04827473297156519,
          0.04809165136183218,
          0.04793820023663373,
          0.047812873248424495,
          0.04771413074010539,
          0.04764040260550363,
          0.04759009126318569,
          0.04756157474202328,
          0.04755320987594092,
          0.04756333560425802,
          0.04759027637299806,
          0.04763234563148901,
          0.04768784941752923,
          0.04775509002335349,
          0.04783236973361702,
          0.04791799462562662,
          0.0480102784211027,
          0.048107546377860674,
          0.04820813920896654,
          0.04831041701615465,
          0.0484127632236084,
          0.04851358849760449,
          0.048611334637006814,
          0.04870447841918938,
          0.04879153538565435,
          0.0488710635514156,
          0.04894166702212595,
          0.04900199950295189,
          0.04905076768333985,
          0.049086734482072285,
          0.0491087221373819,
          0.049115615127374675,
          0.04910636290660651,
          0.04907998244535529,
          0.04903556055893481,
          0.04897225601529261,
          0.04888930141012146,
          0.048786004799787897,
          0.04866175108352355,
          0.048516003127540404,
          0.048348302624999624,
          0.04815827068708297,
          0.04794560816177252,
          0.04771009567832779,
          0.04745159341685455,
          0.0471700406037677,
          0.046865454735358664,
          0.046537930533072216,
          0.046187638635468486,
          0.045814824033182475,
          0.04541980425449007,
          0.04500296731033312,
          0.04456476940883806,
          0.04410573245048111,
          0.04362644131609097,
          0.04312754096084052,
          0.042609733328250785,
          0.042073774099006755,
          0.041520469290070694,
          0.04095067172015817,
          0.04036527735812219,
          0.039765221571167464,
          0.03915147529008618,
          0.03852504110887371,
          0.037886949336142624,
          0.037238254015714504,
          0.03658002893362593,
          0.035913363628550896,
          0.035239359422306694,
          0.0345591254866945,
          0.03387377496242111,
          0.03318442114526654,
          0.03249217375400964,
          0.031798135293902574,
          0.031103397528707194,
          0.03040903807347294,
          0.029716117119359144,
          0.029025674300888527,
          0.028338725715071327,
          0.027656261100866546,
          0.026979241186460428,
          0.026308595210841054,
          0.02564521862514666,
          0.024989970978265427,
          0.024343673990174376,
          0.02370710981553019,
          0.02308101949906908,
          0.022466101623446002,
          0.021863011149242863,
          0.021272358446014373,
          0.02069470851241257,
          0.0201305803826499,
          0.019580446715821098,
          0.01904473356391376,
          0.018523820313694313,
          0.018018039797065646,
          0.017527678563952605,
          0.01705297731128305,
          0.016594131461198473,
          0.016151291881243916,
          0.015724565738957544,
          0.015314017482998144,
          0.014919669942719871,
          0.01454150553792101,
          0.014179467590357271,
          0.013833461728519915,
          0.01350335737713059,
          0.01318898932279638,
          0.012890159347298886,
          0.012606637920056611,
          0.012338165941398808,
          0.012084456528417916,
          0.011845196835325242,
          0.011620049900416879,
          0.011408656511963553,
          0.011210637085563439,
          0.011025593545742705,
          0.010853111204848739,
          0.01069276063255642,
          0.01054409950959362,
          0.010406674459589624,
          0.01028002285325459,
          0.010163674579409757,
          0.010057153777705016,
          0.009959980528180217,
          0.009871672493150328,
          0.009791746507217815,
          0.009719720111540979,
          0.009655113028810917,
          0.00959744857571241,
          0.009546255009965551,
          0.009501066809362814,
          0.009461425880532268,
          0.009426882695469216,
          0.009396997354186852,
          0.009371340572140596,
          0.009349494591379879,
          0.00933105401467637,
          0.009315626562166352,
          0.009302833750330175,
          0.009292311493409481,
          0.009283710627636119,
          0.009276697358912558,
          0.009270953634844228,
          0.009266177442276072,
          0.009262083031731988,
          0.009258401070393068,
          0.009254878725479903,
          0.009251279680124989,
          0.00924738408403228,
          0.009242988441422047,
          0.009237905438949928,
          0.009231963716468217,
          0.009225007583664931,
          0.00921689668577065,
          0.00920750562166497,
          0.009196723517841524,
          0.009184453561803276,
          0.009170612498557286,
          0.009155130093959681,
          0.009137948568726002,
          0.00911902200697041,
          0.009098315743166862,
          0.009075805731437986,
          0.009051477901071043,
          0.009025327502135456,
          0.008997358445033203,
          0.00896758263775116,
          0.008936019324503362,
          0.008902694429351501,
          0.008867639908274947,
          0.008830893113025658,
          0.008792496169949971,
          0.00875249537679139,
          0.008710940620302272,
          0.008667884817292415,
          0.008623383381529534,
          0.008577493718679873,
          0.008530274751239342,
          0.00848178647515869,
          0.008432089549609811,
          0.008381244921077769,
          0.00832931348269485,
          0.008276355769462606,
          0.008222431689733096,
          0.008167600293049769,
          0.008111919574176394,
          0.008055446312875475,
          0.007998235948737845,
          0.00794034249010998,
          0.007881818455923147,
          0.007822714848994309,
          0.007763081159150086,
          0.0077029653943183965,
          0.007642414137544583,
          0.007581472627715114,
          0.007520184861620377,
          0.007458593714853946,
          0.007396741078933566,
          0.007334668011938375,
          0.007272414899889133,
          0.007210021626052313,
          0.007147527745327813,
          0.00708497266088067,
          0.007022395800203285,
          0.006959836787841419,
          0.00689733561208944,
          0.006834932783052568,
          0.006772669479588794,
          0.006710587682778125,
          0.006648730293721085,
          0.006587141233641326,
          0.006525865524455262,
          0.006464949348177617,
          0.006404440083747599,
          0.006344386320091128,
          0.0062848378444727675,
          0.006225845605438057,
          0.006167461649899549,
          0.0061097390341755,
          0.006052731709048482,
          0.005996494379167546,
          0.005941082337372237,
          0.005886551274766053,
          0.005832957067609512,
          0.005780355542336654,
          0.005728802220221737,
          0.00567835204343286,
          0.005629059084405397,
          0.005580976240647848,
          0.005534154917254919,
          0.005488644699546861,
          0.005444493018377144,
          0.005401744810753823,
          0.005360442178500744,
          0.005320624047743234,
          0.005282325832038883,
          0.005245579101986106,
          0.005210411264132936,
          0.005176845251974126,
          0.005144899231768108,
          0.005114586325826166,
          0.005085914355825035,
          0.005058885608572571,
          0.005033496626514094,
          0.005009738025106503,
          0.004987594339009267,
          0.00496704389884711,
          0.004948058740090816,
          0.004930604545380818,
          0.004914640621385996,
          0.0049001199110482434,
          0.004886989041814237,
          0.004875188410201575,
          0.004864652302788563,
          0.004855309053457895,
          0.004847081236465976,
          0.004839885894653911,
          0.004833634801865054,
          0.004828234758389397,
          0.004823587918019038,
          0.004819592145072907,
          0.004816141399535055,
          0.004813126148250111,
          0.004810433799934119,
          0.004807949161589592,
          0.004805554913762008,
          0.0048031321019418255,
          0.0048005606413025126,
          0.004797719831871814,
          0.004794488881161007,
          0.00479074743122575,
          0.00478637608710257,
          0.004781256943557047,
          0.004775274107093346,
          0.004768314210209683,
          0.004760266914940054,
          0.004751025402798704,
          0.004740486848339455,
          0.004728552873656499,
          0.004715129981285296,
          0.004700129963110971,
          0.004683470283055614,
          0.0046650744314938,
          0.0046448722495362384,
          0.004622800221522783,
          0.004598801734276956,
          0.004572827301892671
         ],
         "yaxis": "y"
        },
        {
         "line": {
          "color": "red",
          "dash": "dash"
         },
         "mode": "lines",
         "name": "Not Selected (KDE)",
         "type": "scatter",
         "x": [
          0,
          0.04008016032064128,
          0.08016032064128256,
          0.12024048096192384,
          0.16032064128256512,
          0.2004008016032064,
          0.24048096192384769,
          0.280561122244489,
          0.32064128256513025,
          0.3607214428857715,
          0.4008016032064128,
          0.4408817635270541,
          0.48096192384769537,
          0.5210420841683366,
          0.561122244488978,
          0.6012024048096192,
          0.6412825651302605,
          0.6813627254509018,
          0.721442885771543,
          0.7615230460921844,
          0.8016032064128256,
          0.8416833667334669,
          0.8817635270541082,
          0.9218436873747494,
          0.9619238476953907,
          1.002004008016032,
          1.0420841683366733,
          1.0821643286573146,
          1.122244488977956,
          1.1623246492985972,
          1.2024048096192383,
          1.2424849699398797,
          1.282565130260521,
          1.3226452905811623,
          1.3627254509018036,
          1.4028056112224447,
          1.442885771543086,
          1.4829659318637274,
          1.5230460921843687,
          1.56312625250501,
          1.6032064128256511,
          1.6432865731462925,
          1.6833667334669338,
          1.723446893787575,
          1.7635270541082164,
          1.8036072144288577,
          1.8436873747494988,
          1.8837675350701402,
          1.9238476953907815,
          1.9639278557114228,
          2.004008016032064,
          2.0440881763527052,
          2.0841683366733466,
          2.124248496993988,
          2.164328657314629,
          2.2044088176352705,
          2.244488977955912,
          2.284569138276553,
          2.3246492985971945,
          2.3647294589178354,
          2.4048096192384767,
          2.444889779559118,
          2.4849699398797593,
          2.5250501002004007,
          2.565130260521042,
          2.6052104208416833,
          2.6452905811623246,
          2.685370741482966,
          2.7254509018036073,
          2.7655310621242486,
          2.8056112224448895,
          2.845691382765531,
          2.885771543086172,
          2.9258517034068134,
          2.9659318637274548,
          3.006012024048096,
          3.0460921843687374,
          3.0861723446893787,
          3.12625250501002,
          3.1663326653306614,
          3.2064128256513023,
          3.2464929859719436,
          3.286573146292585,
          3.3266533066132262,
          3.3667334669338675,
          3.406813627254509,
          3.44689378757515,
          3.4869739478957915,
          3.527054108216433,
          3.567134268537074,
          3.6072144288577155,
          3.6472945891783564,
          3.6873747494989977,
          3.727454909819639,
          3.7675350701402803,
          3.8076152304609217,
          3.847695390781563,
          3.8877755511022043,
          3.9278557114228456,
          3.967935871743487,
          4.008016032064128,
          4.04809619238477,
          4.0881763527054105,
          4.128256513026052,
          4.168336673346693,
          4.208416833667335,
          4.248496993987976,
          4.288577154308617,
          4.328657314629258,
          4.368737474949899,
          4.408817635270541,
          4.448897795591182,
          4.488977955911824,
          4.529058116232465,
          4.569138276553106,
          4.609218436873747,
          4.649298597194389,
          4.68937875751503,
          4.729458917835671,
          4.7695390781563125,
          4.809619238476953,
          4.849699398797595,
          4.889779559118236,
          4.929859719438878,
          4.969939879759519,
          5.01002004008016,
          5.050100200400801,
          5.090180360721443,
          5.130260521042084,
          5.170340681362725,
          5.210420841683367,
          5.2505010020040075,
          5.290581162324649,
          5.33066132264529,
          5.370741482965932,
          5.410821643286573,
          5.4509018036072145,
          5.490981963927855,
          5.531062124248497,
          5.571142284569138,
          5.611222444889779,
          5.651302605210421,
          5.691382765531062,
          5.731462925851703,
          5.771543086172344,
          5.811623246492986,
          5.851703406813627,
          5.891783567134269,
          5.9318637274549095,
          5.971943887775551,
          6.012024048096192,
          6.052104208416833,
          6.092184368737475,
          6.132264529058116,
          6.1723446893787575,
          6.212424849699398,
          6.25250501002004,
          6.292585170340681,
          6.332665330661323,
          6.372745490981964,
          6.4128256513026045,
          6.452905811623246,
          6.492985971943887,
          6.533066132264529,
          6.57314629258517,
          6.613226452905812,
          6.6533066132264524,
          6.693386773547094,
          6.733466933867735,
          6.773547094188377,
          6.813627254509018,
          6.853707414829659,
          6.8937875751503,
          6.933867735470941,
          6.973947895791583,
          7.014028056112224,
          7.054108216432866,
          7.0941883767535066,
          7.134268537074148,
          7.174348697394789,
          7.214428857715431,
          7.254509018036072,
          7.294589178356713,
          7.3346693386773545,
          7.374749498997995,
          7.414829659318637,
          7.454909819639278,
          7.49498997995992,
          7.535070140280561,
          7.575150300601202,
          7.615230460921843,
          7.655310621242485,
          7.695390781563126,
          7.735470941883767,
          7.775551102204409,
          7.8156312625250495,
          7.855711422845691,
          7.895791583166332,
          7.935871743486974,
          7.975951903807615,
          8.016032064128256,
          8.056112224448897,
          8.09619238476954,
          8.13627254509018,
          8.176352705410821,
          8.216432865731463,
          8.256513026052104,
          8.296593186372744,
          8.336673346693386,
          8.376753507014028,
          8.41683366733467,
          8.45691382765531,
          8.496993987975952,
          8.537074148296593,
          8.577154308617233,
          8.617234468937875,
          8.657314629258517,
          8.697394789579159,
          8.737474949899799,
          8.77755511022044,
          8.817635270541082,
          8.857715430861724,
          8.897795591182364,
          8.937875751503006,
          8.977955911823647,
          9.018036072144287,
          9.05811623246493,
          9.098196392785571,
          9.138276553106213,
          9.178356713426853,
          9.218436873747494,
          9.258517034068136,
          9.298597194388778,
          9.338677354709418,
          9.37875751503006,
          9.418837675350701,
          9.458917835671341,
          9.498997995991983,
          9.539078156312625,
          9.579158316633267,
          9.619238476953907,
          9.659318637274549,
          9.69939879759519,
          9.739478957915832,
          9.779559118236472,
          9.819639278557114,
          9.859719438877756,
          9.899799599198396,
          9.939879759519037,
          9.97995991983968,
          10.02004008016032,
          10.06012024048096,
          10.100200400801603,
          10.140280561122244,
          10.180360721442886,
          10.220440881763526,
          10.260521042084168,
          10.30060120240481,
          10.34068136272545,
          10.380761523046091,
          10.420841683366733,
          10.460921843687375,
          10.501002004008015,
          10.541082164328657,
          10.581162324649299,
          10.62124248496994,
          10.66132264529058,
          10.701402805611222,
          10.741482965931864,
          10.781563126252504,
          10.821643286573146,
          10.861723446893787,
          10.901803607214429,
          10.941883767535069,
          10.98196392785571,
          11.022044088176353,
          11.062124248496994,
          11.102204408817634,
          11.142284569138276,
          11.182364729458918,
          11.222444889779558,
          11.2625250501002,
          11.302605210420841,
          11.342685370741483,
          11.382765531062123,
          11.422845691382765,
          11.462925851703407,
          11.503006012024048,
          11.543086172344688,
          11.58316633266533,
          11.623246492985972,
          11.663326653306612,
          11.703406813627254,
          11.743486973947896,
          11.783567134268537,
          11.823647294589177,
          11.863727454909819,
          11.90380761523046,
          11.943887775551103,
          11.983967935871743,
          12.024048096192384,
          12.064128256513026,
          12.104208416833666,
          12.144288577154308,
          12.18436873747495,
          12.224448897795591,
          12.264529058116231,
          12.304609218436873,
          12.344689378757515,
          12.384769539078157,
          12.424849699398797,
          12.464929859719438,
          12.50501002004008,
          12.54509018036072,
          12.585170340681362,
          12.625250501002004,
          12.665330661322646,
          12.705410821643286,
          12.745490981963927,
          12.785571142284569,
          12.825651302605209,
          12.86573146292585,
          12.905811623246493,
          12.945891783567134,
          12.985971943887774,
          13.026052104208416,
          13.066132264529058,
          13.1062124248497,
          13.14629258517034,
          13.186372745490981,
          13.226452905811623,
          13.266533066132263,
          13.306613226452905,
          13.346693386773547,
          13.386773547094188,
          13.426853707414828,
          13.46693386773547,
          13.507014028056112,
          13.547094188376754,
          13.587174348697394,
          13.627254509018035,
          13.667334669338677,
          13.707414829659317,
          13.747494989979959,
          13.7875751503006,
          13.827655310621243,
          13.867735470941883,
          13.907815631262524,
          13.947895791583166,
          13.987975951903808,
          14.028056112224448,
          14.06813627254509,
          14.108216432865731,
          14.148296593186371,
          14.188376753507013,
          14.228456913827655,
          14.268537074148297,
          14.308617234468937,
          14.348697394789578,
          14.38877755511022,
          14.428857715430862,
          14.468937875751502,
          14.509018036072144,
          14.549098196392785,
          14.589178356713425,
          14.629258517034067,
          14.669338677354709,
          14.70941883767535,
          14.74949899799599,
          14.789579158316633,
          14.829659318637274,
          14.869739478957916,
          14.909819639278556,
          14.949899799599198,
          14.98997995991984,
          15.03006012024048,
          15.070140280561121,
          15.110220440881763,
          15.150300601202405,
          15.190380761523045,
          15.230460921843687,
          15.270541082164328,
          15.31062124248497,
          15.35070140280561,
          15.390781563126252,
          15.430861723446894,
          15.470941883767534,
          15.511022044088175,
          15.551102204408817,
          15.591182364729459,
          15.631262525050099,
          15.67134268537074,
          15.711422845691382,
          15.751503006012024,
          15.791583166332664,
          15.831663326653306,
          15.871743486973948,
          15.911823647294588,
          15.95190380761523,
          15.991983967935871,
          16.03206412825651,
          16.072144288577153,
          16.112224448897795,
          16.152304609218437,
          16.19238476953908,
          16.23246492985972,
          16.27254509018036,
          16.312625250501,
          16.352705410821642,
          16.392785571142284,
          16.432865731462925,
          16.472945891783567,
          16.51302605210421,
          16.55310621242485,
          16.59318637274549,
          16.63326653306613,
          16.673346693386772,
          16.713426853707414,
          16.753507014028056,
          16.793587174348698,
          16.83366733466934,
          16.873747494989978,
          16.91382765531062,
          16.95390781563126,
          16.993987975951903,
          17.034068136272545,
          17.074148296593187,
          17.11422845691383,
          17.154308617234467,
          17.19438877755511,
          17.23446893787575,
          17.274549098196392,
          17.314629258517034,
          17.354709418837675,
          17.394789579158317,
          17.43486973947896,
          17.474949899799597,
          17.51503006012024,
          17.55511022044088,
          17.595190380761522,
          17.635270541082164,
          17.675350701402806,
          17.715430861723448,
          17.755511022044086,
          17.795591182364728,
          17.83567134268537,
          17.87575150300601,
          17.915831663326653,
          17.955911823647295,
          17.995991983967937,
          18.036072144288575,
          18.076152304609217,
          18.11623246492986,
          18.1563126252505,
          18.196392785571142,
          18.236472945891784,
          18.276553106212425,
          18.316633266533067,
          18.356713426853705,
          18.396793587174347,
          18.43687374749499,
          18.47695390781563,
          18.517034068136272,
          18.557114228456914,
          18.597194388777556,
          18.637274549098194,
          18.677354709418836,
          18.717434869739478,
          18.75751503006012,
          18.79759519038076,
          18.837675350701403,
          18.877755511022045,
          18.917835671342683,
          18.957915831663325,
          18.997995991983966,
          19.03807615230461,
          19.07815631262525,
          19.118236472945892,
          19.158316633266534,
          19.198396793587175,
          19.238476953907814,
          19.278557114228455,
          19.318637274549097,
          19.35871743486974,
          19.39879759519038,
          19.438877755511022,
          19.478957915831664,
          19.519038076152302,
          19.559118236472944,
          19.599198396793586,
          19.639278557114228,
          19.67935871743487,
          19.71943887775551,
          19.759519038076153,
          19.79959919839679,
          19.839679358717433,
          19.879759519038075,
          19.919839679358716,
          19.95991983967936,
          20
         ],
         "xaxis": "x",
         "y": [
          0.07991698741807836,
          0.08197969708061242,
          0.08405419458092898,
          0.08613979744306473,
          0.08823585557065633,
          0.09034175052425533,
          0.09245689433406636,
          0.09458072785578332,
          0.09671271868150486,
          0.0988523586219126,
          0.10099916078000451,
          0.10315265624060518,
          0.1053123904036358,
          0.10747791899263091,
          0.10964880377326486,
          0.1118246080196131,
          0.1140048917685456,
          0.11618920690495498,
          0.11837709212251725,
          0.1205680678062375,
          0.12276163088428436,
          0.12495724969739197,
          0.12715435893453833,
          0.12935235468360465,
          0.13155058964532376,
          0.13374836855801478,
          0.13594494387940773,
          0.13813951177027556,
          0.1403312084226293,
          0.14251910677290927,
          0.14470221363795702,
          0.14687946730854942,
          0.14904973563200144,
          0.15121181461178923,
          0.15336442754830792,
          0.15550622474085948,
          0.1576357837667326,
          0.15975161034881125,
          0.16185213981866187,
          0.1639357391773525,
          0.16600070975162953,
          0.16804529043827574,
          0.17006766152479091,
          0.1720659490698168,
          0.17403822982212308,
          0.17598253665245797,
          0.17789686446820197,
          0.17977917657660022,
          0.1816274114583616,
          0.18343948990973705,
          0.18521332250773245,
          0.1869468173500361,
          0.18863788801846787,
          0.19028446171238506,
          0.19188448749650316,
          0.1934359446060478,
          0.19493685075105047,
          0.19638527036096623,
          0.19777932271066678,
          0.1991171898691457,
          0.20039712441319144,
          0.20161745684953264,
          0.20277660269086653,
          0.20387306913346082,
          0.2049054612868291,
          0.20587248790924773,
          0.2067729666065591,
          0.20760582845584327,
          0.20837012201998023,
          0.20906501672399616,
          0.2096898055691925,
          0.21024390716643213,
          0.2107268670755778,
          0.21113835844378773,
          0.21147818194126702,
          0.21174626499891433,
          0.21194266035823792,
          0.2120675439496841,
          0.21212121212121213,
          0.21210407824443864,
          0.21201666873090938,
          0.21185961849599777,
          0.2116336659124913,
          0.2113396473001352,
          0.21097849100108865,
          0.21055121109451574,
          0.21005890080621414,
          0.20950272567135012,
          0.20888391650993574,
          0.20820376227564846,
          0.20746360283897455,
          0.20666482176540274,
          0.2058088391485495,
          0.20489710455665058,
          0.20393109014883098,
          0.20291228401500064,
          0.20184218379009958,
          0.2007222905898791,
          0.19955410331133258,
          0.19833911333652357,
          0.1970787996737638,
          0.19577462456507666,
          0.1944280295835881,
          0.19304043223908818,
          0.19161322310442683,
          0.19014776346986303,
          0.1886453835269168,
          0.18710738107780814,
          0.1855350207612383,
          0.18392953378015459,
          0.18229211811226556,
          0.18062393917952216,
          0.17892613094856652,
          0.17719979743035283,
          0.1754460145437288,
          0.173665832304888,
          0.1718602773021132,
          0.17003035541331266,
          0.16817705472240846,
          0.16630134858970982,
          0.16440419883099816,
          0.1624865589601496,
          0.1605493774506839,
          0.15859360097271816,
          0.1566201775632657,
          0.15463005968977636,
          0.15262420716909228,
          0.15060358990664816,
          0.14856919042372568,
          0.14652200614375238,
          0.14446305141212917,
          0.1423933592276492,
          0.14031398266735395,
          0.13822599599048202,
          0.13613049541105215,
          0.13402859953249258,
          0.13192144944153528,
          0.12981020846233882,
          0.12769606157539212,
          0.12558021450921658,
          0.12346389251609984,
          0.1213483388461517,
          0.11923481293673574,
          0.11712458833683531,
          0.1150189503881497,
          0.11291919368663225,
          0.11082661934979499,
          0.10874253211640815,
          0.10666823730620723,
          0.10460503766787593,
          0.10255423014393689,
          0.10051710258122594,
          0.09849493041538233,
          0.09648897335726299,
          0.09450047210839352,
          0.09253064513153576,
          0.09058068550118374,
          0.08865175785731214,
          0.08674499548405824,
          0.08486149753317794,
          0.08300232641015629,
          0.08116850533876753,
          0.07936101611771655,
          0.07758079708073869,
          0.07582874126925905,
          0.07410569482440423,
          0.07241245560285926,
          0.0707497720187786,
          0.06911834211173955,
          0.06751881283854905,
          0.06595177958465052,
          0.06441778588889091,
          0.06291732337356323,
          0.061450831869926024,
          0.06001869972782435,
          0.05862126429665306,
          0.057258812563665155,
          0.05593158193458921,
          0.054639761140674224,
          0.053383491255626345,
          0.0521628668054575,
          0.05097793695402052,
          0.04982870674697703,
          0.04871513839710751,
          0.04763715259425454,
          0.046594629823757,
          0.045587411677996494,
          0.0446153021466278,
          0.04367806887217854,
          0.04277544435898436,
          0.04190712712485215,
          0.041072782786396735,
          0.04027204507066494,
          0.03950451674742631,
          0.03876977047834039,
          0.03806734958110558,
          0.037396768708604824,
          0.03675751444499733,
          0.03614904582260362,
          0.03557079476530327,
          0.03502216646595914,
          0.034502539707093695,
          0.034011267135634356,
          0.03354767550400397,
          0.033111065891127035,
          0.03270071391804245,
          0.03231586997373262,
          0.03195575946747584,
          0.03161958312451135,
          0.031306517342026684,
          0.03101571462246001,
          0.030746304100830457,
          0.030497392182264108,
          0.030268063305082665,
          0.030057380843759817,
          0.029864388164739034,
          0.029688109846551305,
          0.029527553073897383,
          0.029381709213366667,
          0.029249555576291317,
          0.029130057371895987,
          0.029022169851419453,
          0.02892484064130539,
          0.028837012260890485,
          0.02875762481731222,
          0.028685618867644678,
          0.028619938435576905,
          0.028559534167327448,
          0.028503366608957192,
          0.028450409584858928,
          0.028399653654975106,
          0.028350109626287114,
          0.028300812092336612,
          0.028250822973028968,
          0.028199235025746183,
          0.028145175297891012,
          0.028087808490410385,
          0.028026340201625703,
          0.027960020020830444,
          0.027888144441621496,
          0.027810059565800984,
          0.027725163569916854,
          0.02763290890810554,
          0.027532804226830077,
          0.027424415969366258,
          0.027307369650447232,
          0.02718135078431691,
          0.02704610545251514,
          0.026901440501012862,
          0.026747223359774773,
          0.026583381481418707,
          0.026409901399326554,
          0.026226827409287466,
          0.02603425988247934,
          0.025832353221282908,
          0.025621313473006006,
          0.02540139562005795,
          0.025172900568388067,
          0.024936171859062627,
          0.02469159213065798,
          0.024439579362654312,
          0.024180582932207005,
          0.02391507951850403,
          0.023643568890388225,
          0.023366569613991982,
          0.023084614717808746,
          0.022798247352880562,
          0.02250801648563412,
          0.022214472660332073,
          0.02191816386714643,
          0.02161963155050732,
          0.02131940679066413,
          0.021018006689325092,
          0.020715930987860787,
          0.020413658943878577,
          0.020111646489051675,
          0.019810323687940664,
          0.019510092514224985,
          0.019211324957308158,
          0.018914361468709947,
          0.018619509754063377,
          0.01832704391292955,
          0.01803720392507604,
          0.017750195478375936,
          0.01746619013011265,
          0.017185325790258468,
          0.016907707512270182,
          0.01663340857413847,
          0.01636247182987637,
          0.016094911309350236,
          0.01583071404237569,
          0.01556984208132667,
          0.015312234695160368,
          0.01505781070674378,
          0.014806470944686605,
          0.014558100780539969,
          0.014312572722202483,
          0.014069749034678716,
          0.013829484359945908,
          0.013591628308586998,
          0.013356027997022313,
          0.013122530505597384,
          0.012890985234433472,
          0.012661246135797832,
          0.01243317380377148,
          0.012206637404154702,
          0.011981516429826635,
          0.0117577022691333,
          0.011535099577287933,
          0.011313627443201565,
          0.011093220346588611,
          0.010873828902587075,
          0.010655420393468033,
          0.01043797908926178,
          0.01022150636127468,
          0.010006020594493627,
          0.00979155690675373,
          0.009578166684267864,
          0.009365916944667473,
          0.009154889540077368,
          0.008945180213930856,
          0.008736897526224741,
          0.008530161662712393,
          0.00832510314413664,
          0.008121861452017078,
          0.007920583587730552,
          0.0077214225816676935,
          0.007524535969118168,
          0.007330084249244613,
          0.007138229343059048,
          0.006949133065729427,
          0.0067629556278291855,
          0.006579854179315018,
          0.0063999814090890126,
          0.006223484211987403,
          0.006050502433952867,
          0.005881167705004658,
          0.005715602368436059,
          0.005553918513454469,
          0.005396217117249516,
          0.005242587301241553,
          0.005093105705038958,
          0.00494783598042748,
          0.004806828406541332,
          0.0046701196262300005,
          0.004537732502547866,
          0.004409676093261742,
          0.004285945740300777,
          0.0041665232701705995,
          0.004051377300521789,
          0.003940463647307552,
          0.0038337258262879453,
          0.0037310956420411193,
          0.0036324938571268167,
          0.0035378309336142324,
          0.003447007838835072,
          0.0033599169069523996,
          0.0032764427477457087,
          0.003196463193899552,
          0.003119850278046178,
          0.0030464712308473705,
          0.002976189491505567,
          0.0029088657222642415,
          0.0028443588186899864,
          0.002782526907818425,
          0.002723228326589827,
          0.002666322573392717,
          0.0026116712259706665,
          0.0025591388194242093,
          0.002508593678551164,
          0.0024599086993101565,
          0.002412962074758589,
          0.0023676379614030623,
          0.002323827082502041,
          0.002281427265473189,
          0.002240343911175554,
          0.00220049039345605,
          0.0021617883879650637,
          0.0021241681298533976,
          0.0020875686005579833,
          0.002051937644462468,
          0.0020172320167772444,
          0.0019834173645177995,
          0.001950468142967168,
          0.0019183674704843614,
          0.0018871069249630154,
          0.0018566862856503879,
          0.0018271132244038451,
          0.0017984029507879693,
          0.0017705778156984005,
          0.0017436668784372152,
          0.0017177054423574546,
          0.0016927345643407742,
          0.0016688005434710579,
          0.0016459543943184037,
          0.0016242513102515854,
          0.001603750122153696,
          0.0015845127578255035,
          0.0015666037072250448,
          0.0015500894985114397,
          0.001535038189637111,
          0.0015215188799674153,
          0.0015096012461022301,
          0.0014993551057321732,
          0.0014908500129860343,
          0.0014841548883177845,
          0.0014793376855446827,
          0.001476465098185602,
          0.0014756023067641908,
          0.0014768127682386633,
          0.0014801580482026557,
          0.0014856976959739799,
          0.0014934891621541518,
          0.0015035877577063087,
          0.0015160466530663704,
          0.0015309169152775831,
          0.001548247580626042,
          0.0015680857597598226,
          0.0015904767718017223,
          0.0016154643035202708,
          0.0016430905892108134,
          0.0016733966065628244,
          0.0017064222834561572,
          0.0017422067103422152,
          0.0017807883526308953,
          0.0018222052573242593,
          0.001866495248017901,
          0.0019136961023338494,
          0.001963845705858163,
          0.002016982176734506,
          0.0020731439552142353,
          0.0021323698526853193,
          0.0021946990549975114,
          0.0022601710752696365,
          0.0023288256518062397,
          0.002400702587263375,
          0.002475841525784369,
          0.0025542816654737788,
          0.002636061404285502,
          0.0027212179181660694,
          0.0028097866711088017,
          0.0029018008576327916,
          0.002997290779094704,
          0.0030962831561622286,
          0.003198800380716941,
          0.0033048597114001812,
          0.003414472417959721,
          0.0035276428804837585,
          0.0036443676505129984,
          0.0037646344818880605,
          0.0038884213400069588,
          0.004015695398924132,
          0.004146412036406179,
          0.004280513837660242,
          0.004417929618956301,
          0.004558573482766156,
          0.004702343916329029,
          0.0048491229457197456,
          0.004998775357531554,
          0.0051511480001882335,
          0.005306069176662833,
          0.005463348140002489,
          0.005622774702537641,
          0.0057841189689913815,
          0.005947131202902414,
          0.006111541834838472,
          0.006277061619810932,
          0.006443381950114693,
          0.006610175328520293,
          0.006777096005347522,
          0.006943780781466686,
          0.00710984997771811,
          0.007274908569629208,
          0.007438547484658429,
          0.00760034505752391,
          0.0077598686375021314,
          0.00791667633992544,
          0.008070318932488375,
          0.00822034184540957,
          0.008366287293008775,
          0.008507696492865473,
          0.008644111967444782,
          0.008775079911924945,
          0.00890015261095444,
          0.009018890886219233,
          0.009130866556025047,
          0.009235664887605981,
          0.00933288702256726,
          0.00942215235576382,
          0.009503100848009562,
          0.009575395253308657,
          0.009638723241795844,
          0.009692799400267,
          0.00973736709306542,
          0.009772200167157338,
          0.00979710448646932,
          0.009811919281959134,
          0.00981651830543486,
          0.009810810776807294,
          0.009794742116240929
         ],
         "yaxis": "y"
        },
        {
         "marker": {
          "color": "blue"
         },
         "name": "I am too busy (Bar)",
         "type": "bar",
         "x": [
          0,
          1,
          2,
          3,
          4,
          5,
          6,
          7,
          8,
          9,
          10,
          12,
          18,
          20
         ],
         "xaxis": "x2",
         "y": [
          0.014285714285714285,
          0.05714285714285714,
          0.14285714285714285,
          0.17142857142857143,
          0.14285714285714285,
          0.17142857142857143,
          0.08571428571428572,
          0.04285714285714286,
          0.02857142857142857,
          0.014285714285714285,
          0.07142857142857142,
          0.02857142857142857,
          0.014285714285714285,
          0.014285714285714285
         ],
         "yaxis": "y2"
        },
        {
         "marker": {
          "color": "red"
         },
         "name": "Not Selected (Bar)",
         "type": "bar",
         "x": [
          0,
          1,
          2,
          3,
          4,
          5,
          6,
          7,
          8,
          9,
          10,
          11,
          13,
          15,
          16,
          18,
          20
         ],
         "xaxis": "x2",
         "y": [
          0.08801955990220049,
          0.10757946210268948,
          0.15892420537897312,
          0.1687041564792176,
          0.10757946210268948,
          0.1198044009779951,
          0.09290953545232274,
          0.03667481662591687,
          0.03178484107579462,
          0.017114914425427872,
          0.03667481662591687,
          0.009779951100244499,
          0.0024449877750611247,
          0.009779951100244499,
          0.0024449877750611247,
          0.0024449877750611247,
          0.007334963325183374
         ],
         "yaxis": "y2"
        },
        {
         "line": {
          "color": "blue",
          "dash": "dash"
         },
         "mode": "lines",
         "name": "I am too busy (KDE)",
         "type": "scatter",
         "x": [
          0,
          0.04008016032064128,
          0.08016032064128256,
          0.12024048096192384,
          0.16032064128256512,
          0.2004008016032064,
          0.24048096192384769,
          0.280561122244489,
          0.32064128256513025,
          0.3607214428857715,
          0.4008016032064128,
          0.4408817635270541,
          0.48096192384769537,
          0.5210420841683366,
          0.561122244488978,
          0.6012024048096192,
          0.6412825651302605,
          0.6813627254509018,
          0.721442885771543,
          0.7615230460921844,
          0.8016032064128256,
          0.8416833667334669,
          0.8817635270541082,
          0.9218436873747494,
          0.9619238476953907,
          1.002004008016032,
          1.0420841683366733,
          1.0821643286573146,
          1.122244488977956,
          1.1623246492985972,
          1.2024048096192383,
          1.2424849699398797,
          1.282565130260521,
          1.3226452905811623,
          1.3627254509018036,
          1.4028056112224447,
          1.442885771543086,
          1.4829659318637274,
          1.5230460921843687,
          1.56312625250501,
          1.6032064128256511,
          1.6432865731462925,
          1.6833667334669338,
          1.723446893787575,
          1.7635270541082164,
          1.8036072144288577,
          1.8436873747494988,
          1.8837675350701402,
          1.9238476953907815,
          1.9639278557114228,
          2.004008016032064,
          2.0440881763527052,
          2.0841683366733466,
          2.124248496993988,
          2.164328657314629,
          2.2044088176352705,
          2.244488977955912,
          2.284569138276553,
          2.3246492985971945,
          2.3647294589178354,
          2.4048096192384767,
          2.444889779559118,
          2.4849699398797593,
          2.5250501002004007,
          2.565130260521042,
          2.6052104208416833,
          2.6452905811623246,
          2.685370741482966,
          2.7254509018036073,
          2.7655310621242486,
          2.8056112224448895,
          2.845691382765531,
          2.885771543086172,
          2.9258517034068134,
          2.9659318637274548,
          3.006012024048096,
          3.0460921843687374,
          3.0861723446893787,
          3.12625250501002,
          3.1663326653306614,
          3.2064128256513023,
          3.2464929859719436,
          3.286573146292585,
          3.3266533066132262,
          3.3667334669338675,
          3.406813627254509,
          3.44689378757515,
          3.4869739478957915,
          3.527054108216433,
          3.567134268537074,
          3.6072144288577155,
          3.6472945891783564,
          3.6873747494989977,
          3.727454909819639,
          3.7675350701402803,
          3.8076152304609217,
          3.847695390781563,
          3.8877755511022043,
          3.9278557114228456,
          3.967935871743487,
          4.008016032064128,
          4.04809619238477,
          4.0881763527054105,
          4.128256513026052,
          4.168336673346693,
          4.208416833667335,
          4.248496993987976,
          4.288577154308617,
          4.328657314629258,
          4.368737474949899,
          4.408817635270541,
          4.448897795591182,
          4.488977955911824,
          4.529058116232465,
          4.569138276553106,
          4.609218436873747,
          4.649298597194389,
          4.68937875751503,
          4.729458917835671,
          4.7695390781563125,
          4.809619238476953,
          4.849699398797595,
          4.889779559118236,
          4.929859719438878,
          4.969939879759519,
          5.01002004008016,
          5.050100200400801,
          5.090180360721443,
          5.130260521042084,
          5.170340681362725,
          5.210420841683367,
          5.2505010020040075,
          5.290581162324649,
          5.33066132264529,
          5.370741482965932,
          5.410821643286573,
          5.4509018036072145,
          5.490981963927855,
          5.531062124248497,
          5.571142284569138,
          5.611222444889779,
          5.651302605210421,
          5.691382765531062,
          5.731462925851703,
          5.771543086172344,
          5.811623246492986,
          5.851703406813627,
          5.891783567134269,
          5.9318637274549095,
          5.971943887775551,
          6.012024048096192,
          6.052104208416833,
          6.092184368737475,
          6.132264529058116,
          6.1723446893787575,
          6.212424849699398,
          6.25250501002004,
          6.292585170340681,
          6.332665330661323,
          6.372745490981964,
          6.4128256513026045,
          6.452905811623246,
          6.492985971943887,
          6.533066132264529,
          6.57314629258517,
          6.613226452905812,
          6.6533066132264524,
          6.693386773547094,
          6.733466933867735,
          6.773547094188377,
          6.813627254509018,
          6.853707414829659,
          6.8937875751503,
          6.933867735470941,
          6.973947895791583,
          7.014028056112224,
          7.054108216432866,
          7.0941883767535066,
          7.134268537074148,
          7.174348697394789,
          7.214428857715431,
          7.254509018036072,
          7.294589178356713,
          7.3346693386773545,
          7.374749498997995,
          7.414829659318637,
          7.454909819639278,
          7.49498997995992,
          7.535070140280561,
          7.575150300601202,
          7.615230460921843,
          7.655310621242485,
          7.695390781563126,
          7.735470941883767,
          7.775551102204409,
          7.8156312625250495,
          7.855711422845691,
          7.895791583166332,
          7.935871743486974,
          7.975951903807615,
          8.016032064128256,
          8.056112224448897,
          8.09619238476954,
          8.13627254509018,
          8.176352705410821,
          8.216432865731463,
          8.256513026052104,
          8.296593186372744,
          8.336673346693386,
          8.376753507014028,
          8.41683366733467,
          8.45691382765531,
          8.496993987975952,
          8.537074148296593,
          8.577154308617233,
          8.617234468937875,
          8.657314629258517,
          8.697394789579159,
          8.737474949899799,
          8.77755511022044,
          8.817635270541082,
          8.857715430861724,
          8.897795591182364,
          8.937875751503006,
          8.977955911823647,
          9.018036072144287,
          9.05811623246493,
          9.098196392785571,
          9.138276553106213,
          9.178356713426853,
          9.218436873747494,
          9.258517034068136,
          9.298597194388778,
          9.338677354709418,
          9.37875751503006,
          9.418837675350701,
          9.458917835671341,
          9.498997995991983,
          9.539078156312625,
          9.579158316633267,
          9.619238476953907,
          9.659318637274549,
          9.69939879759519,
          9.739478957915832,
          9.779559118236472,
          9.819639278557114,
          9.859719438877756,
          9.899799599198396,
          9.939879759519037,
          9.97995991983968,
          10.02004008016032,
          10.06012024048096,
          10.100200400801603,
          10.140280561122244,
          10.180360721442886,
          10.220440881763526,
          10.260521042084168,
          10.30060120240481,
          10.34068136272545,
          10.380761523046091,
          10.420841683366733,
          10.460921843687375,
          10.501002004008015,
          10.541082164328657,
          10.581162324649299,
          10.62124248496994,
          10.66132264529058,
          10.701402805611222,
          10.741482965931864,
          10.781563126252504,
          10.821643286573146,
          10.861723446893787,
          10.901803607214429,
          10.941883767535069,
          10.98196392785571,
          11.022044088176353,
          11.062124248496994,
          11.102204408817634,
          11.142284569138276,
          11.182364729458918,
          11.222444889779558,
          11.2625250501002,
          11.302605210420841,
          11.342685370741483,
          11.382765531062123,
          11.422845691382765,
          11.462925851703407,
          11.503006012024048,
          11.543086172344688,
          11.58316633266533,
          11.623246492985972,
          11.663326653306612,
          11.703406813627254,
          11.743486973947896,
          11.783567134268537,
          11.823647294589177,
          11.863727454909819,
          11.90380761523046,
          11.943887775551103,
          11.983967935871743,
          12.024048096192384,
          12.064128256513026,
          12.104208416833666,
          12.144288577154308,
          12.18436873747495,
          12.224448897795591,
          12.264529058116231,
          12.304609218436873,
          12.344689378757515,
          12.384769539078157,
          12.424849699398797,
          12.464929859719438,
          12.50501002004008,
          12.54509018036072,
          12.585170340681362,
          12.625250501002004,
          12.665330661322646,
          12.705410821643286,
          12.745490981963927,
          12.785571142284569,
          12.825651302605209,
          12.86573146292585,
          12.905811623246493,
          12.945891783567134,
          12.985971943887774,
          13.026052104208416,
          13.066132264529058,
          13.1062124248497,
          13.14629258517034,
          13.186372745490981,
          13.226452905811623,
          13.266533066132263,
          13.306613226452905,
          13.346693386773547,
          13.386773547094188,
          13.426853707414828,
          13.46693386773547,
          13.507014028056112,
          13.547094188376754,
          13.587174348697394,
          13.627254509018035,
          13.667334669338677,
          13.707414829659317,
          13.747494989979959,
          13.7875751503006,
          13.827655310621243,
          13.867735470941883,
          13.907815631262524,
          13.947895791583166,
          13.987975951903808,
          14.028056112224448,
          14.06813627254509,
          14.108216432865731,
          14.148296593186371,
          14.188376753507013,
          14.228456913827655,
          14.268537074148297,
          14.308617234468937,
          14.348697394789578,
          14.38877755511022,
          14.428857715430862,
          14.468937875751502,
          14.509018036072144,
          14.549098196392785,
          14.589178356713425,
          14.629258517034067,
          14.669338677354709,
          14.70941883767535,
          14.74949899799599,
          14.789579158316633,
          14.829659318637274,
          14.869739478957916,
          14.909819639278556,
          14.949899799599198,
          14.98997995991984,
          15.03006012024048,
          15.070140280561121,
          15.110220440881763,
          15.150300601202405,
          15.190380761523045,
          15.230460921843687,
          15.270541082164328,
          15.31062124248497,
          15.35070140280561,
          15.390781563126252,
          15.430861723446894,
          15.470941883767534,
          15.511022044088175,
          15.551102204408817,
          15.591182364729459,
          15.631262525050099,
          15.67134268537074,
          15.711422845691382,
          15.751503006012024,
          15.791583166332664,
          15.831663326653306,
          15.871743486973948,
          15.911823647294588,
          15.95190380761523,
          15.991983967935871,
          16.03206412825651,
          16.072144288577153,
          16.112224448897795,
          16.152304609218437,
          16.19238476953908,
          16.23246492985972,
          16.27254509018036,
          16.312625250501,
          16.352705410821642,
          16.392785571142284,
          16.432865731462925,
          16.472945891783567,
          16.51302605210421,
          16.55310621242485,
          16.59318637274549,
          16.63326653306613,
          16.673346693386772,
          16.713426853707414,
          16.753507014028056,
          16.793587174348698,
          16.83366733466934,
          16.873747494989978,
          16.91382765531062,
          16.95390781563126,
          16.993987975951903,
          17.034068136272545,
          17.074148296593187,
          17.11422845691383,
          17.154308617234467,
          17.19438877755511,
          17.23446893787575,
          17.274549098196392,
          17.314629258517034,
          17.354709418837675,
          17.394789579158317,
          17.43486973947896,
          17.474949899799597,
          17.51503006012024,
          17.55511022044088,
          17.595190380761522,
          17.635270541082164,
          17.675350701402806,
          17.715430861723448,
          17.755511022044086,
          17.795591182364728,
          17.83567134268537,
          17.87575150300601,
          17.915831663326653,
          17.955911823647295,
          17.995991983967937,
          18.036072144288575,
          18.076152304609217,
          18.11623246492986,
          18.1563126252505,
          18.196392785571142,
          18.236472945891784,
          18.276553106212425,
          18.316633266533067,
          18.356713426853705,
          18.396793587174347,
          18.43687374749499,
          18.47695390781563,
          18.517034068136272,
          18.557114228456914,
          18.597194388777556,
          18.637274549098194,
          18.677354709418836,
          18.717434869739478,
          18.75751503006012,
          18.79759519038076,
          18.837675350701403,
          18.877755511022045,
          18.917835671342683,
          18.957915831663325,
          18.997995991983966,
          19.03807615230461,
          19.07815631262525,
          19.118236472945892,
          19.158316633266534,
          19.198396793587175,
          19.238476953907814,
          19.278557114228455,
          19.318637274549097,
          19.35871743486974,
          19.39879759519038,
          19.438877755511022,
          19.478957915831664,
          19.519038076152302,
          19.559118236472944,
          19.599198396793586,
          19.639278557114228,
          19.67935871743487,
          19.71943887775551,
          19.759519038076153,
          19.79959919839679,
          19.839679358717433,
          19.879759519038075,
          19.919839679358716,
          19.95991983967936,
          20
         ],
         "xaxis": "x2",
         "y": [
          0.04918147927366635,
          0.05064817714570684,
          0.05213795885505236,
          0.053650372271447117,
          0.05518493109604538,
          0.05674111492880923,
          0.058318369407954575,
          0.05991610642250239,
          0.06153370439876704,
          0.06317050866138052,
          0.06482583186920737,
          0.06649895452625533,
          0.06818912556743105,
          0.06989556301872475,
          0.07161745473114363,
          0.07335395918743935,
          0.0751042063804078,
          0.07686729876125845,
          0.07864231225628505,
          0.08042829734979189,
          0.08222428023096742,
          0.084029264002128,
          0.08584222994550382,
          0.08766213884548375,
          0.08948793236300011,
          0.09131853445850094,
          0.09315285285974208,
          0.0949897805704249,
          0.09682819741551564,
          0.09866697161890912,
          0.10050496140894236,
          0.10234101664712356,
          0.10417398047532413,
          0.1060026909765833,
          0.10782598284459392,
          0.10964268905688807,
          0.1114516425467016,
          0.1132516778684947,
          0.11504163285211391,
          0.11682035024062405,
          0.11858667930689745,
          0.12033947744413853,
          0.12207761172563081,
          0.12379996042912844,
          0.12550541452147312,
          0.12719287909920007,
          0.12886127478109666,
          0.13050953904890497,
          0.13213662753260344,
          0.13374151523696498,
          0.1353231977063733,
          0.13688069212517473,
          0.1384130383511553,
          0.13991929988006097,
          0.1413985647394116,
          0.1428499463102097,
          0.14427258407549465,
          0.14566564429505519,
          0.14702832060597198,
          0.1483598345490297,
          0.14965943602139498,
          0.15092640365631796,
          0.15216004513097126,
          0.15335969740387956,
          0.15452472688373473,
          0.1556545295317105,
          0.15674853089970572,
          0.15780618610723088,
          0.15882697975993743,
          0.1598104258130385,
          0.1607560673831053,
          0.1616634765119363,
          0.16253225388638445,
          0.1633620285181808,
          0.16415245738793868,
          0.1649032250576201,
          0.16561404325582463,
          0.1662846504403178,
          0.16691481134222427,
          0.16750431649630676,
          0.16805298176171576,
          0.1685606478375165,
          0.1690271797772091,
          0.16945246650633045,
          0.1698364203470714,
          0.1701789765536657,
          0.1704800928620991,
          0.17073974905746375,
          0.17095794656202937,
          0.17113470804683298,
          0.171270077069304,
          0.1713641177391291,
          0.17141691441425305,
          0.17142857142857143,
          0.171399212852535,
          0.1713289822875409,
          0.17121804269462826,
          0.17106657625764785,
          0.17087478428071665,
          0.17064288711942432,
          0.17037112414490505,
          0.1700597537395612,
          0.1697090533228899,
          0.16931931940555542,
          0.16889086766954797,
          0.16842403307198997,
          0.16791916996988582,
          0.16737665226286674,
          0.16679687355077044,
          0.16618024730268738,
          0.1655272070339459,
          0.16483820648735686,
          0.1641137198149241,
          0.1633542417561378,
          0.16256028780890747,
          0.16173239438915846,
          0.16087111897511502,
          0.159977040232316,
          0.15905075811546737,
          0.15809289394331524,
          0.15710409044283147,
          0.15608501175914416,
          0.15503634342779915,
          0.15395879230613033,
          0.15285308646071313,
          0.15171997500811377,
          0.15056022790638246,
          0.1493746356950086,
          0.14816400918132888,
          0.14692917907167144,
          0.14567099554582266,
          0.14439032777370775,
          0.14308806337349758,
          0.14176510781067064,
          0.1404223837378853,
          0.1390608302758342,
          0.13768140223557554,
          0.13628506928315132,
          0.13487281504760737,
          0.1334456361738346,
          0.1320045413219342,
          0.13055055011509298,
          0.129084692038216,
          0.1276080052898096,
          0.12612153558984524,
          0.12462633494654672,
          0.12312346038523758,
          0.12161397264256683,
          0.1200989348295849,
          0.11857941106727699,
          0.11705646509828307,
          0.11553115887862152,
          0.11400455115331093,
          0.11247769601984049,
          0.11095164148346699,
          0.10942742800833843,
          0.10790608706842736,
          0.10638863970224796,
          0.10487609507527348,
          0.10336944905392882,
          0.1018696827949462,
          0.1003777613537948,
          0.09889463231578767,
          0.09742122445336139,
          0.09595844641290027,
          0.09450718543434158,
          0.09306830610666462,
          0.09164264916221355,
          0.09023103031265667,
          0.0888342391292264,
          0.08745303796972734,
          0.08608816095463735,
          0.0847403129944662,
          0.08341016887037801,
          0.08209837236991853,
          0.08080553547953667,
          0.0795322376354304,
          0.0782790250340998,
          0.07704641000383684,
          0.07583487043824466,
          0.07464484929273309,
          0.0734767541448109,
          0.07233095681885815,
          0.07120779307594033,
          0.07010756236910888,
          0.0690305276645105,
          0.06797691532852067,
          0.066946915081006,
          0.0659406800147179,
          0.06495832668071148,
          0.06399993523959344,
          0.06306554967829274,
          0.06215517809196101,
          0.0612687930305029,
          0.06040633190914791,
          0.05956769748236923,
          0.05875275838036241,
          0.05796134970719031,
          0.05719327369959872,
          0.05644830044540231,
          0.05572616866022769,
          0.05502658652129013,
          0.05434923255676186,
          0.053693756589172074,
          0.0530597807311525,
          0.052446900431716896,
          0.05185468557113247,
          0.05128268160230509,
          0.05073041073646877,
          0.05019737317082755,
          0.049683048355661404,
          0.04918689629826646,
          0.04870835890096226,
          0.048246861330257185,
          0.04780181341413078,
          0.047372611064255485,
          0.04695863771985426,
          0.04655926580976571,
          0.046173858229173324,
          0.045801769827347134,
          0.045442348902646236,
          0.04509493870094355,
          0.04475887891355604,
          0.04443350717070073,
          0.04411816052644672,
          0.043812176931098346,
          0.043514896686925535,
          0.04322566388315752,
          0.042943827806168844,
          0.042668744320824445,
          0.042399777219001386,
          0.04213629953137883,
          0.0418776947986808,
          0.04162335829866676,
          0.04137269822529912,
          0.04112513681666773,
          0.040880111428421025,
          0.04063707554964536,
          0.04039549975833946,
          0.040154872613856564,
          0.03991470148392789,
          0.039674513304135205,
          0.039433855267972134,
          0.03919229544591296,
          0.03894942333220101,
          0.03870485031837065,
          0.03845821009282301,
          0.03820915896609159,
          0.03795737612174956,
          0.037702563793228644,
          0.037444447367138645,
          0.03718277541398989,
          0.03691731964753267,
          0.03664787481422976,
          0.03637425851467427,
          0.0360963109590476,
          0.03581389465898427,
          0.035526894058467706,
          0.03523521510662041,
          0.034938784775476565,
          0.03463755052602806,
          0.034331479726019264,
          0.03402055902312645,
          0.03370479367729927,
          0.03338420685615575,
          0.03305883889741543,
          0.032728746542423214,
          0.032394002144857804,
          0.03205469285874024,
          0.03171091980984786,
          0.03136279725461133,
          0.031010451730518054,
          0.030654021201966225,
          0.030293654205416687,
          0.02992950899756761,
          0.02956175271013805,
          0.029190560514685743,
          0.028816114800710346,
          0.028438604370099794,
          0.02805822365077316,
          0.027675171932154914,
          0.027289652624887636,
          0.026901872546954135,
          0.02651204123813659,
          0.026120370304492376,
          0.025727072794277328,
          0.025332362606495247,
          0.02493645393300282,
          0.024539560734852955,
          0.024141896253316933,
          0.0237436725557911,
          0.023345100116565355,
          0.0229463874322133,
          0.022547740671157578,
          0.022149363356767697,
          0.02175145608316755,
          0.02135421626276129,
          0.020957837904335665,
          0.02056251142045838,
          0.02016842346277398,
          0.019775756783693903,
          0.019384690122891318,
          0.018995398116941377,
          0.01860805123039467,
          0.018222815706535563,
          0.01783985353605688,
          0.01745932244187756,
          0.01708137587834129,
          0.016706163043059337,
          0.016333828899697873,
          0.01596451421006342,
          0.015598355573900586,
          0.015235485474891187,
          0.014876032331424878,
          0.01452012055080303,
          0.014167870585634889,
          0.013819398991287656,
          0.013474818483360945,
          0.013134237994265807,
          0.012797762728102428,
          0.01246549421314327,
          0.01213753035134264,
          0.011813965464405034,
          0.011494890336054045,
          0.011180392250249615,
          0.01087055502520284,
          0.010565459043133742,
          0.010265181275807994,
          0.009969795305971826,
          0.009679371344881265,
          0.009393976246190806,
          0.009113673516526841,
          0.008838523323124596,
          0.008568582498950853,
          0.008303904545770551,
          0.00804453963564235,
          0.007790534611346725,
          0.007541932986260841,
          0.007298774944196092,
          0.00706109733970957,
          0.00682893369938764,
          0.006602314224580478,
          0.00638126579604073,
          0.006165811980887899,
          0.005955973042283758,
          0.005751765952162526,
          0.005553204407315262,
          0.005360298849079511,
          0.005173056486834935,
          0.004991481325453551,
          0.004815574196799823,
          0.004645332795322213,
          0.004480751717724818,
          0.004321822506654762,
          0.004168533698290699,
          0.004020870873668671,
          0.0038788167135357767,
          0.0037423510564788976,
          0.00361145096003661,
          0.003486090764466995,
          0.003366242158812922,
          0.0032518742488801882,
          0.0031429536267222106,
          0.0030394444412084882,
          0.002941308469242731,
          0.0028485051871902783,
          0.002760991842073722,
          0.0026787235220995355,
          0.002601653226088133,
          0.0025297319313937433,
          0.002462908659919593,
          0.0024011305418569833,
          0.002344342876804767,
          0.0022924891919567348,
          0.0022455112970796373,
          0.0022033493360422733,
          0.002165941834696888,
          0.002133225744956955,
          0.002105136484960056,
          0.0020816079752505553,
          0.0020625726709635416,
          0.002047961590038752,
          0.0020377043375399756,
          0.002031729126202097,
          0.0020299627933730415,
          0.0020323308145617767,
          0.002038757313845311,
          0.002049165071427061,
          0.0020634755286756206,
          0.0020816087910064955,
          0.002103483628999462,
          0.002129017478170458,
          0.00215812643783927,
          0.0021907252695523133,
          0.002226727395533393,
          0.0022660448976445312,
          0.0023085885173431734,
          0.002354267657121989,
          0.0024029903839123752,
          0.0024546634349230535,
          0.00250919222637091,
          0.0025664808655424137,
          0.0026264321666007524,
          0.0026889476705267133,
          0.0027539276695499556,
          0.002821271236392844,
          0.0028908762586106257,
          0.002962639478270893,
          0.003036456537171457,
          0.003112222027749965,
          0.003189829549790834,
          0.0032691717729859374,
          0.0033501405053555726,
          0.003432626767485605,
          0.0035165208724861406,
          0.0036017125115270898,
          0.0036880908447564486,
          0.0037755445973595377,
          0.003863962160471091,
          0.003953231696608136,
          0.004043241249250381,
          0.004133878856156316,
          0.004225032665968361,
          0.00431659105762882,
          0.004408442762101271,
          0.004500476985868696,
          0.004592583535660889,
          0.004684652943849799,
          0.004776576593941923,
          0.004868246845592603,
          0.004959557158567337,
          0.005050402215080942,
          0.0051406780399553065,
          0.005230282118051836,
          0.005319113508454377,
          0.005407072954902637,
          0.005494062992004711,
          0.005579988046789863,
          0.005664754535199038,
          0.005748270953150307,
          0.0058304479618590975,
          0.0059111984671386085,
          0.0059904376924531785,
          0.006068083245546894,
          0.006144055178520482,
          0.0062182760412807184,
          0.006290670928338889,
          0.006361167518986231,
          0.006429696110925525,
          0.006496189647487958,
          0.006560583738612867,
          0.006622816675814112,
          0.0066828294414009,
          0.006740565712261668,
          0.006795971858557313,
          0.006848996937704044,
          0.006899592684055926,
          0.006947713494723105,
          0.00699331641198254,
          0.007036361102754716,
          0.007076809835631123,
          0.007114627455943757,
          0.00714978135936946,
          0.007182241464557996,
          0.0072119801852641345,
          0.007238972402450355,
          0.007263195436808009,
          0.007284629022121898,
          0.00730325527987525,
          0.007319058695460625,
          0.007332026096326416,
          0.007342146632349645,
          0.007349411758683517,
          0.007353815221283298,
          0.007355353045266898,
          0.0073540235262178,
          0.00734982722448748,
          0.007342766962503833,
          0.007332847825040445,
          0.007320077162350816,
          0.0073044645960210495,
          0.007286022027345527,
          0.007264763647982674,
          0.00724070595260261,
          0.007213867753196031,
          0.007184270194674026,
          0.007151936771352594,
          0.007116893343883266,
          0.007079168156163301,
          0.0070387918517351876,
          0.0069957974891663,
          0.006950220555885426,
          0.006902098979943939,
          0.0068514731391654884,
          0.006798385867149371,
          0.006742882455599292,
          0.0066850106524611,
          0.006624820655369546,
          0.006562365099926259,
          0.006497699042357289
         ],
         "yaxis": "y2"
        },
        {
         "line": {
          "color": "red",
          "dash": "dash"
         },
         "mode": "lines",
         "name": "Not Selected (KDE)",
         "type": "scatter",
         "x": [
          0,
          0.04008016032064128,
          0.08016032064128256,
          0.12024048096192384,
          0.16032064128256512,
          0.2004008016032064,
          0.24048096192384769,
          0.280561122244489,
          0.32064128256513025,
          0.3607214428857715,
          0.4008016032064128,
          0.4408817635270541,
          0.48096192384769537,
          0.5210420841683366,
          0.561122244488978,
          0.6012024048096192,
          0.6412825651302605,
          0.6813627254509018,
          0.721442885771543,
          0.7615230460921844,
          0.8016032064128256,
          0.8416833667334669,
          0.8817635270541082,
          0.9218436873747494,
          0.9619238476953907,
          1.002004008016032,
          1.0420841683366733,
          1.0821643286573146,
          1.122244488977956,
          1.1623246492985972,
          1.2024048096192383,
          1.2424849699398797,
          1.282565130260521,
          1.3226452905811623,
          1.3627254509018036,
          1.4028056112224447,
          1.442885771543086,
          1.4829659318637274,
          1.5230460921843687,
          1.56312625250501,
          1.6032064128256511,
          1.6432865731462925,
          1.6833667334669338,
          1.723446893787575,
          1.7635270541082164,
          1.8036072144288577,
          1.8436873747494988,
          1.8837675350701402,
          1.9238476953907815,
          1.9639278557114228,
          2.004008016032064,
          2.0440881763527052,
          2.0841683366733466,
          2.124248496993988,
          2.164328657314629,
          2.2044088176352705,
          2.244488977955912,
          2.284569138276553,
          2.3246492985971945,
          2.3647294589178354,
          2.4048096192384767,
          2.444889779559118,
          2.4849699398797593,
          2.5250501002004007,
          2.565130260521042,
          2.6052104208416833,
          2.6452905811623246,
          2.685370741482966,
          2.7254509018036073,
          2.7655310621242486,
          2.8056112224448895,
          2.845691382765531,
          2.885771543086172,
          2.9258517034068134,
          2.9659318637274548,
          3.006012024048096,
          3.0460921843687374,
          3.0861723446893787,
          3.12625250501002,
          3.1663326653306614,
          3.2064128256513023,
          3.2464929859719436,
          3.286573146292585,
          3.3266533066132262,
          3.3667334669338675,
          3.406813627254509,
          3.44689378757515,
          3.4869739478957915,
          3.527054108216433,
          3.567134268537074,
          3.6072144288577155,
          3.6472945891783564,
          3.6873747494989977,
          3.727454909819639,
          3.7675350701402803,
          3.8076152304609217,
          3.847695390781563,
          3.8877755511022043,
          3.9278557114228456,
          3.967935871743487,
          4.008016032064128,
          4.04809619238477,
          4.0881763527054105,
          4.128256513026052,
          4.168336673346693,
          4.208416833667335,
          4.248496993987976,
          4.288577154308617,
          4.328657314629258,
          4.368737474949899,
          4.408817635270541,
          4.448897795591182,
          4.488977955911824,
          4.529058116232465,
          4.569138276553106,
          4.609218436873747,
          4.649298597194389,
          4.68937875751503,
          4.729458917835671,
          4.7695390781563125,
          4.809619238476953,
          4.849699398797595,
          4.889779559118236,
          4.929859719438878,
          4.969939879759519,
          5.01002004008016,
          5.050100200400801,
          5.090180360721443,
          5.130260521042084,
          5.170340681362725,
          5.210420841683367,
          5.2505010020040075,
          5.290581162324649,
          5.33066132264529,
          5.370741482965932,
          5.410821643286573,
          5.4509018036072145,
          5.490981963927855,
          5.531062124248497,
          5.571142284569138,
          5.611222444889779,
          5.651302605210421,
          5.691382765531062,
          5.731462925851703,
          5.771543086172344,
          5.811623246492986,
          5.851703406813627,
          5.891783567134269,
          5.9318637274549095,
          5.971943887775551,
          6.012024048096192,
          6.052104208416833,
          6.092184368737475,
          6.132264529058116,
          6.1723446893787575,
          6.212424849699398,
          6.25250501002004,
          6.292585170340681,
          6.332665330661323,
          6.372745490981964,
          6.4128256513026045,
          6.452905811623246,
          6.492985971943887,
          6.533066132264529,
          6.57314629258517,
          6.613226452905812,
          6.6533066132264524,
          6.693386773547094,
          6.733466933867735,
          6.773547094188377,
          6.813627254509018,
          6.853707414829659,
          6.8937875751503,
          6.933867735470941,
          6.973947895791583,
          7.014028056112224,
          7.054108216432866,
          7.0941883767535066,
          7.134268537074148,
          7.174348697394789,
          7.214428857715431,
          7.254509018036072,
          7.294589178356713,
          7.3346693386773545,
          7.374749498997995,
          7.414829659318637,
          7.454909819639278,
          7.49498997995992,
          7.535070140280561,
          7.575150300601202,
          7.615230460921843,
          7.655310621242485,
          7.695390781563126,
          7.735470941883767,
          7.775551102204409,
          7.8156312625250495,
          7.855711422845691,
          7.895791583166332,
          7.935871743486974,
          7.975951903807615,
          8.016032064128256,
          8.056112224448897,
          8.09619238476954,
          8.13627254509018,
          8.176352705410821,
          8.216432865731463,
          8.256513026052104,
          8.296593186372744,
          8.336673346693386,
          8.376753507014028,
          8.41683366733467,
          8.45691382765531,
          8.496993987975952,
          8.537074148296593,
          8.577154308617233,
          8.617234468937875,
          8.657314629258517,
          8.697394789579159,
          8.737474949899799,
          8.77755511022044,
          8.817635270541082,
          8.857715430861724,
          8.897795591182364,
          8.937875751503006,
          8.977955911823647,
          9.018036072144287,
          9.05811623246493,
          9.098196392785571,
          9.138276553106213,
          9.178356713426853,
          9.218436873747494,
          9.258517034068136,
          9.298597194388778,
          9.338677354709418,
          9.37875751503006,
          9.418837675350701,
          9.458917835671341,
          9.498997995991983,
          9.539078156312625,
          9.579158316633267,
          9.619238476953907,
          9.659318637274549,
          9.69939879759519,
          9.739478957915832,
          9.779559118236472,
          9.819639278557114,
          9.859719438877756,
          9.899799599198396,
          9.939879759519037,
          9.97995991983968,
          10.02004008016032,
          10.06012024048096,
          10.100200400801603,
          10.140280561122244,
          10.180360721442886,
          10.220440881763526,
          10.260521042084168,
          10.30060120240481,
          10.34068136272545,
          10.380761523046091,
          10.420841683366733,
          10.460921843687375,
          10.501002004008015,
          10.541082164328657,
          10.581162324649299,
          10.62124248496994,
          10.66132264529058,
          10.701402805611222,
          10.741482965931864,
          10.781563126252504,
          10.821643286573146,
          10.861723446893787,
          10.901803607214429,
          10.941883767535069,
          10.98196392785571,
          11.022044088176353,
          11.062124248496994,
          11.102204408817634,
          11.142284569138276,
          11.182364729458918,
          11.222444889779558,
          11.2625250501002,
          11.302605210420841,
          11.342685370741483,
          11.382765531062123,
          11.422845691382765,
          11.462925851703407,
          11.503006012024048,
          11.543086172344688,
          11.58316633266533,
          11.623246492985972,
          11.663326653306612,
          11.703406813627254,
          11.743486973947896,
          11.783567134268537,
          11.823647294589177,
          11.863727454909819,
          11.90380761523046,
          11.943887775551103,
          11.983967935871743,
          12.024048096192384,
          12.064128256513026,
          12.104208416833666,
          12.144288577154308,
          12.18436873747495,
          12.224448897795591,
          12.264529058116231,
          12.304609218436873,
          12.344689378757515,
          12.384769539078157,
          12.424849699398797,
          12.464929859719438,
          12.50501002004008,
          12.54509018036072,
          12.585170340681362,
          12.625250501002004,
          12.665330661322646,
          12.705410821643286,
          12.745490981963927,
          12.785571142284569,
          12.825651302605209,
          12.86573146292585,
          12.905811623246493,
          12.945891783567134,
          12.985971943887774,
          13.026052104208416,
          13.066132264529058,
          13.1062124248497,
          13.14629258517034,
          13.186372745490981,
          13.226452905811623,
          13.266533066132263,
          13.306613226452905,
          13.346693386773547,
          13.386773547094188,
          13.426853707414828,
          13.46693386773547,
          13.507014028056112,
          13.547094188376754,
          13.587174348697394,
          13.627254509018035,
          13.667334669338677,
          13.707414829659317,
          13.747494989979959,
          13.7875751503006,
          13.827655310621243,
          13.867735470941883,
          13.907815631262524,
          13.947895791583166,
          13.987975951903808,
          14.028056112224448,
          14.06813627254509,
          14.108216432865731,
          14.148296593186371,
          14.188376753507013,
          14.228456913827655,
          14.268537074148297,
          14.308617234468937,
          14.348697394789578,
          14.38877755511022,
          14.428857715430862,
          14.468937875751502,
          14.509018036072144,
          14.549098196392785,
          14.589178356713425,
          14.629258517034067,
          14.669338677354709,
          14.70941883767535,
          14.74949899799599,
          14.789579158316633,
          14.829659318637274,
          14.869739478957916,
          14.909819639278556,
          14.949899799599198,
          14.98997995991984,
          15.03006012024048,
          15.070140280561121,
          15.110220440881763,
          15.150300601202405,
          15.190380761523045,
          15.230460921843687,
          15.270541082164328,
          15.31062124248497,
          15.35070140280561,
          15.390781563126252,
          15.430861723446894,
          15.470941883767534,
          15.511022044088175,
          15.551102204408817,
          15.591182364729459,
          15.631262525050099,
          15.67134268537074,
          15.711422845691382,
          15.751503006012024,
          15.791583166332664,
          15.831663326653306,
          15.871743486973948,
          15.911823647294588,
          15.95190380761523,
          15.991983967935871,
          16.03206412825651,
          16.072144288577153,
          16.112224448897795,
          16.152304609218437,
          16.19238476953908,
          16.23246492985972,
          16.27254509018036,
          16.312625250501,
          16.352705410821642,
          16.392785571142284,
          16.432865731462925,
          16.472945891783567,
          16.51302605210421,
          16.55310621242485,
          16.59318637274549,
          16.63326653306613,
          16.673346693386772,
          16.713426853707414,
          16.753507014028056,
          16.793587174348698,
          16.83366733466934,
          16.873747494989978,
          16.91382765531062,
          16.95390781563126,
          16.993987975951903,
          17.034068136272545,
          17.074148296593187,
          17.11422845691383,
          17.154308617234467,
          17.19438877755511,
          17.23446893787575,
          17.274549098196392,
          17.314629258517034,
          17.354709418837675,
          17.394789579158317,
          17.43486973947896,
          17.474949899799597,
          17.51503006012024,
          17.55511022044088,
          17.595190380761522,
          17.635270541082164,
          17.675350701402806,
          17.715430861723448,
          17.755511022044086,
          17.795591182364728,
          17.83567134268537,
          17.87575150300601,
          17.915831663326653,
          17.955911823647295,
          17.995991983967937,
          18.036072144288575,
          18.076152304609217,
          18.11623246492986,
          18.1563126252505,
          18.196392785571142,
          18.236472945891784,
          18.276553106212425,
          18.316633266533067,
          18.356713426853705,
          18.396793587174347,
          18.43687374749499,
          18.47695390781563,
          18.517034068136272,
          18.557114228456914,
          18.597194388777556,
          18.637274549098194,
          18.677354709418836,
          18.717434869739478,
          18.75751503006012,
          18.79759519038076,
          18.837675350701403,
          18.877755511022045,
          18.917835671342683,
          18.957915831663325,
          18.997995991983966,
          19.03807615230461,
          19.07815631262525,
          19.118236472945892,
          19.158316633266534,
          19.198396793587175,
          19.238476953907814,
          19.278557114228455,
          19.318637274549097,
          19.35871743486974,
          19.39879759519038,
          19.438877755511022,
          19.478957915831664,
          19.519038076152302,
          19.559118236472944,
          19.599198396793586,
          19.639278557114228,
          19.67935871743487,
          19.71943887775551,
          19.759519038076153,
          19.79959919839679,
          19.839679358717433,
          19.879759519038075,
          19.919839679358716,
          19.95991983967936,
          20
         ],
         "xaxis": "x2",
         "y": [
          0.08199210394080518,
          0.08411859963951246,
          0.08623695503459068,
          0.08834577883980536,
          0.09044379653731231,
          0.09252984969281083,
          0.09460289395195717,
          0.09666199576410424,
          0.09870632789442481,
          0.10073516379945323,
          0.10274787095391423,
          0.10474390322818312,
          0.10672279242573277,
          0.10868413909836187,
          0.11062760276376199,
          0.11255289165503836,
          0.11445975213510302,
          0.11634795791043032,
          0.11821729917849219,
          0.1200675718413871,
          0.1218985669147527,
          0.12371006025614037,
          0.12550180273075967,
          0.12727351092494718,
          0.12902485850910952,
          0.13075546834228569,
          0.13246490540015132,
          0.13415267059730282,
          0.1358181955632813,
          0.13746083842008489,
          0.1390798805972027,
          0.14067452470841094,
          0.1422438935030765,
          0.14378702989351871,
          0.1453028980492279,
          0.14679038553854007,
          0.14824830648888807,
          0.14967540572788776,
          0.15107036385953485,
          0.15243180322254943,
          0.15375829467157828,
          0.15504836511637554,
          0.15630050574946217,
          0.15751318088881197,
          0.15868483735904304,
          0.15981391433217063,
          0.16089885354726177,
          0.16193810982722828,
          0.16293016181039863,
          0.16387352281443457,
          0.16476675175049,
          0.16560846400618195,
          0.16639734221693725,
          0.16713214684655225,
          0.1678117264992402,
          0.16843502788715084,
          0.16900110537917667,
          0.16950913005890475,
          0.16995839822176914,
          0.17034833924388573,
          0.17067852275769582,
          0.17094866507240228,
          0.17115863478044185,
          0.17130845749471296,
          0.17139831966527871,
          0.17142857142857143,
          0.1713997284470503,
          0.17131247270257535,
          0.1711676522127385,
          0.17096627964585284,
          0.170709529817406,
          0.17039873605840739,
          0.17003538545426786,
          0.16962111296155186,
          0.16915769441910464,
          0.16864703847960008,
          0.16809117749737715,
          0.16749225741848525,
          0.1668525267288987,
          0.16617432452693445,
          0.16546006779569575,
          0.16471223796083978,
          0.1639333668279448,
          0.16312602200202914,
          0.16229279189931375,
          0.16143627046784131,
          0.16055904173904334,
          0.15966366433662502,
          0.15875265607207895,
          0.1578284787577067,
          0.15689352336814327,
          0.15595009567995638,
          0.15500040251601274,
          0.15404653871682503,
          0.15309047495523048,
          0.15213404650337534,
          0.15117894305234145,
          0.1502266996747981,
          0.14927868901008975,
          0.148336114739145,
          0.14740000640380913,
          0.14647121561182622,
          0.14555041365478086,
          0.14463809055223822,
          0.14373455552115424,
          0.14283993885557603,
          0.141954195187964,
          0.1410771080902865,
          0.14020829596048012,
          0.13934721912823075,
          0.13849318810329278,
          0.13764537287997164,
          0.13680281320297394,
          0.13596442969268416,
          0.13512903572213797,
          0.13429534993349992,
          0.13346200927879615,
          0.13262758246792025,
          0.13179058370657007,
          0.13094948660762004,
          0.13010273816153395,
          0.12924877265458729,
          0.12838602542786343,
          0.1275129463750593,
          0.12662801308297994,
          0.12572974352509259,
          0.1248167082255122,
          0.12388754181818432,
          0.12294095393370345,
          0.12197573935396731,
          0.12099078738276536,
          0.1199850903881483,
          0.11895775148005934,
          0.1179079912941412,
          0.11683515385974241,
          0.11573871153695613,
          0.11461826901396471,
          0.11347356636201938,
          0.11230448115106179,
          0.11111102963427467,
          0.10989336701479879,
          0.10865178681240573,
          0.10738671935221385,
          0.10609872940151276,
          0.10478851298451972,
          0.10345689340842333,
          0.10210481653746044,
          0.10073334535497579,
          0.0993436538565598,
          0.09793702032033519,
          0.09651482000341771,
          0.0950785173164013,
          0.09362965753045197,
          0.0921698580742348,
          0.09070079948037577,
          0.08922421604347217,
          0.08774188625377444,
          0.08625562307248022,
          0.08476726411610473,
          0.08327866181853315,
          0.08179167364007595,
          0.0803081523930728,
          0.07882993675329215,
          0.07735884202547062,
          0.07589665122982985,
          0.07444510657422276,
          0.07300590137371696,
          0.0715806724758661,
          0.07017099324569477,
          0.06877836715950748,
          0.06740422205107614,
          0.06604990504760586,
          0.06471667822615898,
          0.063405715014041,
          0.062118097349030434,
          0.060854813607464975,
          0.059616757300032436,
          0.05840472652692379,
          0.057219424175749115,
          0.05606145883753878,
          0.05493134640826051,
          0.053829512335776895,
          0.052756294465118,
          0.051711946428450395,
          0.0506966415203372,
          0.049710476993824824,
          0.04875347870871884,
          0.04782560606012031,
          0.04692675711300602,
          0.046056773867343324,
          0.045215447577982744,
          0.04440252405438973,
          0.04361770886711504,
          0.042860672390796425,
          0.04213105461734231,
          0.041428469677751455,
          0.04075251001669592,
          0.040102750170449564,
          0.0394787501059008,
          0.03888005808613036,
          0.03830621303626433,
          0.03775674639188763,
          0.03723118342112742,
          0.03672904402042145,
          0.03624984299287801,
          0.035793089826857666,
          0.03535828800082788,
          0.03494493384855821,
          0.03455251502618736,
          0.034180508629508374,
          0.03382837901587446,
          0.03349557539033627,
          0.03318152921989263,
          0.03288565154301808,
          0.03260733024385838,
          0.03234592736162218,
          0.03210077650573819,
          0.03187118044626527,
          0.03165640894687282,
          0.031455696904464196,
          0.03126824285525409,
          0.0310932079018847,
          0.030929715110059115,
          0.030776849416265312,
          0.03063365808057528,
          0.030499151710334474,
          0.030372305871933018,
          0.03025206329890693,
          0.03013733669548527,
          0.030027012125523264,
          0.02991995296766909,
          0.029815004408767384,
          0.029710998439007274,
          0.029606759304344386,
          0.02950110936434907,
          0.029392875297008104,
          0.02928089458619716,
          0.02916402222266937,
          0.02904113754551404,
          0.028911151148206356,
          0.028773011771622996,
          0.028625713105767413,
          0.02846830042242609,
          0.02829987696256983,
          0.02811961000496322,
          0.027926736546127047,
          0.027720568526434498,
          0.027500497542630068,
          0.027265998993366677,
          0.027016635611327437,
          0.02675206034304978,
          0.02647201854555738,
          0.026176349477217097,
          0.025864987068732578,
          0.025537959968745427,
          0.025195390866998638,
          0.02483749510630734,
          0.02446457860256136,
          0.024077035099536247,
          0.02367534279231834,
          0.02326006035956876,
          0.022831822450577424,
          0.022391334678033455,
          0.02193936817161811,
          0.021476753750870003,
          0.02100437577826691,
          0.020523165755112545,
          0.020034095723613348,
          0.019538171538515035,
          0.019036426070868806,
          0.018529912404965754,
          0.01801969708727286,
          0.017506853483388703,
          0.016992455295686937,
          0.016477570290506015,
          0.015963254279556076,
          0.015450545395727676,
          0.01494045869878882,
          0.014433981141617766,
          0.013932066922723673,
          0.013435633245917525,
          0.01294555650318804,
          0.012462668892161006,
          0.011987755475029793,
          0.011521551681588863,
          0.011064741255007211,
          0.01061795463528218,
          0.01018176777192582,
          0.009756701354378998,
          0.009343220445915642,
          0.008941734504401952,
          0.008552597771193476,
          0.008176110007684721,
          0.007812517557549213,
          0.007462014711504288,
          0.007124745350485563,
          0.006800804842394045,
          0.006490242167064937,
          0.006193062243775071,
          0.0059092284354367655,
          0.005638665203596683,
          0.005381260888454187,
          0.005136870588315569,
          0.004905319113199548,
          0.0046864039876933355,
          0.004479898478621165,
          0.004285554623626221,
          0.0041031062373786025,
          0.003932271872810918,
          0.0037727577155488036,
          0.0036242603905558483,
          0.00348646966095217,
          0.0033590710000044517,
          0.003241748018426629,
          0.003134184730382024,
          0.003036067642946245,
          0.0029470876552770767,
          0.002866941755348291,
          0.0027953345038364986,
          0.0027319792966023155,
          0.002676599399173453,
          0.0026289287487104547,
          0.0025887125211017017,
          0.0025557074630819694,
          0.0025296819915764926,
          0.0025104160648232914,
          0.0024977008321937495,
          0.002491338071992423,
          0.0024911394288414427,
          0.002496925464515747,
          0.0025085245382605857,
          0.002525771534662631,
          0.002548506459029467,
          0.0025765729219290397,
          0.0026098165360216017,
          0.00264808324955592,
          0.002691217641872208,
          0.0027390612069372092,
          0.0027914506513116023,
          0.0028482162330034566,
          0.002909180167383388,
          0.0029741551257218934,
          0.0030429428509571722,
          0.003115332914016689,
          0.003191101632408278,
          0.0032700111708815756,
          0.0033518088417583258,
          0.0034362266200656465,
          0.003522980885909548,
          0.003611772403630809,
          0.003702286544229088,
          0.0037941937543655917,
          0.0038871502720019967,
          0.00398079908545036,
          0.004074771129341045,
          0.004168686707810323,
          0.004262157132113663,
          0.004354786556928727,
          0.004446173996868945,
          0.004535915502222963,
          0.004623606470706896,
          0.004708844070095538,
          0.0047912297450166405,
          0.004870371779970003,
          0.004945887889789715,
          0.005017407808313528,
          0.005084575845964672,
          0.005147053387286571,
          0.005204521300193121,
          0.0052566822297932395,
          0.005303262751098644,
          0.005344015356704174,
          0.005378720257610079,
          0.005407186977702157,
          0.005429255724979558,
          0.0054447985253813095,
          0.005453720107966998,
          0.005455958533210407,
          0.005451485559220745,
          0.005440306743770368,
          0.005422461283034179,
          0.005398021590893974,
          0.005367092625487777,
          0.005329810972355512,
          0.005286343696012122,
          0.00523688697404053,
          0.00518166452981357,
          0.005120925881707479,
          0.005054944428144847,
          0.004984015388992828,
          0.004908453624738841,
          0.004828591355471531,
          0.004744775802015144,
          0.004657366771610448,
          0.004566734210319315,
          0.0044732557438698,
          0.004377314227975242,
          0.004279295328276978,
          0.00417958514900009,
          0.004078567928202146,
          0.0039766238161609,
          0.0038741267520160964,
          0.003771442452278574,
          0.0036689265232702404,
          0.0035669227079868763,
          0.003465761276300402,
          0.0033657575658605538,
          0.003267210679531393,
          0.0031704023437229127,
          0.0030755959305601172,
          0.0029830356454838857,
          0.0028929458806019174,
          0.0028055307329108744,
          0.0027209736853915064,
          0.002639437447938104,
          0.002561063954118077,
          0.002485974508864932,
          0.0024142700813812317,
          0.002346031736764568,
          0.002281321199160725,
          0.0022201815385906785,
          0.0021626379729846367,
          0.0021086987763841015,
          0.002058356283736758,
          0.002011587982207588,
          0.0019683576784610014,
          0.0019286167309339806,
          0.001892305335720362,
          0.0018593538543255012,
          0.0018296841712329762,
          0.00180321106895694,
          0.0017798436080427133,
          0.0017594864993321446,
          0.0017420414557385373,
          0.0017274085107874307,
          0.0017154872912842607,
          0.0017061782316767089,
          0.0016993837179974328,
          0.0016950091497094219,
          0.00169296390833816,
          0.0016931622224670554,
          0.0016955239194983865,
          0.0016999750555424275,
          0.001706448415891205,
          0.0017148838797567787,
          0.001725228644300652,
          0.0017374373044420225,
          0.0017514717864961463,
          0.001767301135346043,
          0.0017849011565739725,
          0.0018042539167545874,
          0.0018253471069177869,
          0.0018481732760030766,
          0.0018727289429238327,
          0.0018990135976132542,
          0.0019270286031077245,
          0.0019567760123103406,
          0.0019882573145414435,
          0.002021472128297325,
          0.0020564168577787553,
          0.0020930833316936412,
          0.002131457443562617,
          0.0021715178132433247,
          0.0022132344896241126,
          0.0022565677144075784,
          0.0023014667666016913,
          0.00234786890675559,
          0.0023956984391194495,
          0.0024448659087765606,
          0.0024952674494001393,
          0.002546784295640067,
          0.0025992824722637794,
          0.002652612670081826,
          0.002706610316408634,
          0.002761095845370954,
          0.002815875170813958,
          0.0028707403619017222,
          0.002925470518803782,
          0.002979832843140197,
          0.003033583895165106,
          0.0030864710270431302,
          0.0031382339790539445,
          0.003188606623187558,
          0.0032373188364030235,
          0.0032840984838519416,
          0.003328673490646699,
          0.003370773979310998,
          0.003410134448910239,
          0.003446495971042662,
          0.0034796083773920954,
          0.0035092324134107762,
          0.0035351418329185127,
          0.003557125408972038,
          0.0035749888372676626,
          0.003588556509579313,
          0.003597673136283928,
          0.0036022051988648055,
          0.0036020422153823116,
          0.0035970978042292757,
          0.0035873105340094883
         ],
         "yaxis": "y2"
        }
       ],
       "layout": {
        "annotations": [
         {
          "font": {
           "size": 16
          },
          "showarrow": false,
          "text": "Cohort Data",
          "x": 0.225,
          "xanchor": "center",
          "xref": "paper",
          "y": 1,
          "yanchor": "bottom",
          "yref": "paper"
         },
         {
          "font": {
           "size": 16
          },
          "showarrow": false,
          "text": "Cross Data",
          "x": 0.775,
          "xanchor": "center",
          "xref": "paper",
          "y": 1,
          "yanchor": "bottom",
          "yref": "paper"
         }
        ],
        "barmode": "group",
        "height": 500,
        "legend": {
         "title": {
          "text": "Legend"
         }
        },
        "showlegend": true,
        "template": {
         "data": {
          "bar": [
           {
            "error_x": {
             "color": "#2a3f5f"
            },
            "error_y": {
             "color": "#2a3f5f"
            },
            "marker": {
             "line": {
              "color": "#E5ECF6",
              "width": 0.5
             },
             "pattern": {
              "fillmode": "overlay",
              "size": 10,
              "solidity": 0.2
             }
            },
            "type": "bar"
           }
          ],
          "barpolar": [
           {
            "marker": {
             "line": {
              "color": "#E5ECF6",
              "width": 0.5
             },
             "pattern": {
              "fillmode": "overlay",
              "size": 10,
              "solidity": 0.2
             }
            },
            "type": "barpolar"
           }
          ],
          "carpet": [
           {
            "aaxis": {
             "endlinecolor": "#2a3f5f",
             "gridcolor": "white",
             "linecolor": "white",
             "minorgridcolor": "white",
             "startlinecolor": "#2a3f5f"
            },
            "baxis": {
             "endlinecolor": "#2a3f5f",
             "gridcolor": "white",
             "linecolor": "white",
             "minorgridcolor": "white",
             "startlinecolor": "#2a3f5f"
            },
            "type": "carpet"
           }
          ],
          "choropleth": [
           {
            "colorbar": {
             "outlinewidth": 0,
             "ticks": ""
            },
            "type": "choropleth"
           }
          ],
          "contour": [
           {
            "colorbar": {
             "outlinewidth": 0,
             "ticks": ""
            },
            "colorscale": [
             [
              0,
              "#0d0887"
             ],
             [
              0.1111111111111111,
              "#46039f"
             ],
             [
              0.2222222222222222,
              "#7201a8"
             ],
             [
              0.3333333333333333,
              "#9c179e"
             ],
             [
              0.4444444444444444,
              "#bd3786"
             ],
             [
              0.5555555555555556,
              "#d8576b"
             ],
             [
              0.6666666666666666,
              "#ed7953"
             ],
             [
              0.7777777777777778,
              "#fb9f3a"
             ],
             [
              0.8888888888888888,
              "#fdca26"
             ],
             [
              1,
              "#f0f921"
             ]
            ],
            "type": "contour"
           }
          ],
          "contourcarpet": [
           {
            "colorbar": {
             "outlinewidth": 0,
             "ticks": ""
            },
            "type": "contourcarpet"
           }
          ],
          "heatmap": [
           {
            "colorbar": {
             "outlinewidth": 0,
             "ticks": ""
            },
            "colorscale": [
             [
              0,
              "#0d0887"
             ],
             [
              0.1111111111111111,
              "#46039f"
             ],
             [
              0.2222222222222222,
              "#7201a8"
             ],
             [
              0.3333333333333333,
              "#9c179e"
             ],
             [
              0.4444444444444444,
              "#bd3786"
             ],
             [
              0.5555555555555556,
              "#d8576b"
             ],
             [
              0.6666666666666666,
              "#ed7953"
             ],
             [
              0.7777777777777778,
              "#fb9f3a"
             ],
             [
              0.8888888888888888,
              "#fdca26"
             ],
             [
              1,
              "#f0f921"
             ]
            ],
            "type": "heatmap"
           }
          ],
          "heatmapgl": [
           {
            "colorbar": {
             "outlinewidth": 0,
             "ticks": ""
            },
            "colorscale": [
             [
              0,
              "#0d0887"
             ],
             [
              0.1111111111111111,
              "#46039f"
             ],
             [
              0.2222222222222222,
              "#7201a8"
             ],
             [
              0.3333333333333333,
              "#9c179e"
             ],
             [
              0.4444444444444444,
              "#bd3786"
             ],
             [
              0.5555555555555556,
              "#d8576b"
             ],
             [
              0.6666666666666666,
              "#ed7953"
             ],
             [
              0.7777777777777778,
              "#fb9f3a"
             ],
             [
              0.8888888888888888,
              "#fdca26"
             ],
             [
              1,
              "#f0f921"
             ]
            ],
            "type": "heatmapgl"
           }
          ],
          "histogram": [
           {
            "marker": {
             "pattern": {
              "fillmode": "overlay",
              "size": 10,
              "solidity": 0.2
             }
            },
            "type": "histogram"
           }
          ],
          "histogram2d": [
           {
            "colorbar": {
             "outlinewidth": 0,
             "ticks": ""
            },
            "colorscale": [
             [
              0,
              "#0d0887"
             ],
             [
              0.1111111111111111,
              "#46039f"
             ],
             [
              0.2222222222222222,
              "#7201a8"
             ],
             [
              0.3333333333333333,
              "#9c179e"
             ],
             [
              0.4444444444444444,
              "#bd3786"
             ],
             [
              0.5555555555555556,
              "#d8576b"
             ],
             [
              0.6666666666666666,
              "#ed7953"
             ],
             [
              0.7777777777777778,
              "#fb9f3a"
             ],
             [
              0.8888888888888888,
              "#fdca26"
             ],
             [
              1,
              "#f0f921"
             ]
            ],
            "type": "histogram2d"
           }
          ],
          "histogram2dcontour": [
           {
            "colorbar": {
             "outlinewidth": 0,
             "ticks": ""
            },
            "colorscale": [
             [
              0,
              "#0d0887"
             ],
             [
              0.1111111111111111,
              "#46039f"
             ],
             [
              0.2222222222222222,
              "#7201a8"
             ],
             [
              0.3333333333333333,
              "#9c179e"
             ],
             [
              0.4444444444444444,
              "#bd3786"
             ],
             [
              0.5555555555555556,
              "#d8576b"
             ],
             [
              0.6666666666666666,
              "#ed7953"
             ],
             [
              0.7777777777777778,
              "#fb9f3a"
             ],
             [
              0.8888888888888888,
              "#fdca26"
             ],
             [
              1,
              "#f0f921"
             ]
            ],
            "type": "histogram2dcontour"
           }
          ],
          "mesh3d": [
           {
            "colorbar": {
             "outlinewidth": 0,
             "ticks": ""
            },
            "type": "mesh3d"
           }
          ],
          "parcoords": [
           {
            "line": {
             "colorbar": {
              "outlinewidth": 0,
              "ticks": ""
             }
            },
            "type": "parcoords"
           }
          ],
          "pie": [
           {
            "automargin": true,
            "type": "pie"
           }
          ],
          "scatter": [
           {
            "fillpattern": {
             "fillmode": "overlay",
             "size": 10,
             "solidity": 0.2
            },
            "type": "scatter"
           }
          ],
          "scatter3d": [
           {
            "line": {
             "colorbar": {
              "outlinewidth": 0,
              "ticks": ""
             }
            },
            "marker": {
             "colorbar": {
              "outlinewidth": 0,
              "ticks": ""
             }
            },
            "type": "scatter3d"
           }
          ],
          "scattercarpet": [
           {
            "marker": {
             "colorbar": {
              "outlinewidth": 0,
              "ticks": ""
             }
            },
            "type": "scattercarpet"
           }
          ],
          "scattergeo": [
           {
            "marker": {
             "colorbar": {
              "outlinewidth": 0,
              "ticks": ""
             }
            },
            "type": "scattergeo"
           }
          ],
          "scattergl": [
           {
            "marker": {
             "colorbar": {
              "outlinewidth": 0,
              "ticks": ""
             }
            },
            "type": "scattergl"
           }
          ],
          "scattermapbox": [
           {
            "marker": {
             "colorbar": {
              "outlinewidth": 0,
              "ticks": ""
             }
            },
            "type": "scattermapbox"
           }
          ],
          "scatterpolar": [
           {
            "marker": {
             "colorbar": {
              "outlinewidth": 0,
              "ticks": ""
             }
            },
            "type": "scatterpolar"
           }
          ],
          "scatterpolargl": [
           {
            "marker": {
             "colorbar": {
              "outlinewidth": 0,
              "ticks": ""
             }
            },
            "type": "scatterpolargl"
           }
          ],
          "scatterternary": [
           {
            "marker": {
             "colorbar": {
              "outlinewidth": 0,
              "ticks": ""
             }
            },
            "type": "scatterternary"
           }
          ],
          "surface": [
           {
            "colorbar": {
             "outlinewidth": 0,
             "ticks": ""
            },
            "colorscale": [
             [
              0,
              "#0d0887"
             ],
             [
              0.1111111111111111,
              "#46039f"
             ],
             [
              0.2222222222222222,
              "#7201a8"
             ],
             [
              0.3333333333333333,
              "#9c179e"
             ],
             [
              0.4444444444444444,
              "#bd3786"
             ],
             [
              0.5555555555555556,
              "#d8576b"
             ],
             [
              0.6666666666666666,
              "#ed7953"
             ],
             [
              0.7777777777777778,
              "#fb9f3a"
             ],
             [
              0.8888888888888888,
              "#fdca26"
             ],
             [
              1,
              "#f0f921"
             ]
            ],
            "type": "surface"
           }
          ],
          "table": [
           {
            "cells": {
             "fill": {
              "color": "#EBF0F8"
             },
             "line": {
              "color": "white"
             }
            },
            "header": {
             "fill": {
              "color": "#C8D4E3"
             },
             "line": {
              "color": "white"
             }
            },
            "type": "table"
           }
          ]
         },
         "layout": {
          "annotationdefaults": {
           "arrowcolor": "#2a3f5f",
           "arrowhead": 0,
           "arrowwidth": 1
          },
          "autotypenumbers": "strict",
          "coloraxis": {
           "colorbar": {
            "outlinewidth": 0,
            "ticks": ""
           }
          },
          "colorscale": {
           "diverging": [
            [
             0,
             "#8e0152"
            ],
            [
             0.1,
             "#c51b7d"
            ],
            [
             0.2,
             "#de77ae"
            ],
            [
             0.3,
             "#f1b6da"
            ],
            [
             0.4,
             "#fde0ef"
            ],
            [
             0.5,
             "#f7f7f7"
            ],
            [
             0.6,
             "#e6f5d0"
            ],
            [
             0.7,
             "#b8e186"
            ],
            [
             0.8,
             "#7fbc41"
            ],
            [
             0.9,
             "#4d9221"
            ],
            [
             1,
             "#276419"
            ]
           ],
           "sequential": [
            [
             0,
             "#0d0887"
            ],
            [
             0.1111111111111111,
             "#46039f"
            ],
            [
             0.2222222222222222,
             "#7201a8"
            ],
            [
             0.3333333333333333,
             "#9c179e"
            ],
            [
             0.4444444444444444,
             "#bd3786"
            ],
            [
             0.5555555555555556,
             "#d8576b"
            ],
            [
             0.6666666666666666,
             "#ed7953"
            ],
            [
             0.7777777777777778,
             "#fb9f3a"
            ],
            [
             0.8888888888888888,
             "#fdca26"
            ],
            [
             1,
             "#f0f921"
            ]
           ],
           "sequentialminus": [
            [
             0,
             "#0d0887"
            ],
            [
             0.1111111111111111,
             "#46039f"
            ],
            [
             0.2222222222222222,
             "#7201a8"
            ],
            [
             0.3333333333333333,
             "#9c179e"
            ],
            [
             0.4444444444444444,
             "#bd3786"
            ],
            [
             0.5555555555555556,
             "#d8576b"
            ],
            [
             0.6666666666666666,
             "#ed7953"
            ],
            [
             0.7777777777777778,
             "#fb9f3a"
            ],
            [
             0.8888888888888888,
             "#fdca26"
            ],
            [
             1,
             "#f0f921"
            ]
           ]
          },
          "colorway": [
           "#636efa",
           "#EF553B",
           "#00cc96",
           "#ab63fa",
           "#FFA15A",
           "#19d3f3",
           "#FF6692",
           "#B6E880",
           "#FF97FF",
           "#FECB52"
          ],
          "font": {
           "color": "#2a3f5f"
          },
          "geo": {
           "bgcolor": "white",
           "lakecolor": "white",
           "landcolor": "#E5ECF6",
           "showlakes": true,
           "showland": true,
           "subunitcolor": "white"
          },
          "hoverlabel": {
           "align": "left"
          },
          "hovermode": "closest",
          "mapbox": {
           "style": "light"
          },
          "paper_bgcolor": "white",
          "plot_bgcolor": "#E5ECF6",
          "polar": {
           "angularaxis": {
            "gridcolor": "white",
            "linecolor": "white",
            "ticks": ""
           },
           "bgcolor": "#E5ECF6",
           "radialaxis": {
            "gridcolor": "white",
            "linecolor": "white",
            "ticks": ""
           }
          },
          "scene": {
           "xaxis": {
            "backgroundcolor": "#E5ECF6",
            "gridcolor": "white",
            "gridwidth": 2,
            "linecolor": "white",
            "showbackground": true,
            "ticks": "",
            "zerolinecolor": "white"
           },
           "yaxis": {
            "backgroundcolor": "#E5ECF6",
            "gridcolor": "white",
            "gridwidth": 2,
            "linecolor": "white",
            "showbackground": true,
            "ticks": "",
            "zerolinecolor": "white"
           },
           "zaxis": {
            "backgroundcolor": "#E5ECF6",
            "gridcolor": "white",
            "gridwidth": 2,
            "linecolor": "white",
            "showbackground": true,
            "ticks": "",
            "zerolinecolor": "white"
           }
          },
          "shapedefaults": {
           "line": {
            "color": "#2a3f5f"
           }
          },
          "ternary": {
           "aaxis": {
            "gridcolor": "white",
            "linecolor": "white",
            "ticks": ""
           },
           "baxis": {
            "gridcolor": "white",
            "linecolor": "white",
            "ticks": ""
           },
           "bgcolor": "#E5ECF6",
           "caxis": {
            "gridcolor": "white",
            "linecolor": "white",
            "ticks": ""
           }
          },
          "title": {
           "x": 0.05
          },
          "xaxis": {
           "automargin": true,
           "gridcolor": "white",
           "linecolor": "white",
           "ticks": "",
           "title": {
            "standoff": 15
           },
           "zerolinecolor": "white",
           "zerolinewidth": 2
          },
          "yaxis": {
           "automargin": true,
           "gridcolor": "white",
           "linecolor": "white",
           "ticks": "",
           "title": {
            "standoff": 15
           },
           "zerolinecolor": "white",
           "zerolinewidth": 2
          }
         }
        },
        "title": {
         "text": "Proportion of Close Friends with KDE: Too Busy vs Not Busy"
        },
        "xaxis": {
         "anchor": "y",
         "domain": [
          0,
          0.45
         ],
         "title": {
          "text": "Number of Close Friends"
         }
        },
        "xaxis2": {
         "anchor": "y2",
         "domain": [
          0.55,
          1
         ]
        },
        "yaxis": {
         "anchor": "x",
         "domain": [
          0,
          1
         ],
         "title": {
          "text": "Proportion"
         }
        },
        "yaxis2": {
         "anchor": "x2",
         "domain": [
          0,
          1
         ]
        }
       }
      }
     },
     "metadata": {},
     "output_type": "display_data"
    }
   ],
   "source": [
    "import plotly.graph_objects as go\n",
    "import numpy as np\n",
    "from scipy.stats import gaussian_kde\n",
    "from plotly.subplots import make_subplots\n",
    "\n",
    "# Group and count data by 'CONNECTION_social_barriers_too_busy' and 'CONNECTION_social_num_close_friends'\n",
    "def create_plot(data, title_suffix):\n",
    "    grouped_data = (\n",
    "        data.groupby([\"CONNECTION_social_barriers_too_busy\", \"CONNECTION_social_num_close_friends\"])\n",
    "        .size()\n",
    "        .reset_index(name=\"Count\")\n",
    "    )\n",
    "\n",
    "    # Calculate proportions within each \"Too Busy Status\" group\n",
    "    group_totals = grouped_data.groupby(\"CONNECTION_social_barriers_too_busy\")[\"Count\"].transform(\"sum\")\n",
    "    grouped_data[\"Proportion\"] = grouped_data[\"Count\"] / group_totals\n",
    "\n",
    "    # Prepare the data for KDE calculation\n",
    "    busy_data = data.loc[\n",
    "        data[\"CONNECTION_social_barriers_too_busy\"] == \"I am too busy\", \n",
    "        \"CONNECTION_social_num_close_friends\"\n",
    "    ]\n",
    "    not_busy_data = data.loc[\n",
    "        data[\"CONNECTION_social_barriers_too_busy\"] == \"Not Selected\", \n",
    "        \"CONNECTION_social_num_close_friends\"\n",
    "    ]\n",
    "\n",
    "    # Calculate KDE for both groups\n",
    "    busy_kde = gaussian_kde(busy_data)\n",
    "    not_busy_kde = gaussian_kde(not_busy_data)\n",
    "\n",
    "    # Define the x-axis range for KDE\n",
    "    x_range = np.linspace(\n",
    "        min(data[\"CONNECTION_social_num_close_friends\"]),\n",
    "        max(data[\"CONNECTION_social_num_close_friends\"]),\n",
    "        500\n",
    "    )\n",
    "\n",
    "    # KDE values\n",
    "    busy_kde_values = busy_kde(x_range)\n",
    "    not_busy_kde_values = not_busy_kde(x_range)\n",
    "\n",
    "    # Return the data and the necessary components for plotting\n",
    "    return grouped_data, busy_kde_values, not_busy_kde_values, x_range\n",
    "\n",
    "# Create plots for filtered_data_cohort and filtered_data_cross\n",
    "def create_subplots(filtered_data_cohort, filtered_data_cross):\n",
    "    # Create the subplots layout with two columns\n",
    "    fig = make_subplots(\n",
    "        rows=1, cols=2, \n",
    "        subplot_titles=[\"Cohort Data\", \"Cross Data\"]\n",
    "    )\n",
    "\n",
    "    # Plot for filtered_data_cohort\n",
    "    cohort_grouped_data, cohort_busy_kde, cohort_not_busy_kde, cohort_x_range = create_plot(filtered_data_cohort, \"Cohort\")\n",
    "\n",
    "    # Add bar plots for proportions (Cohort data)\n",
    "    for status, color in zip([\"I am too busy\", \"Not Selected\"], [\"blue\", \"red\"]):\n",
    "        status_data = cohort_grouped_data[cohort_grouped_data[\"CONNECTION_social_barriers_too_busy\"] == status]\n",
    "        fig.add_trace(\n",
    "            go.Bar(\n",
    "                x=status_data[\"CONNECTION_social_num_close_friends\"],\n",
    "                y=status_data[\"Proportion\"],\n",
    "                name=f\"{status} (Bar)\",\n",
    "                marker=dict(color=color),\n",
    "            ),\n",
    "            row=1, col=1\n",
    "        )\n",
    "\n",
    "    # Add KDE plots for cohort data\n",
    "    fig.add_trace(\n",
    "        go.Scatter(\n",
    "            x=cohort_x_range,\n",
    "            y=cohort_busy_kde / cohort_busy_kde.max() * cohort_grouped_data[\"Proportion\"].max(),  # Scale KDE\n",
    "            mode=\"lines\",\n",
    "            line=dict(color=\"blue\", dash=\"dash\"),\n",
    "            name=\"I am too busy (KDE)\",\n",
    "        ),\n",
    "        row=1, col=1\n",
    "    )\n",
    "    fig.add_trace(\n",
    "        go.Scatter(\n",
    "            x=cohort_x_range,\n",
    "            y=cohort_not_busy_kde / cohort_not_busy_kde.max() * cohort_grouped_data[\"Proportion\"].max(),  # Scale KDE\n",
    "            mode=\"lines\",\n",
    "            line=dict(color=\"red\", dash=\"dash\"),\n",
    "            name=\"Not Selected (KDE)\",\n",
    "        ),\n",
    "        row=1, col=1\n",
    "    )\n",
    "\n",
    "    # Plot for filtered_data_cross\n",
    "    cross_grouped_data, cross_busy_kde, cross_not_busy_kde, cross_x_range = create_plot(filtered_data_cross, \"Cross\")\n",
    "\n",
    "    # Add bar plots for proportions (Cross data)\n",
    "    for status, color in zip([\"I am too busy\", \"Not Selected\"], [\"blue\", \"red\"]):\n",
    "        status_data = cross_grouped_data[cross_grouped_data[\"CONNECTION_social_barriers_too_busy\"] == status]\n",
    "        fig.add_trace(\n",
    "            go.Bar(\n",
    "                x=status_data[\"CONNECTION_social_num_close_friends\"],\n",
    "                y=status_data[\"Proportion\"],\n",
    "                name=f\"{status} (Bar)\",\n",
    "                marker=dict(color=color),\n",
    "            ),\n",
    "            row=1, col=2\n",
    "        )\n",
    "\n",
    "    # Add KDE plots for cross data\n",
    "    fig.add_trace(\n",
    "        go.Scatter(\n",
    "            x=cross_x_range,\n",
    "            y=cross_busy_kde / cross_busy_kde.max() * cross_grouped_data[\"Proportion\"].max(),  # Scale KDE\n",
    "            mode=\"lines\",\n",
    "            line=dict(color=\"blue\", dash=\"dash\"),\n",
    "            name=\"I am too busy (KDE)\",\n",
    "        ),\n",
    "        row=1, col=2\n",
    "    )\n",
    "    fig.add_trace(\n",
    "        go.Scatter(\n",
    "            x=cross_x_range,\n",
    "            y=cross_not_busy_kde / cross_not_busy_kde.max() * cross_grouped_data[\"Proportion\"].max(),  # Scale KDE\n",
    "            mode=\"lines\",\n",
    "            line=dict(color=\"red\", dash=\"dash\"),\n",
    "            name=\"Not Selected (KDE)\",\n",
    "        ),\n",
    "        row=1, col=2\n",
    "    )\n",
    "\n",
    "    # Update layout for side-by-side display\n",
    "    fig.update_layout(\n",
    "        title=\"Proportion of Close Friends with KDE: Too Busy vs Not Busy\",\n",
    "        xaxis_title=\"Number of Close Friends\",\n",
    "        yaxis_title=\"Proportion\",\n",
    "        barmode=\"group\",  # Keep bars side by side\n",
    "        legend_title=\"Legend\",\n",
    "        showlegend=True,\n",
    "        height=500\n",
    "    )\n",
    "\n",
    "    # Show the figure\n",
    "    fig.show()\n",
    "\n",
    "# Call the function with filtered_data_cohort and filtered_data_cross\n",
    "create_subplots(filtered_data_cohort, filtered_data_cross)\n"
   ]
  },
  {
   "cell_type": "code",
   "execution_count": 16,
   "metadata": {},
   "outputs": [
    {
     "data": {
      "text/html": [
       "<div>\n",
       "<style scoped>\n",
       "    .dataframe tbody tr th:only-of-type {\n",
       "        vertical-align: middle;\n",
       "    }\n",
       "\n",
       "    .dataframe tbody tr th {\n",
       "        vertical-align: top;\n",
       "    }\n",
       "\n",
       "    .dataframe thead th {\n",
       "        text-align: right;\n",
       "    }\n",
       "</style>\n",
       "<table border=\"1\" class=\"dataframe\">\n",
       "  <thead>\n",
       "    <tr style=\"text-align: right;\">\n",
       "      <th></th>\n",
       "      <th>CONNECTION_social_num_close_friends</th>\n",
       "      <th>CONNECTION_social_days_friends_p7d</th>\n",
       "      <th>CONNECTION_social_time_friends_p7d</th>\n",
       "      <th>CONNECTION_preference_time_friends</th>\n",
       "      <th>CONNECTION_activities_new_friend_last</th>\n",
       "      <th>CONNECTION_social_num_close_friends_p3m</th>\n",
       "      <th>CONNECTION_preferred_frequency_hang_out</th>\n",
       "      <th>CONNECTION_social_barriers_too_busy</th>\n",
       "    </tr>\n",
       "  </thead>\n",
       "  <tbody>\n",
       "    <tr>\n",
       "      <th>5</th>\n",
       "      <td>7.0</td>\n",
       "      <td>2.0</td>\n",
       "      <td>3.0</td>\n",
       "      <td>2.0</td>\n",
       "      <td>Not in the past three months</td>\n",
       "      <td>4.0</td>\n",
       "      <td>A few times a year</td>\n",
       "      <td>I am too busy</td>\n",
       "    </tr>\n",
       "    <tr>\n",
       "      <th>7</th>\n",
       "      <td>0.0</td>\n",
       "      <td>0.0</td>\n",
       "      <td>0.0</td>\n",
       "      <td>0.0</td>\n",
       "      <td>Not in the past three months</td>\n",
       "      <td>0.0</td>\n",
       "      <td>Not at all</td>\n",
       "      <td>Not Selected</td>\n",
       "    </tr>\n",
       "    <tr>\n",
       "      <th>57</th>\n",
       "      <td>5.0</td>\n",
       "      <td>7.0</td>\n",
       "      <td>10.0</td>\n",
       "      <td>17.0</td>\n",
       "      <td>Not in the past three months</td>\n",
       "      <td>3.0</td>\n",
       "      <td>Every few weeks</td>\n",
       "      <td>Not Selected</td>\n",
       "    </tr>\n",
       "    <tr>\n",
       "      <th>62</th>\n",
       "      <td>4.0</td>\n",
       "      <td>1.0</td>\n",
       "      <td>1.0</td>\n",
       "      <td>2.0</td>\n",
       "      <td>Not in the past three months</td>\n",
       "      <td>1.0</td>\n",
       "      <td>Less than once per year</td>\n",
       "      <td>Not Selected</td>\n",
       "    </tr>\n",
       "    <tr>\n",
       "      <th>68</th>\n",
       "      <td>1.0</td>\n",
       "      <td>0.0</td>\n",
       "      <td>0.0</td>\n",
       "      <td>4.0</td>\n",
       "      <td>Not in the past three months</td>\n",
       "      <td>1.0</td>\n",
       "      <td>Not at all</td>\n",
       "      <td>Not Selected</td>\n",
       "    </tr>\n",
       "  </tbody>\n",
       "</table>\n",
       "</div>"
      ],
      "text/plain": [
       "    CONNECTION_social_num_close_friends  CONNECTION_social_days_friends_p7d  \\\n",
       "5                                   7.0                                 2.0   \n",
       "7                                   0.0                                 0.0   \n",
       "57                                  5.0                                 7.0   \n",
       "62                                  4.0                                 1.0   \n",
       "68                                  1.0                                 0.0   \n",
       "\n",
       "    CONNECTION_social_time_friends_p7d  CONNECTION_preference_time_friends  \\\n",
       "5                                  3.0                                 2.0   \n",
       "7                                  0.0                                 0.0   \n",
       "57                                10.0                                17.0   \n",
       "62                                 1.0                                 2.0   \n",
       "68                                 0.0                                 4.0   \n",
       "\n",
       "   CONNECTION_activities_new_friend_last  \\\n",
       "5           Not in the past three months   \n",
       "7           Not in the past three months   \n",
       "57          Not in the past three months   \n",
       "62          Not in the past three months   \n",
       "68          Not in the past three months   \n",
       "\n",
       "    CONNECTION_social_num_close_friends_p3m  \\\n",
       "5                                       4.0   \n",
       "7                                       0.0   \n",
       "57                                      3.0   \n",
       "62                                      1.0   \n",
       "68                                      1.0   \n",
       "\n",
       "   CONNECTION_preferred_frequency_hang_out CONNECTION_social_barriers_too_busy  \n",
       "5                       A few times a year                       I am too busy  \n",
       "7                               Not at all                        Not Selected  \n",
       "57                         Every few weeks                        Not Selected  \n",
       "62                 Less than once per year                        Not Selected  \n",
       "68                              Not at all                        Not Selected  "
      ]
     },
     "execution_count": 16,
     "metadata": {},
     "output_type": "execute_result"
    }
   ],
   "source": [
    "# Calculate Q1 (25th percentile) and Q3 (75th percentile) for filtered_data_cohort\n",
    "Q1_cohort = filtered_data_cohort[\"CONNECTION_social_num_close_friends\"].quantile(0.25)\n",
    "Q3_cohort = filtered_data_cohort[\"CONNECTION_social_num_close_friends\"].quantile(0.75)\n",
    "\n",
    "# Calculate IQR for filtered_data_cohort\n",
    "IQR_cohort = Q3_cohort - Q1_cohort\n",
    "\n",
    "# Define the lower and upper bounds for outlier detection for filtered_data_cohort\n",
    "lower_bound_cohort = Q1_cohort - 1.5 * IQR_cohort\n",
    "upper_bound_cohort = Q3_cohort + 1.5 * IQR_cohort\n",
    "\n",
    "# Filter the cohort dataset to remove outliers\n",
    "filtered_data_no_outliers_cohort = filtered_data_cohort[\n",
    "    (filtered_data_cohort[\"CONNECTION_social_num_close_friends\"] >= lower_bound_cohort) &\n",
    "    (filtered_data_cohort[\"CONNECTION_social_num_close_friends\"] <= upper_bound_cohort)\n",
    "]\n",
    "\n",
    "# Display the filtered cohort data\n",
    "filtered_data_no_outliers_cohort.head()\n",
    "\n",
    "# Repeat the same steps for filtered_data_cross\n",
    "\n",
    "# Calculate Q1 (25th percentile) and Q3 (75th percentile) for filtered_data_cross\n",
    "Q1_cross = filtered_data_cross[\"CONNECTION_social_num_close_friends\"].quantile(0.25)\n",
    "Q3_cross = filtered_data_cross[\"CONNECTION_social_num_close_friends\"].quantile(0.75)\n",
    "\n",
    "# Calculate IQR for filtered_data_cross\n",
    "IQR_cross = Q3_cross - Q1_cross\n",
    "\n",
    "# Define the lower and upper bounds for outlier detection for filtered_data_cross\n",
    "lower_bound_cross = Q1_cross - 1.5 * IQR_cross\n",
    "upper_bound_cross = Q3_cross + 1.5 * IQR_cross\n",
    "\n",
    "# Filter the cross dataset to remove outliers\n",
    "filtered_data_no_outliers_cross = filtered_data_cross[\n",
    "    (filtered_data_cross[\"CONNECTION_social_num_close_friends\"] >= lower_bound_cross) &\n",
    "    (filtered_data_cross[\"CONNECTION_social_num_close_friends\"] <= upper_bound_cross)\n",
    "]\n",
    "\n",
    "# Display the filtered cross data\n",
    "filtered_data_no_outliers_cross.head()\n"
   ]
  },
  {
   "cell_type": "code",
   "execution_count": 17,
   "metadata": {},
   "outputs": [
    {
     "data": {
      "application/vnd.plotly.v1+json": {
       "config": {
        "plotlyServerURL": "https://plot.ly"
       },
       "data": [
        {
         "marker": {
          "color": "blue"
         },
         "name": "I am too busy (Bar)",
         "type": "bar",
         "x": [
          0,
          1,
          2,
          3,
          4,
          5,
          6,
          7,
          8
         ],
         "xaxis": "x",
         "y": [
          0.03571428571428571,
          0.05952380952380952,
          0.16666666666666666,
          0.14285714285714285,
          0.20238095238095238,
          0.25,
          0.08333333333333333,
          0.03571428571428571,
          0.023809523809523808
         ],
         "yaxis": "y"
        },
        {
         "marker": {
          "color": "red"
         },
         "name": "Not Selected (Bar)",
         "type": "bar",
         "x": [
          0,
          1,
          2,
          3,
          4,
          5,
          6,
          7,
          8,
          9
         ],
         "xaxis": "x",
         "y": [
          0.07865168539325842,
          0.09737827715355805,
          0.15730337078651685,
          0.22846441947565543,
          0.15355805243445692,
          0.14606741573033707,
          0.0749063670411985,
          0.0299625468164794,
          0.02247191011235955,
          0.011235955056179775
         ],
         "yaxis": "y"
        },
        {
         "line": {
          "color": "blue",
          "dash": "dash"
         },
         "mode": "lines",
         "name": "I am too busy (KDE)",
         "type": "scatter",
         "x": [
          0,
          0.018036072144288578,
          0.036072144288577156,
          0.05410821643286573,
          0.07214428857715431,
          0.09018036072144289,
          0.10821643286573146,
          0.12625250501002006,
          0.14428857715430862,
          0.1623246492985972,
          0.18036072144288579,
          0.19839679358717435,
          0.21643286573146292,
          0.23446893787575152,
          0.2525050100200401,
          0.27054108216432865,
          0.28857715430861725,
          0.30661322645290584,
          0.3246492985971944,
          0.342685370741483,
          0.36072144288577157,
          0.3787575150300601,
          0.3967935871743487,
          0.4148296593186373,
          0.43286573146292584,
          0.45090180360721444,
          0.46893787575150303,
          0.4869739478957916,
          0.5050100200400802,
          0.5230460921843687,
          0.5410821643286573,
          0.5591182364729459,
          0.5771543086172345,
          0.5951903807615231,
          0.6132264529058117,
          0.6312625250501003,
          0.6492985971943888,
          0.6673346693386774,
          0.685370741482966,
          0.7034068136272545,
          0.7214428857715431,
          0.7394789579158317,
          0.7575150300601202,
          0.7755511022044088,
          0.7935871743486974,
          0.811623246492986,
          0.8296593186372746,
          0.8476953907815632,
          0.8657314629258517,
          0.8837675350701403,
          0.9018036072144289,
          0.9198396793587175,
          0.9378757515030061,
          0.9559118236472947,
          0.9739478957915833,
          0.9919839679358717,
          1.0100200400801604,
          1.028056112224449,
          1.0460921843687374,
          1.0641282565130261,
          1.0821643286573146,
          1.1002004008016033,
          1.1182364729458918,
          1.1362725450901805,
          1.154308617234469,
          1.1723446893787575,
          1.1903807615230462,
          1.2084168336673347,
          1.2264529058116234,
          1.2444889779559118,
          1.2625250501002006,
          1.280561122244489,
          1.2985971943887775,
          1.3166332665330662,
          1.3346693386773547,
          1.3527054108216434,
          1.370741482965932,
          1.3887775551102204,
          1.406813627254509,
          1.4248496993987976,
          1.4428857715430863,
          1.4609218436873748,
          1.4789579158316635,
          1.496993987975952,
          1.5150300601202404,
          1.5330661322645291,
          1.5511022044088176,
          1.5691382765531063,
          1.5871743486973948,
          1.6052104208416835,
          1.623246492985972,
          1.6412825651302605,
          1.6593186372745492,
          1.6773547094188377,
          1.6953907815631264,
          1.7134268537074149,
          1.7314629258517034,
          1.749498997995992,
          1.7675350701402806,
          1.7855711422845693,
          1.8036072144288577,
          1.8216432865731464,
          1.839679358717435,
          1.8577154308617234,
          1.8757515030060121,
          1.8937875751503006,
          1.9118236472945893,
          1.9298597194388778,
          1.9478957915831665,
          1.965931863727455,
          1.9839679358717435,
          2.002004008016032,
          2.020040080160321,
          2.038076152304609,
          2.056112224448898,
          2.0741482965931866,
          2.092184368737475,
          2.1102204408817635,
          2.1282565130260522,
          2.146292585170341,
          2.164328657314629,
          2.182364729458918,
          2.2004008016032066,
          2.218436873747495,
          2.2364729458917836,
          2.2545090180360723,
          2.272545090180361,
          2.2905811623246493,
          2.308617234468938,
          2.3266533066132267,
          2.344689378757515,
          2.3627254509018036,
          2.3807615230460923,
          2.398797595190381,
          2.4168336673346693,
          2.434869739478958,
          2.4529058116232467,
          2.470941883767535,
          2.4889779559118237,
          2.5070140280561124,
          2.525050100200401,
          2.5430861723446894,
          2.561122244488978,
          2.579158316633267,
          2.597194388777555,
          2.6152304609218437,
          2.6332665330661325,
          2.651302605210421,
          2.6693386773547094,
          2.687374749498998,
          2.705410821643287,
          2.723446893787575,
          2.741482965931864,
          2.7595190380761525,
          2.7775551102204408,
          2.7955911823647295,
          2.813627254509018,
          2.831663326653307,
          2.849699398797595,
          2.867735470941884,
          2.8857715430861726,
          2.903807615230461,
          2.9218436873747495,
          2.9398797595190382,
          2.957915831663327,
          2.975951903807615,
          2.993987975951904,
          3.0120240480961926,
          3.030060120240481,
          3.0480961923847696,
          3.0661322645290583,
          3.084168336673347,
          3.1022044088176353,
          3.120240480961924,
          3.1382765531062127,
          3.156312625250501,
          3.1743486973947896,
          3.1923847695390783,
          3.210420841683367,
          3.2284569138276553,
          3.246492985971944,
          3.2645290581162327,
          3.282565130260521,
          3.3006012024048097,
          3.3186372745490984,
          3.336673346693387,
          3.3547094188376754,
          3.372745490981964,
          3.390781563126253,
          3.408817635270541,
          3.4268537074148298,
          3.4448897795591185,
          3.4629258517034067,
          3.4809619238476954,
          3.498997995991984,
          3.517034068136273,
          3.535070140280561,
          3.55310621242485,
          3.5711422845691385,
          3.5891783567134268,
          3.6072144288577155,
          3.625250501002004,
          3.643286573146293,
          3.661322645290581,
          3.67935871743487,
          3.6973947895791586,
          3.715430861723447,
          3.7334669338677355,
          3.7515030060120242,
          3.769539078156313,
          3.787575150300601,
          3.80561122244489,
          3.8236472945891786,
          3.841683366733467,
          3.8597194388777556,
          3.8777555110220443,
          3.895791583166333,
          3.9138276553106213,
          3.93186372745491,
          3.9498997995991987,
          3.967935871743487,
          3.9859719438877756,
          4.004008016032064,
          4.022044088176353,
          4.040080160320642,
          4.05811623246493,
          4.076152304609218,
          4.094188376753507,
          4.112224448897796,
          4.130260521042084,
          4.148296593186373,
          4.166332665330661,
          4.18436873747495,
          4.202404809619239,
          4.220440881763527,
          4.238476953907816,
          4.2565130260521045,
          4.274549098196393,
          4.292585170340682,
          4.31062124248497,
          4.328657314629258,
          4.3466933867735476,
          4.364729458917836,
          4.382765531062124,
          4.400801603206413,
          4.4188376753507015,
          4.43687374749499,
          4.454909819639279,
          4.472945891783567,
          4.490981963927856,
          4.509018036072145,
          4.527054108216433,
          4.545090180360722,
          4.56312625250501,
          4.5811623246492985,
          4.599198396793588,
          4.617234468937876,
          4.635270541082164,
          4.653306613226453,
          4.671342685370742,
          4.68937875751503,
          4.707414829659319,
          4.725450901803607,
          4.7434869739478955,
          4.761523046092185,
          4.779559118236473,
          4.797595190380762,
          4.81563126252505,
          4.833667334669339,
          4.851703406813628,
          4.869739478957916,
          4.887775551102204,
          4.9058116232464934,
          4.923847695390782,
          4.94188376753507,
          4.959919839679359,
          4.977955911823647,
          4.995991983967936,
          5.014028056112225,
          5.032064128256513,
          5.050100200400802,
          5.0681362725450905,
          5.086172344689379,
          5.104208416833668,
          5.122244488977956,
          5.140280561122244,
          5.158316633266534,
          5.176352705410822,
          5.19438877755511,
          5.212424849699399,
          5.2304609218436875,
          5.248496993987976,
          5.266533066132265,
          5.284569138276553,
          5.302605210420842,
          5.320641282565131,
          5.338677354709419,
          5.356713426853708,
          5.374749498997996,
          5.3927855711422845,
          5.410821643286574,
          5.428857715430862,
          5.44689378757515,
          5.464929859719439,
          5.482965931863728,
          5.501002004008016,
          5.519038076152305,
          5.537074148296593,
          5.5551102204408815,
          5.573146292585171,
          5.591182364729459,
          5.609218436873748,
          5.627254509018036,
          5.645290581162325,
          5.663326653306614,
          5.681362725450902,
          5.69939879759519,
          5.7174348697394795,
          5.735470941883768,
          5.753507014028056,
          5.771543086172345,
          5.789579158316633,
          5.807615230460922,
          5.825651302605211,
          5.843687374749499,
          5.861723446893788,
          5.8797595190380765,
          5.897795591182365,
          5.915831663326654,
          5.933867735470942,
          5.95190380761523,
          5.96993987975952,
          5.987975951903808,
          6.006012024048096,
          6.024048096192385,
          6.0420841683366735,
          6.060120240480962,
          6.078156312625251,
          6.096192384769539,
          6.114228456913828,
          6.132264529058117,
          6.150300601202405,
          6.168336673346694,
          6.186372745490982,
          6.2044088176352705,
          6.22244488977956,
          6.240480961923848,
          6.258517034068136,
          6.276553106212425,
          6.294589178356714,
          6.312625250501002,
          6.330661322645291,
          6.348697394789579,
          6.3667334669338675,
          6.384769539078157,
          6.402805611222445,
          6.420841683366734,
          6.438877755511022,
          6.456913827655311,
          6.4749498997996,
          6.492985971943888,
          6.511022044088176,
          6.5290581162324655,
          6.547094188376754,
          6.565130260521042,
          6.583166332665331,
          6.601202404809619,
          6.619238476953908,
          6.637274549098197,
          6.655310621242485,
          6.673346693386774,
          6.6913827655310625,
          6.709418837675351,
          6.72745490981964,
          6.745490981963928,
          6.763527054108216,
          6.781563126252506,
          6.799599198396794,
          6.817635270541082,
          6.835671342685371,
          6.8537074148296595,
          6.871743486973948,
          6.889779559118237,
          6.907815631262525,
          6.925851703406813,
          6.943887775551103,
          6.961923847695391,
          6.97995991983968,
          6.997995991983968,
          7.0160320641282565,
          7.034068136272546,
          7.052104208416834,
          7.070140280561122,
          7.088176352705411,
          7.1062124248497,
          7.124248496993988,
          7.142284569138277,
          7.160320641282565,
          7.1783567134268536,
          7.196392785571143,
          7.214428857715431,
          7.23246492985972,
          7.250501002004008,
          7.268537074148297,
          7.286573146292586,
          7.304609218436874,
          7.322645290581162,
          7.3406813627254515,
          7.35871743486974,
          7.376753507014028,
          7.394789579158317,
          7.412825651302605,
          7.430861723446894,
          7.448897795591183,
          7.466933867735471,
          7.48496993987976,
          7.5030060120240485,
          7.521042084168337,
          7.539078156312626,
          7.557114228456914,
          7.575150300601202,
          7.593186372745492,
          7.61122244488978,
          7.629258517034068,
          7.647294589178357,
          7.6653306613226455,
          7.683366733466934,
          7.701402805611223,
          7.719438877755511,
          7.7374749498997994,
          7.755511022044089,
          7.773547094188377,
          7.791583166332666,
          7.809619238476954,
          7.8276553106212425,
          7.845691382765532,
          7.86372745490982,
          7.881763527054108,
          7.899799599198397,
          7.917835671342686,
          7.935871743486974,
          7.953907815631263,
          7.971943887775551,
          7.98997995991984,
          8.008016032064129,
          8.026052104208418,
          8.044088176352705,
          8.062124248496994,
          8.080160320641284,
          8.098196392785571,
          8.11623246492986,
          8.13426853707415,
          8.152304609218437,
          8.170340681362726,
          8.188376753507015,
          8.206412825651302,
          8.224448897795591,
          8.24248496993988,
          8.260521042084168,
          8.278557114228457,
          8.296593186372746,
          8.314629258517034,
          8.332665330661323,
          8.350701402805612,
          8.3687374749499,
          8.386773547094188,
          8.404809619238478,
          8.422845691382767,
          8.440881763527054,
          8.458917835671343,
          8.476953907815632,
          8.49498997995992,
          8.513026052104209,
          8.531062124248498,
          8.549098196392785,
          8.567134268537075,
          8.585170340681364,
          8.603206412825651,
          8.62124248496994,
          8.63927855711423,
          8.657314629258517,
          8.675350701402806,
          8.693386773547095,
          8.711422845691382,
          8.729458917835672,
          8.74749498997996,
          8.765531062124248,
          8.783567134268537,
          8.801603206412826,
          8.819639278557114,
          8.837675350701403,
          8.855711422845692,
          8.87374749498998,
          8.891783567134269,
          8.909819639278558,
          8.927855711422845,
          8.945891783567134,
          8.963927855711423,
          8.981963927855713,
          9
         ],
         "xaxis": "x",
         "y": [
          0.040951415718375656,
          0.04164189442652521,
          0.042336983500695625,
          0.04303683764513589,
          0.04374162430219384,
          0.04445152334923295,
          0.04516672674801562,
          0.04588743814698047,
          0.046613872436947784,
          0.04734625526089431,
          0.04808482247853659,
          0.04882981958655795,
          0.049581501095405024,
          0.050340129863668016,
          0.051105976391141165,
          0.05187931807174193,
          0.05266043840754691,
          0.053449626185275066,
          0.054247174616631505,
          0.05505338044399225,
          0.05586854301299095,
          0.056692963313643034,
          0.057526942991718205,
          0.058370783332153627,
          0.05922478421638152,
          0.06008924305552843,
          0.06096445370153352,
          0.06185070533832487,
          0.0627482813552889,
          0.0636574582053698,
          0.06457850425024007,
          0.06551167859509398,
          0.06645722991572958,
          0.067415395280701,
          0.06838639897144637,
          0.06937045130341973,
          0.0703677474513806,
          0.07137846628212251,
          0.0724027691980519,
          0.07344079899515076,
          0.07449267873898544,
          0.07555851066254098,
          0.07663837508977994,
          0.07773232938892885,
          0.07884040695960162,
          0.07996261625795449,
          0.08109893986414914,
          0.08224933359646348,
          0.08341372567643965,
          0.0845920159494909,
          0.08578407516539929,
          0.08698974432313158,
          0.088208834084366,
          0.08944112426006896,
          0.09068636337438218,
          0.09194426830996766,
          0.09321452403882917,
          0.09449678344245913,
          0.0957906672249674,
          0.09709576392262675,
          0.09841163001301,
          0.09973779012661409,
          0.10107373736354731,
          0.10241893371751463,
          0.10377281060895913,
          0.10513476952881953,
          0.10650418279393485,
          0.10788039441467608,
          0.1092627210749106,
          0.11065045322390939,
          0.11204285627929728,
          0.11343917193961431,
          0.11483861960452342,
          0.11624039790014523,
          0.11764368630645093,
          0.1190476468830879,
          0.1204514260894586,
          0.1218541566943242,
          0.12325495976967224,
          0.12465294676305273,
          0.12604722164209062,
          0.1274368831043883,
          0.12882102684557717,
          0.1301987478778422,
          0.13156914289084737,
          0.13293131264662453,
          0.13428436439966956,
          0.13562741433320247,
          0.13695959000232127,
          0.1382800327745828,
          0.1395879002584144,
          0.14088236870966758,
          0.14216263540659738,
          0.14342792098356613,
          0.14467747171385495,
          0.14591056173208689,
          0.14712649518696122,
          0.14832460831523248,
          0.14950427142816294,
          0.15066489080202078,
          0.1518059104645946,
          0.15292681387013204,
          0.15402712545560082,
          0.1551064120716976,
          0.15616428428259996,
          0.15720039752905346,
          0.15821445315002536,
          0.1592061992588128,
          0.1601754314701721,
          0.1611219934757422,
          0.1620457774657425,
          0.1629467243956448,
          0.16382482409725002,
          0.16468011523431253,
          0.16551268510357983,
          0.1663226692828139,
          0.16711025112805075,
          0.16787566112302776,
          0.16861917608434387,
          0.16934111822654102,
          0.17004185409187675,
          0.17072179335010046,
          0.17138138747406542,
          0.17202112829746316,
          0.17264154646139998,
          0.1732432097569107,
          0.17382672137082958,
          0.1743927180427296,
          0.17494186814086152,
          0.17547486966521858,
          0.1759924481859753,
          0.17649535472563968,
          0.17698436359328734,
          0.1774602701792453,
          0.17792388871851758,
          0.17837605003117069,
          0.17881759924772814,
          0.17924939352746863,
          0.17967229977728563,
          0.1800871923785381,
          0.1804949509290251,
          0.18089645800692924,
          0.18129259696323682,
          0.18168424974880068,
          0.18207229478184878,
          0.18245760486136622,
          0.18284104513139393,
          0.18322347110090065,
          0.18360572672348666,
          0.18398864254079075,
          0.18437303389308107,
          0.1847596992001262,
          0.18514941831506898,
          0.18554295095365803,
          0.18594103520084634,
          0.18634438609641543,
          0.1867536943009723,
          0.18716962484334734,
          0.18759281595013758,
          0.18802387795786266,
          0.1884633923079408,
          0.1889119106244594,
          0.189369953874487,
          0.18983801161046515,
          0.19031654129403391,
          0.19080596770046326,
          0.19130668240270285,
          0.19181904333390443,
          0.19234337442714794,
          0.19287996533094848,
          0.19342907119902156,
          0.19399091255265283,
          0.19456567521391632,
          0.195153510307875,
          0.19575453433179724,
          0.1963688292893136,
          0.19699644288734805,
          0.19763738879354623,
          0.19829164695182236,
          0.19895916395355087,
          0.1996398534618118,
          0.20033359668600187,
          0.2010402429040098,
          0.20175961002905235,
          0.20249148521815064,
          0.20323562551912577,
          0.2039917585528902,
          0.2047595832277013,
          0.20553877048195024,
          0.20632896405198003,
          0.20712978126132797,
          0.20794081382773308,
          0.20876162868418036,
          0.20959176881022015,
          0.21043075406976655,
          0.2112780820515765,
          0.21213322890861944,
          0.21299565019259176,
          0.21386478167988107,
          0.21474004018537576,
          0.21562082436063085,
          0.2165065154730397,
          0.21739647816283417,
          0.21829006117493546,
          0.21918659806291357,
          0.22008540786256367,
          0.2209857957329184,
          0.22188705356280478,
          0.22278846054143742,
          0.22368928369187435,
          0.22458877836659136,
          0.22548618870482603,
          0.22638074805178515,
          0.2272716793402676,
          0.22815819543570984,
          0.22903949944613164,
          0.2299147849989483,
          0.2307832364870759,
          0.23164402928723707,
          0.23249632995383548,
          0.23333929639221232,
          0.23417207801553183,
          0.23499381588994392,
          0.23580364287305133,
          0.236600683751059,
          0.23738405538027652,
          0.23815286683892087,
          0.23890621959538502,
          0.23964320769929517,
          0.24036291800181017,
          0.24106443041166192,
          0.24174681819344798,
          0.24240914831461602,
          0.2430504818474633,
          0.24366987443228535,
          0.24426637680755395,
          0.2448390354126955,
          0.24538689306865813,
          0.24590898974101308,
          0.2464043633898505,
          0.24687205091014697,
          0.24731108916570543,
          0.24772051611907034,
          0.24809937205914687,
          0.24844670092748478,
          0.24876155174340703,
          0.24904298012736395,
          0.24929004992103818,
          0.2495018349018854,
          0.24967742058893164,
          0.2498159061357722,
          0.2499164063058719,
          0.24997805352439773,
          0.25,
          0.24998141990914416,
          0.24992151163482768,
          0.24981950005078646,
          0.2496746388416146,
          0.2494862128485881,
          0.2492535404304255,
          0.24897597582770398,
          0.2486529115192273,
          0.24828378055829317,
          0.2478680588765114,
          0.24740526754266673,
          0.2468949749639799,
          0.246336799017133,
          0.2457304090964842,
          0.24507552806706043,
          0.24437193411017707,
          0.24361946244987376,
          0.24281800694878078,
          0.24196752156255494,
          0.24106802164261557,
          0.24011958507758507,
          0.23912235326459616,
          0.2380765319024354,
          0.23698239159937667,
          0.23584026828950222,
          0.23465056345228227,
          0.23341374413122332,
          0.23213034274845934,
          0.2308009567132439,
          0.2294262478234256,
          0.22800694146009712,
          0.22654382557674668,
          0.2250377494853522,
          0.22348962244297219,
          0.22190041204346297,
          0.22027114242002543,
          0.2186028922652843,
          0.2168967926765906,
          0.21515402483516616,
          0.2133758175285633,
          0.21156344452672673,
          0.2097182218226894,
          0.20784150474957036,
          0.2059346849861662,
          0.20399918746389595,
          0.20203646718831267,
          0.20004800598871053,
          0.19803530920961523,
          0.19599990235810963,
          0.19394332772101203,
          0.19186714096592597,
          0.1897729077400679,
          0.1876622002806103,
          0.18553659405000636,
          0.18339766440943303,
          0.1812469833430602,
          0.17908611624538995,
          0.1769166187833423,
          0.17474003384417136,
          0.1725578885796229,
          0.1703716915560391,
          0.1681829300193631,
          0.16599306728320104,
          0.1638035402472908,
          0.16161575705286854,
          0.1594310948805827,
          0.15725089789572025,
          0.15507647534464386,
          0.15290909980546485,
          0.1507500055951129,
          0.14860038733411296,
          0.1464613986695516,
          0.1443341511559048,
          0.14221971329262606,
          0.14011910971664956,
          0.13803332054725972,
          0.13596328088010814,
          0.13390988042655,
          0.13187396329388995,
          0.12985632790161228,
          0.127857727028193,
          0.12587886798267792,
          0.12392041289483624,
          0.12198297911739937,
          0.12006713973362211,
          0.11817342416320575,
          0.11630231885946925,
          0.11445426809054277,
          0.11262967479731419,
          0.1108289015208455,
          0.10905227139201433,
          0.10730006917622015,
          0.1055725423661086,
          0.10386990231542921,
          0.10219232540732946,
          0.10053995425060985,
          0.09891289889771065,
          0.09731123807847872,
          0.09573502044404761,
          0.09418426581548046,
          0.09265896643214691,
          0.091159088195139,
          0.08968457190137595,
          0.0882353344643934,
          0.0868112701181622,
          0.08541225160063062,
          0.08403813131403125,
          0.08268874245932675,
          0.08136390014251149,
          0.080063402450798,
          0.07878703149703503,
          0.07753455443100103,
          0.07630572441650087,
          0.07510028157346316,
          0.07391795388449102,
          0.07275845806555589,
          0.07162150040074258,
          0.07050677754116128,
          0.06941397726832552,
          0.06834277922246437,
          0.06729285559639311,
          0.06626387179569691,
          0.06525548706610841,
          0.06426735508905947,
          0.06329912454648004,
          0.062350439655992164,
          0.06142094067771199,
          0.06051026439391736,
          0.05961804456288538,
          0.058743912348226617,
          0.05788749672506208,
          0.05704842486440324,
          0.056226322497089844,
          0.05542081425864125,
          0.054631524016360775,
          0.053858075180016264,
          0.053100090997397466,
          0.052357194836022726,
          0.051629010452235606,
          0.05091516224889861,
          0.050215275522853264,
          0.049528976703272595,
          0.048855893581994075,
          0.048195655536870975,
          0.04754789374913729,
          0.04691224141572985,
          0.04628833395746364,
          0.04567580922390198,
          0.04507430769571236,
          0.044483472685241755,
          0.04390295053599108,
          0.04333239082160932,
          0.04277144654496869,
          0.04221977433782275,
          0.041677034661486055,
          0.041142892008910345,
          0.040617015108468296,
          0.04009907712968799,
          0.03958875589111481,
          0.03908573407040768,
          0.038589699416708076,
          0.038100344965247654,
          0.03761736925409174,
          0.037140476542841507,
          0.03666937703304931,
          0.03620378709002834,
          0.035743429465667886,
          0.03528803352179705,
          0.034837335453571594,
          0.03439107851229209,
          0.03394901322700011,
          0.03351089762413751,
          0.033076497444497484,
          0.03264558635664348,
          0.03221794616592387,
          0.031793367018165965,
          0.031371647597095334,
          0.03095259531449533,
          0.03053602649209253,
          0.030121766534138266,
          0.029709650089641423,
          0.029299521203202172,
          0.028891233453401482,
          0.028484650077706963,
          0.028079644082877334,
          0.02767609833987101,
          0.027273905662298044,
          0.026872968867497463,
          0.026473200819369488,
          0.02607452445214958,
          0.025676872774375113,
          0.02528018885236637,
          0.024884425772620702,
          0.024489546582602512,
          0.024095524209501847,
          0.023702341356627042,
          0.023309990377197436,
          0.022918473125404768,
          0.022527800784716643,
          0.022137993673505527,
          0.021749081028196646,
          0.021361100764238604,
          0.02097409921531286,
          0.02058813085130982,
          0.020203257975706636,
          0.019819550403092075,
          0.019437085117686766,
          0.01905594591380856,
          0.01867622301932951,
          0.018298012703263256,
          0.017921416868706356,
          0.01754654263243803,
          0.01717350189255569,
          0.01680241088558817,
          0.016433389734587953,
          0.016066561989752128,
          0.015702054163163975,
          0.015339995259278514,
          0.01498051630279965,
          0.014623749865610875,
          0.014269829594426091,
          0.013918889740823694,
          0.013571064695314416,
          0.013226488527070467,
          0.012885294530913607,
          0.012547614783120997,
          0.012213579707558837,
          0.011883317653600135,
          0.011556954487219948,
          0.011234613196591666,
          0.010916413513432116,
          0.010602471551262625,
          0.010292899461664338,
          0.009987805109515932,
          0.009687291768105956,
          0.009391457834912206,
          0.009100396568739382,
          0.008814195848802761,
          0.008532937956239,
          0.008256699378420464,
          0.007985550636342998,
          0.007719556135250968,
          0.00745877403855948,
          0.007203256165031457,
          0.0069530479090656105,
          0.006708188183855482
         ],
         "yaxis": "y"
        },
        {
         "line": {
          "color": "red",
          "dash": "dash"
         },
         "mode": "lines",
         "name": "Not Selected (KDE)",
         "type": "scatter",
         "x": [
          0,
          0.018036072144288578,
          0.036072144288577156,
          0.05410821643286573,
          0.07214428857715431,
          0.09018036072144289,
          0.10821643286573146,
          0.12625250501002006,
          0.14428857715430862,
          0.1623246492985972,
          0.18036072144288579,
          0.19839679358717435,
          0.21643286573146292,
          0.23446893787575152,
          0.2525050100200401,
          0.27054108216432865,
          0.28857715430861725,
          0.30661322645290584,
          0.3246492985971944,
          0.342685370741483,
          0.36072144288577157,
          0.3787575150300601,
          0.3967935871743487,
          0.4148296593186373,
          0.43286573146292584,
          0.45090180360721444,
          0.46893787575150303,
          0.4869739478957916,
          0.5050100200400802,
          0.5230460921843687,
          0.5410821643286573,
          0.5591182364729459,
          0.5771543086172345,
          0.5951903807615231,
          0.6132264529058117,
          0.6312625250501003,
          0.6492985971943888,
          0.6673346693386774,
          0.685370741482966,
          0.7034068136272545,
          0.7214428857715431,
          0.7394789579158317,
          0.7575150300601202,
          0.7755511022044088,
          0.7935871743486974,
          0.811623246492986,
          0.8296593186372746,
          0.8476953907815632,
          0.8657314629258517,
          0.8837675350701403,
          0.9018036072144289,
          0.9198396793587175,
          0.9378757515030061,
          0.9559118236472947,
          0.9739478957915833,
          0.9919839679358717,
          1.0100200400801604,
          1.028056112224449,
          1.0460921843687374,
          1.0641282565130261,
          1.0821643286573146,
          1.1002004008016033,
          1.1182364729458918,
          1.1362725450901805,
          1.154308617234469,
          1.1723446893787575,
          1.1903807615230462,
          1.2084168336673347,
          1.2264529058116234,
          1.2444889779559118,
          1.2625250501002006,
          1.280561122244489,
          1.2985971943887775,
          1.3166332665330662,
          1.3346693386773547,
          1.3527054108216434,
          1.370741482965932,
          1.3887775551102204,
          1.406813627254509,
          1.4248496993987976,
          1.4428857715430863,
          1.4609218436873748,
          1.4789579158316635,
          1.496993987975952,
          1.5150300601202404,
          1.5330661322645291,
          1.5511022044088176,
          1.5691382765531063,
          1.5871743486973948,
          1.6052104208416835,
          1.623246492985972,
          1.6412825651302605,
          1.6593186372745492,
          1.6773547094188377,
          1.6953907815631264,
          1.7134268537074149,
          1.7314629258517034,
          1.749498997995992,
          1.7675350701402806,
          1.7855711422845693,
          1.8036072144288577,
          1.8216432865731464,
          1.839679358717435,
          1.8577154308617234,
          1.8757515030060121,
          1.8937875751503006,
          1.9118236472945893,
          1.9298597194388778,
          1.9478957915831665,
          1.965931863727455,
          1.9839679358717435,
          2.002004008016032,
          2.020040080160321,
          2.038076152304609,
          2.056112224448898,
          2.0741482965931866,
          2.092184368737475,
          2.1102204408817635,
          2.1282565130260522,
          2.146292585170341,
          2.164328657314629,
          2.182364729458918,
          2.2004008016032066,
          2.218436873747495,
          2.2364729458917836,
          2.2545090180360723,
          2.272545090180361,
          2.2905811623246493,
          2.308617234468938,
          2.3266533066132267,
          2.344689378757515,
          2.3627254509018036,
          2.3807615230460923,
          2.398797595190381,
          2.4168336673346693,
          2.434869739478958,
          2.4529058116232467,
          2.470941883767535,
          2.4889779559118237,
          2.5070140280561124,
          2.525050100200401,
          2.5430861723446894,
          2.561122244488978,
          2.579158316633267,
          2.597194388777555,
          2.6152304609218437,
          2.6332665330661325,
          2.651302605210421,
          2.6693386773547094,
          2.687374749498998,
          2.705410821643287,
          2.723446893787575,
          2.741482965931864,
          2.7595190380761525,
          2.7775551102204408,
          2.7955911823647295,
          2.813627254509018,
          2.831663326653307,
          2.849699398797595,
          2.867735470941884,
          2.8857715430861726,
          2.903807615230461,
          2.9218436873747495,
          2.9398797595190382,
          2.957915831663327,
          2.975951903807615,
          2.993987975951904,
          3.0120240480961926,
          3.030060120240481,
          3.0480961923847696,
          3.0661322645290583,
          3.084168336673347,
          3.1022044088176353,
          3.120240480961924,
          3.1382765531062127,
          3.156312625250501,
          3.1743486973947896,
          3.1923847695390783,
          3.210420841683367,
          3.2284569138276553,
          3.246492985971944,
          3.2645290581162327,
          3.282565130260521,
          3.3006012024048097,
          3.3186372745490984,
          3.336673346693387,
          3.3547094188376754,
          3.372745490981964,
          3.390781563126253,
          3.408817635270541,
          3.4268537074148298,
          3.4448897795591185,
          3.4629258517034067,
          3.4809619238476954,
          3.498997995991984,
          3.517034068136273,
          3.535070140280561,
          3.55310621242485,
          3.5711422845691385,
          3.5891783567134268,
          3.6072144288577155,
          3.625250501002004,
          3.643286573146293,
          3.661322645290581,
          3.67935871743487,
          3.6973947895791586,
          3.715430861723447,
          3.7334669338677355,
          3.7515030060120242,
          3.769539078156313,
          3.787575150300601,
          3.80561122244489,
          3.8236472945891786,
          3.841683366733467,
          3.8597194388777556,
          3.8777555110220443,
          3.895791583166333,
          3.9138276553106213,
          3.93186372745491,
          3.9498997995991987,
          3.967935871743487,
          3.9859719438877756,
          4.004008016032064,
          4.022044088176353,
          4.040080160320642,
          4.05811623246493,
          4.076152304609218,
          4.094188376753507,
          4.112224448897796,
          4.130260521042084,
          4.148296593186373,
          4.166332665330661,
          4.18436873747495,
          4.202404809619239,
          4.220440881763527,
          4.238476953907816,
          4.2565130260521045,
          4.274549098196393,
          4.292585170340682,
          4.31062124248497,
          4.328657314629258,
          4.3466933867735476,
          4.364729458917836,
          4.382765531062124,
          4.400801603206413,
          4.4188376753507015,
          4.43687374749499,
          4.454909819639279,
          4.472945891783567,
          4.490981963927856,
          4.509018036072145,
          4.527054108216433,
          4.545090180360722,
          4.56312625250501,
          4.5811623246492985,
          4.599198396793588,
          4.617234468937876,
          4.635270541082164,
          4.653306613226453,
          4.671342685370742,
          4.68937875751503,
          4.707414829659319,
          4.725450901803607,
          4.7434869739478955,
          4.761523046092185,
          4.779559118236473,
          4.797595190380762,
          4.81563126252505,
          4.833667334669339,
          4.851703406813628,
          4.869739478957916,
          4.887775551102204,
          4.9058116232464934,
          4.923847695390782,
          4.94188376753507,
          4.959919839679359,
          4.977955911823647,
          4.995991983967936,
          5.014028056112225,
          5.032064128256513,
          5.050100200400802,
          5.0681362725450905,
          5.086172344689379,
          5.104208416833668,
          5.122244488977956,
          5.140280561122244,
          5.158316633266534,
          5.176352705410822,
          5.19438877755511,
          5.212424849699399,
          5.2304609218436875,
          5.248496993987976,
          5.266533066132265,
          5.284569138276553,
          5.302605210420842,
          5.320641282565131,
          5.338677354709419,
          5.356713426853708,
          5.374749498997996,
          5.3927855711422845,
          5.410821643286574,
          5.428857715430862,
          5.44689378757515,
          5.464929859719439,
          5.482965931863728,
          5.501002004008016,
          5.519038076152305,
          5.537074148296593,
          5.5551102204408815,
          5.573146292585171,
          5.591182364729459,
          5.609218436873748,
          5.627254509018036,
          5.645290581162325,
          5.663326653306614,
          5.681362725450902,
          5.69939879759519,
          5.7174348697394795,
          5.735470941883768,
          5.753507014028056,
          5.771543086172345,
          5.789579158316633,
          5.807615230460922,
          5.825651302605211,
          5.843687374749499,
          5.861723446893788,
          5.8797595190380765,
          5.897795591182365,
          5.915831663326654,
          5.933867735470942,
          5.95190380761523,
          5.96993987975952,
          5.987975951903808,
          6.006012024048096,
          6.024048096192385,
          6.0420841683366735,
          6.060120240480962,
          6.078156312625251,
          6.096192384769539,
          6.114228456913828,
          6.132264529058117,
          6.150300601202405,
          6.168336673346694,
          6.186372745490982,
          6.2044088176352705,
          6.22244488977956,
          6.240480961923848,
          6.258517034068136,
          6.276553106212425,
          6.294589178356714,
          6.312625250501002,
          6.330661322645291,
          6.348697394789579,
          6.3667334669338675,
          6.384769539078157,
          6.402805611222445,
          6.420841683366734,
          6.438877755511022,
          6.456913827655311,
          6.4749498997996,
          6.492985971943888,
          6.511022044088176,
          6.5290581162324655,
          6.547094188376754,
          6.565130260521042,
          6.583166332665331,
          6.601202404809619,
          6.619238476953908,
          6.637274549098197,
          6.655310621242485,
          6.673346693386774,
          6.6913827655310625,
          6.709418837675351,
          6.72745490981964,
          6.745490981963928,
          6.763527054108216,
          6.781563126252506,
          6.799599198396794,
          6.817635270541082,
          6.835671342685371,
          6.8537074148296595,
          6.871743486973948,
          6.889779559118237,
          6.907815631262525,
          6.925851703406813,
          6.943887775551103,
          6.961923847695391,
          6.97995991983968,
          6.997995991983968,
          7.0160320641282565,
          7.034068136272546,
          7.052104208416834,
          7.070140280561122,
          7.088176352705411,
          7.1062124248497,
          7.124248496993988,
          7.142284569138277,
          7.160320641282565,
          7.1783567134268536,
          7.196392785571143,
          7.214428857715431,
          7.23246492985972,
          7.250501002004008,
          7.268537074148297,
          7.286573146292586,
          7.304609218436874,
          7.322645290581162,
          7.3406813627254515,
          7.35871743486974,
          7.376753507014028,
          7.394789579158317,
          7.412825651302605,
          7.430861723446894,
          7.448897795591183,
          7.466933867735471,
          7.48496993987976,
          7.5030060120240485,
          7.521042084168337,
          7.539078156312626,
          7.557114228456914,
          7.575150300601202,
          7.593186372745492,
          7.61122244488978,
          7.629258517034068,
          7.647294589178357,
          7.6653306613226455,
          7.683366733466934,
          7.701402805611223,
          7.719438877755511,
          7.7374749498997994,
          7.755511022044089,
          7.773547094188377,
          7.791583166332666,
          7.809619238476954,
          7.8276553106212425,
          7.845691382765532,
          7.86372745490982,
          7.881763527054108,
          7.899799599198397,
          7.917835671342686,
          7.935871743486974,
          7.953907815631263,
          7.971943887775551,
          7.98997995991984,
          8.008016032064129,
          8.026052104208418,
          8.044088176352705,
          8.062124248496994,
          8.080160320641284,
          8.098196392785571,
          8.11623246492986,
          8.13426853707415,
          8.152304609218437,
          8.170340681362726,
          8.188376753507015,
          8.206412825651302,
          8.224448897795591,
          8.24248496993988,
          8.260521042084168,
          8.278557114228457,
          8.296593186372746,
          8.314629258517034,
          8.332665330661323,
          8.350701402805612,
          8.3687374749499,
          8.386773547094188,
          8.404809619238478,
          8.422845691382767,
          8.440881763527054,
          8.458917835671343,
          8.476953907815632,
          8.49498997995992,
          8.513026052104209,
          8.531062124248498,
          8.549098196392785,
          8.567134268537075,
          8.585170340681364,
          8.603206412825651,
          8.62124248496994,
          8.63927855711423,
          8.657314629258517,
          8.675350701402806,
          8.693386773547095,
          8.711422845691382,
          8.729458917835672,
          8.74749498997996,
          8.765531062124248,
          8.783567134268537,
          8.801603206412826,
          8.819639278557114,
          8.837675350701403,
          8.855711422845692,
          8.87374749498998,
          8.891783567134269,
          8.909819639278558,
          8.927855711422845,
          8.945891783567134,
          8.963927855711423,
          8.981963927855713,
          9
         ],
         "xaxis": "x",
         "y": [
          0.08430282418756013,
          0.08536418744078525,
          0.08641043311517964,
          0.08744161649945167,
          0.08845784379268627,
          0.08945927049241749,
          0.09044609960077662,
          0.09141857966450638,
          0.09237700266556503,
          0.09332170177982851,
          0.09425304902200175,
          0.09517145279531468,
          0.09607735536481671,
          0.09697123027320276,
          0.09785357971799993,
          0.0987249319086853,
          0.09958583842187911,
          0.10043687157214591,
          0.10127862181518481,
          0.1021116951992777,
          0.10293671087981258,
          0.10375429871052601,
          0.10456509692382164,
          0.10536974991111937,
          0.10616890611273949,
          0.10696321602527613,
          0.10775333033283363,
          0.10853989816689229,
          0.10932356549794818,
          0.11010497366044757,
          0.11088475801097512,
          0.11166354671808444,
          0.1124419596807201,
          0.11322060757075264,
          0.11400009099388084,
          0.1147809997619538,
          0.11556391226871472,
          0.11634939496005284,
          0.11713800188906452,
          0.11793027434564007,
          0.11872674054979755,
          0.11952791539775738,
          0.12033430024958665,
          0.12114638274733691,
          0.12196463665281326,
          0.1227895216944958,
          0.12362148341369286,
          0.12446095300070072,
          0.1253083471125717,
          0.12616406766506558,
          0.1270285015924211,
          0.12790202056976588,
          0.1287849806942132,
          0.1296777221220286,
          0.1305805686605755,
          0.1314938273151365,
          0.13241778779207566,
          0.13335272196116527,
          0.13429888328120995,
          0.13525650619435803,
          0.13622580549567534,
          0.13720697568561807,
          0.1382001903140215,
          0.13920560132504176,
          0.14022333841317824,
          0.14125350840103737,
          0.14229619464984344,
          0.14335145651390918,
          0.14441932885024863,
          0.14549982159435065,
          0.14659291941275146,
          0.14769858144247336,
          0.14881674112666435,
          0.14994730615486668,
          0.15109015851522045,
          0.15224515466472474,
          0.15341212582226466,
          0.15459087838761373,
          0.1557811944880413,
          0.15698283265244872,
          0.15819552861119388,
          0.15941899621799674,
          0.1606529284885003,
          0.16189699874824834,
          0.1631508618810988,
          0.1644141556673734,
          0.16568650219943368,
          0.1669675093608443,
          0.16825677235393738,
          0.16955387525934187,
          0.1708583926100167,
          0.17216989096146784,
          0.17348793043919514,
          0.17481206624402038,
          0.1761418500957482,
          0.17747683159573452,
          0.1788165594892335,
          0.18016058280901778,
          0.18150845188259607,
          0.1828597191864833,
          0.18421394003230787,
          0.18557067307115696,
          0.18692948060436326,
          0.18828992869098196,
          0.18965158704439347,
          0.19101402871289094,
          0.19237682954160576,
          0.1937395674157804,
          0.1951018212881373,
          0.19646316999585117,
          0.19782319087547073,
          0.19918145818692104,
          0.20053754136047006,
          0.20189100308324712,
          0.2032413972444423,
          0.20458826676077113,
          0.20593114130601092,
          0.2072695349705066,
          0.20860294387829617,
          0.2099308437911092,
          0.21125268772972414,
          0.21256790364414488,
          0.2138758921646704,
          0.21517602446625586,
          0.21646764027847787,
          0.21775004607300502,
          0.21902251345973414,
          0.2202842778215675,
          0.22153453721636057,
          0.22277245157271258,
          0.22399714220412498,
          0.2252076916635415,
          0.22640314395756994,
          0.22758250513655823,
          0.22874474427352032,
          0.2298887948413104,
          0.23101355649386035,
          0.23211789725345328,
          0.23320065610209814,
          0.23426064597111956,
          0.2352966571191042,
          0.236307460884338,
          0.23729181379403616,
          0.2382484620088376,
          0.2391761460774039,
          0.24007360597252528,
          0.2409395863769145,
          0.2417728421838725,
          0.2425721441754147,
          0.24333628483803782,
          0.24406408427439144,
          0.2447543961674562,
          0.24540611375269047,
          0.24601817575277293,
          0.24658957222921932,
          0.24711935030522994,
          0.24760661971462605,
          0.24805055813264298,
          0.24845041624577435,
          0.24880552251953328,
          0.2491152876252757,
          0.2493792084896936,
          0.24959687193351,
          0.24976795786915257,
          0.24989224203062937,
          0.24996959821265158,
          0.25,
          0.24998352197228102,
          0.24992034037352956,
          0.2498107332404867,
          0.24965507998779773,
          0.24945386045281542,
          0.24920765340708886,
          0.2489171345458881,
          0.24858307397128587,
          0.24820633318835222,
          0.2477878616377315,
          0.24732869279145725,
          0.24682993984207988,
          0.2462927910181397,
          0.2457185045615865,
          0.24510840340500176,
          0.24446386958830577,
          0.2437863384560897,
          0.24307729267774916,
          0.24233825613322535,
          0.24157078770736157,
          0.2407764750356853,
          0.2399569282438107,
          0.2391137737216769,
          0.23824864797244688,
          0.2373631915741679,
          0.2364590432902389,
          0.23553783436237904,
          0.2346011830171467,
          0.23365068921419088,
          0.23268792966136456,
          0.23171445311856725,
          0.23073177600884953,
          0.22974137835183783,
          0.22874470003108058,
          0.2277431374033772,
          0.22673804025472635,
          0.22573070910411486,
          0.22472239285309178,
          0.22371428677594538,
          0.22270753084232014,
          0.2217032083613951,
          0.22070234493417573,
          0.21970590769826723,
          0.2187148048474304,
          0.21772988540662408,
          0.216751939241816,
          0.21578169728279156,
          0.21481983193648174,
          0.21386695766789088,
          0.21292363172563494,
          0.2119903549893098,
          0.21106757291643727,
          0.21015567656752923,
          0.2092550036889056,
          0.20836583983419465,
          0.20748841950701102,
          0.20662292730903026,
          0.2057694990795728,
          0.20492822301487523,
          0.20409914075734367,
          0.20328224844731196,
          0.20247749773207613,
          0.20168479672924255,
          0.20090401094363666,
          0.2001349641392219,
          0.19937743916951933,
          0.19863117877202258,
          0.1978958863338727,
          0.19717122663772646,
          0.19645682659820166,
          0.1957522760004839,
          0.19505712825372323,
          0.19437090117257477,
          0.1936930778007634,
          0.19302310729078298,
          0.19236040585384082,
          0.19170435779385492,
          0.19105431663879982,
          0.19040960638189458,
          0.18976952284410106,
          0.18913333516816672,
          0.18850028745296402,
          0.18786960053525628,
          0.18724047392420157,
          0.18661208789194836,
          0.18598360572162356,
          0.18535417611186625,
          0.18472293573482662,
          0.18408901194234034,
          0.18345152561273784,
          0.18280959412855147,
          0.18216233447322597,
          0.18150886643291503,
          0.18084831588746952,
          0.18017981817297332,
          0.1795025214965253,
          0.1788155903825538,
          0.178118209128713,
          0.1774095852484209,
          0.1766889528763366,
          0.17595557611258075,
          0.17520875228125055,
          0.17444781507881865,
          0.1736721375882861,
          0.17288113513553058,
          0.1720742679651097,
          0.17125104371386052,
          0.17041101966195205,
          0.16955380474261345,
          0.168679061293512,
          0.16778650653473845,
          0.16687591376047006,
          0.16594711323369102,
          0.16499999277576305,
          0.164034498045129,
          0.16305063250207086,
          0.16204845705901638,
          0.1610280894185969,
          0.15998970310424354,
          0.1589335261907571,
          0.15785983974476966,
          0.1567689759874901,
          0.15566131619440352,
          0.1545372883488058,
          0.15339736456800465,
          0.15224205832288548,
          0.1510719214731153,
          0.14988754114166006,
          0.1486895364534367,
          0.14747855516384978,
          0.14625527020359186,
          0.1450203761665115,
          0.14377458576747862,
          0.14251862629707246,
          0.14125323609953683,
          0.13997916109982936,
          0.13869715140474917,
          0.13740795800201785,
          0.1361123295799218,
          0.1348110094886055,
          0.1335047328624502,
          0.1321942239211341,
          0.13088019346500465,
          0.12956333657830732,
          0.12824433055164894,
          0.12692383303281404,
          0.12560248041278,
          0.12428088645147085,
          0.12295964114547062,
          0.12163930983766721,
          0.12032043256656179,
          0.11900352365083354,
          0.11768907150270151,
          0.11637753866167287,
          0.11506936203848092,
          0.11376495335732204,
          0.11246469978303791,
          0.11116896471853073,
          0.10987808875657865,
          0.10859239076924873,
          0.10731216911736195,
          0.10603770296189742,
          0.10476925365886848,
          0.10350706621904719,
          0.10225137081394159,
          0.10100238430966274,
          0.09976031181072188,
          0.09852534819637834,
          0.09729767963289618,
          0.09607748504596299,
          0.09486493753854036,
          0.0936602057405709,
          0.09246345507819916,
          0.09127484895151997,
          0.09009454981125219,
          0.08892272012620761,
          0.08775952323492048,
          0.08660512407629958,
          0.08545968979569253,
          0.08432339022424572,
          0.08319639823089187,
          0.08207888994773817,
          0.08097104487096474,
          0.07987304584063301,
          0.078785078904002,
          0.07770733306804034,
          0.07663999994783068,
          0.07558327331843033,
          0.0745373485785329,
          0.07350242213490238,
          0.07247869071707448,
          0.07146635063221131,
          0.07046559697026068,
          0.0694766227697001,
          0.06849961815418315,
          0.06753476945028809,
          0.06658225829638399,
          0.06564226075229011,
          0.06471494641902278,
          0.0638004775774149,
          0.06289900835382493,
          0.06201068392050968,
          0.061135639737545544,
          0.06027400084243225,
          0.05942588119273751,
          0.05859138306633853,
          0.05777059652300165,
          0.056963598930217095,
          0.05617045455539927,
          0.05539121422576425,
          0.05462591505642799,
          0.053874580246535866,
          0.053137218942538963,
          0.05241382616709071,
          0.051704382811446105,
          0.05100885568872254,
          0.05032719764490625,
          0.049659347724096956,
          0.0490052313841499,
          0.048364760758610584,
          0.04773783496065233,
          0.04712434042459355,
          0.046524151280522154,
          0.0459371297575612,
          0.04536312661136872,
          0.04480198157160179,
          0.04425352380523468,
          0.04371757239185471,
          0.04319393680731244,
          0.04268241741240397,
          0.042182805943584305,
          0.04169488600305354,
          0.04121843354592887,
          0.040753217362566756,
          0.04029899955448886,
          0.03985553600271936,
          0.03942257682770384,
          0.03899986684032174,
          0.03858714598382225,
          0.0381841497668119,
          0.03779060968768957,
          0.03740625365115598,
          0.037030806377625285,
          0.03666398980652756,
          0.03630552349461173,
          0.03595512501044175,
          0.0356125103263185,
          0.03527739420886511,
          0.03494949060946924,
          0.03462851305571283,
          0.034314175044798584,
          0.034006190439849586,
          0.03370427386978543,
          0.03340814113327906,
          0.033117509607088334,
          0.032832098658812606,
          0.03255163006388401,
          0.03227582842634258,
          0.032004421602685275,
          0.03173714112782022,
          0.03147372264190331,
          0.03121390631658923,
          0.030957437279001136,
          0.03070406603150902,
          0.030453548865220285,
          0.030205648264917475,
          0.029960133303045935,
          0.029716780020246733,
          0.029475371789857756,
          0.029235699663769446,
          0.02899756269701874,
          0.028760768248539702,
          0.02852513225555959,
          0.028290479479237008,
          0.028056643719279635,
          0.027823467995455913,
          0.027590804694121337,
          0.02735851567811939,
          0.027126472358678152,
          0.026894555728214864,
          0.02666265635326629,
          0.02643067432709009,
          0.02619851918181868,
          0.02596610976039611,
          0.02573337404887857,
          0.02550024897003326,
          0.025266680139517432,
          0.02503262158626251,
          0.02479803543901547,
          0.024562891581304105,
          0.024327167277386735,
          0.024090846772017113,
          0.023853920867100073,
          0.023616386478529892,
          0.02337824617668568,
          0.023139507714209924,
          0.02290018354480938,
          0.022660290336896354,
          0.022419848485927887,
          0.022178881629302788,
          0.021937416167638047,
          0.02169548079617529,
          0.021453106049952854,
          0.02121032386623571,
          0.020967167167511513,
          0.02072366946815008,
          0.020479864507579965,
          0.020235785912566612,
          0.019991466890882374,
          0.019746939958345217,
          0.019502236700869195,
          0.019257387572825968,
          0.019012421732659643,
          0.01876736691633398,
          0.018522249348827048,
          0.018277093693523868,
          0.01803192303899712,
          0.01778675892231665,
          0.017541621387688073,
          0.01729652907889652,
          0.01705149936372711,
          0.016806548488247527,
          0.01656169175857799,
          0.01631694374753809,
          0.016072318523354914,
          0.01582782989743664,
          0.015583491688072668,
          0.01533931799680566,
          0.015095323494139896,
          0.014851523711202111,
          0.014607935333956094,
          0.01436457649658916,
          0.014121467070738263
         ],
         "yaxis": "y"
        },
        {
         "marker": {
          "color": "blue"
         },
         "name": "I am too busy (Bar)",
         "type": "bar",
         "x": [
          0,
          1,
          2,
          3,
          4,
          5,
          6,
          7,
          8,
          9,
          10,
          12
         ],
         "xaxis": "x2",
         "y": [
          0.014705882352941176,
          0.058823529411764705,
          0.14705882352941177,
          0.17647058823529413,
          0.14705882352941177,
          0.17647058823529413,
          0.08823529411764706,
          0.04411764705882353,
          0.029411764705882353,
          0.014705882352941176,
          0.07352941176470588,
          0.029411764705882353
         ],
         "yaxis": "y2"
        },
        {
         "marker": {
          "color": "red"
         },
         "name": "Not Selected (Bar)",
         "type": "bar",
         "x": [
          0,
          1,
          2,
          3,
          4,
          5,
          6,
          7,
          8,
          9,
          10,
          11
         ],
         "xaxis": "x2",
         "y": [
          0.09022556390977443,
          0.11027568922305764,
          0.16290726817042606,
          0.17293233082706766,
          0.11027568922305764,
          0.12280701754385964,
          0.09523809523809523,
          0.03759398496240601,
          0.03258145363408521,
          0.017543859649122806,
          0.03759398496240601,
          0.010025062656641603
         ],
         "yaxis": "y2"
        },
        {
         "line": {
          "color": "blue",
          "dash": "dash"
         },
         "mode": "lines",
         "name": "I am too busy (KDE)",
         "type": "scatter",
         "x": [
          0,
          0.02404809619238477,
          0.04809619238476954,
          0.07214428857715431,
          0.09619238476953908,
          0.12024048096192384,
          0.14428857715430862,
          0.1683366733466934,
          0.19238476953907815,
          0.21643286573146292,
          0.24048096192384769,
          0.26452905811623245,
          0.28857715430861725,
          0.312625250501002,
          0.3366733466933868,
          0.3607214428857715,
          0.3847695390781563,
          0.4088176352705411,
          0.43286573146292584,
          0.45691382765531063,
          0.48096192384769537,
          0.5050100200400801,
          0.5290581162324649,
          0.5531062124248497,
          0.5771543086172345,
          0.6012024048096193,
          0.625250501002004,
          0.6492985971943888,
          0.6733466933867736,
          0.6973947895791583,
          0.721442885771543,
          0.7454909819639278,
          0.7695390781563126,
          0.7935871743486974,
          0.8176352705410822,
          0.8416833667334669,
          0.8657314629258517,
          0.8897795591182365,
          0.9138276553106213,
          0.937875751503006,
          0.9619238476953907,
          0.9859719438877755,
          1.0100200400801602,
          1.034068136272545,
          1.0581162324649298,
          1.0821643286573146,
          1.1062124248496994,
          1.1302605210420842,
          1.154308617234469,
          1.1783567134268538,
          1.2024048096192386,
          1.2264529058116231,
          1.250501002004008,
          1.2745490981963927,
          1.2985971943887775,
          1.3226452905811623,
          1.346693386773547,
          1.370741482965932,
          1.3947895791583167,
          1.4188376753507015,
          1.442885771543086,
          1.4669338677354709,
          1.4909819639278556,
          1.5150300601202404,
          1.5390781563126252,
          1.56312625250501,
          1.5871743486973948,
          1.6112224448897796,
          1.6352705410821644,
          1.659318637274549,
          1.6833667334669338,
          1.7074148296593186,
          1.7314629258517034,
          1.7555110220440882,
          1.779559118236473,
          1.8036072144288577,
          1.8276553106212425,
          1.8517034068136273,
          1.875751503006012,
          1.8997995991983967,
          1.9238476953907815,
          1.9478957915831663,
          1.971943887775551,
          1.9959919839679359,
          2.0200400801603204,
          2.0440881763527052,
          2.06813627254509,
          2.092184368737475,
          2.1162324649298596,
          2.1402805611222444,
          2.164328657314629,
          2.188376753507014,
          2.212424849699399,
          2.2364729458917836,
          2.2605210420841684,
          2.284569138276553,
          2.308617234468938,
          2.3326653306613228,
          2.3567134268537075,
          2.3807615230460923,
          2.404809619238477,
          2.4288577154308615,
          2.4529058116232463,
          2.476953907815631,
          2.501002004008016,
          2.5250501002004007,
          2.5490981963927855,
          2.5731462925851702,
          2.597194388777555,
          2.62124248496994,
          2.6452905811623246,
          2.6693386773547094,
          2.693386773547094,
          2.717434869739479,
          2.741482965931864,
          2.7655310621242486,
          2.7895791583166334,
          2.813627254509018,
          2.837675350701403,
          2.8617234468937873,
          2.885771543086172,
          2.909819639278557,
          2.9338677354709417,
          2.9579158316633265,
          2.9819639278557113,
          3.006012024048096,
          3.030060120240481,
          3.0541082164328657,
          3.0781563126252505,
          3.1022044088176353,
          3.12625250501002,
          3.150300601202405,
          3.1743486973947896,
          3.1983967935871744,
          3.2224448897795592,
          3.246492985971944,
          3.270541082164329,
          3.2945891783567136,
          3.318637274549098,
          3.3426853707414828,
          3.3667334669338675,
          3.3907815631262523,
          3.414829659318637,
          3.438877755511022,
          3.4629258517034067,
          3.4869739478957915,
          3.5110220440881763,
          3.535070140280561,
          3.559118236472946,
          3.5831663326653307,
          3.6072144288577155,
          3.6312625250501003,
          3.655310621242485,
          3.67935871743487,
          3.7034068136272547,
          3.7274549098196395,
          3.751503006012024,
          3.7755511022044086,
          3.7995991983967934,
          3.823647294589178,
          3.847695390781563,
          3.8717434869739478,
          3.8957915831663326,
          3.9198396793587174,
          3.943887775551102,
          3.967935871743487,
          3.9919839679358717,
          4.0160320641282565,
          4.040080160320641,
          4.064128256513026,
          4.0881763527054105,
          4.112224448897796,
          4.13627254509018,
          4.160320641282565,
          4.18436873747495,
          4.208416833667335,
          4.232464929859719,
          4.2565130260521045,
          4.280561122244489,
          4.304609218436874,
          4.328657314629258,
          4.352705410821644,
          4.376753507014028,
          4.400801603206412,
          4.424849699398798,
          4.448897795591182,
          4.472945891783567,
          4.4969939879759515,
          4.521042084168337,
          4.545090180360721,
          4.569138276553106,
          4.593186372745491,
          4.617234468937876,
          4.64128256513026,
          4.6653306613226455,
          4.68937875751503,
          4.713426853707415,
          4.7374749498997994,
          4.761523046092185,
          4.785571142284569,
          4.809619238476954,
          4.833667334669339,
          4.857715430861723,
          4.881763527054108,
          4.905811623246493,
          4.929859719438878,
          4.953907815631262,
          4.977955911823647,
          5.002004008016032,
          5.026052104208417,
          5.050100200400801,
          5.074148296593187,
          5.098196392785571,
          5.122244488977956,
          5.1462925851703405,
          5.170340681362726,
          5.19438877755511,
          5.218436873747495,
          5.24248496993988,
          5.266533066132265,
          5.290581162324649,
          5.314629258517034,
          5.338677354709419,
          5.362725450901803,
          5.386773547094188,
          5.410821643286573,
          5.434869739478958,
          5.458917835671342,
          5.482965931863728,
          5.507014028056112,
          5.531062124248497,
          5.5551102204408815,
          5.579158316633267,
          5.603206412825651,
          5.627254509018036,
          5.651302605210421,
          5.675350701402806,
          5.69939879759519,
          5.723446893787575,
          5.74749498997996,
          5.771543086172344,
          5.7955911823647295,
          5.819639278557114,
          5.843687374749499,
          5.867735470941883,
          5.891783567134269,
          5.915831663326653,
          5.939879759519038,
          5.963927855711423,
          5.987975951903808,
          6.012024048096192,
          6.036072144288577,
          6.060120240480962,
          6.084168336673347,
          6.108216432865731,
          6.132264529058117,
          6.156312625250501,
          6.180360721442885,
          6.2044088176352705,
          6.228456913827655,
          6.25250501002004,
          6.2765531062124245,
          6.30060120240481,
          6.324649298597194,
          6.348697394789579,
          6.372745490981964,
          6.396793587174349,
          6.420841683366733,
          6.4448897795591185,
          6.468937875751503,
          6.492985971943888,
          6.517034068136272,
          6.541082164328658,
          6.565130260521042,
          6.589178356713427,
          6.613226452905812,
          6.637274549098196,
          6.661322645290581,
          6.6853707414829655,
          6.709418837675351,
          6.733466933867735,
          6.75751503006012,
          6.781563126252505,
          6.80561122244489,
          6.829659318637274,
          6.8537074148296595,
          6.877755511022044,
          6.901803607214429,
          6.925851703406813,
          6.949899799599199,
          6.973947895791583,
          6.997995991983968,
          7.022044088176353,
          7.046092184368737,
          7.070140280561122,
          7.0941883767535066,
          7.118236472945892,
          7.142284569138276,
          7.166332665330661,
          7.190380761523046,
          7.214428857715431,
          7.238476953907815,
          7.2625250501002006,
          7.286573146292585,
          7.31062124248497,
          7.3346693386773545,
          7.35871743486974,
          7.382765531062124,
          7.406813627254509,
          7.430861723446894,
          7.454909819639279,
          7.478957915831663,
          7.503006012024048,
          7.527054108216433,
          7.551102204408817,
          7.575150300601202,
          7.599198396793587,
          7.623246492985972,
          7.647294589178356,
          7.671342685370742,
          7.695390781563126,
          7.719438877755511,
          7.7434869739478955,
          7.767535070140281,
          7.791583166332665,
          7.81563126252505,
          7.839679358717435,
          7.86372745490982,
          7.887775551102204,
          7.9118236472945895,
          7.935871743486974,
          7.959919839679358,
          7.9839679358717435,
          8.008016032064129,
          8.032064128256513,
          8.056112224448897,
          8.080160320641282,
          8.104208416833668,
          8.128256513026052,
          8.152304609218437,
          8.176352705410821,
          8.200400801603207,
          8.224448897795591,
          8.248496993987976,
          8.27254509018036,
          8.296593186372746,
          8.32064128256513,
          8.344689378757515,
          8.3687374749499,
          8.392785571142284,
          8.41683366733467,
          8.440881763527054,
          8.464929859719438,
          8.488977955911823,
          8.513026052104209,
          8.537074148296593,
          8.561122244488978,
          8.585170340681362,
          8.609218436873748,
          8.633266533066132,
          8.657314629258517,
          8.681362725450901,
          8.705410821643287,
          8.729458917835672,
          8.753507014028056,
          8.77755511022044,
          8.801603206412825,
          8.82565130260521,
          8.849699398797595,
          8.87374749498998,
          8.897795591182364,
          8.92184368737475,
          8.945891783567134,
          8.969939879759519,
          8.993987975951903,
          9.01803607214429,
          9.042084168336673,
          9.066132264529058,
          9.090180360721442,
          9.114228456913828,
          9.138276553106213,
          9.162324649298597,
          9.186372745490981,
          9.210420841683367,
          9.234468937875752,
          9.258517034068136,
          9.28256513026052,
          9.306613226452905,
          9.330661322645291,
          9.354709418837675,
          9.37875751503006,
          9.402805611222444,
          9.42685370741483,
          9.450901803607215,
          9.474949899799599,
          9.498997995991983,
          9.52304609218437,
          9.547094188376754,
          9.571142284569138,
          9.595190380761522,
          9.619238476953909,
          9.643286573146293,
          9.667334669338677,
          9.691382765531062,
          9.715430861723446,
          9.739478957915832,
          9.763527054108216,
          9.7875751503006,
          9.811623246492985,
          9.835671342685371,
          9.859719438877756,
          9.88376753507014,
          9.907815631262524,
          9.93186372745491,
          9.955911823647295,
          9.97995991983968,
          10.004008016032063,
          10.02805611222445,
          10.052104208416834,
          10.076152304609218,
          10.100200400801603,
          10.124248496993987,
          10.148296593186373,
          10.172344689378757,
          10.196392785571142,
          10.220440881763526,
          10.244488977955912,
          10.268537074148297,
          10.292585170340681,
          10.316633266533065,
          10.340681362725451,
          10.364729458917836,
          10.38877755511022,
          10.412825651302605,
          10.43687374749499,
          10.460921843687375,
          10.48496993987976,
          10.509018036072144,
          10.53306613226453,
          10.557114228456914,
          10.581162324649299,
          10.605210420841683,
          10.629258517034067,
          10.653306613226453,
          10.677354709418838,
          10.701402805611222,
          10.725450901803606,
          10.749498997995993,
          10.773547094188377,
          10.797595190380761,
          10.821643286573146,
          10.845691382765532,
          10.869739478957916,
          10.8937875751503,
          10.917835671342685,
          10.94188376753507,
          10.965931863727455,
          10.98997995991984,
          11.014028056112224,
          11.038076152304608,
          11.062124248496994,
          11.086172344689379,
          11.110220440881763,
          11.134268537074147,
          11.158316633266534,
          11.182364729458918,
          11.206412825651302,
          11.230460921843687,
          11.254509018036073,
          11.278557114228457,
          11.302605210420841,
          11.326653306613226,
          11.350701402805612,
          11.374749498997996,
          11.39879759519038,
          11.422845691382765,
          11.44689378757515,
          11.470941883767535,
          11.49498997995992,
          11.519038076152304,
          11.543086172344688,
          11.567134268537075,
          11.591182364729459,
          11.615230460921843,
          11.639278557114228,
          11.663326653306614,
          11.687374749498998,
          11.711422845691382,
          11.735470941883767,
          11.759519038076153,
          11.783567134268537,
          11.807615230460922,
          11.831663326653306,
          11.855711422845692,
          11.879759519038076,
          11.90380761523046,
          11.927855711422845,
          11.95190380761523,
          11.975951903807616,
          12
         ],
         "xaxis": "x2",
         "y": [
          0.03786987892337162,
          0.03876907876870276,
          0.03968149507426492,
          0.04060708122884079,
          0.04154578234832696,
          0.04249753514343992,
          0.0434622677934963,
          0.044439899826633614,
          0.0454303420068367,
          0.04643349622813586,
          0.04744925541633929,
          0.04847750343866113,
          0.04951811502160149,
          0.050570955677431105,
          0.05163588163962667,
          0.052712739807596505,
          0.0538013677010287,
          0.05490159342418323,
          0.05601323564044198,
          0.05713610355741718,
          0.058269996922907734,
          0.0594147060319785,
          0.06057001174542506,
          0.06173568551986789,
          0.06291148944970706,
          0.06409717632114566,
          0.06529248967847869,
          0.06649716390281665,
          0.06771092430339727,
          0.06893348722161752,
          0.07016456014789049,
          0.07140384185141521,
          0.07265102252291686,
          0.07390578393039525,
          0.07516779958788881,
          0.07643673493723839,
          0.07771224754280803,
          0.07899398729908903,
          0.0802815966510905,
          0.08157471082738607,
          0.08287295808566307,
          0.08417595997058529,
          0.08548333158375836,
          0.08679468186554888,
          0.08810961388848876,
          0.08942772516195738,
          0.09074860794781327,
          0.09207184958661016,
          0.09339703283401206,
          0.0947237362069842,
          0.09605153433931732,
          0.09737999834601146,
          0.09870869619601558,
          0.10003719309280013,
          0.10136505186221025,
          0.10269183334702181,
          0.10401709680760239,
          0.10534040032805345,
          0.10666130122719306,
          0.10797935647371232,
          0.10929412310482396,
          0.11060515864770476,
          0.11191202154301247,
          0.1132142715697462,
          0.11451147027070842,
          0.11580318137780793,
          0.117088971236439,
          0.11836840922816251,
          0.11964106819090416,
          0.12090652483588457,
          0.12216436016049013,
          0.12341415985629194,
          0.12465551471142165,
          0.1258880210065149,
          0.12711128090343643,
          0.12832490282600684,
          0.12952850183196213,
          0.13072169997537994,
          0.13190412665882884,
          0.13307541897449787,
          0.1342352220335929,
          0.13538318928329043,
          0.13651898281057212,
          0.1376422736322722,
          0.138752741970705,
          0.13985007751425432,
          0.14093397966234153,
          0.1420041577542126,
          0.14306033128101744,
          0.14410223008068718,
          0.14512959451514335,
          0.14614217562941972,
          0.14713973529229926,
          0.14812204631812045,
          0.14908889256943672,
          0.15004006904026057,
          0.15097538191966176,
          0.15189464863553262,
          0.15279769787838016,
          0.15368436960504628,
          0.15455451502230672,
          0.15540799655034182,
          0.15624468776612535,
          0.15706447332681905,
          0.15786724887331388,
          0.15865292091410368,
          0.1594214066897299,
          0.16017263401807944,
          0.16090654112087174,
          0.16162307643171483,
          0.16232219838616282,
          0.16300387519425164,
          0.16366808459603807,
          0.16431481360071212,
          0.16494405820990235,
          0.16555582312583367,
          0.16615012144504143,
          0.16672697433838884,
          0.16728641071817635,
          0.16782846689316655,
          0.16835318621238912,
          0.1688606186986254,
          0.16935082067250226,
          0.16982385436816272,
          0.17027978754150183,
          0.17071869307199045,
          0.1711406485591285,
          0.17154573591459565,
          0.17193404095118078,
          0.17230565296959305,
          0.17266066434426858,
          0.17299917010929491,
          0.17332126754558694,
          0.17362705577044882,
          0.1739166353306584,
          0.17419010780020822,
          0.1744475753838308,
          0.17468914052742845,
          0.17491490553651462,
          0.17512497220375528,
          0.1753194414466856,
          0.1754984129566482,
          0.17566198485997753,
          0.17581025339242404,
          0.17594331258777834,
          0.17606125398162284,
          0.17616416633109433,
          0.1762521353515037,
          0.17632524347061157,
          0.17638356960131055,
          0.17642718893341372,
          0.1764561727451986,
          0.17647058823529413,
          0.176470498375447,
          0.1764559617846367,
          0.17642703262495105,
          0.17638376051956695,
          0.17632619049311654,
          0.17625436293465055,
          0.17616831358334425,
          0.17606807353701862,
          0.17595366928348244,
          0.1758251227546294,
          0.17568245140314967,
          0.17552566830165187,
          0.17535478226391213,
          0.17516979798790358,
          0.17497071622018276,
          0.17475753394115043,
          0.17453024457062458,
          0.17428883819311008,
          0.174033301802073,
          0.17376361956247474,
          0.1734797730907557,
          0.17318174175140189,
          0.172869502969171,
          0.1725430325560055,
          0.1722023050516078,
          0.17184729407660604,
          0.17147797269720066,
          0.17109431380013618,
          0.17069629047681398,
          0.17028387641532455,
          0.16985704629915485,
          0.16941577621129836,
          0.16896004404248244,
          0.16848982990220462,
          0.16800511653126843,
          0.16750588971449346,
          0.16699213869228247,
          0.1664638565697223,
          0.16592104072191027,
          0.16536369319420371,
          0.16479182109611143,
          0.16420543698756096,
          0.16360455925630676,
          0.1629892124852671,
          0.16235942780861656,
          0.16171524325549097,
          0.16105670408021225,
          0.1603838630779731,
          0.15969678088498124,
          0.15899552626210572,
          0.1582801763611264,
          0.1575508169727432,
          0.1568075427555636,
          0.15605045744534676,
          0.1552796740438497,
          0.15449531498668567,
          0.15369751228967365,
          0.1528864076732296,
          0.15206215266441675,
          0.15122490867634905,
          0.15037484706470977,
          0.1495121491612239,
          0.14863700628399318,
          0.14774961972467687,
          0.14685020071257324,
          0.14593897035572753,
          0.1450161595592659,
          0.1440820089212188,
          0.1431367686061717,
          0.14218069819714074,
          0.1412140665261436,
          0.14023715148398633,
          0.13925023980986037,
          0.1382536268613891,
          0.13724761636582603,
          0.13623252015315387,
          0.13520865787188666,
          0.13417635668841268,
          0.13313595097077374,
          0.13208778195779838,
          0.1310321974145523,
          0.12996955127509663,
          0.1289002032735712,
          0.12782451856464508,
          0.12674286733439888,
          0.1256556244027128,
          0.12456316881825116,
          0.12346588344714444,
          0.12236415455646747,
          0.12125837139361736,
          0.12014892576269248,
          0.1190362115989632,
          0.1179206245425173,
          0.11680256151214775,
          0.11568242028053184,
          0.11456059905173267,
          0.1134374960420263,
          0.11231350906503493,
          0.11118903512210959,
          0.11006446999888,
          0.1089402078688519,
          0.10781664090488764,
          0.10669415889937543,
          0.10557314889384387,
          0.10445399481873395,
          0.1033370771439982,
          0.10222277254114553,
          0.10111145355730304,
          0.10000348830181505,
          0.09889924014584904,
          0.09779906743542559,
          0.09670332321823763,
          0.09561235498457102,
          0.09452650442258426,
          0.093446107188155,
          0.09237149268944483,
          0.09130298388628275,
          0.09024089710441753,
          0.08918554186463344,
          0.08813722072667854,
          0.08709622914790262,
          0.08606285535645318,
          0.08503738023883453,
          0.08402007724158597,
          0.08301121228679488,
          0.0820110437011172,
          0.08101982215793647,
          0.08003779063226112,
          0.07906518436791472,
          0.07810223085654946,
          0.0771491498279766,
          0.07620615325128177,
          0.07527344534616555,
          0.07435122260392654,
          0.0734396738174854,
          0.07253898011982536,
          0.07164931503021468,
          0.07077084450756066,
          0.06990372701023342,
          0.06904811356169721,
          0.06820414782127117,
          0.06737196615935338,
          0.06655169773643134,
          0.06574346458521242,
          0.06494738169521426,
          0.06416355709915993,
          0.06339209196054059,
          0.06263308066171674,
          0.061886610891952305,
          0.06115276373478929,
          0.06043161375419735,
          0.05972322907895346,
          0.05902767148473478,
          0.05834499647343694,
          0.057675253349256966,
          0.05701848529111628,
          0.05637472942103156,
          0.05574401686807557,
          0.055126372827610175,
          0.05452181661550892,
          0.05393036171712957,
          0.053352015830834966,
          0.052786780905904246,
          0.05223465317471866,
          0.05169562317914774,
          0.05116967579110773,
          0.050656790227306105,
          0.05015694005823073,
          0.04967009321148602,
          0.049196211969621075,
          0.048735252962641314,
          0.04828716715543284,
          0.04785189983037453,
          0.04742939056545309,
          0.04701957320823409,
          0.04662237584608355,
          0.04623772077306917,
          0.04586552445400733,
          0.04550569748615518,
          0.04515814455907823,
          0.04482276441325511,
          0.04449944979800615,
          0.04418808742935952,
          0.043888557948490475,
          0.04360073588138772,
          0.043324489600419694,
          0.04305968128848598,
          0.04280616690645252,
          0.04256379616457363,
          0.04233241249861143,
          0.04211185305136437,
          0.041901948660313694,
          0.04170252385209183,
          0.04151339684446927,
          0.04133437955654309,
          0.041165277627795205,
          0.041005890446670676,
          0.04085601118930256,
          0.040715426868985855,
          0.040583918396972764,
          0.040461260655130844,
          0.040347222580969073,
          0.040241567265499815,
          0.040144052064362154,
          0.04005442872258884,
          0.039972443513352635,
          0.03989783739097716,
          0.0398303461584475,
          0.03976970064960025,
          0.03971562692611866,
          0.03966784648939921,
          0.03962607650729802,
          0.03959003005570439,
          0.03955941637482774,
          0.03953394114002059,
          0.039513306746898846,
          0.03949721261045595,
          0.03948535547780424,
          0.0394774297541144,
          0.039473127841260086,
          0.03947214048861342,
          0.03947415715537582,
          0.03947886638376923,
          0.03948595618235475,
          0.03949511441868858,
          0.039506029220473256,
          0.039518389384308246,
          0.03953188479109599,
          0.0395462068271144,
          0.039561048809722145,
          0.039576106416625394,
          0.03959107811759687,
          0.0396056656075089,
          0.03961957423951092,
          0.03963251345716081,
          0.039644197224298496,
          0.039654344451435855,
          0.039662679417426704,
          0.03966893218517508,
          0.03967283901013911,
          0.039674142740392056,
          0.03967259320701176,
          0.03966794760358218,
          0.039659970853611955,
          0.039648435964696485,
          0.03963312436828134,
          0.03961382624391524,
          0.039590340826923004,
          0.039562476698468456,
          0.03953005205702638,
          0.0394928949703347,
          0.03945084360695224,
          0.0394037464466097,
          0.03935146246860265,
          0.03929386131754381,
          0.03923082344586226,
          0.03916224023251005,
          0.03908801407741211,
          0.03900805847127521,
          0.03892229804045094,
          0.038830668566630054,
          0.03873311698122958,
          0.03862960133441813,
          0.0385200907388107,
          0.038404565287949596,
          0.03828301594977439,
          0.038155444435368245,
          0.038021863043353796,
          0.03788229448039409,
          0.037736771658337144,
          0.03758533746862309,
          0.03742804453464958,
          0.03726495494286915,
          0.037096139953463135,
          0.03692167969150784,
          0.036741662819614586,
          0.03655618619308744,
          0.036365354498702915,
          0.03616927987826817,
          0.035968081538165546,
          0.03576188534613783,
          0.03555082341660595,
          0.03533503368585011,
          0.035114659478412476,
          0.03488984906610698,
          0.03466075522104017,
          0.034427534764060914,
          0.034190348110067145,
          0.03394935881159828,
          0.03370473310214208,
          0.03345663944057524,
          0.033205248058143615,
          0.032950730509369065,
          0.032693259228247444,
          0.03243300709106919,
          0.032170146987163924,
          0.03190485139882815,
          0.03163729199165167,
          0.031367639216411905,
          0.031096061923649932,
          0.030822726991987272,
          0.030547798971181376,
          0.03027143974085452,
          0.029993808185763422,
          0.029715059888406593,
          0.02943534683969607,
          0.029154817168343464,
          0.028873614889534997,
          0.028591879673393095,
          0.02830974663364068,
          0.028027346136807418,
          0.027744803632234735,
          0.027462239503056533,
          0.02717976893825257,
          0.026897501825791436,
          0.026615542666801422,
          0.02633399051063005,
          0.026052938910576428,
          0.02577247590000739,
          0.025492683988495513,
          0.025213640177547795,
          0.024935415995426632,
          0.024658077550501395,
          0.024381685602507086,
          0.02410629565103034,
          0.023831958040488505,
          0.023558718080817623,
          0.02328661618303974,
          0.023015688008837295,
          0.022745964633225743,
          0.02247747271938038,
          0.02221023470464689,
          0.02194426899673873,
          0.021679590179105118,
          0.021416209224438213,
          0.021154133715276947,
          0.02089336807065826,
          0.020633913777765217,
          0.02037576962752266,
          0.02011893195309916,
          0.019863394870283806,
          0.01960915051872129,
          0.019356189303008746,
          0.019104500132678625,
          0.018854070660119588,
          0.01860488751551649,
          0.018356936537923047
         ],
         "yaxis": "y2"
        },
        {
         "line": {
          "color": "red",
          "dash": "dash"
         },
         "mode": "lines",
         "name": "Not Selected (KDE)",
         "type": "scatter",
         "x": [
          0,
          0.02404809619238477,
          0.04809619238476954,
          0.07214428857715431,
          0.09619238476953908,
          0.12024048096192384,
          0.14428857715430862,
          0.1683366733466934,
          0.19238476953907815,
          0.21643286573146292,
          0.24048096192384769,
          0.26452905811623245,
          0.28857715430861725,
          0.312625250501002,
          0.3366733466933868,
          0.3607214428857715,
          0.3847695390781563,
          0.4088176352705411,
          0.43286573146292584,
          0.45691382765531063,
          0.48096192384769537,
          0.5050100200400801,
          0.5290581162324649,
          0.5531062124248497,
          0.5771543086172345,
          0.6012024048096193,
          0.625250501002004,
          0.6492985971943888,
          0.6733466933867736,
          0.6973947895791583,
          0.721442885771543,
          0.7454909819639278,
          0.7695390781563126,
          0.7935871743486974,
          0.8176352705410822,
          0.8416833667334669,
          0.8657314629258517,
          0.8897795591182365,
          0.9138276553106213,
          0.937875751503006,
          0.9619238476953907,
          0.9859719438877755,
          1.0100200400801602,
          1.034068136272545,
          1.0581162324649298,
          1.0821643286573146,
          1.1062124248496994,
          1.1302605210420842,
          1.154308617234469,
          1.1783567134268538,
          1.2024048096192386,
          1.2264529058116231,
          1.250501002004008,
          1.2745490981963927,
          1.2985971943887775,
          1.3226452905811623,
          1.346693386773547,
          1.370741482965932,
          1.3947895791583167,
          1.4188376753507015,
          1.442885771543086,
          1.4669338677354709,
          1.4909819639278556,
          1.5150300601202404,
          1.5390781563126252,
          1.56312625250501,
          1.5871743486973948,
          1.6112224448897796,
          1.6352705410821644,
          1.659318637274549,
          1.6833667334669338,
          1.7074148296593186,
          1.7314629258517034,
          1.7555110220440882,
          1.779559118236473,
          1.8036072144288577,
          1.8276553106212425,
          1.8517034068136273,
          1.875751503006012,
          1.8997995991983967,
          1.9238476953907815,
          1.9478957915831663,
          1.971943887775551,
          1.9959919839679359,
          2.0200400801603204,
          2.0440881763527052,
          2.06813627254509,
          2.092184368737475,
          2.1162324649298596,
          2.1402805611222444,
          2.164328657314629,
          2.188376753507014,
          2.212424849699399,
          2.2364729458917836,
          2.2605210420841684,
          2.284569138276553,
          2.308617234468938,
          2.3326653306613228,
          2.3567134268537075,
          2.3807615230460923,
          2.404809619238477,
          2.4288577154308615,
          2.4529058116232463,
          2.476953907815631,
          2.501002004008016,
          2.5250501002004007,
          2.5490981963927855,
          2.5731462925851702,
          2.597194388777555,
          2.62124248496994,
          2.6452905811623246,
          2.6693386773547094,
          2.693386773547094,
          2.717434869739479,
          2.741482965931864,
          2.7655310621242486,
          2.7895791583166334,
          2.813627254509018,
          2.837675350701403,
          2.8617234468937873,
          2.885771543086172,
          2.909819639278557,
          2.9338677354709417,
          2.9579158316633265,
          2.9819639278557113,
          3.006012024048096,
          3.030060120240481,
          3.0541082164328657,
          3.0781563126252505,
          3.1022044088176353,
          3.12625250501002,
          3.150300601202405,
          3.1743486973947896,
          3.1983967935871744,
          3.2224448897795592,
          3.246492985971944,
          3.270541082164329,
          3.2945891783567136,
          3.318637274549098,
          3.3426853707414828,
          3.3667334669338675,
          3.3907815631262523,
          3.414829659318637,
          3.438877755511022,
          3.4629258517034067,
          3.4869739478957915,
          3.5110220440881763,
          3.535070140280561,
          3.559118236472946,
          3.5831663326653307,
          3.6072144288577155,
          3.6312625250501003,
          3.655310621242485,
          3.67935871743487,
          3.7034068136272547,
          3.7274549098196395,
          3.751503006012024,
          3.7755511022044086,
          3.7995991983967934,
          3.823647294589178,
          3.847695390781563,
          3.8717434869739478,
          3.8957915831663326,
          3.9198396793587174,
          3.943887775551102,
          3.967935871743487,
          3.9919839679358717,
          4.0160320641282565,
          4.040080160320641,
          4.064128256513026,
          4.0881763527054105,
          4.112224448897796,
          4.13627254509018,
          4.160320641282565,
          4.18436873747495,
          4.208416833667335,
          4.232464929859719,
          4.2565130260521045,
          4.280561122244489,
          4.304609218436874,
          4.328657314629258,
          4.352705410821644,
          4.376753507014028,
          4.400801603206412,
          4.424849699398798,
          4.448897795591182,
          4.472945891783567,
          4.4969939879759515,
          4.521042084168337,
          4.545090180360721,
          4.569138276553106,
          4.593186372745491,
          4.617234468937876,
          4.64128256513026,
          4.6653306613226455,
          4.68937875751503,
          4.713426853707415,
          4.7374749498997994,
          4.761523046092185,
          4.785571142284569,
          4.809619238476954,
          4.833667334669339,
          4.857715430861723,
          4.881763527054108,
          4.905811623246493,
          4.929859719438878,
          4.953907815631262,
          4.977955911823647,
          5.002004008016032,
          5.026052104208417,
          5.050100200400801,
          5.074148296593187,
          5.098196392785571,
          5.122244488977956,
          5.1462925851703405,
          5.170340681362726,
          5.19438877755511,
          5.218436873747495,
          5.24248496993988,
          5.266533066132265,
          5.290581162324649,
          5.314629258517034,
          5.338677354709419,
          5.362725450901803,
          5.386773547094188,
          5.410821643286573,
          5.434869739478958,
          5.458917835671342,
          5.482965931863728,
          5.507014028056112,
          5.531062124248497,
          5.5551102204408815,
          5.579158316633267,
          5.603206412825651,
          5.627254509018036,
          5.651302605210421,
          5.675350701402806,
          5.69939879759519,
          5.723446893787575,
          5.74749498997996,
          5.771543086172344,
          5.7955911823647295,
          5.819639278557114,
          5.843687374749499,
          5.867735470941883,
          5.891783567134269,
          5.915831663326653,
          5.939879759519038,
          5.963927855711423,
          5.987975951903808,
          6.012024048096192,
          6.036072144288577,
          6.060120240480962,
          6.084168336673347,
          6.108216432865731,
          6.132264529058117,
          6.156312625250501,
          6.180360721442885,
          6.2044088176352705,
          6.228456913827655,
          6.25250501002004,
          6.2765531062124245,
          6.30060120240481,
          6.324649298597194,
          6.348697394789579,
          6.372745490981964,
          6.396793587174349,
          6.420841683366733,
          6.4448897795591185,
          6.468937875751503,
          6.492985971943888,
          6.517034068136272,
          6.541082164328658,
          6.565130260521042,
          6.589178356713427,
          6.613226452905812,
          6.637274549098196,
          6.661322645290581,
          6.6853707414829655,
          6.709418837675351,
          6.733466933867735,
          6.75751503006012,
          6.781563126252505,
          6.80561122244489,
          6.829659318637274,
          6.8537074148296595,
          6.877755511022044,
          6.901803607214429,
          6.925851703406813,
          6.949899799599199,
          6.973947895791583,
          6.997995991983968,
          7.022044088176353,
          7.046092184368737,
          7.070140280561122,
          7.0941883767535066,
          7.118236472945892,
          7.142284569138276,
          7.166332665330661,
          7.190380761523046,
          7.214428857715431,
          7.238476953907815,
          7.2625250501002006,
          7.286573146292585,
          7.31062124248497,
          7.3346693386773545,
          7.35871743486974,
          7.382765531062124,
          7.406813627254509,
          7.430861723446894,
          7.454909819639279,
          7.478957915831663,
          7.503006012024048,
          7.527054108216433,
          7.551102204408817,
          7.575150300601202,
          7.599198396793587,
          7.623246492985972,
          7.647294589178356,
          7.671342685370742,
          7.695390781563126,
          7.719438877755511,
          7.7434869739478955,
          7.767535070140281,
          7.791583166332665,
          7.81563126252505,
          7.839679358717435,
          7.86372745490982,
          7.887775551102204,
          7.9118236472945895,
          7.935871743486974,
          7.959919839679358,
          7.9839679358717435,
          8.008016032064129,
          8.032064128256513,
          8.056112224448897,
          8.080160320641282,
          8.104208416833668,
          8.128256513026052,
          8.152304609218437,
          8.176352705410821,
          8.200400801603207,
          8.224448897795591,
          8.248496993987976,
          8.27254509018036,
          8.296593186372746,
          8.32064128256513,
          8.344689378757515,
          8.3687374749499,
          8.392785571142284,
          8.41683366733467,
          8.440881763527054,
          8.464929859719438,
          8.488977955911823,
          8.513026052104209,
          8.537074148296593,
          8.561122244488978,
          8.585170340681362,
          8.609218436873748,
          8.633266533066132,
          8.657314629258517,
          8.681362725450901,
          8.705410821643287,
          8.729458917835672,
          8.753507014028056,
          8.77755511022044,
          8.801603206412825,
          8.82565130260521,
          8.849699398797595,
          8.87374749498998,
          8.897795591182364,
          8.92184368737475,
          8.945891783567134,
          8.969939879759519,
          8.993987975951903,
          9.01803607214429,
          9.042084168336673,
          9.066132264529058,
          9.090180360721442,
          9.114228456913828,
          9.138276553106213,
          9.162324649298597,
          9.186372745490981,
          9.210420841683367,
          9.234468937875752,
          9.258517034068136,
          9.28256513026052,
          9.306613226452905,
          9.330661322645291,
          9.354709418837675,
          9.37875751503006,
          9.402805611222444,
          9.42685370741483,
          9.450901803607215,
          9.474949899799599,
          9.498997995991983,
          9.52304609218437,
          9.547094188376754,
          9.571142284569138,
          9.595190380761522,
          9.619238476953909,
          9.643286573146293,
          9.667334669338677,
          9.691382765531062,
          9.715430861723446,
          9.739478957915832,
          9.763527054108216,
          9.7875751503006,
          9.811623246492985,
          9.835671342685371,
          9.859719438877756,
          9.88376753507014,
          9.907815631262524,
          9.93186372745491,
          9.955911823647295,
          9.97995991983968,
          10.004008016032063,
          10.02805611222445,
          10.052104208416834,
          10.076152304609218,
          10.100200400801603,
          10.124248496993987,
          10.148296593186373,
          10.172344689378757,
          10.196392785571142,
          10.220440881763526,
          10.244488977955912,
          10.268537074148297,
          10.292585170340681,
          10.316633266533065,
          10.340681362725451,
          10.364729458917836,
          10.38877755511022,
          10.412825651302605,
          10.43687374749499,
          10.460921843687375,
          10.48496993987976,
          10.509018036072144,
          10.53306613226453,
          10.557114228456914,
          10.581162324649299,
          10.605210420841683,
          10.629258517034067,
          10.653306613226453,
          10.677354709418838,
          10.701402805611222,
          10.725450901803606,
          10.749498997995993,
          10.773547094188377,
          10.797595190380761,
          10.821643286573146,
          10.845691382765532,
          10.869739478957916,
          10.8937875751503,
          10.917835671342685,
          10.94188376753507,
          10.965931863727455,
          10.98997995991984,
          11.014028056112224,
          11.038076152304608,
          11.062124248496994,
          11.086172344689379,
          11.110220440881763,
          11.134268537074147,
          11.158316633266534,
          11.182364729458918,
          11.206412825651302,
          11.230460921843687,
          11.254509018036073,
          11.278557114228457,
          11.302605210420841,
          11.326653306613226,
          11.350701402805612,
          11.374749498997996,
          11.39879759519038,
          11.422845691382765,
          11.44689378757515,
          11.470941883767535,
          11.49498997995992,
          11.519038076152304,
          11.543086172344688,
          11.567134268537075,
          11.591182364729459,
          11.615230460921843,
          11.639278557114228,
          11.663326653306614,
          11.687374749498998,
          11.711422845691382,
          11.735470941883767,
          11.759519038076153,
          11.783567134268537,
          11.807615230460922,
          11.831663326653306,
          11.855711422845692,
          11.879759519038076,
          11.90380761523046,
          11.927855711422845,
          11.95190380761523,
          11.975951903807616,
          12
         ],
         "xaxis": "x2",
         "y": [
          0.08258088211999899,
          0.08394556687633885,
          0.08529796088728929,
          0.08663775661720012,
          0.08796470549076803,
          0.08927861717499062,
          0.09057935857733657,
          0.09186685257084624,
          0.09314107645833779,
          0.0944020601892385,
          0.09564988434375335,
          0.09688467790011662,
          0.0981066158015641,
          0.09931591634040571,
          0.10051283837713793,
          0.10169767841298646,
          0.10287076753453633,
          0.1040324682492555,
          0.10518317123070821,
          0.10632329199216423,
          0.10745326750704165,
          0.10857355279428983,
          0.10968461748638701,
          0.11078694239709122,
          0.11188101610548806,
          0.11296733157221449,
          0.11404638280303035,
          0.11511866157414842,
          0.11618465423295311,
          0.11724483858690553,
          0.11829968089265479,
          0.11934963295648243,
          0.12039512935642971,
          0.12143658479558783,
          0.12247439159523342,
          0.12350891733565769,
          0.12454050265177476,
          0.12556945918975504,
          0.1265960677302166,
          0.12762057648269018,
          0.1286431995553742,
          0.1296641156034085,
          0.13068346665819583,
          0.1317013571395547,
          0.13271785305175027,
          0.13373298136373268,
          0.13474672957316977,
          0.13575904545312922,
          0.1367698369795156,
          0.1377789724366147,
          0.13878628069735838,
          0.1397915516741538,
          0.14079453693536,
          0.14179495048175356,
          0.14279246967656545,
          0.14378673632193623,
          0.1447773578739393,
          0.14576390878761197,
          0.14674593198279437,
          0.14772294042096645,
          0.14869441878271694,
          0.14965982523497945,
          0.15061859327674298,
          0.1515701336516172,
          0.15251383631535415,
          0.1534490724462769,
          0.15437519648650597,
          0.15529154820192195,
          0.15619745474897037,
          0.15709223273666845,
          0.15797519027261342,
          0.15884562898224375,
          0.15970284599128157,
          0.1605461358619829,
          0.16137479247468753,
          0.16218811084707344,
          0.16298538888455302,
          0.1637659290563507,
          0.16452903999293603,
          0.16527403800171542,
          0.16600024849910064,
          0.16670700735833063,
          0.16739366217365198,
          0.16805957344271294,
          0.16870411567014718,
          0.16932667839651744,
          0.1699266671577536,
          0.17050350438121226,
          0.17105663022530937,
          0.1715855033703494,
          0.17208960176879004,
          0.1725684233635557,
          0.17302148678327847,
          0.17344833202343893,
          0.17384852112227608,
          0.17422163884009095,
          0.17456729335013405,
          0.1748851169486528,
          0.1751747667909335,
          0.17543592565925945,
          0.1756683027676233,
          0.17587163460689414,
          0.176045685832828,
          0.17619025019792833,
          0.17630515152674006,
          0.1763902447326303,
          0.17644541687262155,
          0.17647058823529413,
          0.17646571345528994,
          0.17643078264648082,
          0.17636582254450192,
          0.17627089764802756,
          0.1761461113470094,
          0.1759916070250465,
          0.17580756912215614,
          0.17559422414349357,
          0.17535184159902045,
          0.17508073485876294,
          0.17478126190816923,
          0.17445382598809425,
          0.1740988761042305,
          0.17371690739125709,
          0.17330846131765296,
          0.1728741257179979,
          0.172414534640618,
          0.1719303679997035,
          0.1714223510223755,
          0.1708912534827537,
          0.1703378887167269,
          0.16976311241288297,
          0.16916782117694804,
          0.16855295086895686,
          0.16791947471436844,
          0.167268401192283,
          0.16660077170591095,
          0.16591765804233838,
          0.16522015963055348,
          0.16450940060847863,
          0.16378652671147065,
          0.16305270199637273,
          0.16230910541664426,
          0.1615569272654603,
          0.16079736550482482,
          0.16003162199977858,
          0.1592608986776112,
          0.1584863936326574,
          0.15770929719774796,
          0.15693078800368465,
          0.15615202904824507,
          0.15537416379615754,
          0.15459831233128296,
          0.15382556758184673,
          0.15305699163901906,
          0.15229361218846946,
          0.1515364190736987,
          0.1507863610089921,
          0.150044342458817,
          0.14931122069929997,
          0.14858780307622604,
          0.1478748444726587,
          0.1471730449979413,
          0.1464830479084234,
          0.14580543776881677,
          0.14514073886161982,
          0.14448941385057082,
          0.14385186270263253,
          0.14322842187153076,
          0.1426193637444141,
          0.14202489635180662,
          0.14144516333960597,
          0.14088024420053843,
          0.14033015476116978,
          0.1397948479193023,
          0.139274214625392,
          0.1387680851004434,
          0.1382762302817521,
          0.1377983634868343,
          0.13733414228489885,
          0.13688317056431162,
          0.1364450007836761,
          0.13601913639337573,
          0.1356050344137229,
          0.13520210815527692,
          0.13480973006629496,
          0.13442723469189036,
          0.13405392172903793,
          0.13368905916131385,
          0.13333188645704694,
          0.13298161781444642,
          0.13263744543725972,
          0.13229854282459594,
          0.13196406805873692,
          0.13163316707500622,
          0.13130497689818882,
          0.13097862883042555,
          0.13065325157610969,
          0.13032797428997242,
          0.13000192953531137,
          0.12967425614016134,
          0.12934410194018486,
          0.12901062639800776,
          0.128673003089907,
          0.12833042205183567,
          0.12798209197803648,
          0.12762724226672054,
          0.12726512490859235,
          0.12689501621531094,
          0.12651621838630356,
          0.1261280609136416,
          0.1257299018260331,
          0.12532112877419652,
          0.12490115996115604,
          0.12446944492211565,
          0.12402546515968624,
          0.12356873464125177,
          0.12309880016612064,
          0.12261524161098052,
          0.12211767206279203,
          0.12160573784885428,
          0.12107911847418446,
          0.12053752647664942,
          0.1199807072104352,
          0.11940843856843746,
          0.11882053065404277,
          0.11821682541248012,
          0.11759719623152826,
          0.11696154752082794,
          0.1163098142783966,
          0.11564196165219151,
          0.11495798450369361,
          0.11425790697955669,
          0.11354178209635378,
          0.11280969134237195,
          0.1120617442993185,
          0.11129807828565781,
          0.11051885802217888,
          0.10972427531925598,
          0.10891454878417918,
          0.10808992354588934,
          0.10725067099344691,
          0.10639708852366137,
          0.10552949929248549,
          0.10464825196404405,
          0.10375372045056279,
          0.1028463036359675,
          0.10192642507556052,
          0.10099453266394598,
          0.1000510982632885,
          0.09909661728401908,
          0.09813160821028873,
          0.09715661206278152,
          0.09617219179193902,
          0.095178931595206,
          0.09417743615258825,
          0.093168329775605,
          0.09215225546556914,
          0.09112987387811702,
          0.09010186219189231,
          0.08906891288040861,
          0.08803173238719143,
          0.08699103970546138,
          0.08594756486475393,
          0.0849020473280145,
          0.08385523430381861,
          0.08280787897945208,
          0.08176073868160652,
          0.08071457297242247,
          0.07967014168949478,
          0.07862820293926945,
          0.0775895110539714,
          0.07655481452281798,
          0.07552485390877636,
          0.07450035976251451,
          0.07348205054548033,
          0.07247063057419673,
          0.07146678799790782,
          0.07047119282164566,
          0.06948449498659282,
          0.06850732251933386,
          0.06754027976118387,
          0.06658394568830166,
          0.06563887233269106,
          0.06470558331355619,
          0.06378457248770907,
          0.0628763027269442,
          0.06198120482942978,
          0.061099676571259205,
          0.060232081903364584,
          0.0593787502980375,
          0.058539976248308194,
          0.057716018922450506,
          0.05690710197488498,
          0.05611341351378018,
          0.05533510622468032,
          0.05457229764854969,
          0.053825070611725,
          0.05309347380437501,
          0.05237752250325518,
          0.051677199433743604,
          0.05099245576541495,
          0.05032321223472014,
          0.04966936038770931,
          0.04903076393515848,
          0.04840726021194386,
          0.04779866173204146,
          0.04720475783013367,
          0.046625316380449,
          0.04606008558317739,
          0.04550879580856855,
          0.0449711614886378,
          0.044446883046281395,
          0.04393564885152973,
          0.04343713719463633,
          0.042951018265733894,
          0.04247695613085282,
          0.042014610694220356,
          0.041563639636915055,
          0.041123700322156564,
          0.04069445165775349,
          0.04027555590651679,
          0.039866680435762726,
          0.03946749939738939,
          0.039077695330401147,
          0.038696960678178204,
          0.038324999213246946,
          0.037961527362791306,
          0.03760627542866036,
          0.03725898869617012,
          0.03691942842656398,
          0.03658737272858314,
          0.03626261730521601,
          0.035944976072317454,
          0.03563428164644068,
          0.03533038569988575,
          0.03503315918163405,
          0.03474249240352837,
          0.03445829499173659,
          0.03418049570423156,
          0.033909042115706396,
          0.03364390017202898,
          0.033385053617021626,
          0.03313250329501453,
          0.03288626633328104,
          0.03264637520909673,
          0.03241287670678291,
          0.0321858307706889,
          0.03196530926063201,
          0.03175139461685206,
          0.03154417844204264,
          0.031343760008485995,
          0.031150244698750183,
          0.030963742388796626,
          0.030784365782691652,
          0.03061222870841667,
          0.03044744438452674,
          0.030290123667613654,
          0.030140373290686338,
          0.02999829410268709,
          0.0298639793194173,
          0.029737512796150105,
          0.0296189673321542,
          0.029508403017255956,
          0.02940586563040709,
          0.029311385100021094,
          0.02922497403558253,
          0.029146626339722925,
          0.029076315909597757,
          0.029013995435989853,
          0.028959595308109824,
          0.02891302263155923,
          0.028874160366377234,
          0.028842866591503417,
          0.028818973901355176,
          0.028802288939557063,
          0.028792592074151722,
          0.028789637217889342,
          0.02879315179642564,
          0.02880283686646995,
          0.02881836738510915,
          0.028839392630700754,
          0.02886553677488249,
          0.02889639960438495,
          0.028931557390472457,
          0.028970563902969825,
          0.029012951564971117,
          0.029058232743473703,
          0.029105901170342417,
          0.02915543348718582,
          0.029206290906938062,
          0.029257920984169794,
          0.02930975948543052,
          0.02936123235023452,
          0.02941175773267141,
          0.029460748113031787,
          0.029507612468322474,
          0.02955175849007425,
          0.02959259483746079,
          0.029629533413423136,
          0.029661991651251156,
          0.02968939479891044,
          0.029711178188325665,
          0.02972678947683179,
          0.029735690848101584,
          0.029737361160036523,
          0.02973129802737536,
          0.0297170198271336,
          0.029694067615426582,
          0.029662006944756424,
          0.02962042957145035,
          0.029568955043621836,
          0.029507232160782392,
          0.029434940297057177,
          0.029351790580843178,
          0.029257526924685424,
          0.02915192690013874,
          0.029034802453403747,
          0.028906000458585875,
          0.028765403106504578,
          0.02861292812807079,
          0.02844852885234855,
          0.028272194100505233,
          0.028083947917932773,
          0.027883849147870426,
          0.027671990850880537,
          0.02744849957550382,
          0.027213534486346308,
          0.02696728635671973,
          0.02670997643375708,
          0.026441855184658622,
          0.02616320093337423,
          0.025874318397600442,
          0.02557553713645216,
          0.025267209919564323,
          0.02494971102867774,
          0.024623434502972982,
          0.024288792339528353,
          0.023946212660296468,
          0.023596137856926627,
          0.023239022724593043,
          0.022875332595744976,
          0.02250554148436593,
          0.02213013025092032,
          0.021749584797690735,
          0.021364394303666455,
          0.020975049507540977,
          0.020582041046728443,
          0.02018585785961105,
          0.01978698565750142,
          0.01938590547204622,
          0.018983092283019486,
          0.018579013730669273,
          0.01817412891598777,
          0.017768887291491033,
          0.01736372764431937,
          0.016959077172714766,
          0.016555350656204174,
          0.016152949719117654,
          0.015752262186413093,
          0.015353661530160559,
          0.014957506404468737,
          0.01456414026611479,
          0.014173891077672246,
          0.01378707108951704,
          0.013403976696737818,
          0.013024888366676073,
          0.01265007063258124,
          0.012279772148681074,
          0.01191422580183812,
          0.011553648874888621,
          0.011198243256734925,
          0.010848195694288956,
          0.010503678081433297,
          0.010164847780279014,
          0.009831847970149375,
          0.009504808019902396,
          0.009183843879419293,
          0.008869058486324195,
          0.008560542184259909,
          0.008258373149321298,
          0.007962617821534516,
          0.007673331338567481,
          0.007390557969155015,
          0.007114331544022214,
          0.006844675882384303,
          0.006581605212390454,
          0.006325124584156403,
          0.006075230274296782,
          0.005831910181117618,
          0.005595144209863635,
          0.005364904647628487,
          0.0051411565277310585,
          0.004923857983534056,
          0.004712960591833785,
          0.004508409706079843,
          0.004310144779792658,
          0.004118099680634071,
          0.003932202995653663,
          0.003752378328280248,
          0.003578544587657315,
          0.003410616270932227
         ],
         "yaxis": "y2"
        }
       ],
       "layout": {
        "annotations": [
         {
          "font": {
           "size": 16
          },
          "showarrow": false,
          "text": "Filtered Data (Cohort)",
          "x": 0.225,
          "xanchor": "center",
          "xref": "paper",
          "y": 1,
          "yanchor": "bottom",
          "yref": "paper"
         },
         {
          "font": {
           "size": 16
          },
          "showarrow": false,
          "text": "Filtered Data (Cross)",
          "x": 0.775,
          "xanchor": "center",
          "xref": "paper",
          "y": 1,
          "yanchor": "bottom",
          "yref": "paper"
         }
        ],
        "showlegend": true,
        "template": {
         "data": {
          "bar": [
           {
            "error_x": {
             "color": "#2a3f5f"
            },
            "error_y": {
             "color": "#2a3f5f"
            },
            "marker": {
             "line": {
              "color": "#E5ECF6",
              "width": 0.5
             },
             "pattern": {
              "fillmode": "overlay",
              "size": 10,
              "solidity": 0.2
             }
            },
            "type": "bar"
           }
          ],
          "barpolar": [
           {
            "marker": {
             "line": {
              "color": "#E5ECF6",
              "width": 0.5
             },
             "pattern": {
              "fillmode": "overlay",
              "size": 10,
              "solidity": 0.2
             }
            },
            "type": "barpolar"
           }
          ],
          "carpet": [
           {
            "aaxis": {
             "endlinecolor": "#2a3f5f",
             "gridcolor": "white",
             "linecolor": "white",
             "minorgridcolor": "white",
             "startlinecolor": "#2a3f5f"
            },
            "baxis": {
             "endlinecolor": "#2a3f5f",
             "gridcolor": "white",
             "linecolor": "white",
             "minorgridcolor": "white",
             "startlinecolor": "#2a3f5f"
            },
            "type": "carpet"
           }
          ],
          "choropleth": [
           {
            "colorbar": {
             "outlinewidth": 0,
             "ticks": ""
            },
            "type": "choropleth"
           }
          ],
          "contour": [
           {
            "colorbar": {
             "outlinewidth": 0,
             "ticks": ""
            },
            "colorscale": [
             [
              0,
              "#0d0887"
             ],
             [
              0.1111111111111111,
              "#46039f"
             ],
             [
              0.2222222222222222,
              "#7201a8"
             ],
             [
              0.3333333333333333,
              "#9c179e"
             ],
             [
              0.4444444444444444,
              "#bd3786"
             ],
             [
              0.5555555555555556,
              "#d8576b"
             ],
             [
              0.6666666666666666,
              "#ed7953"
             ],
             [
              0.7777777777777778,
              "#fb9f3a"
             ],
             [
              0.8888888888888888,
              "#fdca26"
             ],
             [
              1,
              "#f0f921"
             ]
            ],
            "type": "contour"
           }
          ],
          "contourcarpet": [
           {
            "colorbar": {
             "outlinewidth": 0,
             "ticks": ""
            },
            "type": "contourcarpet"
           }
          ],
          "heatmap": [
           {
            "colorbar": {
             "outlinewidth": 0,
             "ticks": ""
            },
            "colorscale": [
             [
              0,
              "#0d0887"
             ],
             [
              0.1111111111111111,
              "#46039f"
             ],
             [
              0.2222222222222222,
              "#7201a8"
             ],
             [
              0.3333333333333333,
              "#9c179e"
             ],
             [
              0.4444444444444444,
              "#bd3786"
             ],
             [
              0.5555555555555556,
              "#d8576b"
             ],
             [
              0.6666666666666666,
              "#ed7953"
             ],
             [
              0.7777777777777778,
              "#fb9f3a"
             ],
             [
              0.8888888888888888,
              "#fdca26"
             ],
             [
              1,
              "#f0f921"
             ]
            ],
            "type": "heatmap"
           }
          ],
          "heatmapgl": [
           {
            "colorbar": {
             "outlinewidth": 0,
             "ticks": ""
            },
            "colorscale": [
             [
              0,
              "#0d0887"
             ],
             [
              0.1111111111111111,
              "#46039f"
             ],
             [
              0.2222222222222222,
              "#7201a8"
             ],
             [
              0.3333333333333333,
              "#9c179e"
             ],
             [
              0.4444444444444444,
              "#bd3786"
             ],
             [
              0.5555555555555556,
              "#d8576b"
             ],
             [
              0.6666666666666666,
              "#ed7953"
             ],
             [
              0.7777777777777778,
              "#fb9f3a"
             ],
             [
              0.8888888888888888,
              "#fdca26"
             ],
             [
              1,
              "#f0f921"
             ]
            ],
            "type": "heatmapgl"
           }
          ],
          "histogram": [
           {
            "marker": {
             "pattern": {
              "fillmode": "overlay",
              "size": 10,
              "solidity": 0.2
             }
            },
            "type": "histogram"
           }
          ],
          "histogram2d": [
           {
            "colorbar": {
             "outlinewidth": 0,
             "ticks": ""
            },
            "colorscale": [
             [
              0,
              "#0d0887"
             ],
             [
              0.1111111111111111,
              "#46039f"
             ],
             [
              0.2222222222222222,
              "#7201a8"
             ],
             [
              0.3333333333333333,
              "#9c179e"
             ],
             [
              0.4444444444444444,
              "#bd3786"
             ],
             [
              0.5555555555555556,
              "#d8576b"
             ],
             [
              0.6666666666666666,
              "#ed7953"
             ],
             [
              0.7777777777777778,
              "#fb9f3a"
             ],
             [
              0.8888888888888888,
              "#fdca26"
             ],
             [
              1,
              "#f0f921"
             ]
            ],
            "type": "histogram2d"
           }
          ],
          "histogram2dcontour": [
           {
            "colorbar": {
             "outlinewidth": 0,
             "ticks": ""
            },
            "colorscale": [
             [
              0,
              "#0d0887"
             ],
             [
              0.1111111111111111,
              "#46039f"
             ],
             [
              0.2222222222222222,
              "#7201a8"
             ],
             [
              0.3333333333333333,
              "#9c179e"
             ],
             [
              0.4444444444444444,
              "#bd3786"
             ],
             [
              0.5555555555555556,
              "#d8576b"
             ],
             [
              0.6666666666666666,
              "#ed7953"
             ],
             [
              0.7777777777777778,
              "#fb9f3a"
             ],
             [
              0.8888888888888888,
              "#fdca26"
             ],
             [
              1,
              "#f0f921"
             ]
            ],
            "type": "histogram2dcontour"
           }
          ],
          "mesh3d": [
           {
            "colorbar": {
             "outlinewidth": 0,
             "ticks": ""
            },
            "type": "mesh3d"
           }
          ],
          "parcoords": [
           {
            "line": {
             "colorbar": {
              "outlinewidth": 0,
              "ticks": ""
             }
            },
            "type": "parcoords"
           }
          ],
          "pie": [
           {
            "automargin": true,
            "type": "pie"
           }
          ],
          "scatter": [
           {
            "fillpattern": {
             "fillmode": "overlay",
             "size": 10,
             "solidity": 0.2
            },
            "type": "scatter"
           }
          ],
          "scatter3d": [
           {
            "line": {
             "colorbar": {
              "outlinewidth": 0,
              "ticks": ""
             }
            },
            "marker": {
             "colorbar": {
              "outlinewidth": 0,
              "ticks": ""
             }
            },
            "type": "scatter3d"
           }
          ],
          "scattercarpet": [
           {
            "marker": {
             "colorbar": {
              "outlinewidth": 0,
              "ticks": ""
             }
            },
            "type": "scattercarpet"
           }
          ],
          "scattergeo": [
           {
            "marker": {
             "colorbar": {
              "outlinewidth": 0,
              "ticks": ""
             }
            },
            "type": "scattergeo"
           }
          ],
          "scattergl": [
           {
            "marker": {
             "colorbar": {
              "outlinewidth": 0,
              "ticks": ""
             }
            },
            "type": "scattergl"
           }
          ],
          "scattermapbox": [
           {
            "marker": {
             "colorbar": {
              "outlinewidth": 0,
              "ticks": ""
             }
            },
            "type": "scattermapbox"
           }
          ],
          "scatterpolar": [
           {
            "marker": {
             "colorbar": {
              "outlinewidth": 0,
              "ticks": ""
             }
            },
            "type": "scatterpolar"
           }
          ],
          "scatterpolargl": [
           {
            "marker": {
             "colorbar": {
              "outlinewidth": 0,
              "ticks": ""
             }
            },
            "type": "scatterpolargl"
           }
          ],
          "scatterternary": [
           {
            "marker": {
             "colorbar": {
              "outlinewidth": 0,
              "ticks": ""
             }
            },
            "type": "scatterternary"
           }
          ],
          "surface": [
           {
            "colorbar": {
             "outlinewidth": 0,
             "ticks": ""
            },
            "colorscale": [
             [
              0,
              "#0d0887"
             ],
             [
              0.1111111111111111,
              "#46039f"
             ],
             [
              0.2222222222222222,
              "#7201a8"
             ],
             [
              0.3333333333333333,
              "#9c179e"
             ],
             [
              0.4444444444444444,
              "#bd3786"
             ],
             [
              0.5555555555555556,
              "#d8576b"
             ],
             [
              0.6666666666666666,
              "#ed7953"
             ],
             [
              0.7777777777777778,
              "#fb9f3a"
             ],
             [
              0.8888888888888888,
              "#fdca26"
             ],
             [
              1,
              "#f0f921"
             ]
            ],
            "type": "surface"
           }
          ],
          "table": [
           {
            "cells": {
             "fill": {
              "color": "#EBF0F8"
             },
             "line": {
              "color": "white"
             }
            },
            "header": {
             "fill": {
              "color": "#C8D4E3"
             },
             "line": {
              "color": "white"
             }
            },
            "type": "table"
           }
          ]
         },
         "layout": {
          "annotationdefaults": {
           "arrowcolor": "#2a3f5f",
           "arrowhead": 0,
           "arrowwidth": 1
          },
          "autotypenumbers": "strict",
          "coloraxis": {
           "colorbar": {
            "outlinewidth": 0,
            "ticks": ""
           }
          },
          "colorscale": {
           "diverging": [
            [
             0,
             "#8e0152"
            ],
            [
             0.1,
             "#c51b7d"
            ],
            [
             0.2,
             "#de77ae"
            ],
            [
             0.3,
             "#f1b6da"
            ],
            [
             0.4,
             "#fde0ef"
            ],
            [
             0.5,
             "#f7f7f7"
            ],
            [
             0.6,
             "#e6f5d0"
            ],
            [
             0.7,
             "#b8e186"
            ],
            [
             0.8,
             "#7fbc41"
            ],
            [
             0.9,
             "#4d9221"
            ],
            [
             1,
             "#276419"
            ]
           ],
           "sequential": [
            [
             0,
             "#0d0887"
            ],
            [
             0.1111111111111111,
             "#46039f"
            ],
            [
             0.2222222222222222,
             "#7201a8"
            ],
            [
             0.3333333333333333,
             "#9c179e"
            ],
            [
             0.4444444444444444,
             "#bd3786"
            ],
            [
             0.5555555555555556,
             "#d8576b"
            ],
            [
             0.6666666666666666,
             "#ed7953"
            ],
            [
             0.7777777777777778,
             "#fb9f3a"
            ],
            [
             0.8888888888888888,
             "#fdca26"
            ],
            [
             1,
             "#f0f921"
            ]
           ],
           "sequentialminus": [
            [
             0,
             "#0d0887"
            ],
            [
             0.1111111111111111,
             "#46039f"
            ],
            [
             0.2222222222222222,
             "#7201a8"
            ],
            [
             0.3333333333333333,
             "#9c179e"
            ],
            [
             0.4444444444444444,
             "#bd3786"
            ],
            [
             0.5555555555555556,
             "#d8576b"
            ],
            [
             0.6666666666666666,
             "#ed7953"
            ],
            [
             0.7777777777777778,
             "#fb9f3a"
            ],
            [
             0.8888888888888888,
             "#fdca26"
            ],
            [
             1,
             "#f0f921"
            ]
           ]
          },
          "colorway": [
           "#636efa",
           "#EF553B",
           "#00cc96",
           "#ab63fa",
           "#FFA15A",
           "#19d3f3",
           "#FF6692",
           "#B6E880",
           "#FF97FF",
           "#FECB52"
          ],
          "font": {
           "color": "#2a3f5f"
          },
          "geo": {
           "bgcolor": "white",
           "lakecolor": "white",
           "landcolor": "#E5ECF6",
           "showlakes": true,
           "showland": true,
           "subunitcolor": "white"
          },
          "hoverlabel": {
           "align": "left"
          },
          "hovermode": "closest",
          "mapbox": {
           "style": "light"
          },
          "paper_bgcolor": "white",
          "plot_bgcolor": "#E5ECF6",
          "polar": {
           "angularaxis": {
            "gridcolor": "white",
            "linecolor": "white",
            "ticks": ""
           },
           "bgcolor": "#E5ECF6",
           "radialaxis": {
            "gridcolor": "white",
            "linecolor": "white",
            "ticks": ""
           }
          },
          "scene": {
           "xaxis": {
            "backgroundcolor": "#E5ECF6",
            "gridcolor": "white",
            "gridwidth": 2,
            "linecolor": "white",
            "showbackground": true,
            "ticks": "",
            "zerolinecolor": "white"
           },
           "yaxis": {
            "backgroundcolor": "#E5ECF6",
            "gridcolor": "white",
            "gridwidth": 2,
            "linecolor": "white",
            "showbackground": true,
            "ticks": "",
            "zerolinecolor": "white"
           },
           "zaxis": {
            "backgroundcolor": "#E5ECF6",
            "gridcolor": "white",
            "gridwidth": 2,
            "linecolor": "white",
            "showbackground": true,
            "ticks": "",
            "zerolinecolor": "white"
           }
          },
          "shapedefaults": {
           "line": {
            "color": "#2a3f5f"
           }
          },
          "ternary": {
           "aaxis": {
            "gridcolor": "white",
            "linecolor": "white",
            "ticks": ""
           },
           "baxis": {
            "gridcolor": "white",
            "linecolor": "white",
            "ticks": ""
           },
           "bgcolor": "#E5ECF6",
           "caxis": {
            "gridcolor": "white",
            "linecolor": "white",
            "ticks": ""
           }
          },
          "title": {
           "x": 0.05
          },
          "xaxis": {
           "automargin": true,
           "gridcolor": "white",
           "linecolor": "white",
           "ticks": "",
           "title": {
            "standoff": 15
           },
           "zerolinecolor": "white",
           "zerolinewidth": 2
          },
          "yaxis": {
           "automargin": true,
           "gridcolor": "white",
           "linecolor": "white",
           "ticks": "",
           "title": {
            "standoff": 15
           },
           "zerolinecolor": "white",
           "zerolinewidth": 2
          }
         }
        },
        "title": {
         "text": "Comparison of Close Friends Proportions with KDE"
        },
        "xaxis": {
         "anchor": "y",
         "domain": [
          0,
          0.45
         ]
        },
        "xaxis2": {
         "anchor": "y2",
         "domain": [
          0.55,
          1
         ]
        },
        "yaxis": {
         "anchor": "x",
         "domain": [
          0,
          1
         ]
        },
        "yaxis2": {
         "anchor": "x2",
         "domain": [
          0,
          1
         ],
         "matches": "y",
         "showticklabels": false
        }
       }
      }
     },
     "metadata": {},
     "output_type": "display_data"
    }
   ],
   "source": [
    "import plotly.graph_objects as go\n",
    "import numpy as np\n",
    "from scipy.stats import gaussian_kde\n",
    "from plotly.subplots import make_subplots\n",
    "\n",
    "# Helper function to generate the plot for any dataset\n",
    "def generate_kde_plot(filtered_data, title):\n",
    "    # Group and count data by 'CONNECTION_social_barriers_too_busy' and 'CONNECTION_social_num_close_friends'\n",
    "    grouped_data = (\n",
    "        filtered_data.groupby([\"CONNECTION_social_barriers_too_busy\", \"CONNECTION_social_num_close_friends\"])\n",
    "        .size()\n",
    "        .reset_index(name=\"Count\")\n",
    "    )\n",
    "\n",
    "    # Calculate proportions within each \"Too Busy Status\" group\n",
    "    group_totals = grouped_data.groupby(\"CONNECTION_social_barriers_too_busy\")[\"Count\"].transform(\"sum\")\n",
    "    grouped_data[\"Proportion\"] = grouped_data[\"Count\"] / group_totals\n",
    "\n",
    "    # Prepare the data for KDE calculation\n",
    "    busy_data = filtered_data.loc[\n",
    "        filtered_data[\"CONNECTION_social_barriers_too_busy\"] == \"I am too busy\", \n",
    "        \"CONNECTION_social_num_close_friends\"\n",
    "    ]\n",
    "    not_busy_data = filtered_data.loc[\n",
    "        filtered_data[\"CONNECTION_social_barriers_too_busy\"] == \"Not Selected\", \n",
    "        \"CONNECTION_social_num_close_friends\"\n",
    "    ]\n",
    "\n",
    "    # Calculate KDE for both groups\n",
    "    busy_kde = gaussian_kde(busy_data)\n",
    "    not_busy_kde = gaussian_kde(not_busy_data)\n",
    "\n",
    "    # Define the x-axis range for KDE\n",
    "    x_range = np.linspace(\n",
    "        min(filtered_data[\"CONNECTION_social_num_close_friends\"]),\n",
    "        max(filtered_data[\"CONNECTION_social_num_close_friends\"]),\n",
    "        500\n",
    "    )\n",
    "\n",
    "    # KDE values\n",
    "    busy_kde_values = busy_kde(x_range)\n",
    "    not_busy_kde_values = not_busy_kde(x_range)\n",
    "\n",
    "    # Create the plot\n",
    "    fig = go.Figure()\n",
    "\n",
    "    # Add bar plots for proportions (side-by-side)\n",
    "    for status, color in zip([\"I am too busy\", \"Not Selected\"], [\"blue\", \"red\"]):\n",
    "        status_data = grouped_data[grouped_data[\"CONNECTION_social_barriers_too_busy\"] == status]\n",
    "        fig.add_trace(\n",
    "            go.Bar(\n",
    "                x=status_data[\"CONNECTION_social_num_close_friends\"],\n",
    "                y=status_data[\"Proportion\"],\n",
    "                name=f\"{status} (Bar)\",\n",
    "                marker=dict(color=color),\n",
    "            )\n",
    "        )\n",
    "\n",
    "    # Add KDE plots\n",
    "    fig.add_trace(\n",
    "        go.Scatter(\n",
    "            x=x_range,\n",
    "            y=busy_kde_values / busy_kde_values.max() * grouped_data[\"Proportion\"].max(),  # Scale KDE\n",
    "            mode=\"lines\",\n",
    "            line=dict(color=\"blue\", dash=\"dash\"),\n",
    "            name=\"I am too busy (KDE)\",\n",
    "        )\n",
    "    )\n",
    "    fig.add_trace(\n",
    "        go.Scatter(\n",
    "            x=x_range,\n",
    "            y=not_busy_kde_values / not_busy_kde_values.max() * grouped_data[\"Proportion\"].max(),  # Scale KDE\n",
    "            mode=\"lines\",\n",
    "            line=dict(color=\"red\", dash=\"dash\"),\n",
    "            name=\"Not Selected (KDE)\",\n",
    "        )\n",
    "    )\n",
    "\n",
    "    # Update layout\n",
    "    fig.update_layout(\n",
    "        title=title,\n",
    "        xaxis_title=\"Number of Close Friends\",\n",
    "        yaxis_title=\"Proportion\",\n",
    "        barmode=\"group\",  # Keep bars side by side\n",
    "        legend_title=\"Legend\",\n",
    "    )\n",
    "\n",
    "    return fig\n",
    "\n",
    "# Create a subplot with two columns\n",
    "fig = make_subplots(\n",
    "    rows=1, cols=2,\n",
    "    subplot_titles=[\"Filtered Data (Cohort)\", \"Filtered Data (Cross)\"],\n",
    "    shared_yaxes=True  # Share y-axis to align the bars and KDE plots\n",
    ")\n",
    "\n",
    "# Generate and add traces for filtered_data_cohort (right subplot)\n",
    "cohort_fig = generate_kde_plot(filtered_data_no_outliers_cohort, \"Proportion of Close Friends with KDE: Cohort\")\n",
    "for trace in cohort_fig.data:\n",
    "    fig.add_trace(trace, row=1, col=1)\n",
    "\n",
    "# Generate and add traces for filtered_data_cross (left subplot)\n",
    "cross_fig = generate_kde_plot(filtered_data_no_outliers_cross, \"Proportion of Close Friends with KDE: Cross\")\n",
    "for trace in cross_fig.data:\n",
    "    fig.add_trace(trace, row=1, col=2)\n",
    "\n",
    "# Update layout for overall figure\n",
    "fig.update_layout(\n",
    "    title=\"Comparison of Close Friends Proportions with KDE\",\n",
    "    showlegend=True,\n",
    ")\n",
    "\n",
    "fig.show()\n"
   ]
  },
  {
   "cell_type": "code",
   "execution_count": 18,
   "metadata": {},
   "outputs": [
    {
     "name": "stdout",
     "output_type": "stream",
     "text": [
      "---- Information about: CONNECTION_activities_visited_friends_p3m ----\n",
      "------------------------ Dataset: 2021_cross -------------------------\n",
      " Question: In the PAST THREE MONTH, how often have you... - visited with FRIENDS at your / their home? \n",
      "----------------------------------------------------------------------\n",
      "\n",
      "------------------------ Dataset: 2022_cohort ------------------------\n",
      " Question: In the PAST THREE MONTH, how often have you... - visited with FRIENDS at your / their home? \n",
      "----------------------------------------------------------------------\n",
      "\n",
      "------------------------ Dataset: 2023_cohort ------------------------\n",
      " Question: In the PAST THREE MONTH, how often have you... - visited with FRIENDS at your / their home? \n",
      "----------------------------------------------------------------------\n",
      "\n",
      "------------------------ Dataset: 2023_cross -------------------------\n",
      " Question: In the PAST THREE MONTH, how often have you... - visited with FRIENDS at your or their home? \n",
      "----------------------------------------------------------------------\n",
      "\n",
      "Number of NA: 4047\n",
      "CONNECTION_activities_visited_friends_p3m\n",
      "Not in the past three months    1581\n",
      "Less than monthly               1172\n",
      "A few times a month             1170\n",
      "Monthly                          876\n",
      "Weekly                           736\n",
      "A few times a week               342\n",
      "Daily or almost daily             94\n",
      "Name: count, dtype: int64\n",
      "\n"
     ]
    }
   ],
   "source": [
    "get_column_info(\"CONNECTION_activities_visited_friends_p3m\")"
   ]
  },
  {
   "cell_type": "code",
   "execution_count": 19,
   "metadata": {},
   "outputs": [
    {
     "data": {
      "application/vnd.plotly.v1+json": {
       "config": {
        "plotlyServerURL": "https://plot.ly"
       },
       "data": [
        {
         "marker": {
          "color": "blue"
         },
         "name": "I am too busy (Bar)",
         "type": "bar",
         "x": [
          "Not in the past three months",
          "Less than monthly",
          "Monthly",
          "A few times a month",
          "Weekly",
          "A few times a week",
          "Daily or almost daily"
         ],
         "y": [
          0.21212121212121213,
          0.21212121212121213,
          0.1414141414141414,
          0.23232323232323232,
          0.16161616161616163,
          0.030303030303030304,
          0.010101010101010102
         ]
        },
        {
         "marker": {
          "color": "red"
         },
         "name": "Not Selected (Bar)",
         "type": "bar",
         "x": [
          "Not in the past three months",
          "Less than monthly",
          "Monthly",
          "A few times a month",
          "Weekly",
          "A few times a week",
          "Daily or almost daily"
         ],
         "y": [
          0.32081911262798635,
          0.1945392491467577,
          0.14675767918088736,
          0.15017064846416384,
          0.13310580204778158,
          0.04436860068259386,
          0.010238907849829351
         ]
        }
       ],
       "layout": {
        "barmode": "group",
        "legend": {
         "title": {
          "text": "Legend"
         }
        },
        "template": {
         "data": {
          "bar": [
           {
            "error_x": {
             "color": "#2a3f5f"
            },
            "error_y": {
             "color": "#2a3f5f"
            },
            "marker": {
             "line": {
              "color": "#E5ECF6",
              "width": 0.5
             },
             "pattern": {
              "fillmode": "overlay",
              "size": 10,
              "solidity": 0.2
             }
            },
            "type": "bar"
           }
          ],
          "barpolar": [
           {
            "marker": {
             "line": {
              "color": "#E5ECF6",
              "width": 0.5
             },
             "pattern": {
              "fillmode": "overlay",
              "size": 10,
              "solidity": 0.2
             }
            },
            "type": "barpolar"
           }
          ],
          "carpet": [
           {
            "aaxis": {
             "endlinecolor": "#2a3f5f",
             "gridcolor": "white",
             "linecolor": "white",
             "minorgridcolor": "white",
             "startlinecolor": "#2a3f5f"
            },
            "baxis": {
             "endlinecolor": "#2a3f5f",
             "gridcolor": "white",
             "linecolor": "white",
             "minorgridcolor": "white",
             "startlinecolor": "#2a3f5f"
            },
            "type": "carpet"
           }
          ],
          "choropleth": [
           {
            "colorbar": {
             "outlinewidth": 0,
             "ticks": ""
            },
            "type": "choropleth"
           }
          ],
          "contour": [
           {
            "colorbar": {
             "outlinewidth": 0,
             "ticks": ""
            },
            "colorscale": [
             [
              0,
              "#0d0887"
             ],
             [
              0.1111111111111111,
              "#46039f"
             ],
             [
              0.2222222222222222,
              "#7201a8"
             ],
             [
              0.3333333333333333,
              "#9c179e"
             ],
             [
              0.4444444444444444,
              "#bd3786"
             ],
             [
              0.5555555555555556,
              "#d8576b"
             ],
             [
              0.6666666666666666,
              "#ed7953"
             ],
             [
              0.7777777777777778,
              "#fb9f3a"
             ],
             [
              0.8888888888888888,
              "#fdca26"
             ],
             [
              1,
              "#f0f921"
             ]
            ],
            "type": "contour"
           }
          ],
          "contourcarpet": [
           {
            "colorbar": {
             "outlinewidth": 0,
             "ticks": ""
            },
            "type": "contourcarpet"
           }
          ],
          "heatmap": [
           {
            "colorbar": {
             "outlinewidth": 0,
             "ticks": ""
            },
            "colorscale": [
             [
              0,
              "#0d0887"
             ],
             [
              0.1111111111111111,
              "#46039f"
             ],
             [
              0.2222222222222222,
              "#7201a8"
             ],
             [
              0.3333333333333333,
              "#9c179e"
             ],
             [
              0.4444444444444444,
              "#bd3786"
             ],
             [
              0.5555555555555556,
              "#d8576b"
             ],
             [
              0.6666666666666666,
              "#ed7953"
             ],
             [
              0.7777777777777778,
              "#fb9f3a"
             ],
             [
              0.8888888888888888,
              "#fdca26"
             ],
             [
              1,
              "#f0f921"
             ]
            ],
            "type": "heatmap"
           }
          ],
          "heatmapgl": [
           {
            "colorbar": {
             "outlinewidth": 0,
             "ticks": ""
            },
            "colorscale": [
             [
              0,
              "#0d0887"
             ],
             [
              0.1111111111111111,
              "#46039f"
             ],
             [
              0.2222222222222222,
              "#7201a8"
             ],
             [
              0.3333333333333333,
              "#9c179e"
             ],
             [
              0.4444444444444444,
              "#bd3786"
             ],
             [
              0.5555555555555556,
              "#d8576b"
             ],
             [
              0.6666666666666666,
              "#ed7953"
             ],
             [
              0.7777777777777778,
              "#fb9f3a"
             ],
             [
              0.8888888888888888,
              "#fdca26"
             ],
             [
              1,
              "#f0f921"
             ]
            ],
            "type": "heatmapgl"
           }
          ],
          "histogram": [
           {
            "marker": {
             "pattern": {
              "fillmode": "overlay",
              "size": 10,
              "solidity": 0.2
             }
            },
            "type": "histogram"
           }
          ],
          "histogram2d": [
           {
            "colorbar": {
             "outlinewidth": 0,
             "ticks": ""
            },
            "colorscale": [
             [
              0,
              "#0d0887"
             ],
             [
              0.1111111111111111,
              "#46039f"
             ],
             [
              0.2222222222222222,
              "#7201a8"
             ],
             [
              0.3333333333333333,
              "#9c179e"
             ],
             [
              0.4444444444444444,
              "#bd3786"
             ],
             [
              0.5555555555555556,
              "#d8576b"
             ],
             [
              0.6666666666666666,
              "#ed7953"
             ],
             [
              0.7777777777777778,
              "#fb9f3a"
             ],
             [
              0.8888888888888888,
              "#fdca26"
             ],
             [
              1,
              "#f0f921"
             ]
            ],
            "type": "histogram2d"
           }
          ],
          "histogram2dcontour": [
           {
            "colorbar": {
             "outlinewidth": 0,
             "ticks": ""
            },
            "colorscale": [
             [
              0,
              "#0d0887"
             ],
             [
              0.1111111111111111,
              "#46039f"
             ],
             [
              0.2222222222222222,
              "#7201a8"
             ],
             [
              0.3333333333333333,
              "#9c179e"
             ],
             [
              0.4444444444444444,
              "#bd3786"
             ],
             [
              0.5555555555555556,
              "#d8576b"
             ],
             [
              0.6666666666666666,
              "#ed7953"
             ],
             [
              0.7777777777777778,
              "#fb9f3a"
             ],
             [
              0.8888888888888888,
              "#fdca26"
             ],
             [
              1,
              "#f0f921"
             ]
            ],
            "type": "histogram2dcontour"
           }
          ],
          "mesh3d": [
           {
            "colorbar": {
             "outlinewidth": 0,
             "ticks": ""
            },
            "type": "mesh3d"
           }
          ],
          "parcoords": [
           {
            "line": {
             "colorbar": {
              "outlinewidth": 0,
              "ticks": ""
             }
            },
            "type": "parcoords"
           }
          ],
          "pie": [
           {
            "automargin": true,
            "type": "pie"
           }
          ],
          "scatter": [
           {
            "fillpattern": {
             "fillmode": "overlay",
             "size": 10,
             "solidity": 0.2
            },
            "type": "scatter"
           }
          ],
          "scatter3d": [
           {
            "line": {
             "colorbar": {
              "outlinewidth": 0,
              "ticks": ""
             }
            },
            "marker": {
             "colorbar": {
              "outlinewidth": 0,
              "ticks": ""
             }
            },
            "type": "scatter3d"
           }
          ],
          "scattercarpet": [
           {
            "marker": {
             "colorbar": {
              "outlinewidth": 0,
              "ticks": ""
             }
            },
            "type": "scattercarpet"
           }
          ],
          "scattergeo": [
           {
            "marker": {
             "colorbar": {
              "outlinewidth": 0,
              "ticks": ""
             }
            },
            "type": "scattergeo"
           }
          ],
          "scattergl": [
           {
            "marker": {
             "colorbar": {
              "outlinewidth": 0,
              "ticks": ""
             }
            },
            "type": "scattergl"
           }
          ],
          "scattermapbox": [
           {
            "marker": {
             "colorbar": {
              "outlinewidth": 0,
              "ticks": ""
             }
            },
            "type": "scattermapbox"
           }
          ],
          "scatterpolar": [
           {
            "marker": {
             "colorbar": {
              "outlinewidth": 0,
              "ticks": ""
             }
            },
            "type": "scatterpolar"
           }
          ],
          "scatterpolargl": [
           {
            "marker": {
             "colorbar": {
              "outlinewidth": 0,
              "ticks": ""
             }
            },
            "type": "scatterpolargl"
           }
          ],
          "scatterternary": [
           {
            "marker": {
             "colorbar": {
              "outlinewidth": 0,
              "ticks": ""
             }
            },
            "type": "scatterternary"
           }
          ],
          "surface": [
           {
            "colorbar": {
             "outlinewidth": 0,
             "ticks": ""
            },
            "colorscale": [
             [
              0,
              "#0d0887"
             ],
             [
              0.1111111111111111,
              "#46039f"
             ],
             [
              0.2222222222222222,
              "#7201a8"
             ],
             [
              0.3333333333333333,
              "#9c179e"
             ],
             [
              0.4444444444444444,
              "#bd3786"
             ],
             [
              0.5555555555555556,
              "#d8576b"
             ],
             [
              0.6666666666666666,
              "#ed7953"
             ],
             [
              0.7777777777777778,
              "#fb9f3a"
             ],
             [
              0.8888888888888888,
              "#fdca26"
             ],
             [
              1,
              "#f0f921"
             ]
            ],
            "type": "surface"
           }
          ],
          "table": [
           {
            "cells": {
             "fill": {
              "color": "#EBF0F8"
             },
             "line": {
              "color": "white"
             }
            },
            "header": {
             "fill": {
              "color": "#C8D4E3"
             },
             "line": {
              "color": "white"
             }
            },
            "type": "table"
           }
          ]
         },
         "layout": {
          "annotationdefaults": {
           "arrowcolor": "#2a3f5f",
           "arrowhead": 0,
           "arrowwidth": 1
          },
          "autotypenumbers": "strict",
          "coloraxis": {
           "colorbar": {
            "outlinewidth": 0,
            "ticks": ""
           }
          },
          "colorscale": {
           "diverging": [
            [
             0,
             "#8e0152"
            ],
            [
             0.1,
             "#c51b7d"
            ],
            [
             0.2,
             "#de77ae"
            ],
            [
             0.3,
             "#f1b6da"
            ],
            [
             0.4,
             "#fde0ef"
            ],
            [
             0.5,
             "#f7f7f7"
            ],
            [
             0.6,
             "#e6f5d0"
            ],
            [
             0.7,
             "#b8e186"
            ],
            [
             0.8,
             "#7fbc41"
            ],
            [
             0.9,
             "#4d9221"
            ],
            [
             1,
             "#276419"
            ]
           ],
           "sequential": [
            [
             0,
             "#0d0887"
            ],
            [
             0.1111111111111111,
             "#46039f"
            ],
            [
             0.2222222222222222,
             "#7201a8"
            ],
            [
             0.3333333333333333,
             "#9c179e"
            ],
            [
             0.4444444444444444,
             "#bd3786"
            ],
            [
             0.5555555555555556,
             "#d8576b"
            ],
            [
             0.6666666666666666,
             "#ed7953"
            ],
            [
             0.7777777777777778,
             "#fb9f3a"
            ],
            [
             0.8888888888888888,
             "#fdca26"
            ],
            [
             1,
             "#f0f921"
            ]
           ],
           "sequentialminus": [
            [
             0,
             "#0d0887"
            ],
            [
             0.1111111111111111,
             "#46039f"
            ],
            [
             0.2222222222222222,
             "#7201a8"
            ],
            [
             0.3333333333333333,
             "#9c179e"
            ],
            [
             0.4444444444444444,
             "#bd3786"
            ],
            [
             0.5555555555555556,
             "#d8576b"
            ],
            [
             0.6666666666666666,
             "#ed7953"
            ],
            [
             0.7777777777777778,
             "#fb9f3a"
            ],
            [
             0.8888888888888888,
             "#fdca26"
            ],
            [
             1,
             "#f0f921"
            ]
           ]
          },
          "colorway": [
           "#636efa",
           "#EF553B",
           "#00cc96",
           "#ab63fa",
           "#FFA15A",
           "#19d3f3",
           "#FF6692",
           "#B6E880",
           "#FF97FF",
           "#FECB52"
          ],
          "font": {
           "color": "#2a3f5f"
          },
          "geo": {
           "bgcolor": "white",
           "lakecolor": "white",
           "landcolor": "#E5ECF6",
           "showlakes": true,
           "showland": true,
           "subunitcolor": "white"
          },
          "hoverlabel": {
           "align": "left"
          },
          "hovermode": "closest",
          "mapbox": {
           "style": "light"
          },
          "paper_bgcolor": "white",
          "plot_bgcolor": "#E5ECF6",
          "polar": {
           "angularaxis": {
            "gridcolor": "white",
            "linecolor": "white",
            "ticks": ""
           },
           "bgcolor": "#E5ECF6",
           "radialaxis": {
            "gridcolor": "white",
            "linecolor": "white",
            "ticks": ""
           }
          },
          "scene": {
           "xaxis": {
            "backgroundcolor": "#E5ECF6",
            "gridcolor": "white",
            "gridwidth": 2,
            "linecolor": "white",
            "showbackground": true,
            "ticks": "",
            "zerolinecolor": "white"
           },
           "yaxis": {
            "backgroundcolor": "#E5ECF6",
            "gridcolor": "white",
            "gridwidth": 2,
            "linecolor": "white",
            "showbackground": true,
            "ticks": "",
            "zerolinecolor": "white"
           },
           "zaxis": {
            "backgroundcolor": "#E5ECF6",
            "gridcolor": "white",
            "gridwidth": 2,
            "linecolor": "white",
            "showbackground": true,
            "ticks": "",
            "zerolinecolor": "white"
           }
          },
          "shapedefaults": {
           "line": {
            "color": "#2a3f5f"
           }
          },
          "ternary": {
           "aaxis": {
            "gridcolor": "white",
            "linecolor": "white",
            "ticks": ""
           },
           "baxis": {
            "gridcolor": "white",
            "linecolor": "white",
            "ticks": ""
           },
           "bgcolor": "#E5ECF6",
           "caxis": {
            "gridcolor": "white",
            "linecolor": "white",
            "ticks": ""
           }
          },
          "title": {
           "x": 0.05
          },
          "xaxis": {
           "automargin": true,
           "gridcolor": "white",
           "linecolor": "white",
           "ticks": "",
           "title": {
            "standoff": 15
           },
           "zerolinecolor": "white",
           "zerolinewidth": 2
          },
          "yaxis": {
           "automargin": true,
           "gridcolor": "white",
           "linecolor": "white",
           "ticks": "",
           "title": {
            "standoff": 15
           },
           "zerolinecolor": "white",
           "zerolinewidth": 2
          }
         }
        },
        "title": {
         "text": "Proportion of Visits with Friends (Past 3 Months): Too Busy vs Not Busy"
        },
        "xaxis": {
         "categoryarray": [
          "Not in the past three months",
          "Less than monthly",
          "Monthly",
          "A few times a month",
          "Weekly",
          "A few times a week",
          "Daily or almost daily"
         ],
         "categoryorder": "array",
         "title": {
          "text": "Frequency of Visiting Friends"
         }
        },
        "yaxis": {
         "title": {
          "text": "Proportion"
         }
        }
       }
      }
     },
     "metadata": {},
     "output_type": "display_data"
    }
   ],
   "source": [
    "import plotly.graph_objects as go\n",
    "import pandas as pd\n",
    "\n",
    "# Step 1: Clean data\n",
    "filtered_data_no_na = filtered_data_cohort.dropna(subset=[\"CONNECTION_activities_visited_friends_p3m\"])\n",
    "\n",
    "# Step 2: Map ordinal categories to numeric values\n",
    "ordinal_mapping = {\n",
    "    \"Not in the past three months\": 0,\n",
    "    \"Less than monthly\": 1,\n",
    "    \"Monthly\": 2,\n",
    "    \"A few times a month\": 3,\n",
    "    \"Weekly\": 4,\n",
    "    \"A few times a week\": 5,\n",
    "    \"Daily or almost daily\": 6\n",
    "}\n",
    "filtered_data_no_na[\"Visited_Friends_Num\"] = filtered_data_no_na[\"CONNECTION_activities_visited_friends_p3m\"].map(ordinal_mapping)\n",
    "\n",
    "# Step 3: Group and calculate proportions\n",
    "grouped_data = (\n",
    "    filtered_data_no_na.groupby([\"CONNECTION_social_barriers_too_busy\", \"Visited_Friends_Num\"])\n",
    "    .size()\n",
    "    .reset_index(name=\"Count\")\n",
    ")\n",
    "\n",
    "group_totals = grouped_data.groupby(\"CONNECTION_social_barriers_too_busy\")[\"Count\"].transform(\"sum\")\n",
    "grouped_data[\"Proportion\"] = grouped_data[\"Count\"] / group_totals\n",
    "\n",
    "# Step 4: Create the plot\n",
    "fig = go.Figure()\n",
    "\n",
    "# Add bar plots for proportions (side-by-side)\n",
    "categories = list(ordinal_mapping.keys())\n",
    "for status, color in zip([\"I am too busy\", \"Not Selected\"], [\"blue\", \"red\"]):\n",
    "    status_data = grouped_data[grouped_data[\"CONNECTION_social_barriers_too_busy\"] == status]\n",
    "    fig.add_trace(\n",
    "        go.Bar(\n",
    "            x=[categories[num] for num in status_data[\"Visited_Friends_Num\"]],\n",
    "            y=status_data[\"Proportion\"],\n",
    "            name=f\"{status} (Bar)\",\n",
    "            marker=dict(color=color),\n",
    "        )\n",
    "    )\n",
    "\n",
    "# Update layout\n",
    "fig.update_layout(\n",
    "    title=\"Proportion of Visits with Friends (Past 3 Months): Too Busy vs Not Busy\",\n",
    "    xaxis_title=\"Frequency of Visiting Friends\",\n",
    "    yaxis_title=\"Proportion\",\n",
    "    barmode=\"group\",  # Keep bars side by side\n",
    "    legend_title=\"Legend\",\n",
    "    xaxis=dict(categoryorder=\"array\", categoryarray=categories),  # Maintain ordinal order\n",
    ")\n",
    "\n",
    "fig.show()\n",
    "\n"
   ]
  },
  {
   "cell_type": "code",
   "execution_count": 20,
   "metadata": {},
   "outputs": [
    {
     "name": "stdout",
     "output_type": "stream",
     "text": [
      "------- Information about: CONNECTION_preference_time_friends --------\n",
      "------------------------ Dataset: 2022_cohort ------------------------\n",
      " Question: How much time per week would you like to spend socializing with others from the following groups? - Friends \n",
      "----------------------------------------------------------------------\n",
      "\n",
      "------------------------ Dataset: 2022_cross -------------------------\n",
      " Question: Ideally, how many hours per week would you like to spend socializing with each of the following groups? - Friends \n",
      "----------------------------------------------------------------------\n",
      "\n",
      "------------------------ Dataset: 2023_cohort ------------------------\n",
      " Question: How much time per week would you like to spend socializing with others from the following groups? - Friends \n",
      "----------------------------------------------------------------------\n",
      "\n",
      "Number of NA: 7040\n",
      "CONNECTION_preference_time_friends\n",
      "2.0      374\n",
      "4.0      329\n",
      "3.0      325\n",
      "5.0      315\n",
      "6.0      239\n",
      "10.0     233\n",
      "1.0      214\n",
      "8.0      163\n",
      "7.0      123\n",
      "0.0      111\n",
      "20.0      81\n",
      "12.0      70\n",
      "15.0      62\n",
      "14.0      59\n",
      "30.0      38\n",
      "9.0       34\n",
      "11.0      25\n",
      "13.0      18\n",
      "24.0      16\n",
      "18.0      13\n",
      "40.0      13\n",
      "21.0      12\n",
      "16.0      12\n",
      "25.0      11\n",
      "17.0       6\n",
      "22.0       5\n",
      "36.0       5\n",
      "28.0       5\n",
      "35.0       5\n",
      "100.0      4\n",
      "60.0       4\n",
      "70.0       4\n",
      "26.0       4\n",
      "168.0      4\n",
      "45.0       4\n",
      "50.0       4\n",
      "23.0       3\n",
      "80.0       3\n",
      "27.0       2\n",
      "19.0       2\n",
      "59.0       2\n",
      "29.0       2\n",
      "41.0       2\n",
      "39.0       2\n",
      "33.0       2\n",
      "38.0       2\n",
      "44.0       2\n",
      "34.0       1\n",
      "75.0       1\n",
      "48.0       1\n",
      "111.0      1\n",
      "69.0       1\n",
      "31.0       1\n",
      "42.0       1\n",
      "130.0      1\n",
      "55.0       1\n",
      "120.0      1\n",
      "Name: count, dtype: int64\n",
      "\n"
     ]
    }
   ],
   "source": [
    "get_column_info(\"CONNECTION_preference_time_friends\")"
   ]
  },
  {
   "cell_type": "code",
   "execution_count": 21,
   "metadata": {},
   "outputs": [
    {
     "name": "stderr",
     "output_type": "stream",
     "text": [
      "C:\\Users\\Cayden Wong\\AppData\\Local\\Temp\\ipykernel_24308\\3451208025.py:17: FutureWarning:\n",
      "\n",
      "The default of observed=False is deprecated and will be changed to True in a future version of pandas. Pass observed=False to retain current behavior or observed=True to adopt the future default and silence this warning.\n",
      "\n",
      "C:\\Users\\Cayden Wong\\AppData\\Local\\Temp\\ipykernel_24308\\3451208025.py:17: FutureWarning:\n",
      "\n",
      "The default of observed=False is deprecated and will be changed to True in a future version of pandas. Pass observed=False to retain current behavior or observed=True to adopt the future default and silence this warning.\n",
      "\n"
     ]
    },
    {
     "data": {
      "application/vnd.plotly.v1+json": {
       "config": {
        "plotlyServerURL": "https://plot.ly"
       },
       "data": [
        {
         "marker": {
          "color": "blue"
         },
         "name": "I am too busy (Bar)",
         "type": "bar",
         "x": [
          "0-5 hours",
          "6-10 hours",
          "11-15 hours",
          "16-20 hours",
          "21-30 hours",
          "31-40 hours",
          "41-50 hours",
          "51-100 hours",
          "101-150 hours",
          "151+ hours"
         ],
         "xaxis": "x",
         "y": [
          0.40404040404040403,
          0.26262626262626265,
          0.1414141414141414,
          0.06060606060606061,
          0.050505050505050504,
          0.08080808080808081,
          0,
          0,
          0,
          0
         ],
         "yaxis": "y"
        },
        {
         "marker": {
          "color": "orange"
         },
         "name": "Not Selected (Bar)",
         "type": "bar",
         "x": [
          "0-5 hours",
          "6-10 hours",
          "11-15 hours",
          "16-20 hours",
          "21-30 hours",
          "31-40 hours",
          "41-50 hours",
          "51-100 hours",
          "101-150 hours",
          "151+ hours"
         ],
         "xaxis": "x",
         "y": [
          0.552901023890785,
          0.26621160409556316,
          0.11262798634812286,
          0.03754266211604096,
          0.006825938566552901,
          0.023890784982935155,
          0,
          0,
          0,
          0
         ],
         "yaxis": "y"
        },
        {
         "marker": {
          "color": "blue"
         },
         "name": "I am too busy (Bar)",
         "type": "bar",
         "x": [
          "0-5 hours",
          "6-10 hours",
          "11-15 hours",
          "16-20 hours",
          "21-30 hours",
          "31-40 hours",
          "41-50 hours",
          "51-100 hours",
          "101-150 hours",
          "151+ hours"
         ],
         "xaxis": "x2",
         "y": [
          0.35714285714285715,
          0.2571428571428571,
          0.2,
          0,
          0.14285714285714285,
          0.014285714285714285,
          0.014285714285714285,
          0.014285714285714285,
          0,
          0
         ],
         "yaxis": "y2"
        },
        {
         "marker": {
          "color": "orange"
         },
         "name": "Not Selected (Bar)",
         "type": "bar",
         "x": [
          "0-5 hours",
          "6-10 hours",
          "11-15 hours",
          "16-20 hours",
          "21-30 hours",
          "31-40 hours",
          "41-50 hours",
          "51-100 hours",
          "101-150 hours",
          "151+ hours"
         ],
         "xaxis": "x2",
         "y": [
          0.4669926650366748,
          0.28117359413202936,
          0.15403422982885084,
          0.014669926650366748,
          0.05134474327628362,
          0.012224938875305624,
          0.009779951100244499,
          0.007334963325183374,
          0.0024449877750611247,
          0
         ],
         "yaxis": "y2"
        }
       ],
       "layout": {
        "annotations": [
         {
          "font": {
           "size": 16
          },
          "showarrow": false,
          "text": "Filtered Data (Cohort)",
          "x": 0.225,
          "xanchor": "center",
          "xref": "paper",
          "y": 1,
          "yanchor": "bottom",
          "yref": "paper"
         },
         {
          "font": {
           "size": 16
          },
          "showarrow": false,
          "text": "Filtered Data (Cross)",
          "x": 0.775,
          "xanchor": "center",
          "xref": "paper",
          "y": 1,
          "yanchor": "bottom",
          "yref": "paper"
         }
        ],
        "showlegend": true,
        "template": {
         "data": {
          "bar": [
           {
            "error_x": {
             "color": "#2a3f5f"
            },
            "error_y": {
             "color": "#2a3f5f"
            },
            "marker": {
             "line": {
              "color": "#E5ECF6",
              "width": 0.5
             },
             "pattern": {
              "fillmode": "overlay",
              "size": 10,
              "solidity": 0.2
             }
            },
            "type": "bar"
           }
          ],
          "barpolar": [
           {
            "marker": {
             "line": {
              "color": "#E5ECF6",
              "width": 0.5
             },
             "pattern": {
              "fillmode": "overlay",
              "size": 10,
              "solidity": 0.2
             }
            },
            "type": "barpolar"
           }
          ],
          "carpet": [
           {
            "aaxis": {
             "endlinecolor": "#2a3f5f",
             "gridcolor": "white",
             "linecolor": "white",
             "minorgridcolor": "white",
             "startlinecolor": "#2a3f5f"
            },
            "baxis": {
             "endlinecolor": "#2a3f5f",
             "gridcolor": "white",
             "linecolor": "white",
             "minorgridcolor": "white",
             "startlinecolor": "#2a3f5f"
            },
            "type": "carpet"
           }
          ],
          "choropleth": [
           {
            "colorbar": {
             "outlinewidth": 0,
             "ticks": ""
            },
            "type": "choropleth"
           }
          ],
          "contour": [
           {
            "colorbar": {
             "outlinewidth": 0,
             "ticks": ""
            },
            "colorscale": [
             [
              0,
              "#0d0887"
             ],
             [
              0.1111111111111111,
              "#46039f"
             ],
             [
              0.2222222222222222,
              "#7201a8"
             ],
             [
              0.3333333333333333,
              "#9c179e"
             ],
             [
              0.4444444444444444,
              "#bd3786"
             ],
             [
              0.5555555555555556,
              "#d8576b"
             ],
             [
              0.6666666666666666,
              "#ed7953"
             ],
             [
              0.7777777777777778,
              "#fb9f3a"
             ],
             [
              0.8888888888888888,
              "#fdca26"
             ],
             [
              1,
              "#f0f921"
             ]
            ],
            "type": "contour"
           }
          ],
          "contourcarpet": [
           {
            "colorbar": {
             "outlinewidth": 0,
             "ticks": ""
            },
            "type": "contourcarpet"
           }
          ],
          "heatmap": [
           {
            "colorbar": {
             "outlinewidth": 0,
             "ticks": ""
            },
            "colorscale": [
             [
              0,
              "#0d0887"
             ],
             [
              0.1111111111111111,
              "#46039f"
             ],
             [
              0.2222222222222222,
              "#7201a8"
             ],
             [
              0.3333333333333333,
              "#9c179e"
             ],
             [
              0.4444444444444444,
              "#bd3786"
             ],
             [
              0.5555555555555556,
              "#d8576b"
             ],
             [
              0.6666666666666666,
              "#ed7953"
             ],
             [
              0.7777777777777778,
              "#fb9f3a"
             ],
             [
              0.8888888888888888,
              "#fdca26"
             ],
             [
              1,
              "#f0f921"
             ]
            ],
            "type": "heatmap"
           }
          ],
          "heatmapgl": [
           {
            "colorbar": {
             "outlinewidth": 0,
             "ticks": ""
            },
            "colorscale": [
             [
              0,
              "#0d0887"
             ],
             [
              0.1111111111111111,
              "#46039f"
             ],
             [
              0.2222222222222222,
              "#7201a8"
             ],
             [
              0.3333333333333333,
              "#9c179e"
             ],
             [
              0.4444444444444444,
              "#bd3786"
             ],
             [
              0.5555555555555556,
              "#d8576b"
             ],
             [
              0.6666666666666666,
              "#ed7953"
             ],
             [
              0.7777777777777778,
              "#fb9f3a"
             ],
             [
              0.8888888888888888,
              "#fdca26"
             ],
             [
              1,
              "#f0f921"
             ]
            ],
            "type": "heatmapgl"
           }
          ],
          "histogram": [
           {
            "marker": {
             "pattern": {
              "fillmode": "overlay",
              "size": 10,
              "solidity": 0.2
             }
            },
            "type": "histogram"
           }
          ],
          "histogram2d": [
           {
            "colorbar": {
             "outlinewidth": 0,
             "ticks": ""
            },
            "colorscale": [
             [
              0,
              "#0d0887"
             ],
             [
              0.1111111111111111,
              "#46039f"
             ],
             [
              0.2222222222222222,
              "#7201a8"
             ],
             [
              0.3333333333333333,
              "#9c179e"
             ],
             [
              0.4444444444444444,
              "#bd3786"
             ],
             [
              0.5555555555555556,
              "#d8576b"
             ],
             [
              0.6666666666666666,
              "#ed7953"
             ],
             [
              0.7777777777777778,
              "#fb9f3a"
             ],
             [
              0.8888888888888888,
              "#fdca26"
             ],
             [
              1,
              "#f0f921"
             ]
            ],
            "type": "histogram2d"
           }
          ],
          "histogram2dcontour": [
           {
            "colorbar": {
             "outlinewidth": 0,
             "ticks": ""
            },
            "colorscale": [
             [
              0,
              "#0d0887"
             ],
             [
              0.1111111111111111,
              "#46039f"
             ],
             [
              0.2222222222222222,
              "#7201a8"
             ],
             [
              0.3333333333333333,
              "#9c179e"
             ],
             [
              0.4444444444444444,
              "#bd3786"
             ],
             [
              0.5555555555555556,
              "#d8576b"
             ],
             [
              0.6666666666666666,
              "#ed7953"
             ],
             [
              0.7777777777777778,
              "#fb9f3a"
             ],
             [
              0.8888888888888888,
              "#fdca26"
             ],
             [
              1,
              "#f0f921"
             ]
            ],
            "type": "histogram2dcontour"
           }
          ],
          "mesh3d": [
           {
            "colorbar": {
             "outlinewidth": 0,
             "ticks": ""
            },
            "type": "mesh3d"
           }
          ],
          "parcoords": [
           {
            "line": {
             "colorbar": {
              "outlinewidth": 0,
              "ticks": ""
             }
            },
            "type": "parcoords"
           }
          ],
          "pie": [
           {
            "automargin": true,
            "type": "pie"
           }
          ],
          "scatter": [
           {
            "fillpattern": {
             "fillmode": "overlay",
             "size": 10,
             "solidity": 0.2
            },
            "type": "scatter"
           }
          ],
          "scatter3d": [
           {
            "line": {
             "colorbar": {
              "outlinewidth": 0,
              "ticks": ""
             }
            },
            "marker": {
             "colorbar": {
              "outlinewidth": 0,
              "ticks": ""
             }
            },
            "type": "scatter3d"
           }
          ],
          "scattercarpet": [
           {
            "marker": {
             "colorbar": {
              "outlinewidth": 0,
              "ticks": ""
             }
            },
            "type": "scattercarpet"
           }
          ],
          "scattergeo": [
           {
            "marker": {
             "colorbar": {
              "outlinewidth": 0,
              "ticks": ""
             }
            },
            "type": "scattergeo"
           }
          ],
          "scattergl": [
           {
            "marker": {
             "colorbar": {
              "outlinewidth": 0,
              "ticks": ""
             }
            },
            "type": "scattergl"
           }
          ],
          "scattermapbox": [
           {
            "marker": {
             "colorbar": {
              "outlinewidth": 0,
              "ticks": ""
             }
            },
            "type": "scattermapbox"
           }
          ],
          "scatterpolar": [
           {
            "marker": {
             "colorbar": {
              "outlinewidth": 0,
              "ticks": ""
             }
            },
            "type": "scatterpolar"
           }
          ],
          "scatterpolargl": [
           {
            "marker": {
             "colorbar": {
              "outlinewidth": 0,
              "ticks": ""
             }
            },
            "type": "scatterpolargl"
           }
          ],
          "scatterternary": [
           {
            "marker": {
             "colorbar": {
              "outlinewidth": 0,
              "ticks": ""
             }
            },
            "type": "scatterternary"
           }
          ],
          "surface": [
           {
            "colorbar": {
             "outlinewidth": 0,
             "ticks": ""
            },
            "colorscale": [
             [
              0,
              "#0d0887"
             ],
             [
              0.1111111111111111,
              "#46039f"
             ],
             [
              0.2222222222222222,
              "#7201a8"
             ],
             [
              0.3333333333333333,
              "#9c179e"
             ],
             [
              0.4444444444444444,
              "#bd3786"
             ],
             [
              0.5555555555555556,
              "#d8576b"
             ],
             [
              0.6666666666666666,
              "#ed7953"
             ],
             [
              0.7777777777777778,
              "#fb9f3a"
             ],
             [
              0.8888888888888888,
              "#fdca26"
             ],
             [
              1,
              "#f0f921"
             ]
            ],
            "type": "surface"
           }
          ],
          "table": [
           {
            "cells": {
             "fill": {
              "color": "#EBF0F8"
             },
             "line": {
              "color": "white"
             }
            },
            "header": {
             "fill": {
              "color": "#C8D4E3"
             },
             "line": {
              "color": "white"
             }
            },
            "type": "table"
           }
          ]
         },
         "layout": {
          "annotationdefaults": {
           "arrowcolor": "#2a3f5f",
           "arrowhead": 0,
           "arrowwidth": 1
          },
          "autotypenumbers": "strict",
          "coloraxis": {
           "colorbar": {
            "outlinewidth": 0,
            "ticks": ""
           }
          },
          "colorscale": {
           "diverging": [
            [
             0,
             "#8e0152"
            ],
            [
             0.1,
             "#c51b7d"
            ],
            [
             0.2,
             "#de77ae"
            ],
            [
             0.3,
             "#f1b6da"
            ],
            [
             0.4,
             "#fde0ef"
            ],
            [
             0.5,
             "#f7f7f7"
            ],
            [
             0.6,
             "#e6f5d0"
            ],
            [
             0.7,
             "#b8e186"
            ],
            [
             0.8,
             "#7fbc41"
            ],
            [
             0.9,
             "#4d9221"
            ],
            [
             1,
             "#276419"
            ]
           ],
           "sequential": [
            [
             0,
             "#0d0887"
            ],
            [
             0.1111111111111111,
             "#46039f"
            ],
            [
             0.2222222222222222,
             "#7201a8"
            ],
            [
             0.3333333333333333,
             "#9c179e"
            ],
            [
             0.4444444444444444,
             "#bd3786"
            ],
            [
             0.5555555555555556,
             "#d8576b"
            ],
            [
             0.6666666666666666,
             "#ed7953"
            ],
            [
             0.7777777777777778,
             "#fb9f3a"
            ],
            [
             0.8888888888888888,
             "#fdca26"
            ],
            [
             1,
             "#f0f921"
            ]
           ],
           "sequentialminus": [
            [
             0,
             "#0d0887"
            ],
            [
             0.1111111111111111,
             "#46039f"
            ],
            [
             0.2222222222222222,
             "#7201a8"
            ],
            [
             0.3333333333333333,
             "#9c179e"
            ],
            [
             0.4444444444444444,
             "#bd3786"
            ],
            [
             0.5555555555555556,
             "#d8576b"
            ],
            [
             0.6666666666666666,
             "#ed7953"
            ],
            [
             0.7777777777777778,
             "#fb9f3a"
            ],
            [
             0.8888888888888888,
             "#fdca26"
            ],
            [
             1,
             "#f0f921"
            ]
           ]
          },
          "colorway": [
           "#636efa",
           "#EF553B",
           "#00cc96",
           "#ab63fa",
           "#FFA15A",
           "#19d3f3",
           "#FF6692",
           "#B6E880",
           "#FF97FF",
           "#FECB52"
          ],
          "font": {
           "color": "#2a3f5f"
          },
          "geo": {
           "bgcolor": "white",
           "lakecolor": "white",
           "landcolor": "#E5ECF6",
           "showlakes": true,
           "showland": true,
           "subunitcolor": "white"
          },
          "hoverlabel": {
           "align": "left"
          },
          "hovermode": "closest",
          "mapbox": {
           "style": "light"
          },
          "paper_bgcolor": "white",
          "plot_bgcolor": "#E5ECF6",
          "polar": {
           "angularaxis": {
            "gridcolor": "white",
            "linecolor": "white",
            "ticks": ""
           },
           "bgcolor": "#E5ECF6",
           "radialaxis": {
            "gridcolor": "white",
            "linecolor": "white",
            "ticks": ""
           }
          },
          "scene": {
           "xaxis": {
            "backgroundcolor": "#E5ECF6",
            "gridcolor": "white",
            "gridwidth": 2,
            "linecolor": "white",
            "showbackground": true,
            "ticks": "",
            "zerolinecolor": "white"
           },
           "yaxis": {
            "backgroundcolor": "#E5ECF6",
            "gridcolor": "white",
            "gridwidth": 2,
            "linecolor": "white",
            "showbackground": true,
            "ticks": "",
            "zerolinecolor": "white"
           },
           "zaxis": {
            "backgroundcolor": "#E5ECF6",
            "gridcolor": "white",
            "gridwidth": 2,
            "linecolor": "white",
            "showbackground": true,
            "ticks": "",
            "zerolinecolor": "white"
           }
          },
          "shapedefaults": {
           "line": {
            "color": "#2a3f5f"
           }
          },
          "ternary": {
           "aaxis": {
            "gridcolor": "white",
            "linecolor": "white",
            "ticks": ""
           },
           "baxis": {
            "gridcolor": "white",
            "linecolor": "white",
            "ticks": ""
           },
           "bgcolor": "#E5ECF6",
           "caxis": {
            "gridcolor": "white",
            "linecolor": "white",
            "ticks": ""
           }
          },
          "title": {
           "x": 0.05
          },
          "xaxis": {
           "automargin": true,
           "gridcolor": "white",
           "linecolor": "white",
           "ticks": "",
           "title": {
            "standoff": 15
           },
           "zerolinecolor": "white",
           "zerolinewidth": 2
          },
          "yaxis": {
           "automargin": true,
           "gridcolor": "white",
           "linecolor": "white",
           "ticks": "",
           "title": {
            "standoff": 15
           },
           "zerolinecolor": "white",
           "zerolinewidth": 2
          }
         }
        },
        "title": {
         "text": "Comparison of Preferred Time Spent Socializing: Cohort vs Cross"
        },
        "xaxis": {
         "anchor": "y",
         "domain": [
          0,
          0.45
         ]
        },
        "xaxis2": {
         "anchor": "y2",
         "domain": [
          0.55,
          1
         ]
        },
        "yaxis": {
         "anchor": "x",
         "domain": [
          0,
          1
         ]
        },
        "yaxis2": {
         "anchor": "x2",
         "domain": [
          0,
          1
         ],
         "matches": "y",
         "showticklabels": false
        }
       }
      }
     },
     "metadata": {},
     "output_type": "display_data"
    }
   ],
   "source": [
    "import plotly.graph_objects as go\n",
    "import pandas as pd\n",
    "from plotly.subplots import make_subplots\n",
    "\n",
    "# Helper function to generate the preferred time plot for any dataset\n",
    "def generate_time_spent_plot(filtered_data, title):\n",
    "    # Step 1: Clean data by dropping rows with NA in the relevant variable\n",
    "    filtered_data_no_na = filtered_data.dropna(subset=[\"CONNECTION_preference_time_friends\"])\n",
    "\n",
    "    # Step 2: Create time bins (e.g., 0-5 hours, 6-10 hours, etc.)\n",
    "    bins = [0, 5, 10, 15, 20, 30, 40, 50, 100, 150, 200]\n",
    "    labels = [\"0-5 hours\", \"6-10 hours\", \"11-15 hours\", \"16-20 hours\", \"21-30 hours\", \"31-40 hours\", \"41-50 hours\", \"51-100 hours\", \"101-150 hours\", \"151+ hours\"]\n",
    "    filtered_data_no_na[\"Time_Friends_Binned\"] = pd.cut(filtered_data_no_na[\"CONNECTION_preference_time_friends\"], bins=bins, labels=labels, right=False)\n",
    "\n",
    "    # Step 3: Group by \"Too Busy\" status and time bins, calculate counts\n",
    "    grouped_data = (\n",
    "        filtered_data_no_na.groupby([\"CONNECTION_social_barriers_too_busy\", \"Time_Friends_Binned\"])\n",
    "        .size()\n",
    "        .reset_index(name=\"Count\")\n",
    "    )\n",
    "\n",
    "    # Step 4: Calculate proportions within each \"Too Busy\" group\n",
    "    group_totals = grouped_data.groupby(\"CONNECTION_social_barriers_too_busy\")[\"Count\"].transform(\"sum\")\n",
    "    grouped_data[\"Proportion\"] = grouped_data[\"Count\"] / group_totals\n",
    "\n",
    "    # Step 5: Create the plot\n",
    "    fig = go.Figure()\n",
    "\n",
    "    # Add bar plots for proportions (side-by-side)\n",
    "    for status, color in zip([\"I am too busy\", \"Not Selected\"], [\"blue\", \"orange\"]):\n",
    "        status_data = grouped_data[grouped_data[\"CONNECTION_social_barriers_too_busy\"] == status]\n",
    "        fig.add_trace(\n",
    "            go.Bar(\n",
    "                x=status_data[\"Time_Friends_Binned\"],\n",
    "                y=status_data[\"Proportion\"],\n",
    "                name=f\"{status} (Bar)\",\n",
    "                marker=dict(color=color),\n",
    "            )\n",
    "        )\n",
    "\n",
    "    # Step 6: Update the layout\n",
    "    fig.update_layout(\n",
    "        title=title,\n",
    "        xaxis_title=\"Preferred Time (hours per week)\",\n",
    "        yaxis_title=\"Proportion\",\n",
    "        barmode=\"group\",  # Keep bars side by side\n",
    "        legend_title=\"Legend\",\n",
    "        xaxis=dict(categoryorder=\"array\", categoryarray=labels),  # Maintain custom bin order\n",
    "    )\n",
    "\n",
    "    return fig\n",
    "\n",
    "# Create a subplot with two columns\n",
    "fig = make_subplots(\n",
    "    rows=1, cols=2,\n",
    "    subplot_titles=[\"Filtered Data (Cohort)\", \"Filtered Data (Cross)\"],\n",
    "    shared_yaxes=True  # Share y-axis to align the bars\n",
    ")\n",
    "\n",
    "# Generate and add traces for filtered_data_cohort (right subplot)\n",
    "cohort_fig = generate_time_spent_plot(filtered_data_cohort, \"Preferred Time Spent Socializing: Cohort\")\n",
    "for trace in cohort_fig.data:\n",
    "    fig.add_trace(trace, row=1, col=1)\n",
    "\n",
    "# Generate and add traces for filtered_data_cross (left subplot)\n",
    "cross_fig = generate_time_spent_plot(filtered_data_cross, \"Preferred Time Spent Socializing: Cross\")\n",
    "for trace in cross_fig.data:\n",
    "    fig.add_trace(trace, row=1, col=2)\n",
    "\n",
    "# Update layout for overall figure\n",
    "fig.update_layout(\n",
    "    title=\"Comparison of Preferred Time Spent Socializing: Cohort vs Cross\",\n",
    "    showlegend=True,\n",
    ")\n",
    "\n",
    "fig.show()\n"
   ]
  },
  {
   "cell_type": "code",
   "execution_count": 22,
   "metadata": {},
   "outputs": [
    {
     "name": "stdout",
     "output_type": "stream",
     "text": [
      "------ Information about: CONNECTION_activities_new_friend_p3m -------\n",
      "------------------------ Dataset: 2021_cross -------------------------\n",
      " Question: In the PAST THREE MONTH, how often have you... - made a new friend? \n",
      "----------------------------------------------------------------------\n",
      "\n",
      "------------------------ Dataset: 2022_cohort ------------------------\n",
      " Question: In the PAST THREE MONTH, how often have you... - made a new friend? \n",
      "----------------------------------------------------------------------\n",
      "\n",
      "------------------------ Dataset: 2023_cohort ------------------------\n",
      " Question: In the PAST THREE MONTH, how often have you... - made a new friend? \n",
      "----------------------------------------------------------------------\n",
      "\n",
      "------------------------ Dataset: 2023_cross -------------------------\n",
      " Question: In the PAST THREE MONTH, how often have you... - made a new friend? \n",
      "----------------------------------------------------------------------\n",
      "\n",
      "Number of NA: 4052\n",
      "CONNECTION_activities_new_friend_p3m\n",
      "Not in the past three months    3074\n",
      "Less than monthly               1194\n",
      "Monthly                          594\n",
      "A few times a month              565\n",
      "Weekly                           322\n",
      "A few times a week               157\n",
      "Daily or almost daily             60\n",
      "Name: count, dtype: int64\n",
      "\n"
     ]
    }
   ],
   "source": [
    "get_column_info(\"CONNECTION_activities_new_friend_p3m\")"
   ]
  },
  {
   "cell_type": "code",
   "execution_count": 23,
   "metadata": {},
   "outputs": [
    {
     "data": {
      "application/vnd.plotly.v1+json": {
       "config": {
        "plotlyServerURL": "https://plot.ly"
       },
       "data": [
        {
         "marker": {
          "color": "blue"
         },
         "name": "I am too busy (Bar)",
         "type": "bar",
         "x": [
          "Not in the past three months",
          "Less than monthly",
          "Monthly",
          "A few times a month",
          "Weekly"
         ],
         "y": [
          0.5454545454545454,
          0.32323232323232326,
          0.0707070707070707,
          0.04040404040404041,
          0.020202020202020204
         ]
        },
        {
         "marker": {
          "color": "orange"
         },
         "name": "Not Selected (Bar)",
         "type": "bar",
         "x": [
          "Not in the past three months",
          "Less than monthly",
          "Monthly",
          "A few times a month",
          "Weekly",
          "A few times a week",
          "Daily or almost daily"
         ],
         "y": [
          0.6860068259385665,
          0.17747440273037543,
          0.06825938566552901,
          0.030716723549488054,
          0.020477815699658702,
          0.013651877133105802,
          0.0034129692832764505
         ]
        }
       ],
       "layout": {
        "barmode": "group",
        "legend": {
         "title": {
          "text": "Legend"
         }
        },
        "template": {
         "data": {
          "bar": [
           {
            "error_x": {
             "color": "#2a3f5f"
            },
            "error_y": {
             "color": "#2a3f5f"
            },
            "marker": {
             "line": {
              "color": "#E5ECF6",
              "width": 0.5
             },
             "pattern": {
              "fillmode": "overlay",
              "size": 10,
              "solidity": 0.2
             }
            },
            "type": "bar"
           }
          ],
          "barpolar": [
           {
            "marker": {
             "line": {
              "color": "#E5ECF6",
              "width": 0.5
             },
             "pattern": {
              "fillmode": "overlay",
              "size": 10,
              "solidity": 0.2
             }
            },
            "type": "barpolar"
           }
          ],
          "carpet": [
           {
            "aaxis": {
             "endlinecolor": "#2a3f5f",
             "gridcolor": "white",
             "linecolor": "white",
             "minorgridcolor": "white",
             "startlinecolor": "#2a3f5f"
            },
            "baxis": {
             "endlinecolor": "#2a3f5f",
             "gridcolor": "white",
             "linecolor": "white",
             "minorgridcolor": "white",
             "startlinecolor": "#2a3f5f"
            },
            "type": "carpet"
           }
          ],
          "choropleth": [
           {
            "colorbar": {
             "outlinewidth": 0,
             "ticks": ""
            },
            "type": "choropleth"
           }
          ],
          "contour": [
           {
            "colorbar": {
             "outlinewidth": 0,
             "ticks": ""
            },
            "colorscale": [
             [
              0,
              "#0d0887"
             ],
             [
              0.1111111111111111,
              "#46039f"
             ],
             [
              0.2222222222222222,
              "#7201a8"
             ],
             [
              0.3333333333333333,
              "#9c179e"
             ],
             [
              0.4444444444444444,
              "#bd3786"
             ],
             [
              0.5555555555555556,
              "#d8576b"
             ],
             [
              0.6666666666666666,
              "#ed7953"
             ],
             [
              0.7777777777777778,
              "#fb9f3a"
             ],
             [
              0.8888888888888888,
              "#fdca26"
             ],
             [
              1,
              "#f0f921"
             ]
            ],
            "type": "contour"
           }
          ],
          "contourcarpet": [
           {
            "colorbar": {
             "outlinewidth": 0,
             "ticks": ""
            },
            "type": "contourcarpet"
           }
          ],
          "heatmap": [
           {
            "colorbar": {
             "outlinewidth": 0,
             "ticks": ""
            },
            "colorscale": [
             [
              0,
              "#0d0887"
             ],
             [
              0.1111111111111111,
              "#46039f"
             ],
             [
              0.2222222222222222,
              "#7201a8"
             ],
             [
              0.3333333333333333,
              "#9c179e"
             ],
             [
              0.4444444444444444,
              "#bd3786"
             ],
             [
              0.5555555555555556,
              "#d8576b"
             ],
             [
              0.6666666666666666,
              "#ed7953"
             ],
             [
              0.7777777777777778,
              "#fb9f3a"
             ],
             [
              0.8888888888888888,
              "#fdca26"
             ],
             [
              1,
              "#f0f921"
             ]
            ],
            "type": "heatmap"
           }
          ],
          "heatmapgl": [
           {
            "colorbar": {
             "outlinewidth": 0,
             "ticks": ""
            },
            "colorscale": [
             [
              0,
              "#0d0887"
             ],
             [
              0.1111111111111111,
              "#46039f"
             ],
             [
              0.2222222222222222,
              "#7201a8"
             ],
             [
              0.3333333333333333,
              "#9c179e"
             ],
             [
              0.4444444444444444,
              "#bd3786"
             ],
             [
              0.5555555555555556,
              "#d8576b"
             ],
             [
              0.6666666666666666,
              "#ed7953"
             ],
             [
              0.7777777777777778,
              "#fb9f3a"
             ],
             [
              0.8888888888888888,
              "#fdca26"
             ],
             [
              1,
              "#f0f921"
             ]
            ],
            "type": "heatmapgl"
           }
          ],
          "histogram": [
           {
            "marker": {
             "pattern": {
              "fillmode": "overlay",
              "size": 10,
              "solidity": 0.2
             }
            },
            "type": "histogram"
           }
          ],
          "histogram2d": [
           {
            "colorbar": {
             "outlinewidth": 0,
             "ticks": ""
            },
            "colorscale": [
             [
              0,
              "#0d0887"
             ],
             [
              0.1111111111111111,
              "#46039f"
             ],
             [
              0.2222222222222222,
              "#7201a8"
             ],
             [
              0.3333333333333333,
              "#9c179e"
             ],
             [
              0.4444444444444444,
              "#bd3786"
             ],
             [
              0.5555555555555556,
              "#d8576b"
             ],
             [
              0.6666666666666666,
              "#ed7953"
             ],
             [
              0.7777777777777778,
              "#fb9f3a"
             ],
             [
              0.8888888888888888,
              "#fdca26"
             ],
             [
              1,
              "#f0f921"
             ]
            ],
            "type": "histogram2d"
           }
          ],
          "histogram2dcontour": [
           {
            "colorbar": {
             "outlinewidth": 0,
             "ticks": ""
            },
            "colorscale": [
             [
              0,
              "#0d0887"
             ],
             [
              0.1111111111111111,
              "#46039f"
             ],
             [
              0.2222222222222222,
              "#7201a8"
             ],
             [
              0.3333333333333333,
              "#9c179e"
             ],
             [
              0.4444444444444444,
              "#bd3786"
             ],
             [
              0.5555555555555556,
              "#d8576b"
             ],
             [
              0.6666666666666666,
              "#ed7953"
             ],
             [
              0.7777777777777778,
              "#fb9f3a"
             ],
             [
              0.8888888888888888,
              "#fdca26"
             ],
             [
              1,
              "#f0f921"
             ]
            ],
            "type": "histogram2dcontour"
           }
          ],
          "mesh3d": [
           {
            "colorbar": {
             "outlinewidth": 0,
             "ticks": ""
            },
            "type": "mesh3d"
           }
          ],
          "parcoords": [
           {
            "line": {
             "colorbar": {
              "outlinewidth": 0,
              "ticks": ""
             }
            },
            "type": "parcoords"
           }
          ],
          "pie": [
           {
            "automargin": true,
            "type": "pie"
           }
          ],
          "scatter": [
           {
            "fillpattern": {
             "fillmode": "overlay",
             "size": 10,
             "solidity": 0.2
            },
            "type": "scatter"
           }
          ],
          "scatter3d": [
           {
            "line": {
             "colorbar": {
              "outlinewidth": 0,
              "ticks": ""
             }
            },
            "marker": {
             "colorbar": {
              "outlinewidth": 0,
              "ticks": ""
             }
            },
            "type": "scatter3d"
           }
          ],
          "scattercarpet": [
           {
            "marker": {
             "colorbar": {
              "outlinewidth": 0,
              "ticks": ""
             }
            },
            "type": "scattercarpet"
           }
          ],
          "scattergeo": [
           {
            "marker": {
             "colorbar": {
              "outlinewidth": 0,
              "ticks": ""
             }
            },
            "type": "scattergeo"
           }
          ],
          "scattergl": [
           {
            "marker": {
             "colorbar": {
              "outlinewidth": 0,
              "ticks": ""
             }
            },
            "type": "scattergl"
           }
          ],
          "scattermapbox": [
           {
            "marker": {
             "colorbar": {
              "outlinewidth": 0,
              "ticks": ""
             }
            },
            "type": "scattermapbox"
           }
          ],
          "scatterpolar": [
           {
            "marker": {
             "colorbar": {
              "outlinewidth": 0,
              "ticks": ""
             }
            },
            "type": "scatterpolar"
           }
          ],
          "scatterpolargl": [
           {
            "marker": {
             "colorbar": {
              "outlinewidth": 0,
              "ticks": ""
             }
            },
            "type": "scatterpolargl"
           }
          ],
          "scatterternary": [
           {
            "marker": {
             "colorbar": {
              "outlinewidth": 0,
              "ticks": ""
             }
            },
            "type": "scatterternary"
           }
          ],
          "surface": [
           {
            "colorbar": {
             "outlinewidth": 0,
             "ticks": ""
            },
            "colorscale": [
             [
              0,
              "#0d0887"
             ],
             [
              0.1111111111111111,
              "#46039f"
             ],
             [
              0.2222222222222222,
              "#7201a8"
             ],
             [
              0.3333333333333333,
              "#9c179e"
             ],
             [
              0.4444444444444444,
              "#bd3786"
             ],
             [
              0.5555555555555556,
              "#d8576b"
             ],
             [
              0.6666666666666666,
              "#ed7953"
             ],
             [
              0.7777777777777778,
              "#fb9f3a"
             ],
             [
              0.8888888888888888,
              "#fdca26"
             ],
             [
              1,
              "#f0f921"
             ]
            ],
            "type": "surface"
           }
          ],
          "table": [
           {
            "cells": {
             "fill": {
              "color": "#EBF0F8"
             },
             "line": {
              "color": "white"
             }
            },
            "header": {
             "fill": {
              "color": "#C8D4E3"
             },
             "line": {
              "color": "white"
             }
            },
            "type": "table"
           }
          ]
         },
         "layout": {
          "annotationdefaults": {
           "arrowcolor": "#2a3f5f",
           "arrowhead": 0,
           "arrowwidth": 1
          },
          "autotypenumbers": "strict",
          "coloraxis": {
           "colorbar": {
            "outlinewidth": 0,
            "ticks": ""
           }
          },
          "colorscale": {
           "diverging": [
            [
             0,
             "#8e0152"
            ],
            [
             0.1,
             "#c51b7d"
            ],
            [
             0.2,
             "#de77ae"
            ],
            [
             0.3,
             "#f1b6da"
            ],
            [
             0.4,
             "#fde0ef"
            ],
            [
             0.5,
             "#f7f7f7"
            ],
            [
             0.6,
             "#e6f5d0"
            ],
            [
             0.7,
             "#b8e186"
            ],
            [
             0.8,
             "#7fbc41"
            ],
            [
             0.9,
             "#4d9221"
            ],
            [
             1,
             "#276419"
            ]
           ],
           "sequential": [
            [
             0,
             "#0d0887"
            ],
            [
             0.1111111111111111,
             "#46039f"
            ],
            [
             0.2222222222222222,
             "#7201a8"
            ],
            [
             0.3333333333333333,
             "#9c179e"
            ],
            [
             0.4444444444444444,
             "#bd3786"
            ],
            [
             0.5555555555555556,
             "#d8576b"
            ],
            [
             0.6666666666666666,
             "#ed7953"
            ],
            [
             0.7777777777777778,
             "#fb9f3a"
            ],
            [
             0.8888888888888888,
             "#fdca26"
            ],
            [
             1,
             "#f0f921"
            ]
           ],
           "sequentialminus": [
            [
             0,
             "#0d0887"
            ],
            [
             0.1111111111111111,
             "#46039f"
            ],
            [
             0.2222222222222222,
             "#7201a8"
            ],
            [
             0.3333333333333333,
             "#9c179e"
            ],
            [
             0.4444444444444444,
             "#bd3786"
            ],
            [
             0.5555555555555556,
             "#d8576b"
            ],
            [
             0.6666666666666666,
             "#ed7953"
            ],
            [
             0.7777777777777778,
             "#fb9f3a"
            ],
            [
             0.8888888888888888,
             "#fdca26"
            ],
            [
             1,
             "#f0f921"
            ]
           ]
          },
          "colorway": [
           "#636efa",
           "#EF553B",
           "#00cc96",
           "#ab63fa",
           "#FFA15A",
           "#19d3f3",
           "#FF6692",
           "#B6E880",
           "#FF97FF",
           "#FECB52"
          ],
          "font": {
           "color": "#2a3f5f"
          },
          "geo": {
           "bgcolor": "white",
           "lakecolor": "white",
           "landcolor": "#E5ECF6",
           "showlakes": true,
           "showland": true,
           "subunitcolor": "white"
          },
          "hoverlabel": {
           "align": "left"
          },
          "hovermode": "closest",
          "mapbox": {
           "style": "light"
          },
          "paper_bgcolor": "white",
          "plot_bgcolor": "#E5ECF6",
          "polar": {
           "angularaxis": {
            "gridcolor": "white",
            "linecolor": "white",
            "ticks": ""
           },
           "bgcolor": "#E5ECF6",
           "radialaxis": {
            "gridcolor": "white",
            "linecolor": "white",
            "ticks": ""
           }
          },
          "scene": {
           "xaxis": {
            "backgroundcolor": "#E5ECF6",
            "gridcolor": "white",
            "gridwidth": 2,
            "linecolor": "white",
            "showbackground": true,
            "ticks": "",
            "zerolinecolor": "white"
           },
           "yaxis": {
            "backgroundcolor": "#E5ECF6",
            "gridcolor": "white",
            "gridwidth": 2,
            "linecolor": "white",
            "showbackground": true,
            "ticks": "",
            "zerolinecolor": "white"
           },
           "zaxis": {
            "backgroundcolor": "#E5ECF6",
            "gridcolor": "white",
            "gridwidth": 2,
            "linecolor": "white",
            "showbackground": true,
            "ticks": "",
            "zerolinecolor": "white"
           }
          },
          "shapedefaults": {
           "line": {
            "color": "#2a3f5f"
           }
          },
          "ternary": {
           "aaxis": {
            "gridcolor": "white",
            "linecolor": "white",
            "ticks": ""
           },
           "baxis": {
            "gridcolor": "white",
            "linecolor": "white",
            "ticks": ""
           },
           "bgcolor": "#E5ECF6",
           "caxis": {
            "gridcolor": "white",
            "linecolor": "white",
            "ticks": ""
           }
          },
          "title": {
           "x": 0.05
          },
          "xaxis": {
           "automargin": true,
           "gridcolor": "white",
           "linecolor": "white",
           "ticks": "",
           "title": {
            "standoff": 15
           },
           "zerolinecolor": "white",
           "zerolinewidth": 2
          },
          "yaxis": {
           "automargin": true,
           "gridcolor": "white",
           "linecolor": "white",
           "ticks": "",
           "title": {
            "standoff": 15
           },
           "zerolinecolor": "white",
           "zerolinewidth": 2
          }
         }
        },
        "title": {
         "text": "Frequency of Making New Friends in the Past 3 Months: Too Busy vs Not Busy"
        },
        "xaxis": {
         "categoryarray": [
          "Not in the past three months",
          "Less than monthly",
          "Monthly",
          "A few times a month",
          "Weekly",
          "A few times a week",
          "Daily or almost daily"
         ],
         "categoryorder": "array",
         "title": {
          "text": "Frequency of Making New Friends"
         }
        },
        "yaxis": {
         "title": {
          "text": "Proportion"
         }
        }
       }
      }
     },
     "metadata": {},
     "output_type": "display_data"
    }
   ],
   "source": [
    "import plotly.graph_objects as go\n",
    "import pandas as pd\n",
    "\n",
    "# Step 1: Clean data by dropping rows with NA in the relevant variable\n",
    "filtered_data_no_na = filtered_data_cohort.dropna(subset=[\"CONNECTION_activities_new_friend_p3m\"])\n",
    "\n",
    "# Step 2: Map ordinal categories to numeric values\n",
    "ordinal_mapping = {\n",
    "    \"Not in the past three months\": 0,\n",
    "    \"Less than monthly\": 1,\n",
    "    \"Monthly\": 2,\n",
    "    \"A few times a month\": 3,\n",
    "    \"Weekly\": 4,\n",
    "    \"A few times a week\": 5,\n",
    "    \"Daily or almost daily\": 6\n",
    "}\n",
    "filtered_data_no_na[\"New_Friend_Frequency_Num\"] = filtered_data_no_na[\"CONNECTION_activities_new_friend_p3m\"].map(ordinal_mapping)\n",
    "\n",
    "# Step 3: Group by \"Too Busy\" status and frequency, calculate counts\n",
    "grouped_data = (\n",
    "    filtered_data_no_na.groupby([\"CONNECTION_social_barriers_too_busy\", \"New_Friend_Frequency_Num\"])\n",
    "    .size()\n",
    "    .reset_index(name=\"Count\")\n",
    ")\n",
    "\n",
    "# Step 4: Calculate proportions within each \"Too Busy\" group\n",
    "group_totals = grouped_data.groupby(\"CONNECTION_social_barriers_too_busy\")[\"Count\"].transform(\"sum\")\n",
    "grouped_data[\"Proportion\"] = grouped_data[\"Count\"] / group_totals\n",
    "\n",
    "# Step 5: Create the plot\n",
    "fig = go.Figure()\n",
    "\n",
    "# Add bar plots for proportions (side-by-side)\n",
    "categories = list(ordinal_mapping.keys())\n",
    "for status, color in zip([\"I am too busy\", \"Not Selected\"], [\"blue\", \"orange\"]):\n",
    "    status_data = grouped_data[grouped_data[\"CONNECTION_social_barriers_too_busy\"] == status]\n",
    "    fig.add_trace(\n",
    "        go.Bar(\n",
    "            x=[categories[num] for num in status_data[\"New_Friend_Frequency_Num\"]],\n",
    "            y=status_data[\"Proportion\"],\n",
    "            name=f\"{status} (Bar)\",\n",
    "            marker=dict(color=color),\n",
    "        )\n",
    "    )\n",
    "\n",
    "# Step 6: Update the layout\n",
    "fig.update_layout(\n",
    "    title=\"Frequency of Making New Friends in the Past 3 Months: Too Busy vs Not Busy\",\n",
    "    xaxis_title=\"Frequency of Making New Friends\",\n",
    "    yaxis_title=\"Proportion\",\n",
    "    barmode=\"group\",  # Keep bars side by side\n",
    "    legend_title=\"Legend\",\n",
    "    xaxis=dict(categoryorder=\"array\", categoryarray=categories),  # Maintain ordinal order\n",
    ")\n",
    "\n",
    "fig.show()\n"
   ]
  },
  {
   "cell_type": "code",
   "execution_count": 24,
   "metadata": {},
   "outputs": [
    {
     "name": "stdout",
     "output_type": "stream",
     "text": [
      "------- Information about: CONNECTION_social_time_friends_p7d --------\n",
      "------------------------ Dataset: 2022_cohort ------------------------\n",
      " Question: In the PAST SEVEN DAYS, how many hours in total did you spend socializing with others from the following groups? - Friends \n",
      "----------------------------------------------------------------------\n",
      "\n",
      "------------------------ Dataset: 2022_cross -------------------------\n",
      " Question: In the PAST WEEK, how many hours in total did you spend socializing with others from the following groups? - Friends \n",
      "----------------------------------------------------------------------\n",
      "\n",
      "------------------------ Dataset: 2023_cohort ------------------------\n",
      " Question: In the PAST SEVEN DAYS, how many hours in total did you spend socializing with others from the following groups? - Friends \n",
      "----------------------------------------------------------------------\n",
      "\n",
      "------------------------ Dataset: 2023_cross -------------------------\n",
      " Question: In the PAST WEEK, how many hours in total did you spend socializing with others from the following groups? - Friends \n",
      "----------------------------------------------------------------------\n",
      "\n",
      "Number of NA: 4716\n",
      "CONNECTION_social_time_friends_p7d\n",
      "0.0      1012\n",
      "1.0       723\n",
      "2.0       680\n",
      "3.0       527\n",
      "4.0       442\n",
      "5.0       390\n",
      "10.0      284\n",
      "6.0       223\n",
      "7.0       170\n",
      "8.0       164\n",
      "12.0      102\n",
      "20.0       81\n",
      "9.0        73\n",
      "15.0       70\n",
      "30.0       48\n",
      "11.0       45\n",
      "14.0       33\n",
      "13.0       33\n",
      "16.0       29\n",
      "24.0       23\n",
      "25.0       18\n",
      "40.0       15\n",
      "17.0       11\n",
      "18.0       11\n",
      "28.0        5\n",
      "48.0        5\n",
      "27.0        5\n",
      "60.0        4\n",
      "39.0        4\n",
      "35.0        4\n",
      "21.0        4\n",
      "22.0        4\n",
      "70.0        4\n",
      "19.0        4\n",
      "100.0       4\n",
      "75.0        3\n",
      "36.0        3\n",
      "50.0        3\n",
      "33.0        3\n",
      "44.0        3\n",
      "23.0        3\n",
      "41.0        3\n",
      "32.0        3\n",
      "45.0        3\n",
      "96.0        2\n",
      "38.0        2\n",
      "37.0        2\n",
      "29.0        2\n",
      "46.0        2\n",
      "47.0        2\n",
      "92.0        1\n",
      "80.0        1\n",
      "95.0        1\n",
      "26.0        1\n",
      "49.0        1\n",
      "31.0        1\n",
      "34.0        1\n",
      "57.0        1\n",
      "63.0        1\n",
      "Name: count, dtype: int64\n",
      "\n"
     ]
    }
   ],
   "source": [
    "get_column_info(\"CONNECTION_social_time_friends_p7d\")"
   ]
  },
  {
   "cell_type": "code",
   "execution_count": 25,
   "metadata": {},
   "outputs": [
    {
     "name": "stderr",
     "output_type": "stream",
     "text": [
      "C:\\Users\\Cayden Wong\\AppData\\Local\\Temp\\ipykernel_24308\\404411709.py:17: FutureWarning:\n",
      "\n",
      "The default of observed=False is deprecated and will be changed to True in a future version of pandas. Pass observed=False to retain current behavior or observed=True to adopt the future default and silence this warning.\n",
      "\n",
      "C:\\Users\\Cayden Wong\\AppData\\Local\\Temp\\ipykernel_24308\\404411709.py:17: FutureWarning:\n",
      "\n",
      "The default of observed=False is deprecated and will be changed to True in a future version of pandas. Pass observed=False to retain current behavior or observed=True to adopt the future default and silence this warning.\n",
      "\n"
     ]
    },
    {
     "data": {
      "application/vnd.plotly.v1+json": {
       "config": {
        "plotlyServerURL": "https://plot.ly"
       },
       "data": [
        {
         "marker": {
          "color": "blue"
         },
         "name": "I am too busy (Bar)",
         "type": "bar",
         "x": [
          "0-1 hours",
          "1-2 hours",
          "2-3 hours",
          "3-4 hours",
          "4-5 hours",
          "5-10 hours",
          "10-20 hours",
          "20+ hours"
         ],
         "xaxis": "x",
         "y": [
          0.13131313131313133,
          0.15151515151515152,
          0.1111111111111111,
          0.06060606060606061,
          0.10101010101010101,
          0.23232323232323232,
          0.15151515151515152,
          0.06060606060606061
         ],
         "yaxis": "y"
        },
        {
         "marker": {
          "color": "orange"
         },
         "name": "Not Selected (Bar)",
         "type": "bar",
         "x": [
          "0-1 hours",
          "1-2 hours",
          "2-3 hours",
          "3-4 hours",
          "4-5 hours",
          "5-10 hours",
          "10-20 hours",
          "20+ hours"
         ],
         "xaxis": "x",
         "y": [
          0.20136518771331058,
          0.18088737201365188,
          0.13310580204778158,
          0.07167235494880546,
          0.08191126279863481,
          0.19795221843003413,
          0.10238907849829351,
          0.030716723549488054
         ],
         "yaxis": "y"
        },
        {
         "marker": {
          "color": "blue"
         },
         "name": "I am too busy (Bar)",
         "type": "bar",
         "x": [
          "0-1 hours",
          "1-2 hours",
          "2-3 hours",
          "3-4 hours",
          "4-5 hours",
          "5-10 hours",
          "10-20 hours",
          "20+ hours"
         ],
         "xaxis": "x2",
         "y": [
          0.08571428571428572,
          0.07142857142857142,
          0.1,
          0.1,
          0.04285714285714286,
          0.35714285714285715,
          0.17142857142857143,
          0.07142857142857142
         ],
         "yaxis": "y2"
        },
        {
         "marker": {
          "color": "orange"
         },
         "name": "Not Selected (Bar)",
         "type": "bar",
         "x": [
          "0-1 hours",
          "1-2 hours",
          "2-3 hours",
          "3-4 hours",
          "4-5 hours",
          "5-10 hours",
          "10-20 hours",
          "20+ hours"
         ],
         "xaxis": "x2",
         "y": [
          0.21375921375921375,
          0.12530712530712532,
          0.1375921375921376,
          0.08353808353808354,
          0.09090909090909091,
          0.18181818181818182,
          0.1375921375921376,
          0.029484029484029485
         ],
         "yaxis": "y2"
        }
       ],
       "layout": {
        "annotations": [
         {
          "font": {
           "size": 16
          },
          "showarrow": false,
          "text": "Filtered Data (Cohort)",
          "x": 0.225,
          "xanchor": "center",
          "xref": "paper",
          "y": 1,
          "yanchor": "bottom",
          "yref": "paper"
         },
         {
          "font": {
           "size": 16
          },
          "showarrow": false,
          "text": "Filtered Data (Cross)",
          "x": 0.775,
          "xanchor": "center",
          "xref": "paper",
          "y": 1,
          "yanchor": "bottom",
          "yref": "paper"
         }
        ],
        "showlegend": true,
        "template": {
         "data": {
          "bar": [
           {
            "error_x": {
             "color": "#2a3f5f"
            },
            "error_y": {
             "color": "#2a3f5f"
            },
            "marker": {
             "line": {
              "color": "#E5ECF6",
              "width": 0.5
             },
             "pattern": {
              "fillmode": "overlay",
              "size": 10,
              "solidity": 0.2
             }
            },
            "type": "bar"
           }
          ],
          "barpolar": [
           {
            "marker": {
             "line": {
              "color": "#E5ECF6",
              "width": 0.5
             },
             "pattern": {
              "fillmode": "overlay",
              "size": 10,
              "solidity": 0.2
             }
            },
            "type": "barpolar"
           }
          ],
          "carpet": [
           {
            "aaxis": {
             "endlinecolor": "#2a3f5f",
             "gridcolor": "white",
             "linecolor": "white",
             "minorgridcolor": "white",
             "startlinecolor": "#2a3f5f"
            },
            "baxis": {
             "endlinecolor": "#2a3f5f",
             "gridcolor": "white",
             "linecolor": "white",
             "minorgridcolor": "white",
             "startlinecolor": "#2a3f5f"
            },
            "type": "carpet"
           }
          ],
          "choropleth": [
           {
            "colorbar": {
             "outlinewidth": 0,
             "ticks": ""
            },
            "type": "choropleth"
           }
          ],
          "contour": [
           {
            "colorbar": {
             "outlinewidth": 0,
             "ticks": ""
            },
            "colorscale": [
             [
              0,
              "#0d0887"
             ],
             [
              0.1111111111111111,
              "#46039f"
             ],
             [
              0.2222222222222222,
              "#7201a8"
             ],
             [
              0.3333333333333333,
              "#9c179e"
             ],
             [
              0.4444444444444444,
              "#bd3786"
             ],
             [
              0.5555555555555556,
              "#d8576b"
             ],
             [
              0.6666666666666666,
              "#ed7953"
             ],
             [
              0.7777777777777778,
              "#fb9f3a"
             ],
             [
              0.8888888888888888,
              "#fdca26"
             ],
             [
              1,
              "#f0f921"
             ]
            ],
            "type": "contour"
           }
          ],
          "contourcarpet": [
           {
            "colorbar": {
             "outlinewidth": 0,
             "ticks": ""
            },
            "type": "contourcarpet"
           }
          ],
          "heatmap": [
           {
            "colorbar": {
             "outlinewidth": 0,
             "ticks": ""
            },
            "colorscale": [
             [
              0,
              "#0d0887"
             ],
             [
              0.1111111111111111,
              "#46039f"
             ],
             [
              0.2222222222222222,
              "#7201a8"
             ],
             [
              0.3333333333333333,
              "#9c179e"
             ],
             [
              0.4444444444444444,
              "#bd3786"
             ],
             [
              0.5555555555555556,
              "#d8576b"
             ],
             [
              0.6666666666666666,
              "#ed7953"
             ],
             [
              0.7777777777777778,
              "#fb9f3a"
             ],
             [
              0.8888888888888888,
              "#fdca26"
             ],
             [
              1,
              "#f0f921"
             ]
            ],
            "type": "heatmap"
           }
          ],
          "heatmapgl": [
           {
            "colorbar": {
             "outlinewidth": 0,
             "ticks": ""
            },
            "colorscale": [
             [
              0,
              "#0d0887"
             ],
             [
              0.1111111111111111,
              "#46039f"
             ],
             [
              0.2222222222222222,
              "#7201a8"
             ],
             [
              0.3333333333333333,
              "#9c179e"
             ],
             [
              0.4444444444444444,
              "#bd3786"
             ],
             [
              0.5555555555555556,
              "#d8576b"
             ],
             [
              0.6666666666666666,
              "#ed7953"
             ],
             [
              0.7777777777777778,
              "#fb9f3a"
             ],
             [
              0.8888888888888888,
              "#fdca26"
             ],
             [
              1,
              "#f0f921"
             ]
            ],
            "type": "heatmapgl"
           }
          ],
          "histogram": [
           {
            "marker": {
             "pattern": {
              "fillmode": "overlay",
              "size": 10,
              "solidity": 0.2
             }
            },
            "type": "histogram"
           }
          ],
          "histogram2d": [
           {
            "colorbar": {
             "outlinewidth": 0,
             "ticks": ""
            },
            "colorscale": [
             [
              0,
              "#0d0887"
             ],
             [
              0.1111111111111111,
              "#46039f"
             ],
             [
              0.2222222222222222,
              "#7201a8"
             ],
             [
              0.3333333333333333,
              "#9c179e"
             ],
             [
              0.4444444444444444,
              "#bd3786"
             ],
             [
              0.5555555555555556,
              "#d8576b"
             ],
             [
              0.6666666666666666,
              "#ed7953"
             ],
             [
              0.7777777777777778,
              "#fb9f3a"
             ],
             [
              0.8888888888888888,
              "#fdca26"
             ],
             [
              1,
              "#f0f921"
             ]
            ],
            "type": "histogram2d"
           }
          ],
          "histogram2dcontour": [
           {
            "colorbar": {
             "outlinewidth": 0,
             "ticks": ""
            },
            "colorscale": [
             [
              0,
              "#0d0887"
             ],
             [
              0.1111111111111111,
              "#46039f"
             ],
             [
              0.2222222222222222,
              "#7201a8"
             ],
             [
              0.3333333333333333,
              "#9c179e"
             ],
             [
              0.4444444444444444,
              "#bd3786"
             ],
             [
              0.5555555555555556,
              "#d8576b"
             ],
             [
              0.6666666666666666,
              "#ed7953"
             ],
             [
              0.7777777777777778,
              "#fb9f3a"
             ],
             [
              0.8888888888888888,
              "#fdca26"
             ],
             [
              1,
              "#f0f921"
             ]
            ],
            "type": "histogram2dcontour"
           }
          ],
          "mesh3d": [
           {
            "colorbar": {
             "outlinewidth": 0,
             "ticks": ""
            },
            "type": "mesh3d"
           }
          ],
          "parcoords": [
           {
            "line": {
             "colorbar": {
              "outlinewidth": 0,
              "ticks": ""
             }
            },
            "type": "parcoords"
           }
          ],
          "pie": [
           {
            "automargin": true,
            "type": "pie"
           }
          ],
          "scatter": [
           {
            "fillpattern": {
             "fillmode": "overlay",
             "size": 10,
             "solidity": 0.2
            },
            "type": "scatter"
           }
          ],
          "scatter3d": [
           {
            "line": {
             "colorbar": {
              "outlinewidth": 0,
              "ticks": ""
             }
            },
            "marker": {
             "colorbar": {
              "outlinewidth": 0,
              "ticks": ""
             }
            },
            "type": "scatter3d"
           }
          ],
          "scattercarpet": [
           {
            "marker": {
             "colorbar": {
              "outlinewidth": 0,
              "ticks": ""
             }
            },
            "type": "scattercarpet"
           }
          ],
          "scattergeo": [
           {
            "marker": {
             "colorbar": {
              "outlinewidth": 0,
              "ticks": ""
             }
            },
            "type": "scattergeo"
           }
          ],
          "scattergl": [
           {
            "marker": {
             "colorbar": {
              "outlinewidth": 0,
              "ticks": ""
             }
            },
            "type": "scattergl"
           }
          ],
          "scattermapbox": [
           {
            "marker": {
             "colorbar": {
              "outlinewidth": 0,
              "ticks": ""
             }
            },
            "type": "scattermapbox"
           }
          ],
          "scatterpolar": [
           {
            "marker": {
             "colorbar": {
              "outlinewidth": 0,
              "ticks": ""
             }
            },
            "type": "scatterpolar"
           }
          ],
          "scatterpolargl": [
           {
            "marker": {
             "colorbar": {
              "outlinewidth": 0,
              "ticks": ""
             }
            },
            "type": "scatterpolargl"
           }
          ],
          "scatterternary": [
           {
            "marker": {
             "colorbar": {
              "outlinewidth": 0,
              "ticks": ""
             }
            },
            "type": "scatterternary"
           }
          ],
          "surface": [
           {
            "colorbar": {
             "outlinewidth": 0,
             "ticks": ""
            },
            "colorscale": [
             [
              0,
              "#0d0887"
             ],
             [
              0.1111111111111111,
              "#46039f"
             ],
             [
              0.2222222222222222,
              "#7201a8"
             ],
             [
              0.3333333333333333,
              "#9c179e"
             ],
             [
              0.4444444444444444,
              "#bd3786"
             ],
             [
              0.5555555555555556,
              "#d8576b"
             ],
             [
              0.6666666666666666,
              "#ed7953"
             ],
             [
              0.7777777777777778,
              "#fb9f3a"
             ],
             [
              0.8888888888888888,
              "#fdca26"
             ],
             [
              1,
              "#f0f921"
             ]
            ],
            "type": "surface"
           }
          ],
          "table": [
           {
            "cells": {
             "fill": {
              "color": "#EBF0F8"
             },
             "line": {
              "color": "white"
             }
            },
            "header": {
             "fill": {
              "color": "#C8D4E3"
             },
             "line": {
              "color": "white"
             }
            },
            "type": "table"
           }
          ]
         },
         "layout": {
          "annotationdefaults": {
           "arrowcolor": "#2a3f5f",
           "arrowhead": 0,
           "arrowwidth": 1
          },
          "autotypenumbers": "strict",
          "coloraxis": {
           "colorbar": {
            "outlinewidth": 0,
            "ticks": ""
           }
          },
          "colorscale": {
           "diverging": [
            [
             0,
             "#8e0152"
            ],
            [
             0.1,
             "#c51b7d"
            ],
            [
             0.2,
             "#de77ae"
            ],
            [
             0.3,
             "#f1b6da"
            ],
            [
             0.4,
             "#fde0ef"
            ],
            [
             0.5,
             "#f7f7f7"
            ],
            [
             0.6,
             "#e6f5d0"
            ],
            [
             0.7,
             "#b8e186"
            ],
            [
             0.8,
             "#7fbc41"
            ],
            [
             0.9,
             "#4d9221"
            ],
            [
             1,
             "#276419"
            ]
           ],
           "sequential": [
            [
             0,
             "#0d0887"
            ],
            [
             0.1111111111111111,
             "#46039f"
            ],
            [
             0.2222222222222222,
             "#7201a8"
            ],
            [
             0.3333333333333333,
             "#9c179e"
            ],
            [
             0.4444444444444444,
             "#bd3786"
            ],
            [
             0.5555555555555556,
             "#d8576b"
            ],
            [
             0.6666666666666666,
             "#ed7953"
            ],
            [
             0.7777777777777778,
             "#fb9f3a"
            ],
            [
             0.8888888888888888,
             "#fdca26"
            ],
            [
             1,
             "#f0f921"
            ]
           ],
           "sequentialminus": [
            [
             0,
             "#0d0887"
            ],
            [
             0.1111111111111111,
             "#46039f"
            ],
            [
             0.2222222222222222,
             "#7201a8"
            ],
            [
             0.3333333333333333,
             "#9c179e"
            ],
            [
             0.4444444444444444,
             "#bd3786"
            ],
            [
             0.5555555555555556,
             "#d8576b"
            ],
            [
             0.6666666666666666,
             "#ed7953"
            ],
            [
             0.7777777777777778,
             "#fb9f3a"
            ],
            [
             0.8888888888888888,
             "#fdca26"
            ],
            [
             1,
             "#f0f921"
            ]
           ]
          },
          "colorway": [
           "#636efa",
           "#EF553B",
           "#00cc96",
           "#ab63fa",
           "#FFA15A",
           "#19d3f3",
           "#FF6692",
           "#B6E880",
           "#FF97FF",
           "#FECB52"
          ],
          "font": {
           "color": "#2a3f5f"
          },
          "geo": {
           "bgcolor": "white",
           "lakecolor": "white",
           "landcolor": "#E5ECF6",
           "showlakes": true,
           "showland": true,
           "subunitcolor": "white"
          },
          "hoverlabel": {
           "align": "left"
          },
          "hovermode": "closest",
          "mapbox": {
           "style": "light"
          },
          "paper_bgcolor": "white",
          "plot_bgcolor": "#E5ECF6",
          "polar": {
           "angularaxis": {
            "gridcolor": "white",
            "linecolor": "white",
            "ticks": ""
           },
           "bgcolor": "#E5ECF6",
           "radialaxis": {
            "gridcolor": "white",
            "linecolor": "white",
            "ticks": ""
           }
          },
          "scene": {
           "xaxis": {
            "backgroundcolor": "#E5ECF6",
            "gridcolor": "white",
            "gridwidth": 2,
            "linecolor": "white",
            "showbackground": true,
            "ticks": "",
            "zerolinecolor": "white"
           },
           "yaxis": {
            "backgroundcolor": "#E5ECF6",
            "gridcolor": "white",
            "gridwidth": 2,
            "linecolor": "white",
            "showbackground": true,
            "ticks": "",
            "zerolinecolor": "white"
           },
           "zaxis": {
            "backgroundcolor": "#E5ECF6",
            "gridcolor": "white",
            "gridwidth": 2,
            "linecolor": "white",
            "showbackground": true,
            "ticks": "",
            "zerolinecolor": "white"
           }
          },
          "shapedefaults": {
           "line": {
            "color": "#2a3f5f"
           }
          },
          "ternary": {
           "aaxis": {
            "gridcolor": "white",
            "linecolor": "white",
            "ticks": ""
           },
           "baxis": {
            "gridcolor": "white",
            "linecolor": "white",
            "ticks": ""
           },
           "bgcolor": "#E5ECF6",
           "caxis": {
            "gridcolor": "white",
            "linecolor": "white",
            "ticks": ""
           }
          },
          "title": {
           "x": 0.05
          },
          "xaxis": {
           "automargin": true,
           "gridcolor": "white",
           "linecolor": "white",
           "ticks": "",
           "title": {
            "standoff": 15
           },
           "zerolinecolor": "white",
           "zerolinewidth": 2
          },
          "yaxis": {
           "automargin": true,
           "gridcolor": "white",
           "linecolor": "white",
           "ticks": "",
           "title": {
            "standoff": 15
           },
           "zerolinecolor": "white",
           "zerolinewidth": 2
          }
         }
        },
        "title": {
         "text": "Comparison of Time Spent Socializing: Cohort vs Cross"
        },
        "xaxis": {
         "anchor": "y",
         "domain": [
          0,
          0.45
         ]
        },
        "xaxis2": {
         "anchor": "y2",
         "domain": [
          0.55,
          1
         ]
        },
        "yaxis": {
         "anchor": "x",
         "domain": [
          0,
          1
         ]
        },
        "yaxis2": {
         "anchor": "x2",
         "domain": [
          0,
          1
         ],
         "matches": "y",
         "showticklabels": false
        }
       }
      }
     },
     "metadata": {},
     "output_type": "display_data"
    }
   ],
   "source": [
    "import plotly.graph_objects as go\n",
    "import pandas as pd\n",
    "from plotly.subplots import make_subplots\n",
    "\n",
    "# Helper function to generate the social time plot for any dataset\n",
    "def generate_social_time_plot(filtered_data, title):\n",
    "    # Step 1: Clean data by dropping rows with NA in the relevant variable\n",
    "    filtered_data_no_na = filtered_data.dropna(subset=[\"CONNECTION_social_time_friends_p7d\"])\n",
    "\n",
    "    # Step 2: Bin the continuous hours variable into categories (e.g., 0-1 hours, 1-2 hours, etc.)\n",
    "    bins = [0, 1, 2, 3, 4, 5, 10, 20, 50]\n",
    "    labels = ['0-1 hours', '1-2 hours', '2-3 hours', '3-4 hours', '4-5 hours', '5-10 hours', '10-20 hours', '20+ hours']\n",
    "    filtered_data_no_na['Social_Time_Friends_Binned'] = pd.cut(filtered_data_no_na['CONNECTION_social_time_friends_p7d'], bins=bins, labels=labels, right=False)\n",
    "\n",
    "    # Step 3: Group by \"Too Busy\" status and time spent socializing, calculate counts\n",
    "    grouped_data = (\n",
    "        filtered_data_no_na.groupby([\"CONNECTION_social_barriers_too_busy\", \"Social_Time_Friends_Binned\"])\n",
    "        .size()\n",
    "        .reset_index(name=\"Count\")\n",
    "    )\n",
    "\n",
    "    # Step 4: Calculate proportions within each \"Too Busy\" group\n",
    "    group_totals = grouped_data.groupby(\"CONNECTION_social_barriers_too_busy\")[\"Count\"].transform(\"sum\")\n",
    "    grouped_data[\"Proportion\"] = grouped_data[\"Count\"] / group_totals\n",
    "\n",
    "    # Step 5: Create the plot\n",
    "    fig = go.Figure()\n",
    "\n",
    "    # Add bar plots for proportions (side-by-side)\n",
    "    for status, color in zip([\"I am too busy\", \"Not Selected\"], [\"blue\", \"orange\"]):\n",
    "        status_data = grouped_data[grouped_data[\"CONNECTION_social_barriers_too_busy\"] == status]\n",
    "        fig.add_trace(\n",
    "            go.Bar(\n",
    "                x=status_data[\"Social_Time_Friends_Binned\"],\n",
    "                y=status_data[\"Proportion\"],\n",
    "                name=f\"{status} (Bar)\",\n",
    "                marker=dict(color=color),\n",
    "            )\n",
    "        )\n",
    "\n",
    "    # Step 6: Update the layout\n",
    "    fig.update_layout(\n",
    "        title=title,\n",
    "        xaxis_title=\"Time Spent Socializing (Hours)\",\n",
    "        yaxis_title=\"Proportion\",\n",
    "        barmode=\"group\",  # Keep bars side by side\n",
    "        legend_title=\"Legend\",\n",
    "        xaxis=dict(categoryorder=\"array\", categoryarray=labels),  # Maintain custom bin order\n",
    "    )\n",
    "\n",
    "    return fig\n",
    "\n",
    "# Create a subplot with two columns\n",
    "fig = make_subplots(\n",
    "    rows=1, cols=2,\n",
    "    subplot_titles=[\"Filtered Data (Cohort)\", \"Filtered Data (Cross)\"],\n",
    "    shared_yaxes=True  # Share y-axis to align the bars\n",
    ")\n",
    "\n",
    "# Generate and add traces for filtered_data_cohort (right subplot)\n",
    "cohort_fig = generate_social_time_plot(filtered_data_cohort, \"Time Spent Socializing: Cohort\")\n",
    "for trace in cohort_fig.data:\n",
    "    fig.add_trace(trace, row=1, col=1)\n",
    "\n",
    "# Generate and add traces for filtered_data_cross (left subplot)\n",
    "cross_fig = generate_social_time_plot(filtered_data_cross, \"Time Spent Socializing: Cross\")\n",
    "for trace in cross_fig.data:\n",
    "    fig.add_trace(trace, row=1, col=2)\n",
    "\n",
    "# Update layout for overall figure\n",
    "fig.update_layout(\n",
    "    title=\"Comparison of Time Spent Socializing: Cohort vs Cross\",\n",
    "    showlegend=True,\n",
    ")\n",
    "\n",
    "fig.show()\n"
   ]
  },
  {
   "cell_type": "code",
   "execution_count": 26,
   "metadata": {},
   "outputs": [
    {
     "name": "stdout",
     "output_type": "stream",
     "text": [
      "------- Information about: CONNECTION_social_days_friends_p7d --------\n",
      "------------------------ Dataset: 2022_cohort ------------------------\n",
      " Question: In the PAST SEVEN DAYS, how many days did you spend at least 5 minutes socializing with people from the following groups? - Friends \n",
      "----------------------------------------------------------------------\n",
      "\n",
      "------------------------ Dataset: 2022_cross -------------------------\n",
      " Question: In the PAST WEEK, how many days did you spend at least 5 minutes socializing with people from the following groups? - Friends \n",
      "----------------------------------------------------------------------\n",
      "\n",
      "------------------------ Dataset: 2023_cohort ------------------------\n",
      " Question: In the PAST SEVEN DAYS, how many days did you spend at least 5 minutes socializing with people from the following groups? - Friends \n",
      "----------------------------------------------------------------------\n",
      "\n",
      "------------------------ Dataset: 2023_cross -------------------------\n",
      " Question: In the PAST WEEK, how many days did you spend at least 5 minutes socializing with people from the following groups? - Friends \n",
      "----------------------------------------------------------------------\n",
      "\n",
      "Number of NA: 4641\n",
      "CONNECTION_social_days_friends_p7d\n",
      "2.0    1012\n",
      "1.0     947\n",
      "0.0     856\n",
      "3.0     849\n",
      "7.0     614\n",
      "4.0     474\n",
      "5.0     473\n",
      "6.0     152\n",
      "Name: count, dtype: int64\n",
      "\n"
     ]
    }
   ],
   "source": [
    "get_column_info(\"CONNECTION_social_days_friends_p7d\")"
   ]
  },
  {
   "cell_type": "code",
   "execution_count": 27,
   "metadata": {},
   "outputs": [
    {
     "data": {
      "application/vnd.plotly.v1+json": {
       "config": {
        "plotlyServerURL": "https://plot.ly"
       },
       "data": [
        {
         "marker": {
          "color": "blue"
         },
         "name": "I am too busy (Bar)",
         "type": "bar",
         "x": [
          0,
          1,
          2,
          3,
          4,
          5,
          6,
          7
         ],
         "xaxis": "x",
         "y": [
          0.15151515151515152,
          0.13131313131313133,
          0.12121212121212122,
          0.1919191919191919,
          0.09090909090909091,
          0.10101010101010101,
          0.030303030303030304,
          0.18181818181818182
         ],
         "yaxis": "y"
        },
        {
         "marker": {
          "color": "orange"
         },
         "name": "Not Selected (Bar)",
         "type": "bar",
         "x": [
          0,
          1,
          2,
          3,
          4,
          5,
          6,
          7
         ],
         "xaxis": "x",
         "y": [
          0.21843003412969283,
          0.17064846416382254,
          0.18430034129692832,
          0.16382252559726962,
          0.040955631399317405,
          0.08191126279863481,
          0.027303754266211604,
          0.11262798634812286
         ],
         "yaxis": "y"
        },
        {
         "marker": {
          "color": "blue"
         },
         "name": "I am too busy (Bar)",
         "type": "bar",
         "x": [
          0,
          1,
          2,
          3,
          4,
          5,
          6,
          7
         ],
         "xaxis": "x2",
         "y": [
          0.04285714285714286,
          0.07142857142857142,
          0.18571428571428572,
          0.38571428571428573,
          0.11428571428571428,
          0.12857142857142856,
          0.02857142857142857,
          0.04285714285714286
         ],
         "yaxis": "y2"
        },
        {
         "marker": {
          "color": "orange"
         },
         "name": "Not Selected (Bar)",
         "type": "bar",
         "x": [
          0,
          1,
          2,
          3,
          4,
          5,
          6,
          7
         ],
         "xaxis": "x2",
         "y": [
          0.1980440097799511,
          0.15647921760391198,
          0.20048899755501223,
          0.1295843520782396,
          0.08801955990220049,
          0.08557457212713937,
          0.02689486552567237,
          0.11491442542787286
         ],
         "yaxis": "y2"
        }
       ],
       "layout": {
        "annotations": [
         {
          "font": {
           "size": 16
          },
          "showarrow": false,
          "text": "Filtered Data (Cohort)",
          "x": 0.225,
          "xanchor": "center",
          "xref": "paper",
          "y": 1,
          "yanchor": "bottom",
          "yref": "paper"
         },
         {
          "font": {
           "size": 16
          },
          "showarrow": false,
          "text": "Filtered Data (Cross)",
          "x": 0.775,
          "xanchor": "center",
          "xref": "paper",
          "y": 1,
          "yanchor": "bottom",
          "yref": "paper"
         }
        ],
        "showlegend": true,
        "template": {
         "data": {
          "bar": [
           {
            "error_x": {
             "color": "#2a3f5f"
            },
            "error_y": {
             "color": "#2a3f5f"
            },
            "marker": {
             "line": {
              "color": "#E5ECF6",
              "width": 0.5
             },
             "pattern": {
              "fillmode": "overlay",
              "size": 10,
              "solidity": 0.2
             }
            },
            "type": "bar"
           }
          ],
          "barpolar": [
           {
            "marker": {
             "line": {
              "color": "#E5ECF6",
              "width": 0.5
             },
             "pattern": {
              "fillmode": "overlay",
              "size": 10,
              "solidity": 0.2
             }
            },
            "type": "barpolar"
           }
          ],
          "carpet": [
           {
            "aaxis": {
             "endlinecolor": "#2a3f5f",
             "gridcolor": "white",
             "linecolor": "white",
             "minorgridcolor": "white",
             "startlinecolor": "#2a3f5f"
            },
            "baxis": {
             "endlinecolor": "#2a3f5f",
             "gridcolor": "white",
             "linecolor": "white",
             "minorgridcolor": "white",
             "startlinecolor": "#2a3f5f"
            },
            "type": "carpet"
           }
          ],
          "choropleth": [
           {
            "colorbar": {
             "outlinewidth": 0,
             "ticks": ""
            },
            "type": "choropleth"
           }
          ],
          "contour": [
           {
            "colorbar": {
             "outlinewidth": 0,
             "ticks": ""
            },
            "colorscale": [
             [
              0,
              "#0d0887"
             ],
             [
              0.1111111111111111,
              "#46039f"
             ],
             [
              0.2222222222222222,
              "#7201a8"
             ],
             [
              0.3333333333333333,
              "#9c179e"
             ],
             [
              0.4444444444444444,
              "#bd3786"
             ],
             [
              0.5555555555555556,
              "#d8576b"
             ],
             [
              0.6666666666666666,
              "#ed7953"
             ],
             [
              0.7777777777777778,
              "#fb9f3a"
             ],
             [
              0.8888888888888888,
              "#fdca26"
             ],
             [
              1,
              "#f0f921"
             ]
            ],
            "type": "contour"
           }
          ],
          "contourcarpet": [
           {
            "colorbar": {
             "outlinewidth": 0,
             "ticks": ""
            },
            "type": "contourcarpet"
           }
          ],
          "heatmap": [
           {
            "colorbar": {
             "outlinewidth": 0,
             "ticks": ""
            },
            "colorscale": [
             [
              0,
              "#0d0887"
             ],
             [
              0.1111111111111111,
              "#46039f"
             ],
             [
              0.2222222222222222,
              "#7201a8"
             ],
             [
              0.3333333333333333,
              "#9c179e"
             ],
             [
              0.4444444444444444,
              "#bd3786"
             ],
             [
              0.5555555555555556,
              "#d8576b"
             ],
             [
              0.6666666666666666,
              "#ed7953"
             ],
             [
              0.7777777777777778,
              "#fb9f3a"
             ],
             [
              0.8888888888888888,
              "#fdca26"
             ],
             [
              1,
              "#f0f921"
             ]
            ],
            "type": "heatmap"
           }
          ],
          "heatmapgl": [
           {
            "colorbar": {
             "outlinewidth": 0,
             "ticks": ""
            },
            "colorscale": [
             [
              0,
              "#0d0887"
             ],
             [
              0.1111111111111111,
              "#46039f"
             ],
             [
              0.2222222222222222,
              "#7201a8"
             ],
             [
              0.3333333333333333,
              "#9c179e"
             ],
             [
              0.4444444444444444,
              "#bd3786"
             ],
             [
              0.5555555555555556,
              "#d8576b"
             ],
             [
              0.6666666666666666,
              "#ed7953"
             ],
             [
              0.7777777777777778,
              "#fb9f3a"
             ],
             [
              0.8888888888888888,
              "#fdca26"
             ],
             [
              1,
              "#f0f921"
             ]
            ],
            "type": "heatmapgl"
           }
          ],
          "histogram": [
           {
            "marker": {
             "pattern": {
              "fillmode": "overlay",
              "size": 10,
              "solidity": 0.2
             }
            },
            "type": "histogram"
           }
          ],
          "histogram2d": [
           {
            "colorbar": {
             "outlinewidth": 0,
             "ticks": ""
            },
            "colorscale": [
             [
              0,
              "#0d0887"
             ],
             [
              0.1111111111111111,
              "#46039f"
             ],
             [
              0.2222222222222222,
              "#7201a8"
             ],
             [
              0.3333333333333333,
              "#9c179e"
             ],
             [
              0.4444444444444444,
              "#bd3786"
             ],
             [
              0.5555555555555556,
              "#d8576b"
             ],
             [
              0.6666666666666666,
              "#ed7953"
             ],
             [
              0.7777777777777778,
              "#fb9f3a"
             ],
             [
              0.8888888888888888,
              "#fdca26"
             ],
             [
              1,
              "#f0f921"
             ]
            ],
            "type": "histogram2d"
           }
          ],
          "histogram2dcontour": [
           {
            "colorbar": {
             "outlinewidth": 0,
             "ticks": ""
            },
            "colorscale": [
             [
              0,
              "#0d0887"
             ],
             [
              0.1111111111111111,
              "#46039f"
             ],
             [
              0.2222222222222222,
              "#7201a8"
             ],
             [
              0.3333333333333333,
              "#9c179e"
             ],
             [
              0.4444444444444444,
              "#bd3786"
             ],
             [
              0.5555555555555556,
              "#d8576b"
             ],
             [
              0.6666666666666666,
              "#ed7953"
             ],
             [
              0.7777777777777778,
              "#fb9f3a"
             ],
             [
              0.8888888888888888,
              "#fdca26"
             ],
             [
              1,
              "#f0f921"
             ]
            ],
            "type": "histogram2dcontour"
           }
          ],
          "mesh3d": [
           {
            "colorbar": {
             "outlinewidth": 0,
             "ticks": ""
            },
            "type": "mesh3d"
           }
          ],
          "parcoords": [
           {
            "line": {
             "colorbar": {
              "outlinewidth": 0,
              "ticks": ""
             }
            },
            "type": "parcoords"
           }
          ],
          "pie": [
           {
            "automargin": true,
            "type": "pie"
           }
          ],
          "scatter": [
           {
            "fillpattern": {
             "fillmode": "overlay",
             "size": 10,
             "solidity": 0.2
            },
            "type": "scatter"
           }
          ],
          "scatter3d": [
           {
            "line": {
             "colorbar": {
              "outlinewidth": 0,
              "ticks": ""
             }
            },
            "marker": {
             "colorbar": {
              "outlinewidth": 0,
              "ticks": ""
             }
            },
            "type": "scatter3d"
           }
          ],
          "scattercarpet": [
           {
            "marker": {
             "colorbar": {
              "outlinewidth": 0,
              "ticks": ""
             }
            },
            "type": "scattercarpet"
           }
          ],
          "scattergeo": [
           {
            "marker": {
             "colorbar": {
              "outlinewidth": 0,
              "ticks": ""
             }
            },
            "type": "scattergeo"
           }
          ],
          "scattergl": [
           {
            "marker": {
             "colorbar": {
              "outlinewidth": 0,
              "ticks": ""
             }
            },
            "type": "scattergl"
           }
          ],
          "scattermapbox": [
           {
            "marker": {
             "colorbar": {
              "outlinewidth": 0,
              "ticks": ""
             }
            },
            "type": "scattermapbox"
           }
          ],
          "scatterpolar": [
           {
            "marker": {
             "colorbar": {
              "outlinewidth": 0,
              "ticks": ""
             }
            },
            "type": "scatterpolar"
           }
          ],
          "scatterpolargl": [
           {
            "marker": {
             "colorbar": {
              "outlinewidth": 0,
              "ticks": ""
             }
            },
            "type": "scatterpolargl"
           }
          ],
          "scatterternary": [
           {
            "marker": {
             "colorbar": {
              "outlinewidth": 0,
              "ticks": ""
             }
            },
            "type": "scatterternary"
           }
          ],
          "surface": [
           {
            "colorbar": {
             "outlinewidth": 0,
             "ticks": ""
            },
            "colorscale": [
             [
              0,
              "#0d0887"
             ],
             [
              0.1111111111111111,
              "#46039f"
             ],
             [
              0.2222222222222222,
              "#7201a8"
             ],
             [
              0.3333333333333333,
              "#9c179e"
             ],
             [
              0.4444444444444444,
              "#bd3786"
             ],
             [
              0.5555555555555556,
              "#d8576b"
             ],
             [
              0.6666666666666666,
              "#ed7953"
             ],
             [
              0.7777777777777778,
              "#fb9f3a"
             ],
             [
              0.8888888888888888,
              "#fdca26"
             ],
             [
              1,
              "#f0f921"
             ]
            ],
            "type": "surface"
           }
          ],
          "table": [
           {
            "cells": {
             "fill": {
              "color": "#EBF0F8"
             },
             "line": {
              "color": "white"
             }
            },
            "header": {
             "fill": {
              "color": "#C8D4E3"
             },
             "line": {
              "color": "white"
             }
            },
            "type": "table"
           }
          ]
         },
         "layout": {
          "annotationdefaults": {
           "arrowcolor": "#2a3f5f",
           "arrowhead": 0,
           "arrowwidth": 1
          },
          "autotypenumbers": "strict",
          "coloraxis": {
           "colorbar": {
            "outlinewidth": 0,
            "ticks": ""
           }
          },
          "colorscale": {
           "diverging": [
            [
             0,
             "#8e0152"
            ],
            [
             0.1,
             "#c51b7d"
            ],
            [
             0.2,
             "#de77ae"
            ],
            [
             0.3,
             "#f1b6da"
            ],
            [
             0.4,
             "#fde0ef"
            ],
            [
             0.5,
             "#f7f7f7"
            ],
            [
             0.6,
             "#e6f5d0"
            ],
            [
             0.7,
             "#b8e186"
            ],
            [
             0.8,
             "#7fbc41"
            ],
            [
             0.9,
             "#4d9221"
            ],
            [
             1,
             "#276419"
            ]
           ],
           "sequential": [
            [
             0,
             "#0d0887"
            ],
            [
             0.1111111111111111,
             "#46039f"
            ],
            [
             0.2222222222222222,
             "#7201a8"
            ],
            [
             0.3333333333333333,
             "#9c179e"
            ],
            [
             0.4444444444444444,
             "#bd3786"
            ],
            [
             0.5555555555555556,
             "#d8576b"
            ],
            [
             0.6666666666666666,
             "#ed7953"
            ],
            [
             0.7777777777777778,
             "#fb9f3a"
            ],
            [
             0.8888888888888888,
             "#fdca26"
            ],
            [
             1,
             "#f0f921"
            ]
           ],
           "sequentialminus": [
            [
             0,
             "#0d0887"
            ],
            [
             0.1111111111111111,
             "#46039f"
            ],
            [
             0.2222222222222222,
             "#7201a8"
            ],
            [
             0.3333333333333333,
             "#9c179e"
            ],
            [
             0.4444444444444444,
             "#bd3786"
            ],
            [
             0.5555555555555556,
             "#d8576b"
            ],
            [
             0.6666666666666666,
             "#ed7953"
            ],
            [
             0.7777777777777778,
             "#fb9f3a"
            ],
            [
             0.8888888888888888,
             "#fdca26"
            ],
            [
             1,
             "#f0f921"
            ]
           ]
          },
          "colorway": [
           "#636efa",
           "#EF553B",
           "#00cc96",
           "#ab63fa",
           "#FFA15A",
           "#19d3f3",
           "#FF6692",
           "#B6E880",
           "#FF97FF",
           "#FECB52"
          ],
          "font": {
           "color": "#2a3f5f"
          },
          "geo": {
           "bgcolor": "white",
           "lakecolor": "white",
           "landcolor": "#E5ECF6",
           "showlakes": true,
           "showland": true,
           "subunitcolor": "white"
          },
          "hoverlabel": {
           "align": "left"
          },
          "hovermode": "closest",
          "mapbox": {
           "style": "light"
          },
          "paper_bgcolor": "white",
          "plot_bgcolor": "#E5ECF6",
          "polar": {
           "angularaxis": {
            "gridcolor": "white",
            "linecolor": "white",
            "ticks": ""
           },
           "bgcolor": "#E5ECF6",
           "radialaxis": {
            "gridcolor": "white",
            "linecolor": "white",
            "ticks": ""
           }
          },
          "scene": {
           "xaxis": {
            "backgroundcolor": "#E5ECF6",
            "gridcolor": "white",
            "gridwidth": 2,
            "linecolor": "white",
            "showbackground": true,
            "ticks": "",
            "zerolinecolor": "white"
           },
           "yaxis": {
            "backgroundcolor": "#E5ECF6",
            "gridcolor": "white",
            "gridwidth": 2,
            "linecolor": "white",
            "showbackground": true,
            "ticks": "",
            "zerolinecolor": "white"
           },
           "zaxis": {
            "backgroundcolor": "#E5ECF6",
            "gridcolor": "white",
            "gridwidth": 2,
            "linecolor": "white",
            "showbackground": true,
            "ticks": "",
            "zerolinecolor": "white"
           }
          },
          "shapedefaults": {
           "line": {
            "color": "#2a3f5f"
           }
          },
          "ternary": {
           "aaxis": {
            "gridcolor": "white",
            "linecolor": "white",
            "ticks": ""
           },
           "baxis": {
            "gridcolor": "white",
            "linecolor": "white",
            "ticks": ""
           },
           "bgcolor": "#E5ECF6",
           "caxis": {
            "gridcolor": "white",
            "linecolor": "white",
            "ticks": ""
           }
          },
          "title": {
           "x": 0.05
          },
          "xaxis": {
           "automargin": true,
           "gridcolor": "white",
           "linecolor": "white",
           "ticks": "",
           "title": {
            "standoff": 15
           },
           "zerolinecolor": "white",
           "zerolinewidth": 2
          },
          "yaxis": {
           "automargin": true,
           "gridcolor": "white",
           "linecolor": "white",
           "ticks": "",
           "title": {
            "standoff": 15
           },
           "zerolinecolor": "white",
           "zerolinewidth": 2
          }
         }
        },
        "title": {
         "text": "Comparison of Days Spent Socializing: Cohort vs Cross"
        },
        "xaxis": {
         "anchor": "y",
         "domain": [
          0,
          0.45
         ]
        },
        "xaxis2": {
         "anchor": "y2",
         "domain": [
          0.55,
          1
         ]
        },
        "yaxis": {
         "anchor": "x",
         "domain": [
          0,
          1
         ]
        },
        "yaxis2": {
         "anchor": "x2",
         "domain": [
          0,
          1
         ],
         "matches": "y",
         "showticklabels": false
        }
       }
      }
     },
     "metadata": {},
     "output_type": "display_data"
    }
   ],
   "source": [
    "import plotly.graph_objects as go\n",
    "import pandas as pd\n",
    "from plotly.subplots import make_subplots\n",
    "\n",
    "# Helper function to generate the social days plot for any dataset\n",
    "def generate_social_days_plot(filtered_data, title):\n",
    "    # Step 1: Clean data by dropping rows with NA in the relevant variable\n",
    "    filtered_data_no_na = filtered_data.dropna(subset=[\"CONNECTION_social_days_friends_p7d\"])\n",
    "\n",
    "    # Step 2: Group by \"Too Busy\" status and number of days spent socializing, calculate counts\n",
    "    grouped_data = (\n",
    "        filtered_data_no_na.groupby([\"CONNECTION_social_barriers_too_busy\", \"CONNECTION_social_days_friends_p7d\"])\n",
    "        .size()\n",
    "        .reset_index(name=\"Count\")\n",
    "    )\n",
    "\n",
    "    # Step 3: Calculate proportions within each \"Too Busy\" group\n",
    "    group_totals = grouped_data.groupby(\"CONNECTION_social_barriers_too_busy\")[\"Count\"].transform(\"sum\")\n",
    "    grouped_data[\"Proportion\"] = grouped_data[\"Count\"] / group_totals\n",
    "\n",
    "    # Step 4: Create the plot\n",
    "    fig = go.Figure()\n",
    "\n",
    "    # Add bar plots for proportions (side-by-side)\n",
    "    for status, color in zip([\"I am too busy\", \"Not Selected\"], [\"blue\", \"orange\"]):\n",
    "        status_data = grouped_data[grouped_data[\"CONNECTION_social_barriers_too_busy\"] == status]\n",
    "        fig.add_trace(\n",
    "            go.Bar(\n",
    "                x=status_data[\"CONNECTION_social_days_friends_p7d\"],\n",
    "                y=status_data[\"Proportion\"],\n",
    "                name=f\"{status} (Bar)\",\n",
    "                marker=dict(color=color),\n",
    "            )\n",
    "        )\n",
    "\n",
    "    # Step 5: Update the layout\n",
    "    fig.update_layout(\n",
    "        title=title,\n",
    "        xaxis_title=\"Days Spent Socializing\",\n",
    "        yaxis_title=\"Proportion\",\n",
    "        barmode=\"group\",  # Keep bars side by side\n",
    "        legend_title=\"Legend\",\n",
    "    )\n",
    "\n",
    "    return fig\n",
    "\n",
    "# Create a subplot with two columns\n",
    "fig = make_subplots(\n",
    "    rows=1, cols=2,\n",
    "    subplot_titles=[\"Filtered Data (Cohort)\", \"Filtered Data (Cross)\"],\n",
    "    shared_yaxes=True  # Share y-axis to align the bars\n",
    ")\n",
    "\n",
    "# Generate and add traces for filtered_data_cohort (right subplot)\n",
    "cohort_fig = generate_social_days_plot(filtered_data_cohort, \"Days Spent Socializing: Cohort\")\n",
    "for trace in cohort_fig.data:\n",
    "    fig.add_trace(trace, row=1, col=1)\n",
    "\n",
    "# Generate and add traces for filtered_data_cross (left subplot)\n",
    "cross_fig = generate_social_days_plot(filtered_data_cross, \"Days Spent Socializing: Cross\")\n",
    "for trace in cross_fig.data:\n",
    "    fig.add_trace(trace, row=1, col=2)\n",
    "\n",
    "# Update layout for overall figure\n",
    "fig.update_layout(\n",
    "    title=\"Comparison of Days Spent Socializing: Cohort vs Cross\",\n",
    "    showlegend=True,\n",
    ")\n",
    "\n",
    "fig.show()\n"
   ]
  },
  {
   "cell_type": "code",
   "execution_count": 41,
   "metadata": {},
   "outputs": [
    {
     "name": "stdout",
     "output_type": "stream",
     "text": [
      "                                    OLS Regression Results                                    \n",
      "==============================================================================================\n",
      "Dep. Variable:     CONNECTION_social_time_friends_p7d   R-squared:                       0.395\n",
      "Model:                                            OLS   Adj. R-squared:                  0.380\n",
      "Method:                                 Least Squares   F-statistic:                     27.67\n",
      "Date:                                Sun, 24 Nov 2024   Prob (F-statistic):           7.99e-37\n",
      "Time:                                        20:58:47   Log-Likelihood:                -1153.6\n",
      "No. Observations:                                 392   AIC:                             2327.\n",
      "Df Residuals:                                     382   BIC:                             2367.\n",
      "Df Model:                                           9                                         \n",
      "Covariance Type:                            nonrobust                                         \n",
      "=============================================================================================================================================\n",
      "                                                                                coef    std err          t      P>|t|      [0.025      0.975]\n",
      "---------------------------------------------------------------------------------------------------------------------------------------------\n",
      "Intercept                                                                     1.3793      0.849      1.624      0.105      -0.290       3.049\n",
      "CONNECTION_social_barriers_too_busy[T.Not Selected]                          -0.0571      0.555     -0.103      0.918      -1.149       1.034\n",
      "CONNECTION_activities_visited_friends_p3m[T.A few times a week]               2.5697      1.300      1.977      0.049       0.014       5.125\n",
      "CONNECTION_activities_visited_friends_p3m[T.Daily or almost daily]            1.2954      2.395      0.541      0.589      -3.414       6.005\n",
      "CONNECTION_activities_visited_friends_p3m[T.Less than monthly]               -0.9204      0.786     -1.171      0.242      -2.466       0.625\n",
      "CONNECTION_activities_visited_friends_p3m[T.Monthly]                         -0.7520      0.844     -0.891      0.373      -2.411       0.907\n",
      "CONNECTION_activities_visited_friends_p3m[T.Not in the past three months]    -2.0596      0.742     -2.774      0.006      -3.519      -0.600\n",
      "CONNECTION_activities_visited_friends_p3m[T.Weekly]                           1.1906      0.848      1.404      0.161      -0.477       2.858\n",
      "CONNECTION_preference_time_friends                                            0.4310      0.039     11.195      0.000       0.355       0.507\n",
      "CONNECTION_social_num_close_friends                                           0.2616      0.068      3.826      0.000       0.127       0.396\n",
      "==============================================================================\n",
      "Omnibus:                      207.473   Durbin-Watson:                   1.933\n",
      "Prob(Omnibus):                  0.000   Jarque-Bera (JB):             1780.941\n",
      "Skew:                           2.086   Prob(JB):                         0.00\n",
      "Kurtosis:                      12.573   Cond. No.                         104.\n",
      "==============================================================================\n",
      "\n",
      "Notes:\n",
      "[1] Standard Errors assume that the covariance matrix of the errors is correctly specified.\n"
     ]
    }
   ],
   "source": [
    "import statsmodels.formula.api as smf\n",
    "\n",
    "# Step 1: Clean data by dropping missing values for the relevant columns\n",
    "filtered_data_no_na = filtered_data_cohort.dropna(subset=[\n",
    "    \"CONNECTION_social_barriers_too_busy\", \n",
    "    \"CONNECTION_preference_time_friends\", \n",
    "    \"CONNECTION_activities_visited_friends_p3m\", \n",
    "    \"CONNECTION_social_num_close_friends\", \n",
    "    \"CONNECTION_social_time_friends_p7d\"\n",
    "])\n",
    "\n",
    "# Step 2: Create the OLS model using smf.ols with a formula\n",
    "# For categorical variables, smf automatically handles one-hot encoding\n",
    "formula = 'CONNECTION_social_time_friends_p7d ~ CONNECTION_social_barriers_too_busy + ' \\\n",
    "          'CONNECTION_preference_time_friends + CONNECTION_activities_visited_friends_p3m + ' \\\n",
    "          'CONNECTION_social_num_close_friends'\n",
    "\n",
    "# Step 3: Fit the model\n",
    "ols_model = smf.ols(formula=formula, data=filtered_data_cohort).fit()\n",
    "\n",
    "# Step 4: Output the summary of the model\n",
    "print(ols_model.summary())\n"
   ]
  },
  {
   "cell_type": "code",
   "execution_count": 39,
   "metadata": {},
   "outputs": [
    {
     "name": "stdout",
     "output_type": "stream",
     "text": [
      "                                    OLS Regression Results                                    \n",
      "==============================================================================================\n",
      "Dep. Variable:     CONNECTION_social_time_friends_p7d   R-squared:                       0.014\n",
      "Model:                                            OLS   Adj. R-squared:                  0.013\n",
      "Method:                                 Least Squares   F-statistic:                     12.82\n",
      "Date:                                Sun, 24 Nov 2024   Prob (F-statistic):           0.000362\n",
      "Time:                                        20:58:16   Log-Likelihood:                -2898.8\n",
      "No. Observations:                                 899   AIC:                             5802.\n",
      "Df Residuals:                                     897   BIC:                             5811.\n",
      "Df Model:                                           1                                         \n",
      "Covariance Type:                            nonrobust                                         \n",
      "=======================================================================================================================\n",
      "                                                          coef    std err          t      P>|t|      [0.025      0.975]\n",
      "-----------------------------------------------------------------------------------------------------------------------\n",
      "Intercept                                               6.3605      0.464     13.697      0.000       5.449       7.272\n",
      "CONNECTION_social_barriers_too_busy[T.Not Selected]    -1.8488      0.516     -3.580      0.000      -2.862      -0.835\n",
      "==============================================================================\n",
      "Omnibus:                      604.049   Durbin-Watson:                   2.053\n",
      "Prob(Omnibus):                  0.000   Jarque-Bera (JB):             8175.938\n",
      "Skew:                           2.919   Prob(JB):                         0.00\n",
      "Kurtosis:                      16.571   Cond. No.                         4.37\n",
      "==============================================================================\n",
      "\n",
      "Notes:\n",
      "[1] Standard Errors assume that the covariance matrix of the errors is correctly specified.\n"
     ]
    }
   ],
   "source": [
    "# Step 2: Create the OLS model using smf.ols with a formula\n",
    "# For categorical variables, smf automatically handles one-hot encoding\n",
    "formula = 'CONNECTION_social_time_friends_p7d ~ CONNECTION_social_barriers_too_busy'\n",
    "\n",
    "# Step 3: Fit the model\n",
    "ols_model = smf.ols(formula=formula, data=filtered_data_2022_all).fit()\n",
    "\n",
    "# Step 4: Output the summary of the model\n",
    "print(ols_model.summary())"
   ]
  },
  {
   "cell_type": "code",
   "execution_count": 36,
   "metadata": {},
   "outputs": [
    {
     "name": "stdout",
     "output_type": "stream",
     "text": [
      "                                    OLS Regression Results                                    \n",
      "==============================================================================================\n",
      "Dep. Variable:     CONNECTION_social_time_friends_p7d   R-squared:                       0.354\n",
      "Model:                                            OLS   Adj. R-squared:                  0.349\n",
      "Method:                                 Least Squares   F-statistic:                     70.77\n",
      "Date:                                Sun, 24 Nov 2024   Prob (F-statistic):           1.59e-36\n",
      "Time:                                        20:56:22   Log-Likelihood:                -1166.5\n",
      "No. Observations:                                 392   AIC:                             2341.\n",
      "Df Residuals:                                     388   BIC:                             2357.\n",
      "Df Model:                                           3                                         \n",
      "Covariance Type:                            nonrobust                                         \n",
      "=======================================================================================================================\n",
      "                                                          coef    std err          t      P>|t|      [0.025      0.975]\n",
      "-----------------------------------------------------------------------------------------------------------------------\n",
      "Intercept                                               0.1690      0.649      0.261      0.795      -1.106       1.444\n",
      "CONNECTION_social_barriers_too_busy[T.Not Selected]    -0.0848      0.567     -0.150      0.881      -1.199       1.029\n",
      "CONNECTION_preference_time_friends                      0.4709      0.038     12.277      0.000       0.395       0.546\n",
      "CONNECTION_social_num_close_friends                     0.3425      0.068      5.037      0.000       0.209       0.476\n",
      "==============================================================================\n",
      "Omnibus:                      203.035   Durbin-Watson:                   1.955\n",
      "Prob(Omnibus):                  0.000   Jarque-Bera (JB):             1745.596\n",
      "Skew:                           2.027   Prob(JB):                         0.00\n",
      "Kurtosis:                      12.510   Cond. No.                         33.8\n",
      "==============================================================================\n",
      "\n",
      "Notes:\n",
      "[1] Standard Errors assume that the covariance matrix of the errors is correctly specified.\n",
      "                                    OLS Regression Results                                    \n",
      "==============================================================================================\n",
      "Dep. Variable:     CONNECTION_social_time_friends_p7d   R-squared:                       0.328\n",
      "Model:                                            OLS   Adj. R-squared:                  0.324\n",
      "Method:                                 Least Squares   F-statistic:                     77.28\n",
      "Date:                                Sun, 24 Nov 2024   Prob (F-statistic):           1.00e-40\n",
      "Time:                                        20:56:22   Log-Likelihood:                -1475.6\n",
      "No. Observations:                                 479   AIC:                             2959.\n",
      "Df Residuals:                                     475   BIC:                             2976.\n",
      "Df Model:                                           3                                         \n",
      "Covariance Type:                            nonrobust                                         \n",
      "=======================================================================================================================\n",
      "                                                          coef    std err          t      P>|t|      [0.025      0.975]\n",
      "-----------------------------------------------------------------------------------------------------------------------\n",
      "Intercept                                               1.5616      0.756      2.064      0.040       0.075       3.048\n",
      "CONNECTION_social_barriers_too_busy[T.Not Selected]    -0.9443      0.690     -1.369      0.172      -2.300       0.412\n",
      "CONNECTION_preference_time_friends                      0.3102      0.025     12.497      0.000       0.261       0.359\n",
      "CONNECTION_social_num_close_friends                     0.4529      0.073      6.185      0.000       0.309       0.597\n",
      "==============================================================================\n",
      "Omnibus:                      211.620   Durbin-Watson:                   2.079\n",
      "Prob(Omnibus):                  0.000   Jarque-Bera (JB):             3070.586\n",
      "Skew:                           1.513   Prob(JB):                         0.00\n",
      "Kurtosis:                      15.029   Cond. No.                         53.1\n",
      "==============================================================================\n",
      "\n",
      "Notes:\n",
      "[1] Standard Errors assume that the covariance matrix of the errors is correctly specified.\n",
      "                                    OLS Regression Results                                    \n",
      "==============================================================================================\n",
      "Dep. Variable:     CONNECTION_social_time_friends_p7d   R-squared:                       0.328\n",
      "Model:                                            OLS   Adj. R-squared:                  0.326\n",
      "Method:                                 Least Squares   F-statistic:                     145.8\n",
      "Date:                                Sun, 24 Nov 2024   Prob (F-statistic):           6.06e-77\n",
      "Time:                                        20:56:22   Log-Likelihood:                -2726.3\n",
      "No. Observations:                                 899   AIC:                             5461.\n",
      "Df Residuals:                                     895   BIC:                             5480.\n",
      "Df Model:                                           3                                         \n",
      "Covariance Type:                            nonrobust                                         \n",
      "=======================================================================================================================\n",
      "                                                          coef    std err          t      P>|t|      [0.025      0.975]\n",
      "-----------------------------------------------------------------------------------------------------------------------\n",
      "Intercept                                               1.1456      0.478      2.397      0.017       0.208       2.083\n",
      "CONNECTION_social_barriers_too_busy[T.Not Selected]    -0.6091      0.431     -1.413      0.158      -1.455       0.237\n",
      "CONNECTION_preference_time_friends                      0.3546      0.020     17.566      0.000       0.315       0.394\n",
      "CONNECTION_social_num_close_friends                     0.3830      0.048      7.980      0.000       0.289       0.477\n",
      "==============================================================================\n",
      "Omnibus:                      378.868   Durbin-Watson:                   1.997\n",
      "Prob(Omnibus):                  0.000   Jarque-Bera (JB):             5429.348\n",
      "Skew:                           1.522   Prob(JB):                         0.00\n",
      "Kurtosis:                      14.648   Cond. No.                         42.4\n",
      "==============================================================================\n",
      "\n",
      "Notes:\n",
      "[1] Standard Errors assume that the covariance matrix of the errors is correctly specified.\n"
     ]
    }
   ],
   "source": [
    "# Step 2: Create the OLS model using smf.ols with a formula\n",
    "# For categorical variables, smf automatically handles one-hot encoding\n",
    "formula = 'CONNECTION_social_time_friends_p7d ~ CONNECTION_social_barriers_too_busy + ' \\\n",
    "          'CONNECTION_preference_time_friends + ' \\\n",
    "          'CONNECTION_social_num_close_friends'\n",
    "\n",
    "# Step 3: Fit the model\n",
    "ols_model_cohort = smf.ols(formula=formula, data=filtered_data_cohort).fit()\n",
    "ols_model_cross = smf.ols(formula=formula, data=filtered_data_cross).fit()\n",
    "ols_model_all = smf.ols(formula=formula, data=filtered_data_2022_all).fit()\n",
    "\n",
    "# Step 4: Output the summary of the model\n",
    "print(ols_model_cohort.summary())\n",
    "print(ols_model_cross.summary())\n",
    "print(ols_model_all.summary())"
   ]
  },
  {
   "cell_type": "code",
   "execution_count": 31,
   "metadata": {},
   "outputs": [
    {
     "name": "stderr",
     "output_type": "stream",
     "text": [
      "C:\\Users\\Cayden Wong\\AppData\\Local\\Packages\\PythonSoftwareFoundation.Python.3.11_qbz5n2kfra8p0\\LocalCache\\local-packages\\Python311\\site-packages\\statsmodels\\nonparametric\\smoothers_lowess.py:226: RuntimeWarning:\n",
      "\n",
      "invalid value encountered in divide\n",
      "\n"
     ]
    },
    {
     "data": {
      "image/png": "[encoded data removed]",
      "text/plain": [
       "<Figure size 800x600 with 1 Axes>"
      ]
     },
     "metadata": {},
     "output_type": "display_data"
    },
    {
     "data": {
      "image/png": "[encoded data removed]",
      "text/plain": [
       "<Figure size 640x480 with 1 Axes>"
      ]
     },
     "metadata": {},
     "output_type": "display_data"
    },
    {
     "data": {
      "image/png": "[encoded data removed]",
      "text/plain": [
       "<Figure size 800x600 with 1 Axes>"
      ]
     },
     "metadata": {},
     "output_type": "display_data"
    }
   ],
   "source": [
    "import statsmodels.api as sm\n",
    "import matplotlib.pyplot as plt\n",
    "import seaborn as sns\n",
    "\n",
    "# Step 1: Create the OLS model using smf.ols (as per your provided code)\n",
    "formula = 'CONNECTION_social_time_friends_p7d ~ CONNECTION_social_barriers_too_busy'\n",
    "ols_model = smf.ols(formula=formula, data=filtered_data_no_na).fit()\n",
    "\n",
    "# Step 2: Get the residuals and predicted values\n",
    "residuals = ols_model.resid\n",
    "predicted_values = ols_model.fittedvalues\n",
    "\n",
    "# Step 3: Residual Plot (Residuals vs Fitted Values)\n",
    "plt.figure(figsize=(8, 6))\n",
    "sns.residplot(x=predicted_values, y=residuals, lowess=True, line_kws={'color': 'red'})\n",
    "plt.title('Residual Plot')\n",
    "plt.xlabel('Fitted Values')\n",
    "plt.ylabel('Residuals')\n",
    "plt.show()\n",
    "\n",
    "# Step 4: QQ Plot for Normality of Residuals\n",
    "sm.qqplot(residuals, line='45', fit=True)\n",
    "plt.title('QQ Plot of Residuals')\n",
    "plt.show()\n",
    "\n",
    "# Step 5: Predicted vs Actual Plot\n",
    "plt.figure(figsize=(8, 6))\n",
    "plt.scatter(filtered_data_no_na['CONNECTION_social_time_friends_p7d'], predicted_values, alpha=0.6)\n",
    "plt.plot([min(filtered_data_no_na['CONNECTION_social_time_friends_p7d']),\n",
    "          max(filtered_data_no_na['CONNECTION_social_time_friends_p7d'])],\n",
    "         [min(filtered_data_no_na['CONNECTION_social_time_friends_p7d']),\n",
    "          max(filtered_data_no_na['CONNECTION_social_time_friends_p7d'])],\n",
    "         color='red', linestyle='--')\n",
    "plt.title('Predicted vs Actual Values')\n",
    "plt.xlabel('Actual Values')\n",
    "plt.ylabel('Predicted Values')\n",
    "plt.show()\n"
   ]
  },
  {
   "cell_type": "code",
   "execution_count": 32,
   "metadata": {},
   "outputs": [
    {
     "data": {
      "image/png": "[encoded data removed]",
      "text/plain": [
       "<Figure size 800x600 with 1 Axes>"
      ]
     },
     "metadata": {},
     "output_type": "display_data"
    },
    {
     "data": {
      "image/png": "[encoded data removed]",
      "text/plain": [
       "<Figure size 640x480 with 1 Axes>"
      ]
     },
     "metadata": {},
     "output_type": "display_data"
    },
    {
     "data": {
      "image/png": "[encoded data removed]",
      "text/plain": [
       "<Figure size 800x600 with 1 Axes>"
      ]
     },
     "metadata": {},
     "output_type": "display_data"
    },
    {
     "data": {
      "image/png": "[encoded data removed]",
      "text/plain": [
       "<Figure size 778.111x500 with 6 Axes>"
      ]
     },
     "metadata": {},
     "output_type": "display_data"
    }
   ],
   "source": [
    "import statsmodels.api as sm\n",
    "import matplotlib.pyplot as plt\n",
    "import seaborn as sns\n",
    "\n",
    "# Step 1: Create the OLS model using smf.ols (as per your provided code)\n",
    "formula = 'CONNECTION_social_time_friends_p7d ~ CONNECTION_social_barriers_too_busy + ' \\\n",
    "          'CONNECTION_preference_time_friends + ' \\\n",
    "          'CONNECTION_social_num_close_friends'\n",
    "ols_model = smf.ols(formula=formula, data=filtered_data_no_na).fit()\n",
    "\n",
    "# Step 2: Get the residuals and predicted values\n",
    "residuals = ols_model.resid\n",
    "predicted_values = ols_model.fittedvalues\n",
    "\n",
    "# Step 3: Residual Plot (Residuals vs Fitted Values)\n",
    "plt.figure(figsize=(8, 6))\n",
    "sns.residplot(x=predicted_values, y=residuals, lowess=True, line_kws={'color': 'red'})\n",
    "plt.title('Residual Plot')\n",
    "plt.xlabel('Fitted Values')\n",
    "plt.ylabel('Residuals')\n",
    "plt.show()\n",
    "\n",
    "# Step 4: QQ Plot for Normality of Residuals\n",
    "sm.qqplot(residuals, line='45', fit=True)\n",
    "plt.title('QQ Plot of Residuals')\n",
    "plt.show()\n",
    "\n",
    "# Step 5: Predicted vs Actual Plot\n",
    "plt.figure(figsize=(8, 6))\n",
    "plt.scatter(filtered_data_no_na['CONNECTION_social_time_friends_p7d'], predicted_values, alpha=0.6)\n",
    "plt.plot([min(filtered_data_no_na['CONNECTION_social_time_friends_p7d']),\n",
    "          max(filtered_data_no_na['CONNECTION_social_time_friends_p7d'])],\n",
    "         [min(filtered_data_no_na['CONNECTION_social_time_friends_p7d']),\n",
    "          max(filtered_data_no_na['CONNECTION_social_time_friends_p7d'])],\n",
    "         color='red', linestyle='--')\n",
    "plt.title('Predicted vs Actual Values')\n",
    "plt.xlabel('Actual Values')\n",
    "plt.ylabel('Predicted Values')\n",
    "plt.show()\n",
    "\n",
    "# Step 6: Optional: Pairwise Correlation Plot (to see how predictors are related)\n",
    "# You can use this to check for multicollinearity or relationships between predictors\n",
    "correlation_data = filtered_data_no_na[['CONNECTION_social_barriers_too_busy', \n",
    "                                         'CONNECTION_preference_time_friends', \n",
    "                                         'CONNECTION_social_num_close_friends', \n",
    "                                         'CONNECTION_social_time_friends_p7d']]\n",
    "sns.pairplot(correlation_data, hue='CONNECTION_social_time_friends_p7d')\n",
    "plt.show()\n"
   ]
  }
 ],
 "metadata": {
  "kernelspec": {
   "display_name": "Python 3",
   "language": "python",
   "name": "python3"
  },
  "language_info": {
   "codemirror_mode": {
    "name": "ipython",
    "version": 3
   },
   "file_extension": ".py",
   "mimetype": "text/x-python",
   "name": "python",
   "nbconvert_exporter": "python",
   "pygments_lexer": "ipython3",
   "version": "3.11.9"
  }
 },
 "nbformat": 4,
 "nbformat_minor": 2
}
